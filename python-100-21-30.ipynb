{
 "cells": [
  {
   "cell_type": "markdown",
   "id": "39d80f44",
   "metadata": {
    "papermill": {
     "duration": 0.017613,
     "end_time": "2024-08-25T14:31:02.994144",
     "exception": false,
     "start_time": "2024-08-25T14:31:02.976531",
     "status": "completed"
    },
    "tags": []
   },
   "source": [
    "#### Python実践データ分析100本ノック（秀和システム）の勉強記録を載せています。 <br> 問題の解説、コードを載せています。参考になれば幸いです。 <br> わからない点等ございましたらコメントお願いします。"
   ]
  },
  {
   "cell_type": "markdown",
   "id": "913c3958",
   "metadata": {
    "papermill": {
     "duration": 0.016893,
     "end_time": "2024-08-25T14:31:03.029352",
     "exception": false,
     "start_time": "2024-08-25T14:31:03.012459",
     "status": "completed"
    },
    "tags": []
   },
   "source": [
    "## 第3章 顧客の全体像を把握する10本ノック"
   ]
  },
  {
   "cell_type": "markdown",
   "id": "856602f0",
   "metadata": {
    "papermill": {
     "duration": 0.016525,
     "end_time": "2024-08-25T14:31:03.062288",
     "exception": false,
     "start_time": "2024-08-25T14:31:03.045763",
     "status": "completed"
    },
    "tags": []
   },
   "source": [
    "* ### スポーツジムのデータ分析を行う"
   ]
  },
  {
   "cell_type": "markdown",
   "id": "eaba64ca",
   "metadata": {
    "papermill": {
     "duration": 0.016935,
     "end_time": "2024-08-25T14:31:03.095624",
     "exception": false,
     "start_time": "2024-08-25T14:31:03.078689",
     "status": "completed"
    },
    "tags": []
   },
   "source": [
    "#### データの詳細は以下の通り。"
   ]
  },
  {
   "cell_type": "markdown",
   "id": "03af0694",
   "metadata": {
    "papermill": {
     "duration": 0.016098,
     "end_time": "2024-08-25T14:31:03.128742",
     "exception": false,
     "start_time": "2024-08-25T14:31:03.112644",
     "status": "completed"
    },
    "tags": []
   },
   "source": [
    "\n",
    "    \n",
    "| No.  | ファイル名  | 概要 |\n",
    "| :--- | :--- | :--- |\n",
    "| 1 | use_log.csv | ジムの利用履歴データ  |\n",
    "| 2 | customer_master.csv | 2019年3月末時点での会員データ |\n",
    "| 3 | class_master.csv | 会員区分データ（オールタイム、デイタイムなど） |\n",
    "| 4 | campaign_master.csv | キャンペーン区分データ（入会費無料など） |\n",
    "\n"
   ]
  },
  {
   "cell_type": "markdown",
   "id": "d5c70ece",
   "metadata": {
    "papermill": {
     "duration": 0.016004,
     "end_time": "2024-08-25T14:31:03.161785",
     "exception": false,
     "start_time": "2024-08-25T14:31:03.145781",
     "status": "completed"
    },
    "tags": []
   },
   "source": [
    "## ノック21 : データの把握"
   ]
  },
  {
   "cell_type": "code",
   "execution_count": 1,
   "id": "de171cc5",
   "metadata": {
    "execution": {
     "iopub.execute_input": "2024-08-25T14:31:03.197199Z",
     "iopub.status.busy": "2024-08-25T14:31:03.196752Z",
     "iopub.status.idle": "2024-08-25T14:31:03.986591Z",
     "shell.execute_reply": "2024-08-25T14:31:03.985437Z"
    },
    "papermill": {
     "duration": 0.810665,
     "end_time": "2024-08-25T14:31:03.989554",
     "exception": false,
     "start_time": "2024-08-25T14:31:03.178889",
     "status": "completed"
    },
    "tags": []
   },
   "outputs": [
    {
     "name": "stdout",
     "output_type": "stream",
     "text": [
      "197428\n"
     ]
    },
    {
     "data": {
      "text/html": [
       "<div>\n",
       "<style scoped>\n",
       "    .dataframe tbody tr th:only-of-type {\n",
       "        vertical-align: middle;\n",
       "    }\n",
       "\n",
       "    .dataframe tbody tr th {\n",
       "        vertical-align: top;\n",
       "    }\n",
       "\n",
       "    .dataframe thead th {\n",
       "        text-align: right;\n",
       "    }\n",
       "</style>\n",
       "<table border=\"1\" class=\"dataframe\">\n",
       "  <thead>\n",
       "    <tr style=\"text-align: right;\">\n",
       "      <th></th>\n",
       "      <th>log_id</th>\n",
       "      <th>customer_id</th>\n",
       "      <th>usedate</th>\n",
       "    </tr>\n",
       "  </thead>\n",
       "  <tbody>\n",
       "    <tr>\n",
       "      <th>0</th>\n",
       "      <td>L00000049012330</td>\n",
       "      <td>AS009373</td>\n",
       "      <td>2018-04-01</td>\n",
       "    </tr>\n",
       "    <tr>\n",
       "      <th>1</th>\n",
       "      <td>L00000049012331</td>\n",
       "      <td>AS015315</td>\n",
       "      <td>2018-04-01</td>\n",
       "    </tr>\n",
       "    <tr>\n",
       "      <th>2</th>\n",
       "      <td>L00000049012332</td>\n",
       "      <td>AS040841</td>\n",
       "      <td>2018-04-01</td>\n",
       "    </tr>\n",
       "    <tr>\n",
       "      <th>3</th>\n",
       "      <td>L00000049012333</td>\n",
       "      <td>AS046594</td>\n",
       "      <td>2018-04-01</td>\n",
       "    </tr>\n",
       "    <tr>\n",
       "      <th>4</th>\n",
       "      <td>L00000049012334</td>\n",
       "      <td>AS073285</td>\n",
       "      <td>2018-04-01</td>\n",
       "    </tr>\n",
       "  </tbody>\n",
       "</table>\n",
       "</div>"
      ],
      "text/plain": [
       "            log_id customer_id     usedate\n",
       "0  L00000049012330    AS009373  2018-04-01\n",
       "1  L00000049012331    AS015315  2018-04-01\n",
       "2  L00000049012332    AS040841  2018-04-01\n",
       "3  L00000049012333    AS046594  2018-04-01\n",
       "4  L00000049012334    AS073285  2018-04-01"
      ]
     },
     "execution_count": 1,
     "metadata": {},
     "output_type": "execute_result"
    }
   ],
   "source": [
    "import pandas as pd\n",
    "\n",
    "# ジムの利用履歴データ\n",
    "uselog = pd.read_csv('../input/sport-gym/use_log.csv')\n",
    "print(len(uselog))\n",
    "uselog.head()"
   ]
  },
  {
   "cell_type": "code",
   "execution_count": 2,
   "id": "7350c397",
   "metadata": {
    "execution": {
     "iopub.execute_input": "2024-08-25T14:31:04.027079Z",
     "iopub.status.busy": "2024-08-25T14:31:04.026593Z",
     "iopub.status.idle": "2024-08-25T14:31:04.057921Z",
     "shell.execute_reply": "2024-08-25T14:31:04.056739Z"
    },
    "papermill": {
     "duration": 0.053292,
     "end_time": "2024-08-25T14:31:04.060426",
     "exception": false,
     "start_time": "2024-08-25T14:31:04.007134",
     "status": "completed"
    },
    "tags": []
   },
   "outputs": [
    {
     "name": "stdout",
     "output_type": "stream",
     "text": [
      "4192\n"
     ]
    },
    {
     "data": {
      "text/html": [
       "<div>\n",
       "<style scoped>\n",
       "    .dataframe tbody tr th:only-of-type {\n",
       "        vertical-align: middle;\n",
       "    }\n",
       "\n",
       "    .dataframe tbody tr th {\n",
       "        vertical-align: top;\n",
       "    }\n",
       "\n",
       "    .dataframe thead th {\n",
       "        text-align: right;\n",
       "    }\n",
       "</style>\n",
       "<table border=\"1\" class=\"dataframe\">\n",
       "  <thead>\n",
       "    <tr style=\"text-align: right;\">\n",
       "      <th></th>\n",
       "      <th>customer_id</th>\n",
       "      <th>name</th>\n",
       "      <th>class</th>\n",
       "      <th>gender</th>\n",
       "      <th>start_date</th>\n",
       "      <th>end_date</th>\n",
       "      <th>campaign_id</th>\n",
       "      <th>is_deleted</th>\n",
       "    </tr>\n",
       "  </thead>\n",
       "  <tbody>\n",
       "    <tr>\n",
       "      <th>0</th>\n",
       "      <td>OA832399</td>\n",
       "      <td>XXXX</td>\n",
       "      <td>C01</td>\n",
       "      <td>F</td>\n",
       "      <td>2015-05-01 00:00:00</td>\n",
       "      <td>NaN</td>\n",
       "      <td>CA1</td>\n",
       "      <td>0</td>\n",
       "    </tr>\n",
       "    <tr>\n",
       "      <th>1</th>\n",
       "      <td>PL270116</td>\n",
       "      <td>XXXXX</td>\n",
       "      <td>C01</td>\n",
       "      <td>M</td>\n",
       "      <td>2015-05-01 00:00:00</td>\n",
       "      <td>NaN</td>\n",
       "      <td>CA1</td>\n",
       "      <td>0</td>\n",
       "    </tr>\n",
       "    <tr>\n",
       "      <th>2</th>\n",
       "      <td>OA974876</td>\n",
       "      <td>XXXXX</td>\n",
       "      <td>C01</td>\n",
       "      <td>M</td>\n",
       "      <td>2015-05-01 00:00:00</td>\n",
       "      <td>NaN</td>\n",
       "      <td>CA1</td>\n",
       "      <td>0</td>\n",
       "    </tr>\n",
       "    <tr>\n",
       "      <th>3</th>\n",
       "      <td>HD024127</td>\n",
       "      <td>XXXXX</td>\n",
       "      <td>C01</td>\n",
       "      <td>F</td>\n",
       "      <td>2015-05-01 00:00:00</td>\n",
       "      <td>NaN</td>\n",
       "      <td>CA1</td>\n",
       "      <td>0</td>\n",
       "    </tr>\n",
       "    <tr>\n",
       "      <th>4</th>\n",
       "      <td>HD661448</td>\n",
       "      <td>XXXXX</td>\n",
       "      <td>C03</td>\n",
       "      <td>F</td>\n",
       "      <td>2015-05-01 00:00:00</td>\n",
       "      <td>NaN</td>\n",
       "      <td>CA1</td>\n",
       "      <td>0</td>\n",
       "    </tr>\n",
       "  </tbody>\n",
       "</table>\n",
       "</div>"
      ],
      "text/plain": [
       "  customer_id   name class gender           start_date end_date campaign_id  \\\n",
       "0    OA832399   XXXX   C01      F  2015-05-01 00:00:00      NaN         CA1   \n",
       "1    PL270116  XXXXX   C01      M  2015-05-01 00:00:00      NaN         CA1   \n",
       "2    OA974876  XXXXX   C01      M  2015-05-01 00:00:00      NaN         CA1   \n",
       "3    HD024127  XXXXX   C01      F  2015-05-01 00:00:00      NaN         CA1   \n",
       "4    HD661448  XXXXX   C03      F  2015-05-01 00:00:00      NaN         CA1   \n",
       "\n",
       "   is_deleted  \n",
       "0           0  \n",
       "1           0  \n",
       "2           0  \n",
       "3           0  \n",
       "4           0  "
      ]
     },
     "execution_count": 2,
     "metadata": {},
     "output_type": "execute_result"
    }
   ],
   "source": [
    "# 会員データ\n",
    "customer = pd.read_csv('../input/sport-gym/customer_master.csv')\n",
    "print(len(customer))\n",
    "customer.head()"
   ]
  },
  {
   "cell_type": "code",
   "execution_count": 3,
   "id": "f4749f9e",
   "metadata": {
    "execution": {
     "iopub.execute_input": "2024-08-25T14:31:04.096827Z",
     "iopub.status.busy": "2024-08-25T14:31:04.096370Z",
     "iopub.status.idle": "2024-08-25T14:31:04.115781Z",
     "shell.execute_reply": "2024-08-25T14:31:04.114623Z"
    },
    "papermill": {
     "duration": 0.04062,
     "end_time": "2024-08-25T14:31:04.118458",
     "exception": false,
     "start_time": "2024-08-25T14:31:04.077838",
     "status": "completed"
    },
    "tags": []
   },
   "outputs": [
    {
     "name": "stdout",
     "output_type": "stream",
     "text": [
      "3\n"
     ]
    },
    {
     "data": {
      "text/html": [
       "<div>\n",
       "<style scoped>\n",
       "    .dataframe tbody tr th:only-of-type {\n",
       "        vertical-align: middle;\n",
       "    }\n",
       "\n",
       "    .dataframe tbody tr th {\n",
       "        vertical-align: top;\n",
       "    }\n",
       "\n",
       "    .dataframe thead th {\n",
       "        text-align: right;\n",
       "    }\n",
       "</style>\n",
       "<table border=\"1\" class=\"dataframe\">\n",
       "  <thead>\n",
       "    <tr style=\"text-align: right;\">\n",
       "      <th></th>\n",
       "      <th>class</th>\n",
       "      <th>class_name</th>\n",
       "      <th>price</th>\n",
       "    </tr>\n",
       "  </thead>\n",
       "  <tbody>\n",
       "    <tr>\n",
       "      <th>0</th>\n",
       "      <td>C01</td>\n",
       "      <td>オールタイム</td>\n",
       "      <td>10500</td>\n",
       "    </tr>\n",
       "    <tr>\n",
       "      <th>1</th>\n",
       "      <td>C02</td>\n",
       "      <td>デイタイム</td>\n",
       "      <td>7500</td>\n",
       "    </tr>\n",
       "    <tr>\n",
       "      <th>2</th>\n",
       "      <td>C03</td>\n",
       "      <td>ナイト</td>\n",
       "      <td>6000</td>\n",
       "    </tr>\n",
       "  </tbody>\n",
       "</table>\n",
       "</div>"
      ],
      "text/plain": [
       "  class class_name  price\n",
       "0   C01     オールタイム  10500\n",
       "1   C02      デイタイム   7500\n",
       "2   C03        ナイト   6000"
      ]
     },
     "execution_count": 3,
     "metadata": {},
     "output_type": "execute_result"
    }
   ],
   "source": [
    "# 会員区分データ\n",
    "class_master = pd.read_csv('../input/sport-gym/class_master.csv')\n",
    "print(len(class_master))\n",
    "class_master.head()"
   ]
  },
  {
   "cell_type": "code",
   "execution_count": 4,
   "id": "1e96e006",
   "metadata": {
    "execution": {
     "iopub.execute_input": "2024-08-25T14:31:04.156006Z",
     "iopub.status.busy": "2024-08-25T14:31:04.154899Z",
     "iopub.status.idle": "2024-08-25T14:31:04.173583Z",
     "shell.execute_reply": "2024-08-25T14:31:04.172369Z"
    },
    "papermill": {
     "duration": 0.039955,
     "end_time": "2024-08-25T14:31:04.176012",
     "exception": false,
     "start_time": "2024-08-25T14:31:04.136057",
     "status": "completed"
    },
    "tags": []
   },
   "outputs": [
    {
     "name": "stdout",
     "output_type": "stream",
     "text": [
      "3\n"
     ]
    },
    {
     "data": {
      "text/html": [
       "<div>\n",
       "<style scoped>\n",
       "    .dataframe tbody tr th:only-of-type {\n",
       "        vertical-align: middle;\n",
       "    }\n",
       "\n",
       "    .dataframe tbody tr th {\n",
       "        vertical-align: top;\n",
       "    }\n",
       "\n",
       "    .dataframe thead th {\n",
       "        text-align: right;\n",
       "    }\n",
       "</style>\n",
       "<table border=\"1\" class=\"dataframe\">\n",
       "  <thead>\n",
       "    <tr style=\"text-align: right;\">\n",
       "      <th></th>\n",
       "      <th>campaign_id</th>\n",
       "      <th>campaign_name</th>\n",
       "    </tr>\n",
       "  </thead>\n",
       "  <tbody>\n",
       "    <tr>\n",
       "      <th>0</th>\n",
       "      <td>CA1</td>\n",
       "      <td>通常</td>\n",
       "    </tr>\n",
       "    <tr>\n",
       "      <th>1</th>\n",
       "      <td>CA2</td>\n",
       "      <td>入会費半額</td>\n",
       "    </tr>\n",
       "    <tr>\n",
       "      <th>2</th>\n",
       "      <td>CA3</td>\n",
       "      <td>入会費無料</td>\n",
       "    </tr>\n",
       "  </tbody>\n",
       "</table>\n",
       "</div>"
      ],
      "text/plain": [
       "  campaign_id campaign_name\n",
       "0         CA1            通常\n",
       "1         CA2         入会費半額\n",
       "2         CA3         入会費無料"
      ]
     },
     "execution_count": 4,
     "metadata": {},
     "output_type": "execute_result"
    }
   ],
   "source": [
    "campaign_master = pd.read_csv('../input/sport-gym/campaign_master.csv')\n",
    "print(len(campaign_master))\n",
    "campaign_master.head()"
   ]
  },
  {
   "cell_type": "markdown",
   "id": "009df895",
   "metadata": {
    "papermill": {
     "duration": 0.017181,
     "end_time": "2024-08-25T14:31:04.211484",
     "exception": false,
     "start_time": "2024-08-25T14:31:04.194303",
     "status": "completed"
    },
    "tags": []
   },
   "source": [
    "* #### どのようなデータ分析を行うべきか？ <br>→ まずはデータ件数の少ない`customer`に注目して、どのような顧客が何人いるのか分析して全体像を掴んでいく。"
   ]
  },
  {
   "cell_type": "markdown",
   "id": "1ea64b28",
   "metadata": {
    "papermill": {
     "duration": 0.017801,
     "end_time": "2024-08-25T14:31:04.246874",
     "exception": false,
     "start_time": "2024-08-25T14:31:04.229073",
     "status": "completed"
    },
    "tags": []
   },
   "source": [
    "## ノック22 : 顧客データの整形"
   ]
  },
  {
   "cell_type": "code",
   "execution_count": 5,
   "id": "ffa166f9",
   "metadata": {
    "execution": {
     "iopub.execute_input": "2024-08-25T14:31:04.284995Z",
     "iopub.status.busy": "2024-08-25T14:31:04.283914Z",
     "iopub.status.idle": "2024-08-25T14:31:04.322307Z",
     "shell.execute_reply": "2024-08-25T14:31:04.321163Z"
    },
    "papermill": {
     "duration": 0.060538,
     "end_time": "2024-08-25T14:31:04.325088",
     "exception": false,
     "start_time": "2024-08-25T14:31:04.264550",
     "status": "completed"
    },
    "tags": []
   },
   "outputs": [
    {
     "data": {
      "text/html": [
       "<div>\n",
       "<style scoped>\n",
       "    .dataframe tbody tr th:only-of-type {\n",
       "        vertical-align: middle;\n",
       "    }\n",
       "\n",
       "    .dataframe tbody tr th {\n",
       "        vertical-align: top;\n",
       "    }\n",
       "\n",
       "    .dataframe thead th {\n",
       "        text-align: right;\n",
       "    }\n",
       "</style>\n",
       "<table border=\"1\" class=\"dataframe\">\n",
       "  <thead>\n",
       "    <tr style=\"text-align: right;\">\n",
       "      <th></th>\n",
       "      <th>customer_id</th>\n",
       "      <th>name</th>\n",
       "      <th>class</th>\n",
       "      <th>gender</th>\n",
       "      <th>start_date</th>\n",
       "      <th>end_date</th>\n",
       "      <th>campaign_id</th>\n",
       "      <th>is_deleted</th>\n",
       "      <th>class_name</th>\n",
       "      <th>price</th>\n",
       "      <th>campaign_name</th>\n",
       "    </tr>\n",
       "  </thead>\n",
       "  <tbody>\n",
       "    <tr>\n",
       "      <th>0</th>\n",
       "      <td>OA832399</td>\n",
       "      <td>XXXX</td>\n",
       "      <td>C01</td>\n",
       "      <td>F</td>\n",
       "      <td>2015-05-01 00:00:00</td>\n",
       "      <td>NaN</td>\n",
       "      <td>CA1</td>\n",
       "      <td>0</td>\n",
       "      <td>オールタイム</td>\n",
       "      <td>10500</td>\n",
       "      <td>通常</td>\n",
       "    </tr>\n",
       "    <tr>\n",
       "      <th>1</th>\n",
       "      <td>PL270116</td>\n",
       "      <td>XXXXX</td>\n",
       "      <td>C01</td>\n",
       "      <td>M</td>\n",
       "      <td>2015-05-01 00:00:00</td>\n",
       "      <td>NaN</td>\n",
       "      <td>CA1</td>\n",
       "      <td>0</td>\n",
       "      <td>オールタイム</td>\n",
       "      <td>10500</td>\n",
       "      <td>通常</td>\n",
       "    </tr>\n",
       "    <tr>\n",
       "      <th>2</th>\n",
       "      <td>OA974876</td>\n",
       "      <td>XXXXX</td>\n",
       "      <td>C01</td>\n",
       "      <td>M</td>\n",
       "      <td>2015-05-01 00:00:00</td>\n",
       "      <td>NaN</td>\n",
       "      <td>CA1</td>\n",
       "      <td>0</td>\n",
       "      <td>オールタイム</td>\n",
       "      <td>10500</td>\n",
       "      <td>通常</td>\n",
       "    </tr>\n",
       "    <tr>\n",
       "      <th>3</th>\n",
       "      <td>HD024127</td>\n",
       "      <td>XXXXX</td>\n",
       "      <td>C01</td>\n",
       "      <td>F</td>\n",
       "      <td>2015-05-01 00:00:00</td>\n",
       "      <td>NaN</td>\n",
       "      <td>CA1</td>\n",
       "      <td>0</td>\n",
       "      <td>オールタイム</td>\n",
       "      <td>10500</td>\n",
       "      <td>通常</td>\n",
       "    </tr>\n",
       "    <tr>\n",
       "      <th>4</th>\n",
       "      <td>HD661448</td>\n",
       "      <td>XXXXX</td>\n",
       "      <td>C03</td>\n",
       "      <td>F</td>\n",
       "      <td>2015-05-01 00:00:00</td>\n",
       "      <td>NaN</td>\n",
       "      <td>CA1</td>\n",
       "      <td>0</td>\n",
       "      <td>ナイト</td>\n",
       "      <td>6000</td>\n",
       "      <td>通常</td>\n",
       "    </tr>\n",
       "  </tbody>\n",
       "</table>\n",
       "</div>"
      ],
      "text/plain": [
       "  customer_id   name class gender           start_date end_date campaign_id  \\\n",
       "0    OA832399   XXXX   C01      F  2015-05-01 00:00:00      NaN         CA1   \n",
       "1    PL270116  XXXXX   C01      M  2015-05-01 00:00:00      NaN         CA1   \n",
       "2    OA974876  XXXXX   C01      M  2015-05-01 00:00:00      NaN         CA1   \n",
       "3    HD024127  XXXXX   C01      F  2015-05-01 00:00:00      NaN         CA1   \n",
       "4    HD661448  XXXXX   C03      F  2015-05-01 00:00:00      NaN         CA1   \n",
       "\n",
       "   is_deleted class_name  price campaign_name  \n",
       "0           0     オールタイム  10500            通常  \n",
       "1           0     オールタイム  10500            通常  \n",
       "2           0     オールタイム  10500            通常  \n",
       "3           0     オールタイム  10500            通常  \n",
       "4           0        ナイト   6000            通常  "
      ]
     },
     "execution_count": 5,
     "metadata": {},
     "output_type": "execute_result"
    }
   ],
   "source": [
    "# classをキーにしてクラス名、価格をジョインする\n",
    "customer_join = pd.merge(customer, class_master, on='class', how='left')\n",
    "# campaign_idをキーにしてキャンペーン名をジョインする\n",
    "customer_join = pd.merge(customer_join, campaign_master, on='campaign_id', how='left')\n",
    "customer_join.head()"
   ]
  },
  {
   "cell_type": "code",
   "execution_count": 6,
   "id": "f68679b7",
   "metadata": {
    "execution": {
     "iopub.execute_input": "2024-08-25T14:31:04.363959Z",
     "iopub.status.busy": "2024-08-25T14:31:04.363473Z",
     "iopub.status.idle": "2024-08-25T14:31:04.369786Z",
     "shell.execute_reply": "2024-08-25T14:31:04.368668Z"
    },
    "papermill": {
     "duration": 0.028686,
     "end_time": "2024-08-25T14:31:04.372504",
     "exception": false,
     "start_time": "2024-08-25T14:31:04.343818",
     "status": "completed"
    },
    "tags": []
   },
   "outputs": [
    {
     "name": "stdout",
     "output_type": "stream",
     "text": [
      "4192\n",
      "4192\n"
     ]
    }
   ],
   "source": [
    "# データの確認\n",
    "print(len(customer))\n",
    "print(len(customer_join))"
   ]
  },
  {
   "cell_type": "markdown",
   "id": "6790ff74",
   "metadata": {
    "papermill": {
     "duration": 0.018535,
     "end_time": "2024-08-25T14:31:04.409260",
     "exception": false,
     "start_time": "2024-08-25T14:31:04.390725",
     "status": "completed"
    },
    "tags": []
   },
   "source": [
    "* データ件数が同じなので正しく横方向に結合できていることが確認できた。"
   ]
  },
  {
   "cell_type": "code",
   "execution_count": 7,
   "id": "9d56faac",
   "metadata": {
    "execution": {
     "iopub.execute_input": "2024-08-25T14:31:04.447493Z",
     "iopub.status.busy": "2024-08-25T14:31:04.447055Z",
     "iopub.status.idle": "2024-08-25T14:31:04.461288Z",
     "shell.execute_reply": "2024-08-25T14:31:04.460181Z"
    },
    "papermill": {
     "duration": 0.036666,
     "end_time": "2024-08-25T14:31:04.463955",
     "exception": false,
     "start_time": "2024-08-25T14:31:04.427289",
     "status": "completed"
    },
    "tags": []
   },
   "outputs": [
    {
     "data": {
      "text/plain": [
       "customer_id         0\n",
       "name                0\n",
       "class               0\n",
       "gender              0\n",
       "start_date          0\n",
       "end_date         2842\n",
       "campaign_id         0\n",
       "is_deleted          0\n",
       "class_name          0\n",
       "price               0\n",
       "campaign_name       0\n",
       "dtype: int64"
      ]
     },
     "execution_count": 7,
     "metadata": {},
     "output_type": "execute_result"
    }
   ],
   "source": [
    "# 欠損値の確認\n",
    "customer_join.isnull().sum()"
   ]
  },
  {
   "cell_type": "markdown",
   "id": "bc998540",
   "metadata": {
    "papermill": {
     "duration": 0.017725,
     "end_time": "2024-08-25T14:31:04.500250",
     "exception": false,
     "start_time": "2024-08-25T14:31:04.482525",
     "status": "completed"
    },
    "tags": []
   },
   "source": [
    "#### 新しく足した列には欠損値がないことが確認できた。 <br> `end_date`が欠損している理由としては、退会していないユーザーが存在することが考えられる。"
   ]
  },
  {
   "cell_type": "markdown",
   "id": "88eed8a0",
   "metadata": {
    "papermill": {
     "duration": 0.017787,
     "end_time": "2024-08-25T14:31:04.536208",
     "exception": false,
     "start_time": "2024-08-25T14:31:04.518421",
     "status": "completed"
    },
    "tags": []
   },
   "source": [
    "## ノック23 : 顧客データの基礎集計"
   ]
  },
  {
   "cell_type": "markdown",
   "id": "9cf92daa",
   "metadata": {
    "papermill": {
     "duration": 0.018141,
     "end_time": "2024-08-25T14:31:04.572361",
     "exception": false,
     "start_time": "2024-08-25T14:31:04.554220",
     "status": "completed"
    },
    "tags": []
   },
   "source": [
    "### 会員区分、キャンペーン区分、性別、退会済みかどうかに注目して数を把握してみる"
   ]
  },
  {
   "cell_type": "code",
   "execution_count": 8,
   "id": "b2d5b02a",
   "metadata": {
    "execution": {
     "iopub.execute_input": "2024-08-25T14:31:04.611325Z",
     "iopub.status.busy": "2024-08-25T14:31:04.610913Z",
     "iopub.status.idle": "2024-08-25T14:31:04.629780Z",
     "shell.execute_reply": "2024-08-25T14:31:04.628659Z"
    },
    "papermill": {
     "duration": 0.041217,
     "end_time": "2024-08-25T14:31:04.632247",
     "exception": false,
     "start_time": "2024-08-25T14:31:04.591030",
     "status": "completed"
    },
    "tags": []
   },
   "outputs": [
    {
     "data": {
      "text/plain": [
       "class_name\n",
       "オールタイム    2045\n",
       "デイタイム     1019\n",
       "ナイト       1128\n",
       "Name: customer_id, dtype: int64"
      ]
     },
     "execution_count": 8,
     "metadata": {},
     "output_type": "execute_result"
    }
   ],
   "source": [
    "# 会員区分に注目して集計\n",
    "# []の中身は何でも良いが、欠損値のない列を選ぶこと。\n",
    "customer_join.groupby('class_name').count()['customer_id']"
   ]
  },
  {
   "cell_type": "code",
   "execution_count": 9,
   "id": "895d38c6",
   "metadata": {
    "execution": {
     "iopub.execute_input": "2024-08-25T14:31:04.671478Z",
     "iopub.status.busy": "2024-08-25T14:31:04.670692Z",
     "iopub.status.idle": "2024-08-25T14:31:04.687036Z",
     "shell.execute_reply": "2024-08-25T14:31:04.685735Z"
    },
    "papermill": {
     "duration": 0.038759,
     "end_time": "2024-08-25T14:31:04.689633",
     "exception": false,
     "start_time": "2024-08-25T14:31:04.650874",
     "status": "completed"
    },
    "tags": []
   },
   "outputs": [
    {
     "data": {
      "text/plain": [
       "campaign_name\n",
       "入会費半額     650\n",
       "入会費無料     492\n",
       "通常       3050\n",
       "Name: customer_id, dtype: int64"
      ]
     },
     "execution_count": 9,
     "metadata": {},
     "output_type": "execute_result"
    }
   ],
   "source": [
    "# キャンペーン区分に注目して集計\n",
    "customer_join.groupby('campaign_name').count()['customer_id']"
   ]
  },
  {
   "cell_type": "code",
   "execution_count": 10,
   "id": "3d1f7224",
   "metadata": {
    "execution": {
     "iopub.execute_input": "2024-08-25T14:31:04.728726Z",
     "iopub.status.busy": "2024-08-25T14:31:04.728309Z",
     "iopub.status.idle": "2024-08-25T14:31:04.744297Z",
     "shell.execute_reply": "2024-08-25T14:31:04.743077Z"
    },
    "papermill": {
     "duration": 0.038437,
     "end_time": "2024-08-25T14:31:04.746802",
     "exception": false,
     "start_time": "2024-08-25T14:31:04.708365",
     "status": "completed"
    },
    "tags": []
   },
   "outputs": [
    {
     "data": {
      "text/plain": [
       "gender\n",
       "F    1983\n",
       "M    2209\n",
       "Name: customer_id, dtype: int64"
      ]
     },
     "execution_count": 10,
     "metadata": {},
     "output_type": "execute_result"
    }
   ],
   "source": [
    "# 性別に注目して集計\n",
    "customer_join.groupby('gender').count()['customer_id']"
   ]
  },
  {
   "cell_type": "code",
   "execution_count": 11,
   "id": "a59282e1",
   "metadata": {
    "execution": {
     "iopub.execute_input": "2024-08-25T14:31:04.786405Z",
     "iopub.status.busy": "2024-08-25T14:31:04.786006Z",
     "iopub.status.idle": "2024-08-25T14:31:04.802252Z",
     "shell.execute_reply": "2024-08-25T14:31:04.801114Z"
    },
    "papermill": {
     "duration": 0.039235,
     "end_time": "2024-08-25T14:31:04.804836",
     "exception": false,
     "start_time": "2024-08-25T14:31:04.765601",
     "status": "completed"
    },
    "tags": []
   },
   "outputs": [
    {
     "data": {
      "text/plain": [
       "is_deleted\n",
       "0    2842\n",
       "1    1350\n",
       "Name: customer_id, dtype: int64"
      ]
     },
     "execution_count": 11,
     "metadata": {},
     "output_type": "execute_result"
    }
   ],
   "source": [
    "# 退会済みかどうかに注目して集計\n",
    "customer_join.groupby('is_deleted').count()['customer_id']"
   ]
  },
  {
   "cell_type": "markdown",
   "id": "378b870b",
   "metadata": {
    "papermill": {
     "duration": 0.019855,
     "end_time": "2024-08-25T14:31:04.843833",
     "exception": false,
     "start_time": "2024-08-25T14:31:04.823978",
     "status": "completed"
    },
    "tags": []
   },
   "source": [
    "#### 次に、入会人数を集計してみる <br> 入会人数は`start_date`列が2018年4月1日から2019年3月31日までのユーザー"
   ]
  },
  {
   "cell_type": "code",
   "execution_count": 12,
   "id": "2ac90f7f",
   "metadata": {
    "execution": {
     "iopub.execute_input": "2024-08-25T14:31:04.884927Z",
     "iopub.status.busy": "2024-08-25T14:31:04.884477Z",
     "iopub.status.idle": "2024-08-25T14:31:04.904495Z",
     "shell.execute_reply": "2024-08-25T14:31:04.903191Z"
    },
    "papermill": {
     "duration": 0.043613,
     "end_time": "2024-08-25T14:31:04.907043",
     "exception": false,
     "start_time": "2024-08-25T14:31:04.863430",
     "status": "completed"
    },
    "tags": []
   },
   "outputs": [
    {
     "name": "stdout",
     "output_type": "stream",
     "text": [
      "入会人数 : 1361\n"
     ]
    }
   ],
   "source": [
    "# 入会人数の集計\n",
    "customer_join['start_date'] = pd.to_datetime(customer_join['start_date'])\n",
    "# 2018年4月1日より後に入会したユーザーを抽出\n",
    "customer_start = customer_join.loc[customer_join['start_date'] > pd.to_datetime('20180401')]\n",
    "print('入会人数 : ' + str(len(customer_start)))"
   ]
  },
  {
   "cell_type": "markdown",
   "id": "a83d2c27",
   "metadata": {
    "papermill": {
     "duration": 0.018932,
     "end_time": "2024-08-25T14:31:04.945302",
     "exception": false,
     "start_time": "2024-08-25T14:31:04.926370",
     "status": "completed"
    },
    "tags": []
   },
   "source": [
    "## ノック24 : 最新顧客データの基礎集計"
   ]
  },
  {
   "cell_type": "markdown",
   "id": "3c97ffa7",
   "metadata": {
    "papermill": {
     "duration": 0.018627,
     "end_time": "2024-08-25T14:31:04.982999",
     "exception": false,
     "start_time": "2024-08-25T14:31:04.964372",
     "status": "completed"
    },
    "tags": []
   },
   "source": [
    "* ### 現在の顧客データには退会済みのユーザーも含まれているため、実態把握が難しい <br> まずは最新月に絞ってデータの把握をする"
   ]
  },
  {
   "cell_type": "code",
   "execution_count": 13,
   "id": "6e78cfd5",
   "metadata": {
    "execution": {
     "iopub.execute_input": "2024-08-25T14:31:05.025769Z",
     "iopub.status.busy": "2024-08-25T14:31:05.025356Z",
     "iopub.status.idle": "2024-08-25T14:31:05.043400Z",
     "shell.execute_reply": "2024-08-25T14:31:05.042236Z"
    },
    "papermill": {
     "duration": 0.04408,
     "end_time": "2024-08-25T14:31:05.045984",
     "exception": false,
     "start_time": "2024-08-25T14:31:05.001904",
     "status": "completed"
    },
    "tags": []
   },
   "outputs": [
    {
     "name": "stdout",
     "output_type": "stream",
     "text": [
      "2953\n"
     ]
    },
    {
     "data": {
      "text/plain": [
       "<DatetimeArray>\n",
       "['NaT', '2019-03-31 00:00:00']\n",
       "Length: 2, dtype: datetime64[ns]"
      ]
     },
     "execution_count": 13,
     "metadata": {},
     "output_type": "execute_result"
    }
   ],
   "source": [
    "customer_join['end_date'] = pd.to_datetime(customer_join['end_date'])\n",
    "# 最新月に退会したユーザー、もしくは退会していないユーザーを抽出\n",
    "customer_newer = customer_join.loc[(customer_join['end_date'] >= pd.to_datetime('20190331'))\n",
    "                                   | (customer_join['end_date'].isna())]\n",
    "print(len(customer_newer))\n",
    "# 正しく抽出できているか確認する\n",
    "customer_newer['end_date'].unique()"
   ]
  },
  {
   "cell_type": "markdown",
   "id": "5e7d963c",
   "metadata": {
    "papermill": {
     "duration": 0.019046,
     "end_time": "2024-08-25T14:31:05.084542",
     "exception": false,
     "start_time": "2024-08-25T14:31:05.065496",
     "status": "completed"
    },
    "tags": []
   },
   "source": [
    "* #### 会員区分、キャンペーン区分、性別ごとに全体の数を集計する"
   ]
  },
  {
   "cell_type": "code",
   "execution_count": 14,
   "id": "f198f823",
   "metadata": {
    "execution": {
     "iopub.execute_input": "2024-08-25T14:31:05.125515Z",
     "iopub.status.busy": "2024-08-25T14:31:05.125065Z",
     "iopub.status.idle": "2024-08-25T14:31:05.139333Z",
     "shell.execute_reply": "2024-08-25T14:31:05.137955Z"
    },
    "papermill": {
     "duration": 0.038018,
     "end_time": "2024-08-25T14:31:05.142002",
     "exception": false,
     "start_time": "2024-08-25T14:31:05.103984",
     "status": "completed"
    },
    "tags": []
   },
   "outputs": [
    {
     "data": {
      "text/plain": [
       "class_name\n",
       "オールタイム    1444\n",
       "デイタイム      696\n",
       "ナイト        813\n",
       "Name: customer_id, dtype: int64"
      ]
     },
     "execution_count": 14,
     "metadata": {},
     "output_type": "execute_result"
    }
   ],
   "source": [
    "# 会員区分\n",
    "customer_newer.groupby('class_name').count()['customer_id']"
   ]
  },
  {
   "cell_type": "code",
   "execution_count": 15,
   "id": "d9a543ab",
   "metadata": {
    "execution": {
     "iopub.execute_input": "2024-08-25T14:31:05.182819Z",
     "iopub.status.busy": "2024-08-25T14:31:05.182388Z",
     "iopub.status.idle": "2024-08-25T14:31:05.198055Z",
     "shell.execute_reply": "2024-08-25T14:31:05.196753Z"
    },
    "papermill": {
     "duration": 0.039638,
     "end_time": "2024-08-25T14:31:05.201035",
     "exception": false,
     "start_time": "2024-08-25T14:31:05.161397",
     "status": "completed"
    },
    "tags": []
   },
   "outputs": [
    {
     "data": {
      "text/plain": [
       "campaign_name\n",
       "入会費半額     311\n",
       "入会費無料     242\n",
       "通常       2400\n",
       "Name: customer_id, dtype: int64"
      ]
     },
     "execution_count": 15,
     "metadata": {},
     "output_type": "execute_result"
    }
   ],
   "source": [
    "# キャンペーン区分\n",
    "customer_newer.groupby('campaign_name').count()['customer_id']"
   ]
  },
  {
   "cell_type": "markdown",
   "id": "0625bc67",
   "metadata": {
    "papermill": {
     "duration": 0.020159,
     "end_time": "2024-08-25T14:31:05.241715",
     "exception": false,
     "start_time": "2024-08-25T14:31:05.221556",
     "status": "completed"
    },
    "tags": []
   },
   "source": [
    "* #### 通常で入会した人が多い。\n",
    "* #### キャンペーン区分にだけ大きく比率の違いが見られる。"
   ]
  },
  {
   "cell_type": "code",
   "execution_count": 16,
   "id": "360a2109",
   "metadata": {
    "execution": {
     "iopub.execute_input": "2024-08-25T14:31:05.285224Z",
     "iopub.status.busy": "2024-08-25T14:31:05.284747Z",
     "iopub.status.idle": "2024-08-25T14:31:05.300164Z",
     "shell.execute_reply": "2024-08-25T14:31:05.298937Z"
    },
    "papermill": {
     "duration": 0.039416,
     "end_time": "2024-08-25T14:31:05.302802",
     "exception": false,
     "start_time": "2024-08-25T14:31:05.263386",
     "status": "completed"
    },
    "tags": []
   },
   "outputs": [
    {
     "data": {
      "text/plain": [
       "gender\n",
       "F    1400\n",
       "M    1553\n",
       "Name: customer_id, dtype: int64"
      ]
     },
     "execution_count": 16,
     "metadata": {},
     "output_type": "execute_result"
    }
   ],
   "source": [
    "# 性別\n",
    "customer_newer.groupby('gender').count()['customer_id']"
   ]
  },
  {
   "cell_type": "markdown",
   "id": "4086ee2f",
   "metadata": {
    "papermill": {
     "duration": 0.020042,
     "end_time": "2024-08-25T14:31:05.343011",
     "exception": false,
     "start_time": "2024-08-25T14:31:05.322969",
     "status": "completed"
    },
    "tags": []
   },
   "source": [
    "## ノック25 : 利用履歴データの集計"
   ]
  },
  {
   "cell_type": "markdown",
   "id": "fe042f84",
   "metadata": {
    "papermill": {
     "duration": 0.021384,
     "end_time": "2024-08-25T14:31:05.385314",
     "exception": false,
     "start_time": "2024-08-25T14:31:05.363930",
     "status": "completed"
    },
    "tags": []
   },
   "source": [
    "* #### 利用履歴データから何がわかるのか？ <br> → 時間的な要素の分析が可能。 <br> ex.) 月内の利用回数の変化、定期的にジムを活用しているユーザーか否か"
   ]
  },
  {
   "cell_type": "code",
   "execution_count": 17,
   "id": "6f90a2fb",
   "metadata": {
    "execution": {
     "iopub.execute_input": "2024-08-25T14:31:05.429040Z",
     "iopub.status.busy": "2024-08-25T14:31:05.428566Z",
     "iopub.status.idle": "2024-08-25T14:31:07.205038Z",
     "shell.execute_reply": "2024-08-25T14:31:07.203920Z"
    },
    "papermill": {
     "duration": 1.801503,
     "end_time": "2024-08-25T14:31:07.207569",
     "exception": false,
     "start_time": "2024-08-25T14:31:05.406066",
     "status": "completed"
    },
    "tags": []
   },
   "outputs": [
    {
     "data": {
      "text/html": [
       "<div>\n",
       "<style scoped>\n",
       "    .dataframe tbody tr th:only-of-type {\n",
       "        vertical-align: middle;\n",
       "    }\n",
       "\n",
       "    .dataframe tbody tr th {\n",
       "        vertical-align: top;\n",
       "    }\n",
       "\n",
       "    .dataframe thead th {\n",
       "        text-align: right;\n",
       "    }\n",
       "</style>\n",
       "<table border=\"1\" class=\"dataframe\">\n",
       "  <thead>\n",
       "    <tr style=\"text-align: right;\">\n",
       "      <th></th>\n",
       "      <th>年月</th>\n",
       "      <th>customer_id</th>\n",
       "      <th>count</th>\n",
       "    </tr>\n",
       "  </thead>\n",
       "  <tbody>\n",
       "    <tr>\n",
       "      <th>0</th>\n",
       "      <td>201804</td>\n",
       "      <td>AS002855</td>\n",
       "      <td>4</td>\n",
       "    </tr>\n",
       "    <tr>\n",
       "      <th>1</th>\n",
       "      <td>201804</td>\n",
       "      <td>AS009013</td>\n",
       "      <td>2</td>\n",
       "    </tr>\n",
       "    <tr>\n",
       "      <th>2</th>\n",
       "      <td>201804</td>\n",
       "      <td>AS009373</td>\n",
       "      <td>3</td>\n",
       "    </tr>\n",
       "    <tr>\n",
       "      <th>3</th>\n",
       "      <td>201804</td>\n",
       "      <td>AS015315</td>\n",
       "      <td>6</td>\n",
       "    </tr>\n",
       "    <tr>\n",
       "      <th>4</th>\n",
       "      <td>201804</td>\n",
       "      <td>AS015739</td>\n",
       "      <td>7</td>\n",
       "    </tr>\n",
       "  </tbody>\n",
       "</table>\n",
       "</div>"
      ],
      "text/plain": [
       "       年月 customer_id  count\n",
       "0  201804    AS002855      4\n",
       "1  201804    AS009013      2\n",
       "2  201804    AS009373      3\n",
       "3  201804    AS015315      6\n",
       "4  201804    AS015739      7"
      ]
     },
     "execution_count": 17,
     "metadata": {},
     "output_type": "execute_result"
    }
   ],
   "source": [
    "#  顧客ごとに月の利用回数を集計\n",
    "uselog['usedate'] = pd.to_datetime(uselog['usedate'])\n",
    "uselog['年月'] = uselog['usedate'].dt.strftime('%Y%m')\n",
    "uselog_months = uselog.groupby(['年月', 'customer_id'], as_index=False).count()\n",
    "\n",
    "# log_id列にcount数が入ってしまうので名前を付け替える\n",
    "uselog_months = uselog_months.rename(columns={'log_id' : 'count'})\n",
    "\n",
    "# 書籍では del uselog_months['usedate'] 下のコードでも良い。\n",
    "uselog_months = uselog_months.drop('usedate', axis=1)\n",
    "uselog_months.head()"
   ]
  },
  {
   "cell_type": "markdown",
   "id": "b2cbe597",
   "metadata": {
    "papermill": {
     "duration": 0.019628,
     "end_time": "2024-08-25T14:31:07.247257",
     "exception": false,
     "start_time": "2024-08-25T14:31:07.227629",
     "status": "completed"
    },
    "tags": []
   },
   "source": [
    "* ### 少し解説\n",
    "#### 元々uselogにはlog_id, customer_id, usedateの三つの列が存在する。\n",
    "#### 二行目のコードで新しく'年月'列を作成したのち、groupbyで'年月'とcustomer_idをインデックスにして残りの列に対してカウントしたので、この時点で列はlog_idとusedateの二個が残っている。\n",
    "#### log_idとusedateのカウント数は必ず同じなのでuselog_months.drop()で片方落とした。"
   ]
  },
  {
   "cell_type": "code",
   "execution_count": 18,
   "id": "5e1c43f4",
   "metadata": {
    "execution": {
     "iopub.execute_input": "2024-08-25T14:31:07.290701Z",
     "iopub.status.busy": "2024-08-25T14:31:07.290213Z",
     "iopub.status.idle": "2024-08-25T14:31:07.328925Z",
     "shell.execute_reply": "2024-08-25T14:31:07.327590Z"
    },
    "papermill": {
     "duration": 0.063187,
     "end_time": "2024-08-25T14:31:07.331475",
     "exception": false,
     "start_time": "2024-08-25T14:31:07.268288",
     "status": "completed"
    },
    "tags": []
   },
   "outputs": [
    {
     "data": {
      "text/html": [
       "<div>\n",
       "<style scoped>\n",
       "    .dataframe tbody tr th:only-of-type {\n",
       "        vertical-align: middle;\n",
       "    }\n",
       "\n",
       "    .dataframe tbody tr th {\n",
       "        vertical-align: top;\n",
       "    }\n",
       "\n",
       "    .dataframe thead th {\n",
       "        text-align: right;\n",
       "    }\n",
       "</style>\n",
       "<table border=\"1\" class=\"dataframe\">\n",
       "  <thead>\n",
       "    <tr style=\"text-align: right;\">\n",
       "      <th></th>\n",
       "      <th>mean</th>\n",
       "      <th>median</th>\n",
       "      <th>max</th>\n",
       "      <th>min</th>\n",
       "    </tr>\n",
       "    <tr>\n",
       "      <th>customer_id</th>\n",
       "      <th></th>\n",
       "      <th></th>\n",
       "      <th></th>\n",
       "      <th></th>\n",
       "    </tr>\n",
       "  </thead>\n",
       "  <tbody>\n",
       "    <tr>\n",
       "      <th>AS002855</th>\n",
       "      <td>4.500000</td>\n",
       "      <td>5.0</td>\n",
       "      <td>7</td>\n",
       "      <td>2</td>\n",
       "    </tr>\n",
       "    <tr>\n",
       "      <th>AS008805</th>\n",
       "      <td>4.000000</td>\n",
       "      <td>4.0</td>\n",
       "      <td>8</td>\n",
       "      <td>1</td>\n",
       "    </tr>\n",
       "    <tr>\n",
       "      <th>AS009013</th>\n",
       "      <td>2.000000</td>\n",
       "      <td>2.0</td>\n",
       "      <td>2</td>\n",
       "      <td>2</td>\n",
       "    </tr>\n",
       "    <tr>\n",
       "      <th>AS009373</th>\n",
       "      <td>5.083333</td>\n",
       "      <td>5.0</td>\n",
       "      <td>7</td>\n",
       "      <td>3</td>\n",
       "    </tr>\n",
       "    <tr>\n",
       "      <th>AS015233</th>\n",
       "      <td>7.545455</td>\n",
       "      <td>7.0</td>\n",
       "      <td>11</td>\n",
       "      <td>4</td>\n",
       "    </tr>\n",
       "  </tbody>\n",
       "</table>\n",
       "</div>"
      ],
      "text/plain": [
       "                 mean  median  max  min\n",
       "customer_id                            \n",
       "AS002855     4.500000     5.0    7    2\n",
       "AS008805     4.000000     4.0    8    1\n",
       "AS009013     2.000000     2.0    2    2\n",
       "AS009373     5.083333     5.0    7    3\n",
       "AS015233     7.545455     7.0   11    4"
      ]
     },
     "execution_count": 18,
     "metadata": {},
     "output_type": "execute_result"
    }
   ],
   "source": [
    "uselog_customer = uselog_months.groupby('customer_id')['count'].agg(['mean', 'median', 'max', 'min'])\n",
    "uselog_customer.head()"
   ]
  },
  {
   "cell_type": "markdown",
   "id": "48b23ba0",
   "metadata": {
    "papermill": {
     "duration": 0.020502,
     "end_time": "2024-08-25T14:31:07.374238",
     "exception": false,
     "start_time": "2024-08-25T14:31:07.353736",
     "status": "completed"
    },
    "tags": []
   },
   "source": [
    "## ノック26 : 利用履歴データから定期利用フラグを作成する"
   ]
  },
  {
   "cell_type": "markdown",
   "id": "3e126f8c",
   "metadata": {
    "papermill": {
     "duration": 0.020366,
     "end_time": "2024-08-25T14:31:07.416731",
     "exception": false,
     "start_time": "2024-08-25T14:31:07.396365",
     "status": "completed"
    },
    "tags": []
   },
   "source": [
    "#### 毎週同じ曜日に来ているかどうかで定期利用かどうかを判別する"
   ]
  },
  {
   "cell_type": "code",
   "execution_count": 19,
   "id": "22dd411a",
   "metadata": {
    "execution": {
     "iopub.execute_input": "2024-08-25T14:31:07.460449Z",
     "iopub.status.busy": "2024-08-25T14:31:07.460009Z",
     "iopub.status.idle": "2024-08-25T14:31:07.611881Z",
     "shell.execute_reply": "2024-08-25T14:31:07.610803Z"
    },
    "papermill": {
     "duration": 0.176171,
     "end_time": "2024-08-25T14:31:07.614356",
     "exception": false,
     "start_time": "2024-08-25T14:31:07.438185",
     "status": "completed"
    },
    "tags": []
   },
   "outputs": [
    {
     "data": {
      "text/html": [
       "<div>\n",
       "<style scoped>\n",
       "    .dataframe tbody tr th:only-of-type {\n",
       "        vertical-align: middle;\n",
       "    }\n",
       "\n",
       "    .dataframe tbody tr th {\n",
       "        vertical-align: top;\n",
       "    }\n",
       "\n",
       "    .dataframe thead th {\n",
       "        text-align: right;\n",
       "    }\n",
       "</style>\n",
       "<table border=\"1\" class=\"dataframe\">\n",
       "  <thead>\n",
       "    <tr style=\"text-align: right;\">\n",
       "      <th></th>\n",
       "      <th>customer_id</th>\n",
       "      <th>年月</th>\n",
       "      <th>weekday</th>\n",
       "      <th>count</th>\n",
       "    </tr>\n",
       "  </thead>\n",
       "  <tbody>\n",
       "    <tr>\n",
       "      <th>0</th>\n",
       "      <td>AS002855</td>\n",
       "      <td>201804</td>\n",
       "      <td>5</td>\n",
       "      <td>4</td>\n",
       "    </tr>\n",
       "    <tr>\n",
       "      <th>1</th>\n",
       "      <td>AS002855</td>\n",
       "      <td>201805</td>\n",
       "      <td>2</td>\n",
       "      <td>1</td>\n",
       "    </tr>\n",
       "    <tr>\n",
       "      <th>2</th>\n",
       "      <td>AS002855</td>\n",
       "      <td>201805</td>\n",
       "      <td>5</td>\n",
       "      <td>4</td>\n",
       "    </tr>\n",
       "    <tr>\n",
       "      <th>3</th>\n",
       "      <td>AS002855</td>\n",
       "      <td>201806</td>\n",
       "      <td>5</td>\n",
       "      <td>5</td>\n",
       "    </tr>\n",
       "    <tr>\n",
       "      <th>4</th>\n",
       "      <td>AS002855</td>\n",
       "      <td>201807</td>\n",
       "      <td>1</td>\n",
       "      <td>1</td>\n",
       "    </tr>\n",
       "  </tbody>\n",
       "</table>\n",
       "</div>"
      ],
      "text/plain": [
       "  customer_id      年月  weekday  count\n",
       "0    AS002855  201804        5      4\n",
       "1    AS002855  201805        2      1\n",
       "2    AS002855  201805        5      4\n",
       "3    AS002855  201806        5      5\n",
       "4    AS002855  201807        1      1"
      ]
     },
     "execution_count": 19,
     "metadata": {},
     "output_type": "execute_result"
    }
   ],
   "source": [
    "# 日付データを曜日に変換\n",
    "# 曜日は数字で表される。月曜から順に0 ~ 6になる\n",
    "uselog['weekday'] = uselog['usedate'].dt.weekday\n",
    "\n",
    "\n",
    "result = uselog\n",
    "# 顧客、年月、曜日ごとにlog_idを数える。\n",
    "uselog_weekday = uselog.groupby(['customer_id', '年月', 'weekday'], as_index=False).count()\n",
    "# 先ほどと同様に一つ列を落とす\n",
    "uselog_weekday = uselog_weekday.drop('usedate', axis=1)\n",
    "\n",
    "# 本当はなるべくinplace=Trueは使わない方が良い。（元のデータが書きかわるかつパフォーマンスが落ちるため）\n",
    "uselog_weekday.rename(columns={'log_id' : 'count'}, inplace=True)\n",
    "uselog_weekday.head()"
   ]
  },
  {
   "cell_type": "markdown",
   "id": "34facff2",
   "metadata": {
    "papermill": {
     "duration": 0.076433,
     "end_time": "2024-08-25T14:31:07.711694",
     "exception": false,
     "start_time": "2024-08-25T14:31:07.635261",
     "status": "completed"
    },
    "tags": []
   },
   "source": [
    "* #### 顧客AS002855は2018年の4月と5月の両方、毎週土曜日に来ている <br> → 土曜がジムの日なのかな？\n",
    "#### 顧客ごとの各月の最大値を取得して、最大値が4以上の場合フラグを立ててみる"
   ]
  },
  {
   "cell_type": "code",
   "execution_count": 20,
   "id": "9be5575d",
   "metadata": {
    "execution": {
     "iopub.execute_input": "2024-08-25T14:31:07.755418Z",
     "iopub.status.busy": "2024-08-25T14:31:07.754975Z",
     "iopub.status.idle": "2024-08-25T14:31:08.102768Z",
     "shell.execute_reply": "2024-08-25T14:31:08.101621Z"
    },
    "papermill": {
     "duration": 0.373159,
     "end_time": "2024-08-25T14:31:08.105395",
     "exception": false,
     "start_time": "2024-08-25T14:31:07.732236",
     "status": "completed"
    },
    "tags": []
   },
   "outputs": [
    {
     "data": {
      "text/html": [
       "<div>\n",
       "<style scoped>\n",
       "    .dataframe tbody tr th:only-of-type {\n",
       "        vertical-align: middle;\n",
       "    }\n",
       "\n",
       "    .dataframe tbody tr th {\n",
       "        vertical-align: top;\n",
       "    }\n",
       "\n",
       "    .dataframe thead th {\n",
       "        text-align: right;\n",
       "    }\n",
       "</style>\n",
       "<table border=\"1\" class=\"dataframe\">\n",
       "  <thead>\n",
       "    <tr style=\"text-align: right;\">\n",
       "      <th></th>\n",
       "      <th>customer_id</th>\n",
       "      <th>count</th>\n",
       "      <th>routine_flg</th>\n",
       "    </tr>\n",
       "  </thead>\n",
       "  <tbody>\n",
       "    <tr>\n",
       "      <th>0</th>\n",
       "      <td>AS002855</td>\n",
       "      <td>5</td>\n",
       "      <td>1</td>\n",
       "    </tr>\n",
       "    <tr>\n",
       "      <th>1</th>\n",
       "      <td>AS008805</td>\n",
       "      <td>4</td>\n",
       "      <td>1</td>\n",
       "    </tr>\n",
       "    <tr>\n",
       "      <th>2</th>\n",
       "      <td>AS009013</td>\n",
       "      <td>2</td>\n",
       "      <td>0</td>\n",
       "    </tr>\n",
       "    <tr>\n",
       "      <th>3</th>\n",
       "      <td>AS009373</td>\n",
       "      <td>5</td>\n",
       "      <td>1</td>\n",
       "    </tr>\n",
       "    <tr>\n",
       "      <th>4</th>\n",
       "      <td>AS015233</td>\n",
       "      <td>5</td>\n",
       "      <td>1</td>\n",
       "    </tr>\n",
       "  </tbody>\n",
       "</table>\n",
       "</div>"
      ],
      "text/plain": [
       "  customer_id  count  routine_flg\n",
       "0    AS002855      5            1\n",
       "1    AS008805      4            1\n",
       "2    AS009013      2            0\n",
       "3    AS009373      5            1\n",
       "4    AS015233      5            1"
      ]
     },
     "execution_count": 20,
     "metadata": {},
     "output_type": "execute_result"
    }
   ],
   "source": [
    "uselog_weekday = uselog_weekday.groupby('customer_id', as_index=False).max()[['customer_id', 'count']]\n",
    "uselog_weekday['routine_flg'] = 0\n",
    "# uselog_weekdayの'count'列の値が4以上ならば、routine_flg列の中身を1に書き換える\n",
    "uselog_weekday['routine_flg'] = uselog_weekday['routine_flg'].where(uselog_weekday['count'] < 4, 1)\n",
    "uselog_weekday.head()"
   ]
  },
  {
   "cell_type": "markdown",
   "id": "367b027f",
   "metadata": {
    "papermill": {
     "duration": 0.021149,
     "end_time": "2024-08-25T14:31:08.147910",
     "exception": false,
     "start_time": "2024-08-25T14:31:08.126761",
     "status": "completed"
    },
    "tags": []
   },
   "source": [
    "## ノック27 : 顧客データと利用履歴データを結合する"
   ]
  },
  {
   "cell_type": "code",
   "execution_count": 21,
   "id": "85cd4745",
   "metadata": {
    "execution": {
     "iopub.execute_input": "2024-08-25T14:31:08.191169Z",
     "iopub.status.busy": "2024-08-25T14:31:08.190716Z",
     "iopub.status.idle": "2024-08-25T14:31:08.225089Z",
     "shell.execute_reply": "2024-08-25T14:31:08.223888Z"
    },
    "papermill": {
     "duration": 0.059168,
     "end_time": "2024-08-25T14:31:08.227563",
     "exception": false,
     "start_time": "2024-08-25T14:31:08.168395",
     "status": "completed"
    },
    "tags": []
   },
   "outputs": [
    {
     "data": {
      "text/html": [
       "<div>\n",
       "<style scoped>\n",
       "    .dataframe tbody tr th:only-of-type {\n",
       "        vertical-align: middle;\n",
       "    }\n",
       "\n",
       "    .dataframe tbody tr th {\n",
       "        vertical-align: top;\n",
       "    }\n",
       "\n",
       "    .dataframe thead th {\n",
       "        text-align: right;\n",
       "    }\n",
       "</style>\n",
       "<table border=\"1\" class=\"dataframe\">\n",
       "  <thead>\n",
       "    <tr style=\"text-align: right;\">\n",
       "      <th></th>\n",
       "      <th>customer_id</th>\n",
       "      <th>name</th>\n",
       "      <th>class</th>\n",
       "      <th>gender</th>\n",
       "      <th>start_date</th>\n",
       "      <th>end_date</th>\n",
       "      <th>campaign_id</th>\n",
       "      <th>is_deleted</th>\n",
       "      <th>class_name</th>\n",
       "      <th>price</th>\n",
       "      <th>campaign_name</th>\n",
       "      <th>mean</th>\n",
       "      <th>median</th>\n",
       "      <th>max</th>\n",
       "      <th>min</th>\n",
       "      <th>routine_flg</th>\n",
       "    </tr>\n",
       "  </thead>\n",
       "  <tbody>\n",
       "    <tr>\n",
       "      <th>0</th>\n",
       "      <td>OA832399</td>\n",
       "      <td>XXXX</td>\n",
       "      <td>C01</td>\n",
       "      <td>F</td>\n",
       "      <td>2015-05-01</td>\n",
       "      <td>NaT</td>\n",
       "      <td>CA1</td>\n",
       "      <td>0</td>\n",
       "      <td>オールタイム</td>\n",
       "      <td>10500</td>\n",
       "      <td>通常</td>\n",
       "      <td>4.833333</td>\n",
       "      <td>5.0</td>\n",
       "      <td>8</td>\n",
       "      <td>2</td>\n",
       "      <td>1</td>\n",
       "    </tr>\n",
       "    <tr>\n",
       "      <th>1</th>\n",
       "      <td>PL270116</td>\n",
       "      <td>XXXXX</td>\n",
       "      <td>C01</td>\n",
       "      <td>M</td>\n",
       "      <td>2015-05-01</td>\n",
       "      <td>NaT</td>\n",
       "      <td>CA1</td>\n",
       "      <td>0</td>\n",
       "      <td>オールタイム</td>\n",
       "      <td>10500</td>\n",
       "      <td>通常</td>\n",
       "      <td>5.083333</td>\n",
       "      <td>5.0</td>\n",
       "      <td>7</td>\n",
       "      <td>3</td>\n",
       "      <td>1</td>\n",
       "    </tr>\n",
       "    <tr>\n",
       "      <th>2</th>\n",
       "      <td>OA974876</td>\n",
       "      <td>XXXXX</td>\n",
       "      <td>C01</td>\n",
       "      <td>M</td>\n",
       "      <td>2015-05-01</td>\n",
       "      <td>NaT</td>\n",
       "      <td>CA1</td>\n",
       "      <td>0</td>\n",
       "      <td>オールタイム</td>\n",
       "      <td>10500</td>\n",
       "      <td>通常</td>\n",
       "      <td>4.583333</td>\n",
       "      <td>5.0</td>\n",
       "      <td>6</td>\n",
       "      <td>3</td>\n",
       "      <td>1</td>\n",
       "    </tr>\n",
       "    <tr>\n",
       "      <th>3</th>\n",
       "      <td>HD024127</td>\n",
       "      <td>XXXXX</td>\n",
       "      <td>C01</td>\n",
       "      <td>F</td>\n",
       "      <td>2015-05-01</td>\n",
       "      <td>NaT</td>\n",
       "      <td>CA1</td>\n",
       "      <td>0</td>\n",
       "      <td>オールタイム</td>\n",
       "      <td>10500</td>\n",
       "      <td>通常</td>\n",
       "      <td>4.833333</td>\n",
       "      <td>4.5</td>\n",
       "      <td>7</td>\n",
       "      <td>2</td>\n",
       "      <td>1</td>\n",
       "    </tr>\n",
       "    <tr>\n",
       "      <th>4</th>\n",
       "      <td>HD661448</td>\n",
       "      <td>XXXXX</td>\n",
       "      <td>C03</td>\n",
       "      <td>F</td>\n",
       "      <td>2015-05-01</td>\n",
       "      <td>NaT</td>\n",
       "      <td>CA1</td>\n",
       "      <td>0</td>\n",
       "      <td>ナイト</td>\n",
       "      <td>6000</td>\n",
       "      <td>通常</td>\n",
       "      <td>3.916667</td>\n",
       "      <td>4.0</td>\n",
       "      <td>6</td>\n",
       "      <td>1</td>\n",
       "      <td>1</td>\n",
       "    </tr>\n",
       "  </tbody>\n",
       "</table>\n",
       "</div>"
      ],
      "text/plain": [
       "  customer_id   name class gender start_date end_date campaign_id  is_deleted  \\\n",
       "0    OA832399   XXXX   C01      F 2015-05-01      NaT         CA1           0   \n",
       "1    PL270116  XXXXX   C01      M 2015-05-01      NaT         CA1           0   \n",
       "2    OA974876  XXXXX   C01      M 2015-05-01      NaT         CA1           0   \n",
       "3    HD024127  XXXXX   C01      F 2015-05-01      NaT         CA1           0   \n",
       "4    HD661448  XXXXX   C03      F 2015-05-01      NaT         CA1           0   \n",
       "\n",
       "  class_name  price campaign_name      mean  median  max  min  routine_flg  \n",
       "0     オールタイム  10500            通常  4.833333     5.0    8    2            1  \n",
       "1     オールタイム  10500            通常  5.083333     5.0    7    3            1  \n",
       "2     オールタイム  10500            通常  4.583333     5.0    6    3            1  \n",
       "3     オールタイム  10500            通常  4.833333     4.5    7    2            1  \n",
       "4        ナイト   6000            通常  3.916667     4.0    6    1            1  "
      ]
     },
     "execution_count": 21,
     "metadata": {},
     "output_type": "execute_result"
    }
   ],
   "source": [
    "customer_join = pd.merge(customer_join, uselog_customer, on='customer_id', how='left')\n",
    "# count列はいらないので落とす\n",
    "customer_join = pd.merge(customer_join, uselog_weekday.drop('count', axis=1), on='customer_id', how='left')\n",
    "customer_join.head()"
   ]
  },
  {
   "cell_type": "code",
   "execution_count": 22,
   "id": "354f5771",
   "metadata": {
    "execution": {
     "iopub.execute_input": "2024-08-25T14:31:08.272000Z",
     "iopub.status.busy": "2024-08-25T14:31:08.271553Z",
     "iopub.status.idle": "2024-08-25T14:31:08.284495Z",
     "shell.execute_reply": "2024-08-25T14:31:08.283317Z"
    },
    "papermill": {
     "duration": 0.03816,
     "end_time": "2024-08-25T14:31:08.286905",
     "exception": false,
     "start_time": "2024-08-25T14:31:08.248745",
     "status": "completed"
    },
    "tags": []
   },
   "outputs": [
    {
     "data": {
      "text/plain": [
       "customer_id         0\n",
       "name                0\n",
       "class               0\n",
       "gender              0\n",
       "start_date          0\n",
       "end_date         2842\n",
       "campaign_id         0\n",
       "is_deleted          0\n",
       "class_name          0\n",
       "price               0\n",
       "campaign_name       0\n",
       "mean                0\n",
       "median              0\n",
       "max                 0\n",
       "min                 0\n",
       "routine_flg         0\n",
       "dtype: int64"
      ]
     },
     "execution_count": 22,
     "metadata": {},
     "output_type": "execute_result"
    }
   ],
   "source": [
    "# 欠損値の確認\n",
    "customer_join.isnull().sum()"
   ]
  },
  {
   "cell_type": "markdown",
   "id": "578a5bc5",
   "metadata": {
    "papermill": {
     "duration": 0.020874,
     "end_time": "2024-08-25T14:31:08.329013",
     "exception": false,
     "start_time": "2024-08-25T14:31:08.308139",
     "status": "completed"
    },
    "tags": []
   },
   "source": [
    "足した列に関しては欠損値がないことを確認した。"
   ]
  },
  {
   "cell_type": "markdown",
   "id": "8d11358a",
   "metadata": {
    "papermill": {
     "duration": 0.022801,
     "end_time": "2024-08-25T14:31:08.373364",
     "exception": false,
     "start_time": "2024-08-25T14:31:08.350563",
     "status": "completed"
    },
    "tags": []
   },
   "source": [
    "## ノック28 : 会員期間を計算する"
   ]
  },
  {
   "cell_type": "markdown",
   "id": "2f3e190a",
   "metadata": {
    "papermill": {
     "duration": 0.021694,
     "end_time": "2024-08-25T14:31:08.417047",
     "exception": false,
     "start_time": "2024-08-25T14:31:08.395353",
     "status": "completed"
    },
    "tags": []
   },
   "source": [
    "単純に`start_date`列と`end_date`列の差。 <br> 2019年3月までに退会していないユーザーは`end_date`がNaNになっているので、2019年4月30日として計算する。（2019年3月31日までとすると、本当に3月末で退会したユーザーと区別がつかなくなるため。"
   ]
  },
  {
   "cell_type": "code",
   "execution_count": 23,
   "id": "02e49a98",
   "metadata": {
    "execution": {
     "iopub.execute_input": "2024-08-25T14:31:08.461824Z",
     "iopub.status.busy": "2024-08-25T14:31:08.461377Z",
     "iopub.status.idle": "2024-08-25T14:31:10.501372Z",
     "shell.execute_reply": "2024-08-25T14:31:10.500118Z"
    },
    "papermill": {
     "duration": 2.065472,
     "end_time": "2024-08-25T14:31:10.504040",
     "exception": false,
     "start_time": "2024-08-25T14:31:08.438568",
     "status": "completed"
    },
    "tags": []
   },
   "outputs": [
    {
     "data": {
      "text/html": [
       "<div>\n",
       "<style scoped>\n",
       "    .dataframe tbody tr th:only-of-type {\n",
       "        vertical-align: middle;\n",
       "    }\n",
       "\n",
       "    .dataframe tbody tr th {\n",
       "        vertical-align: top;\n",
       "    }\n",
       "\n",
       "    .dataframe thead th {\n",
       "        text-align: right;\n",
       "    }\n",
       "</style>\n",
       "<table border=\"1\" class=\"dataframe\">\n",
       "  <thead>\n",
       "    <tr style=\"text-align: right;\">\n",
       "      <th></th>\n",
       "      <th>customer_id</th>\n",
       "      <th>name</th>\n",
       "      <th>class</th>\n",
       "      <th>gender</th>\n",
       "      <th>start_date</th>\n",
       "      <th>end_date</th>\n",
       "      <th>campaign_id</th>\n",
       "      <th>is_deleted</th>\n",
       "      <th>class_name</th>\n",
       "      <th>price</th>\n",
       "      <th>campaign_name</th>\n",
       "      <th>mean</th>\n",
       "      <th>median</th>\n",
       "      <th>max</th>\n",
       "      <th>min</th>\n",
       "      <th>routine_flg</th>\n",
       "      <th>calc_date</th>\n",
       "      <th>membership_period</th>\n",
       "    </tr>\n",
       "  </thead>\n",
       "  <tbody>\n",
       "    <tr>\n",
       "      <th>0</th>\n",
       "      <td>OA832399</td>\n",
       "      <td>XXXX</td>\n",
       "      <td>C01</td>\n",
       "      <td>F</td>\n",
       "      <td>2015-05-01</td>\n",
       "      <td>NaT</td>\n",
       "      <td>CA1</td>\n",
       "      <td>0</td>\n",
       "      <td>オールタイム</td>\n",
       "      <td>10500</td>\n",
       "      <td>通常</td>\n",
       "      <td>4.833333</td>\n",
       "      <td>5.0</td>\n",
       "      <td>8</td>\n",
       "      <td>2</td>\n",
       "      <td>1</td>\n",
       "      <td>2019-04-30</td>\n",
       "      <td>47</td>\n",
       "    </tr>\n",
       "    <tr>\n",
       "      <th>1</th>\n",
       "      <td>PL270116</td>\n",
       "      <td>XXXXX</td>\n",
       "      <td>C01</td>\n",
       "      <td>M</td>\n",
       "      <td>2015-05-01</td>\n",
       "      <td>NaT</td>\n",
       "      <td>CA1</td>\n",
       "      <td>0</td>\n",
       "      <td>オールタイム</td>\n",
       "      <td>10500</td>\n",
       "      <td>通常</td>\n",
       "      <td>5.083333</td>\n",
       "      <td>5.0</td>\n",
       "      <td>7</td>\n",
       "      <td>3</td>\n",
       "      <td>1</td>\n",
       "      <td>2019-04-30</td>\n",
       "      <td>47</td>\n",
       "    </tr>\n",
       "    <tr>\n",
       "      <th>2</th>\n",
       "      <td>OA974876</td>\n",
       "      <td>XXXXX</td>\n",
       "      <td>C01</td>\n",
       "      <td>M</td>\n",
       "      <td>2015-05-01</td>\n",
       "      <td>NaT</td>\n",
       "      <td>CA1</td>\n",
       "      <td>0</td>\n",
       "      <td>オールタイム</td>\n",
       "      <td>10500</td>\n",
       "      <td>通常</td>\n",
       "      <td>4.583333</td>\n",
       "      <td>5.0</td>\n",
       "      <td>6</td>\n",
       "      <td>3</td>\n",
       "      <td>1</td>\n",
       "      <td>2019-04-30</td>\n",
       "      <td>47</td>\n",
       "    </tr>\n",
       "    <tr>\n",
       "      <th>3</th>\n",
       "      <td>HD024127</td>\n",
       "      <td>XXXXX</td>\n",
       "      <td>C01</td>\n",
       "      <td>F</td>\n",
       "      <td>2015-05-01</td>\n",
       "      <td>NaT</td>\n",
       "      <td>CA1</td>\n",
       "      <td>0</td>\n",
       "      <td>オールタイム</td>\n",
       "      <td>10500</td>\n",
       "      <td>通常</td>\n",
       "      <td>4.833333</td>\n",
       "      <td>4.5</td>\n",
       "      <td>7</td>\n",
       "      <td>2</td>\n",
       "      <td>1</td>\n",
       "      <td>2019-04-30</td>\n",
       "      <td>47</td>\n",
       "    </tr>\n",
       "    <tr>\n",
       "      <th>4</th>\n",
       "      <td>HD661448</td>\n",
       "      <td>XXXXX</td>\n",
       "      <td>C03</td>\n",
       "      <td>F</td>\n",
       "      <td>2015-05-01</td>\n",
       "      <td>NaT</td>\n",
       "      <td>CA1</td>\n",
       "      <td>0</td>\n",
       "      <td>ナイト</td>\n",
       "      <td>6000</td>\n",
       "      <td>通常</td>\n",
       "      <td>3.916667</td>\n",
       "      <td>4.0</td>\n",
       "      <td>6</td>\n",
       "      <td>1</td>\n",
       "      <td>1</td>\n",
       "      <td>2019-04-30</td>\n",
       "      <td>47</td>\n",
       "    </tr>\n",
       "  </tbody>\n",
       "</table>\n",
       "</div>"
      ],
      "text/plain": [
       "  customer_id   name class gender start_date end_date campaign_id  is_deleted  \\\n",
       "0    OA832399   XXXX   C01      F 2015-05-01      NaT         CA1           0   \n",
       "1    PL270116  XXXXX   C01      M 2015-05-01      NaT         CA1           0   \n",
       "2    OA974876  XXXXX   C01      M 2015-05-01      NaT         CA1           0   \n",
       "3    HD024127  XXXXX   C01      F 2015-05-01      NaT         CA1           0   \n",
       "4    HD661448  XXXXX   C03      F 2015-05-01      NaT         CA1           0   \n",
       "\n",
       "  class_name  price campaign_name      mean  median  max  min  routine_flg  \\\n",
       "0     オールタイム  10500            通常  4.833333     5.0    8    2            1   \n",
       "1     オールタイム  10500            通常  5.083333     5.0    7    3            1   \n",
       "2     オールタイム  10500            通常  4.583333     5.0    6    3            1   \n",
       "3     オールタイム  10500            通常  4.833333     4.5    7    2            1   \n",
       "4        ナイト   6000            通常  3.916667     4.0    6    1            1   \n",
       "\n",
       "   calc_date  membership_period  \n",
       "0 2019-04-30                 47  \n",
       "1 2019-04-30                 47  \n",
       "2 2019-04-30                 47  \n",
       "3 2019-04-30                 47  \n",
       "4 2019-04-30                 47  "
      ]
     },
     "execution_count": 23,
     "metadata": {},
     "output_type": "execute_result"
    }
   ],
   "source": [
    "# 日付の比較に必要なライブラリ\n",
    "from dateutil.relativedelta import relativedelta\n",
    "\n",
    "# calc_date列を作成して、end_date列の中身をコピー\n",
    "customer_join['calc_date'] = customer_join['end_date']\n",
    "# 欠損値を「20190430」で埋める\n",
    "customer_join['calc_date'] = customer_join['calc_date'].fillna(pd.to_datetime('20190430'))\n",
    "customer_join['membership_period'] = 0\n",
    "\n",
    "# 各行に対して計算を行う\n",
    "for i in range(len(customer_join)):\n",
    "        # 上からi番目の行のcalc_date列（退会日）とstart_date列の差を計算\n",
    "        # 計算結果は変数delta内に年、月、日別に保存される\n",
    "        delta = relativedelta(customer_join['calc_date'].iloc[i], customer_join['start_date'].iloc[i])\n",
    "        # 継続期間を単位を「月」として出す\n",
    "        customer_join.loc[i, 'membership_period'] = delta.years*12 + delta.months\n",
    "\n",
    "customer_join.head()"
   ]
  },
  {
   "cell_type": "markdown",
   "id": "bc44de2e",
   "metadata": {
    "papermill": {
     "duration": 0.021493,
     "end_time": "2024-08-25T14:31:10.547541",
     "exception": false,
     "start_time": "2024-08-25T14:31:10.526048",
     "status": "completed"
    },
    "tags": []
   },
   "source": [
    "先頭五行の人はみんな辞めていないので、全て47が表示されている。"
   ]
  },
  {
   "cell_type": "markdown",
   "id": "eede2354",
   "metadata": {
    "papermill": {
     "duration": 0.021805,
     "end_time": "2024-08-25T14:31:10.591490",
     "exception": false,
     "start_time": "2024-08-25T14:31:10.569685",
     "status": "completed"
    },
    "tags": []
   },
   "source": [
    "## ノック29 : 顧客行動の各種統計量を把握しよう"
   ]
  },
  {
   "cell_type": "code",
   "execution_count": 24,
   "id": "74e42771",
   "metadata": {
    "execution": {
     "iopub.execute_input": "2024-08-25T14:31:10.637035Z",
     "iopub.status.busy": "2024-08-25T14:31:10.636566Z",
     "iopub.status.idle": "2024-08-25T14:31:10.663601Z",
     "shell.execute_reply": "2024-08-25T14:31:10.662276Z"
    },
    "papermill": {
     "duration": 0.052744,
     "end_time": "2024-08-25T14:31:10.666158",
     "exception": false,
     "start_time": "2024-08-25T14:31:10.613414",
     "status": "completed"
    },
    "tags": []
   },
   "outputs": [
    {
     "data": {
      "text/html": [
       "<div>\n",
       "<style scoped>\n",
       "    .dataframe tbody tr th:only-of-type {\n",
       "        vertical-align: middle;\n",
       "    }\n",
       "\n",
       "    .dataframe tbody tr th {\n",
       "        vertical-align: top;\n",
       "    }\n",
       "\n",
       "    .dataframe thead th {\n",
       "        text-align: right;\n",
       "    }\n",
       "</style>\n",
       "<table border=\"1\" class=\"dataframe\">\n",
       "  <thead>\n",
       "    <tr style=\"text-align: right;\">\n",
       "      <th></th>\n",
       "      <th>mean</th>\n",
       "      <th>median</th>\n",
       "      <th>max</th>\n",
       "      <th>min</th>\n",
       "    </tr>\n",
       "  </thead>\n",
       "  <tbody>\n",
       "    <tr>\n",
       "      <th>count</th>\n",
       "      <td>4192.000000</td>\n",
       "      <td>4192.000000</td>\n",
       "      <td>4192.000000</td>\n",
       "      <td>4192.000000</td>\n",
       "    </tr>\n",
       "    <tr>\n",
       "      <th>mean</th>\n",
       "      <td>5.333127</td>\n",
       "      <td>5.250596</td>\n",
       "      <td>7.823950</td>\n",
       "      <td>3.041269</td>\n",
       "    </tr>\n",
       "    <tr>\n",
       "      <th>std</th>\n",
       "      <td>1.777533</td>\n",
       "      <td>1.874874</td>\n",
       "      <td>2.168959</td>\n",
       "      <td>1.951565</td>\n",
       "    </tr>\n",
       "    <tr>\n",
       "      <th>min</th>\n",
       "      <td>1.000000</td>\n",
       "      <td>1.000000</td>\n",
       "      <td>1.000000</td>\n",
       "      <td>1.000000</td>\n",
       "    </tr>\n",
       "    <tr>\n",
       "      <th>25%</th>\n",
       "      <td>4.250000</td>\n",
       "      <td>4.000000</td>\n",
       "      <td>7.000000</td>\n",
       "      <td>2.000000</td>\n",
       "    </tr>\n",
       "    <tr>\n",
       "      <th>50%</th>\n",
       "      <td>5.000000</td>\n",
       "      <td>5.000000</td>\n",
       "      <td>8.000000</td>\n",
       "      <td>3.000000</td>\n",
       "    </tr>\n",
       "    <tr>\n",
       "      <th>75%</th>\n",
       "      <td>6.416667</td>\n",
       "      <td>6.500000</td>\n",
       "      <td>9.000000</td>\n",
       "      <td>4.000000</td>\n",
       "    </tr>\n",
       "    <tr>\n",
       "      <th>max</th>\n",
       "      <td>12.000000</td>\n",
       "      <td>12.000000</td>\n",
       "      <td>14.000000</td>\n",
       "      <td>12.000000</td>\n",
       "    </tr>\n",
       "  </tbody>\n",
       "</table>\n",
       "</div>"
      ],
      "text/plain": [
       "              mean       median          max          min\n",
       "count  4192.000000  4192.000000  4192.000000  4192.000000\n",
       "mean      5.333127     5.250596     7.823950     3.041269\n",
       "std       1.777533     1.874874     2.168959     1.951565\n",
       "min       1.000000     1.000000     1.000000     1.000000\n",
       "25%       4.250000     4.000000     7.000000     2.000000\n",
       "50%       5.000000     5.000000     8.000000     3.000000\n",
       "75%       6.416667     6.500000     9.000000     4.000000\n",
       "max      12.000000    12.000000    14.000000    12.000000"
      ]
     },
     "execution_count": 24,
     "metadata": {},
     "output_type": "execute_result"
    }
   ],
   "source": [
    "# 平均、中央値、最大値、最小値について把握する\n",
    "customer_join[['mean', 'median', 'max', 'min']].describe()"
   ]
  },
  {
   "cell_type": "code",
   "execution_count": 25,
   "id": "fef949cd",
   "metadata": {
    "execution": {
     "iopub.execute_input": "2024-08-25T14:31:10.713581Z",
     "iopub.status.busy": "2024-08-25T14:31:10.713159Z",
     "iopub.status.idle": "2024-08-25T14:31:10.730300Z",
     "shell.execute_reply": "2024-08-25T14:31:10.729106Z"
    },
    "papermill": {
     "duration": 0.044446,
     "end_time": "2024-08-25T14:31:10.733112",
     "exception": false,
     "start_time": "2024-08-25T14:31:10.688666",
     "status": "completed"
    },
    "tags": []
   },
   "outputs": [
    {
     "data": {
      "text/plain": [
       "routine_flg\n",
       "0     779\n",
       "1    3413\n",
       "Name: customer_id, dtype: int64"
      ]
     },
     "execution_count": 25,
     "metadata": {},
     "output_type": "execute_result"
    }
   ],
   "source": [
    "# routine_flgを集計する\n",
    "customer_join.groupby('routine_flg').count()['customer_id']"
   ]
  },
  {
   "cell_type": "markdown",
   "id": "a811126b",
   "metadata": {
    "papermill": {
     "duration": 0.022703,
     "end_time": "2024-08-25T14:31:10.779317",
     "exception": false,
     "start_time": "2024-08-25T14:31:10.756614",
     "status": "completed"
    },
    "tags": []
   },
   "source": [
    "#### 定期的に利用しているユーザーが多いことがわかる"
   ]
  },
  {
   "cell_type": "code",
   "execution_count": 26,
   "id": "71efc11c",
   "metadata": {
    "execution": {
     "iopub.execute_input": "2024-08-25T14:31:10.826935Z",
     "iopub.status.busy": "2024-08-25T14:31:10.826484Z",
     "iopub.status.idle": "2024-08-25T14:31:11.146303Z",
     "shell.execute_reply": "2024-08-25T14:31:11.144887Z"
    },
    "papermill": {
     "duration": 0.346961,
     "end_time": "2024-08-25T14:31:11.149091",
     "exception": false,
     "start_time": "2024-08-25T14:31:10.802130",
     "status": "completed"
    },
    "tags": []
   },
   "outputs": [
    {
     "data": {
      "text/plain": [
       "(array([857., 774., 395., 368., 311., 331., 323., 237., 288., 308.]),\n",
       " array([ 1. ,  5.6, 10.2, 14.8, 19.4, 24. , 28.6, 33.2, 37.8, 42.4, 47. ]),\n",
       " <BarContainer object of 10 artists>)"
      ]
     },
     "execution_count": 26,
     "metadata": {},
     "output_type": "execute_result"
    },
    {
     "data": {
      "image/png": "[encoded data removed]",
      "text/plain": [
       "<Figure size 640x480 with 1 Axes>"
      ]
     },
     "metadata": {},
     "output_type": "display_data"
    }
   ],
   "source": [
    "# 会員期間の分布を調べる\n",
    "import matplotlib.pyplot as plt\n",
    "%matplotlib inline\n",
    "\n",
    "plt.hist(customer_join['membership_period'])"
   ]
  },
  {
   "cell_type": "markdown",
   "id": "61a57ac6",
   "metadata": {
    "papermill": {
     "duration": 0.022375,
     "end_time": "2024-08-25T14:31:11.194412",
     "exception": false,
     "start_time": "2024-08-25T14:31:11.172037",
     "status": "completed"
    },
    "tags": []
   },
   "source": [
    "#### 退会期間が10ヶ月以下のユーザーが多い <br> → 短期でユーザーが離れていく業界であることを示唆"
   ]
  },
  {
   "cell_type": "markdown",
   "id": "59a000c3",
   "metadata": {
    "papermill": {
     "duration": 0.022673,
     "end_time": "2024-08-25T14:31:11.240100",
     "exception": false,
     "start_time": "2024-08-25T14:31:11.217427",
     "status": "completed"
    },
    "tags": []
   },
   "source": [
    "## ノック30 : 退会ユーザーと継続ユーザーの違いを把握する"
   ]
  },
  {
   "cell_type": "markdown",
   "id": "e3f41d1e",
   "metadata": {
    "papermill": {
     "duration": 0.02353,
     "end_time": "2024-08-25T14:31:11.286308",
     "exception": false,
     "start_time": "2024-08-25T14:31:11.262778",
     "status": "completed"
    },
    "tags": []
   },
   "source": [
    "#### 退会ユーザーの特徴を探してみる"
   ]
  },
  {
   "cell_type": "code",
   "execution_count": 27,
   "id": "7809be65",
   "metadata": {
    "execution": {
     "iopub.execute_input": "2024-08-25T14:31:11.333881Z",
     "iopub.status.busy": "2024-08-25T14:31:11.332732Z",
     "iopub.status.idle": "2024-08-25T14:31:11.384826Z",
     "shell.execute_reply": "2024-08-25T14:31:11.382801Z"
    },
    "papermill": {
     "duration": 0.079172,
     "end_time": "2024-08-25T14:31:11.387983",
     "exception": false,
     "start_time": "2024-08-25T14:31:11.308811",
     "status": "completed"
    },
    "tags": []
   },
   "outputs": [
    {
     "data": {
      "text/html": [
       "<div>\n",
       "<style scoped>\n",
       "    .dataframe tbody tr th:only-of-type {\n",
       "        vertical-align: middle;\n",
       "    }\n",
       "\n",
       "    .dataframe tbody tr th {\n",
       "        vertical-align: top;\n",
       "    }\n",
       "\n",
       "    .dataframe thead th {\n",
       "        text-align: right;\n",
       "    }\n",
       "</style>\n",
       "<table border=\"1\" class=\"dataframe\">\n",
       "  <thead>\n",
       "    <tr style=\"text-align: right;\">\n",
       "      <th></th>\n",
       "      <th>start_date</th>\n",
       "      <th>end_date</th>\n",
       "      <th>is_deleted</th>\n",
       "      <th>price</th>\n",
       "      <th>mean</th>\n",
       "      <th>median</th>\n",
       "      <th>max</th>\n",
       "      <th>min</th>\n",
       "      <th>routine_flg</th>\n",
       "      <th>calc_date</th>\n",
       "      <th>membership_period</th>\n",
       "    </tr>\n",
       "  </thead>\n",
       "  <tbody>\n",
       "    <tr>\n",
       "      <th>count</th>\n",
       "      <td>1350</td>\n",
       "      <td>1350</td>\n",
       "      <td>1350.0</td>\n",
       "      <td>1350.000000</td>\n",
       "      <td>1350.000000</td>\n",
       "      <td>1350.000000</td>\n",
       "      <td>1350.000000</td>\n",
       "      <td>1350.000000</td>\n",
       "      <td>1350.000000</td>\n",
       "      <td>1350</td>\n",
       "      <td>1350.000000</td>\n",
       "    </tr>\n",
       "    <tr>\n",
       "      <th>mean</th>\n",
       "      <td>2018-01-20 10:45:20</td>\n",
       "      <td>2018-10-17 16:23:28</td>\n",
       "      <td>1.0</td>\n",
       "      <td>8595.555556</td>\n",
       "      <td>3.865474</td>\n",
       "      <td>3.621852</td>\n",
       "      <td>6.461481</td>\n",
       "      <td>1.821481</td>\n",
       "      <td>0.456296</td>\n",
       "      <td>2018-10-17 16:23:28</td>\n",
       "      <td>8.026667</td>\n",
       "    </tr>\n",
       "    <tr>\n",
       "      <th>min</th>\n",
       "      <td>2016-05-01 00:00:00</td>\n",
       "      <td>2018-04-30 00:00:00</td>\n",
       "      <td>1.0</td>\n",
       "      <td>6000.000000</td>\n",
       "      <td>1.000000</td>\n",
       "      <td>1.000000</td>\n",
       "      <td>1.000000</td>\n",
       "      <td>1.000000</td>\n",
       "      <td>0.000000</td>\n",
       "      <td>2018-04-30 00:00:00</td>\n",
       "      <td>1.000000</td>\n",
       "    </tr>\n",
       "    <tr>\n",
       "      <th>25%</th>\n",
       "      <td>2017-10-01 00:00:00</td>\n",
       "      <td>2018-06-30 00:00:00</td>\n",
       "      <td>1.0</td>\n",
       "      <td>6000.000000</td>\n",
       "      <td>3.000000</td>\n",
       "      <td>3.000000</td>\n",
       "      <td>4.000000</td>\n",
       "      <td>1.000000</td>\n",
       "      <td>0.000000</td>\n",
       "      <td>2018-06-30 00:00:00</td>\n",
       "      <td>4.000000</td>\n",
       "    </tr>\n",
       "    <tr>\n",
       "      <th>50%</th>\n",
       "      <td>2018-03-01 00:00:00</td>\n",
       "      <td>2018-10-31 00:00:00</td>\n",
       "      <td>1.0</td>\n",
       "      <td>7500.000000</td>\n",
       "      <td>4.000000</td>\n",
       "      <td>4.000000</td>\n",
       "      <td>7.000000</td>\n",
       "      <td>2.000000</td>\n",
       "      <td>0.000000</td>\n",
       "      <td>2018-10-31 00:00:00</td>\n",
       "      <td>7.000000</td>\n",
       "    </tr>\n",
       "    <tr>\n",
       "      <th>75%</th>\n",
       "      <td>2018-06-03 00:00:00</td>\n",
       "      <td>2019-01-31 00:00:00</td>\n",
       "      <td>1.0</td>\n",
       "      <td>10500.000000</td>\n",
       "      <td>4.666667</td>\n",
       "      <td>4.500000</td>\n",
       "      <td>8.000000</td>\n",
       "      <td>2.000000</td>\n",
       "      <td>1.000000</td>\n",
       "      <td>2019-01-31 00:00:00</td>\n",
       "      <td>11.000000</td>\n",
       "    </tr>\n",
       "    <tr>\n",
       "      <th>max</th>\n",
       "      <td>2019-02-11 00:00:00</td>\n",
       "      <td>2019-03-31 00:00:00</td>\n",
       "      <td>1.0</td>\n",
       "      <td>10500.000000</td>\n",
       "      <td>9.000000</td>\n",
       "      <td>9.000000</td>\n",
       "      <td>13.000000</td>\n",
       "      <td>8.000000</td>\n",
       "      <td>1.000000</td>\n",
       "      <td>2019-03-31 00:00:00</td>\n",
       "      <td>23.000000</td>\n",
       "    </tr>\n",
       "    <tr>\n",
       "      <th>std</th>\n",
       "      <td>NaN</td>\n",
       "      <td>NaN</td>\n",
       "      <td>0.0</td>\n",
       "      <td>1949.163652</td>\n",
       "      <td>1.246385</td>\n",
       "      <td>1.270847</td>\n",
       "      <td>2.584021</td>\n",
       "      <td>0.976361</td>\n",
       "      <td>0.498271</td>\n",
       "      <td>NaN</td>\n",
       "      <td>5.033692</td>\n",
       "    </tr>\n",
       "  </tbody>\n",
       "</table>\n",
       "</div>"
      ],
      "text/plain": [
       "                start_date             end_date  is_deleted         price  \\\n",
       "count                 1350                 1350      1350.0   1350.000000   \n",
       "mean   2018-01-20 10:45:20  2018-10-17 16:23:28         1.0   8595.555556   \n",
       "min    2016-05-01 00:00:00  2018-04-30 00:00:00         1.0   6000.000000   \n",
       "25%    2017-10-01 00:00:00  2018-06-30 00:00:00         1.0   6000.000000   \n",
       "50%    2018-03-01 00:00:00  2018-10-31 00:00:00         1.0   7500.000000   \n",
       "75%    2018-06-03 00:00:00  2019-01-31 00:00:00         1.0  10500.000000   \n",
       "max    2019-02-11 00:00:00  2019-03-31 00:00:00         1.0  10500.000000   \n",
       "std                    NaN                  NaN         0.0   1949.163652   \n",
       "\n",
       "              mean       median          max          min  routine_flg  \\\n",
       "count  1350.000000  1350.000000  1350.000000  1350.000000  1350.000000   \n",
       "mean      3.865474     3.621852     6.461481     1.821481     0.456296   \n",
       "min       1.000000     1.000000     1.000000     1.000000     0.000000   \n",
       "25%       3.000000     3.000000     4.000000     1.000000     0.000000   \n",
       "50%       4.000000     4.000000     7.000000     2.000000     0.000000   \n",
       "75%       4.666667     4.500000     8.000000     2.000000     1.000000   \n",
       "max       9.000000     9.000000    13.000000     8.000000     1.000000   \n",
       "std       1.246385     1.270847     2.584021     0.976361     0.498271   \n",
       "\n",
       "                 calc_date  membership_period  \n",
       "count                 1350        1350.000000  \n",
       "mean   2018-10-17 16:23:28           8.026667  \n",
       "min    2018-04-30 00:00:00           1.000000  \n",
       "25%    2018-06-30 00:00:00           4.000000  \n",
       "50%    2018-10-31 00:00:00           7.000000  \n",
       "75%    2019-01-31 00:00:00          11.000000  \n",
       "max    2019-03-31 00:00:00          23.000000  \n",
       "std                    NaN           5.033692  "
      ]
     },
     "execution_count": 27,
     "metadata": {},
     "output_type": "execute_result"
    }
   ],
   "source": [
    "customer_end = customer_join.loc[customer_join['is_deleted'] == 1]\n",
    "customer_end.describe()"
   ]
  },
  {
   "cell_type": "code",
   "execution_count": 28,
   "id": "786c8b43",
   "metadata": {
    "execution": {
     "iopub.execute_input": "2024-08-25T14:31:11.437431Z",
     "iopub.status.busy": "2024-08-25T14:31:11.436966Z",
     "iopub.status.idle": "2024-08-25T14:31:11.486410Z",
     "shell.execute_reply": "2024-08-25T14:31:11.485144Z"
    },
    "papermill": {
     "duration": 0.076892,
     "end_time": "2024-08-25T14:31:11.489054",
     "exception": false,
     "start_time": "2024-08-25T14:31:11.412162",
     "status": "completed"
    },
    "tags": []
   },
   "outputs": [
    {
     "data": {
      "text/html": [
       "<div>\n",
       "<style scoped>\n",
       "    .dataframe tbody tr th:only-of-type {\n",
       "        vertical-align: middle;\n",
       "    }\n",
       "\n",
       "    .dataframe tbody tr th {\n",
       "        vertical-align: top;\n",
       "    }\n",
       "\n",
       "    .dataframe thead th {\n",
       "        text-align: right;\n",
       "    }\n",
       "</style>\n",
       "<table border=\"1\" class=\"dataframe\">\n",
       "  <thead>\n",
       "    <tr style=\"text-align: right;\">\n",
       "      <th></th>\n",
       "      <th>start_date</th>\n",
       "      <th>end_date</th>\n",
       "      <th>is_deleted</th>\n",
       "      <th>price</th>\n",
       "      <th>mean</th>\n",
       "      <th>median</th>\n",
       "      <th>max</th>\n",
       "      <th>min</th>\n",
       "      <th>routine_flg</th>\n",
       "      <th>calc_date</th>\n",
       "      <th>membership_period</th>\n",
       "    </tr>\n",
       "  </thead>\n",
       "  <tbody>\n",
       "    <tr>\n",
       "      <th>count</th>\n",
       "      <td>2842</td>\n",
       "      <td>0</td>\n",
       "      <td>2842.0</td>\n",
       "      <td>2842.000000</td>\n",
       "      <td>2842.000000</td>\n",
       "      <td>2842.000000</td>\n",
       "      <td>2842.000000</td>\n",
       "      <td>2842.000000</td>\n",
       "      <td>2842.000000</td>\n",
       "      <td>2842</td>\n",
       "      <td>2842.000000</td>\n",
       "    </tr>\n",
       "    <tr>\n",
       "      <th>mean</th>\n",
       "      <td>2017-04-03 22:42:28.627726848</td>\n",
       "      <td>NaT</td>\n",
       "      <td>0.0</td>\n",
       "      <td>8542.927516</td>\n",
       "      <td>6.030288</td>\n",
       "      <td>6.024279</td>\n",
       "      <td>8.471147</td>\n",
       "      <td>3.620690</td>\n",
       "      <td>0.984166</td>\n",
       "      <td>2019-04-30 00:00:00</td>\n",
       "      <td>23.970443</td>\n",
       "    </tr>\n",
       "    <tr>\n",
       "      <th>min</th>\n",
       "      <td>2015-05-01 00:00:00</td>\n",
       "      <td>NaT</td>\n",
       "      <td>0.0</td>\n",
       "      <td>6000.000000</td>\n",
       "      <td>3.166667</td>\n",
       "      <td>3.000000</td>\n",
       "      <td>5.000000</td>\n",
       "      <td>1.000000</td>\n",
       "      <td>0.000000</td>\n",
       "      <td>2019-04-30 00:00:00</td>\n",
       "      <td>1.000000</td>\n",
       "    </tr>\n",
       "    <tr>\n",
       "      <th>25%</th>\n",
       "      <td>2016-05-01 00:00:00</td>\n",
       "      <td>NaT</td>\n",
       "      <td>0.0</td>\n",
       "      <td>6000.000000</td>\n",
       "      <td>4.833333</td>\n",
       "      <td>5.000000</td>\n",
       "      <td>7.000000</td>\n",
       "      <td>2.000000</td>\n",
       "      <td>1.000000</td>\n",
       "      <td>2019-04-30 00:00:00</td>\n",
       "      <td>12.000000</td>\n",
       "    </tr>\n",
       "    <tr>\n",
       "      <th>50%</th>\n",
       "      <td>2017-04-01 00:00:00</td>\n",
       "      <td>NaT</td>\n",
       "      <td>0.0</td>\n",
       "      <td>7500.000000</td>\n",
       "      <td>5.583333</td>\n",
       "      <td>5.500000</td>\n",
       "      <td>8.000000</td>\n",
       "      <td>3.000000</td>\n",
       "      <td>1.000000</td>\n",
       "      <td>2019-04-30 00:00:00</td>\n",
       "      <td>24.000000</td>\n",
       "    </tr>\n",
       "    <tr>\n",
       "      <th>75%</th>\n",
       "      <td>2018-04-05 00:00:00</td>\n",
       "      <td>NaT</td>\n",
       "      <td>0.0</td>\n",
       "      <td>10500.000000</td>\n",
       "      <td>7.178030</td>\n",
       "      <td>7.000000</td>\n",
       "      <td>10.000000</td>\n",
       "      <td>5.000000</td>\n",
       "      <td>1.000000</td>\n",
       "      <td>2019-04-30 00:00:00</td>\n",
       "      <td>35.000000</td>\n",
       "    </tr>\n",
       "    <tr>\n",
       "      <th>max</th>\n",
       "      <td>2019-03-15 00:00:00</td>\n",
       "      <td>NaT</td>\n",
       "      <td>0.0</td>\n",
       "      <td>10500.000000</td>\n",
       "      <td>12.000000</td>\n",
       "      <td>12.000000</td>\n",
       "      <td>14.000000</td>\n",
       "      <td>12.000000</td>\n",
       "      <td>1.000000</td>\n",
       "      <td>2019-04-30 00:00:00</td>\n",
       "      <td>47.000000</td>\n",
       "    </tr>\n",
       "    <tr>\n",
       "      <th>std</th>\n",
       "      <td>NaN</td>\n",
       "      <td>NaN</td>\n",
       "      <td>0.0</td>\n",
       "      <td>1977.189779</td>\n",
       "      <td>1.553587</td>\n",
       "      <td>1.599765</td>\n",
       "      <td>1.571048</td>\n",
       "      <td>2.030488</td>\n",
       "      <td>0.124855</td>\n",
       "      <td>NaN</td>\n",
       "      <td>13.746761</td>\n",
       "    </tr>\n",
       "  </tbody>\n",
       "</table>\n",
       "</div>"
      ],
      "text/plain": [
       "                          start_date end_date  is_deleted         price  \\\n",
       "count                           2842        0      2842.0   2842.000000   \n",
       "mean   2017-04-03 22:42:28.627726848      NaT         0.0   8542.927516   \n",
       "min              2015-05-01 00:00:00      NaT         0.0   6000.000000   \n",
       "25%              2016-05-01 00:00:00      NaT         0.0   6000.000000   \n",
       "50%              2017-04-01 00:00:00      NaT         0.0   7500.000000   \n",
       "75%              2018-04-05 00:00:00      NaT         0.0  10500.000000   \n",
       "max              2019-03-15 00:00:00      NaT         0.0  10500.000000   \n",
       "std                              NaN      NaN         0.0   1977.189779   \n",
       "\n",
       "              mean       median          max          min  routine_flg  \\\n",
       "count  2842.000000  2842.000000  2842.000000  2842.000000  2842.000000   \n",
       "mean      6.030288     6.024279     8.471147     3.620690     0.984166   \n",
       "min       3.166667     3.000000     5.000000     1.000000     0.000000   \n",
       "25%       4.833333     5.000000     7.000000     2.000000     1.000000   \n",
       "50%       5.583333     5.500000     8.000000     3.000000     1.000000   \n",
       "75%       7.178030     7.000000    10.000000     5.000000     1.000000   \n",
       "max      12.000000    12.000000    14.000000    12.000000     1.000000   \n",
       "std       1.553587     1.599765     1.571048     2.030488     0.124855   \n",
       "\n",
       "                 calc_date  membership_period  \n",
       "count                 2842        2842.000000  \n",
       "mean   2019-04-30 00:00:00          23.970443  \n",
       "min    2019-04-30 00:00:00           1.000000  \n",
       "25%    2019-04-30 00:00:00          12.000000  \n",
       "50%    2019-04-30 00:00:00          24.000000  \n",
       "75%    2019-04-30 00:00:00          35.000000  \n",
       "max    2019-04-30 00:00:00          47.000000  \n",
       "std                    NaN          13.746761  "
      ]
     },
     "execution_count": 28,
     "metadata": {},
     "output_type": "execute_result"
    }
   ],
   "source": [
    "customer_stay = customer_join.loc[customer_join['is_deleted'] == 0]\n",
    "customer_stay.describe()"
   ]
  },
  {
   "cell_type": "code",
   "execution_count": 29,
   "id": "e672b872",
   "metadata": {
    "execution": {
     "iopub.execute_input": "2024-08-25T14:31:11.539821Z",
     "iopub.status.busy": "2024-08-25T14:31:11.539365Z",
     "iopub.status.idle": "2024-08-25T14:31:11.607683Z",
     "shell.execute_reply": "2024-08-25T14:31:11.606358Z"
    },
    "papermill": {
     "duration": 0.097672,
     "end_time": "2024-08-25T14:31:11.610604",
     "exception": false,
     "start_time": "2024-08-25T14:31:11.512932",
     "status": "completed"
    },
    "tags": []
   },
   "outputs": [],
   "source": [
    "# 頑張って作ったcustomer_joinをcsvにして保存しておく\n",
    "customer_join.to_csv('customer_join.csv', index=False)"
   ]
  },
  {
   "cell_type": "code",
   "execution_count": null,
   "id": "ceafca8c",
   "metadata": {
    "papermill": {
     "duration": 0.023114,
     "end_time": "2024-08-25T14:31:11.657489",
     "exception": false,
     "start_time": "2024-08-25T14:31:11.634375",
     "status": "completed"
    },
    "tags": []
   },
   "outputs": [],
   "source": []
  }
 ],
 "metadata": {
  "kaggle": {
   "accelerator": "none",
   "dataSources": [
    {
     "datasetId": 5591144,
     "sourceId": 9242828,
     "sourceType": "datasetVersion"
    }
   ],
   "dockerImageVersionId": 30761,
   "isGpuEnabled": false,
   "isInternetEnabled": true,
   "language": "python",
   "sourceType": "notebook"
  },
  "kernelspec": {
   "display_name": "Python 3",
   "language": "python",
   "name": "python3"
  },
  "language_info": {
   "codemirror_mode": {
    "name": "ipython",
    "version": 3
   },
   "file_extension": ".py",
   "mimetype": "text/x-python",
   "name": "python",
   "nbconvert_exporter": "python",
   "pygments_lexer": "ipython3",
   "version": "3.10.14"
  },
  "papermill": {
   "default_parameters": {},
   "duration": 12.514635,
   "end_time": "2024-08-25T14:31:12.202722",
   "environment_variables": {},
   "exception": null,
   "input_path": "__notebook__.ipynb",
   "output_path": "__notebook__.ipynb",
   "parameters": {},
   "start_time": "2024-08-25T14:30:59.688087",
   "version": "2.6.0"
  }
 },
 "nbformat": 4,
 "nbformat_minor": 5
}
