{
 "cells": [
  {
   "cell_type": "markdown",
   "id": "07236b22",
   "metadata": {
    "papermill": {
     "duration": 0.015102,
     "end_time": "2024-09-03T13:52:22.071403",
     "exception": false,
     "start_time": "2024-09-03T13:52:22.056301",
     "status": "completed"
    },
    "tags": []
   },
   "source": [
    "Python実践データ分析100本ノック（秀和システム）の勉強記録を載せています。<br>\n",
    "問題の解説、コードを載せています。参考になれば幸いです。<br>\n",
    "わからない点等ございましたらコメントお願いします。¶"
   ]
  },
  {
   "cell_type": "markdown",
   "id": "08dc098a",
   "metadata": {
    "papermill": {
     "duration": 0.014296,
     "end_time": "2024-09-03T13:52:22.100944",
     "exception": false,
     "start_time": "2024-09-03T13:52:22.086648",
     "status": "completed"
    },
    "tags": []
   },
   "source": [
    "* # ノック61 : 輸送最適化問題を解く"
   ]
  },
  {
   "cell_type": "markdown",
   "id": "d55b5147",
   "metadata": {
    "papermill": {
     "duration": 0.014075,
     "end_time": "2024-09-03T13:52:22.130110",
     "exception": false,
     "start_time": "2024-09-03T13:52:22.116035",
     "status": "completed"
    },
    "tags": []
   },
   "source": [
    "* pulpモジュールは最適化モデルの作成を行う。\n",
    "* ortoolpyモジュールは目的関数を生成して解く。"
   ]
  },
  {
   "cell_type": "markdown",
   "id": "77bc203e",
   "metadata": {
    "papermill": {
     "duration": 0.014299,
     "end_time": "2024-09-03T13:52:22.159527",
     "exception": false,
     "start_time": "2024-09-03T13:52:22.145228",
     "status": "completed"
    },
    "tags": []
   },
   "source": [
    "* ## 目的関数の形と制約条件（参考）"
   ]
  },
  {
   "cell_type": "markdown",
   "id": "c85e6a5c",
   "metadata": {
    "papermill": {
     "duration": 0.015044,
     "end_time": "2024-09-03T13:52:22.189036",
     "exception": false,
     "start_time": "2024-09-03T13:52:22.173992",
     "status": "completed"
    },
    "tags": []
   },
   "source": [
    "目的関数$W$は各経路の輸送コストを$c_k$(万円/個)、輸送量を$w_k$(個)として、\n",
    "\n",
    "$$ W = \\sum^k c_k w_k$$\n",
    "\n",
    "ただし、和は全ての経路に対してとる。"
   ]
  },
  {
   "cell_type": "markdown",
   "id": "66203f47",
   "metadata": {
    "papermill": {
     "duration": 0.014095,
     "end_time": "2024-09-03T13:52:22.217944",
     "exception": false,
     "start_time": "2024-09-03T13:52:22.203849",
     "status": "completed"
    },
    "tags": []
   },
   "source": [
    "制約条件は、\n",
    "\n",
    "1. 倉庫の部品の供給量を下回っていること\n",
    "2. 工場の部品の需要量（最低限の必要量）を満たしていること\n",
    "\n",
    "の二つである。"
   ]
  },
  {
   "cell_type": "code",
   "execution_count": 1,
   "id": "0da2f671",
   "metadata": {
    "execution": {
     "iopub.execute_input": "2024-09-03T13:52:22.248998Z",
     "iopub.status.busy": "2024-09-03T13:52:22.248439Z",
     "iopub.status.idle": "2024-09-03T13:52:23.247457Z",
     "shell.execute_reply": "2024-09-03T13:52:23.245507Z"
    },
    "papermill": {
     "duration": 1.017676,
     "end_time": "2024-09-03T13:52:23.249998",
     "exception": true,
     "start_time": "2024-09-03T13:52:22.232322",
     "status": "failed"
    },
    "tags": []
   },
   "outputs": [
    {
     "ename": "ModuleNotFoundError",
     "evalue": "No module named 'ortoolpy'",
     "output_type": "error",
     "traceback": [
      "\u001b[0;31m---------------------------------------------------------------------------\u001b[0m",
      "\u001b[0;31mModuleNotFoundError\u001b[0m                       Traceback (most recent call last)",
      "Cell \u001b[0;32mIn[1], line 7\u001b[0m\n\u001b[1;32m      5\u001b[0m \u001b[38;5;28;01mfrom\u001b[39;00m \u001b[38;5;21;01mitertools\u001b[39;00m \u001b[38;5;28;01mimport\u001b[39;00m product\n\u001b[1;32m      6\u001b[0m \u001b[38;5;28;01mfrom\u001b[39;00m \u001b[38;5;21;01mpulp\u001b[39;00m \u001b[38;5;28;01mimport\u001b[39;00m LpVariable, lpSum, value\n\u001b[0;32m----> 7\u001b[0m \u001b[38;5;28;01mfrom\u001b[39;00m \u001b[38;5;21;01mortoolpy\u001b[39;00m \u001b[38;5;28;01mimport\u001b[39;00m model_min, addvars, addvals\n\u001b[1;32m      9\u001b[0m \u001b[38;5;66;03m# データの読み込み\u001b[39;00m\n\u001b[1;32m     10\u001b[0m df_tc \u001b[38;5;241m=\u001b[39m pd\u001b[38;5;241m.\u001b[39mread_csv(\u001b[38;5;124m'\u001b[39m\u001b[38;5;124m../input/python100knock-logistic/trans_cost.csv\u001b[39m\u001b[38;5;124m'\u001b[39m, index_col\u001b[38;5;241m=\u001b[39m\u001b[38;5;124m'\u001b[39m\u001b[38;5;124m工場\u001b[39m\u001b[38;5;124m'\u001b[39m)\n",
      "\u001b[0;31mModuleNotFoundError\u001b[0m: No module named 'ortoolpy'"
     ]
    }
   ],
   "source": [
    "# kaggleなら二つのモジュールが入っているのでダウンロードする必要はなし\n",
    "import numpy as np\n",
    "import pandas as pd\n",
    "\n",
    "from itertools import product\n",
    "from pulp import LpVariable, lpSum, value\n",
    "from ortoolpy import model_min, addvars, addvals\n",
    "\n",
    "# データの読み込み\n",
    "df_tc = pd.read_csv('../input/python100knock-logistic/trans_cost.csv', index_col='工場')\n",
    "df_demand = pd.read_csv('../input/python100knock-logistic/demand.csv')\n",
    "df_supply = pd.read_csv('../input/python100knock-logistic/supply.csv')\n",
    "\n",
    "# 初期設定\n",
    "np.random.seed(1)\n",
    "nw = len(df_tc.index)\n",
    "nf = len(df_tc.columns)\n",
    "pr = list(product(range(nw), range(nf)))\n",
    "\n",
    "# 数理モデル作成（目的関数の作成）\n",
    "# 目的関数は前ノックと同様に、（一個当たりのコスト） * （輸送量）\n",
    "m1 = model_min()\n",
    "# m1 : 目的関数 、　v1 : 変化しうる値（これを変化させて最適化を行う\n",
    "v1 = {(i,j) : LpVariable('v%d_%d'%(i, j), lowBound=0) for i,j in pr}\n",
    "m1 += lpSum(df_tc.iloc[i, j] * v1[i, j] for i,j in pr)\n",
    "\n",
    "# 制約条件を与える\n",
    "for i in range(nw):\n",
    "    # 供給量に関する制約条件\n",
    "    m1  += lpSum(v1[i, j] for j in range(nf)) <= df_supply.iloc[0, i]\n",
    "for j in range(nf):\n",
    "    # 必要量に関する制約条件\n",
    "    m1 += lpSum(v1[i, j] for i in range(nw)) >= df_demand.iloc[0, j]\n",
    "    \n",
    "\n",
    "m1.solve()\n",
    "\n",
    "# 総輸送コスト計算\n",
    "df_tr_sol = df_tc.copy()\n",
    "total_cost = 0\n",
    "for k,x in v1.items():\n",
    "    i,j = k[0], k[1]\n",
    "    df_tr_sol.iloc[i, j] = value(x)\n",
    "    total_cost += df_tc.iloc[i, j] * value(x)\n",
    "    \n",
    "print(df_tr_sol)\n",
    "print('総輸送コスト : ' + str(total_cost))\n",
    "\n",
    "\n"
   ]
  },
  {
   "cell_type": "markdown",
   "id": "978cae8b",
   "metadata": {
    "papermill": {
     "duration": null,
     "end_time": null,
     "exception": null,
     "start_time": null,
     "status": "pending"
    },
    "tags": []
   },
   "source": [
    "# ノック62 : 最適輸送ルートをネットワークで確認する"
   ]
  },
  {
   "cell_type": "code",
   "execution_count": null,
   "id": "a2b449b3",
   "metadata": {
    "execution": {
     "iopub.execute_input": "2024-09-02T13:42:13.375706Z",
     "iopub.status.busy": "2024-09-02T13:42:13.375347Z",
     "iopub.status.idle": "2024-09-02T13:42:13.579839Z",
     "shell.execute_reply": "2024-09-02T13:42:13.578785Z",
     "shell.execute_reply.started": "2024-09-02T13:42:13.375670Z"
    },
    "papermill": {
     "duration": null,
     "end_time": null,
     "exception": null,
     "start_time": null,
     "status": "pending"
    },
    "tags": []
   },
   "outputs": [],
   "source": [
    "import matplotlib.pyplot as plt\n",
    "import networkx as nx\n",
    "\n",
    "# データ読み込み\n",
    "df_tr = df_tr_sol.copy()\n",
    "df_pos = pd.read_csv('../input/python100knock-logistic/trans_route_pos.csv')\n",
    "\n",
    "# グラフオブジェクトの作成\n",
    "G = nx.Graph()\n",
    "\n",
    "# 頂点の設定\n",
    "for i in range(len(df_pos.columns)):\n",
    "    G.add_node(df_pos.columns[i])\n",
    "    \n",
    "# 辺の設定 & エッジの重みのリスト化\n",
    "num_pre = 0\n",
    "edge_weights = []\n",
    "size = 0.1\n",
    "for i in range(len(df_pos.columns)):\n",
    "    for j in range(len(df_pos.columns)):\n",
    "        if not(i == j):\n",
    "            # 辺の追加\n",
    "            G.add_edge(df_pos.columns[i], df_pos.columns[j])\n",
    "            # エッジの重みの追加\n",
    "            if num_pre < len(G.edges):\n",
    "                num_pre = len(G.edges)\n",
    "                weight = 0\n",
    "                if (df_pos.columns[i] in df_tr.columns)and(df_pos.columns[j] in df_tr.index):\n",
    "                    if df_tr_new[df_pos.columns[i]][df_pos.columns[j]]:\n",
    "                        weight = df_tr[df_pos.columns[i]][df_pos.columns[j]]*size\n",
    "                elif(df_pos.columns[j] in df_tr.columns)and(df_pos.columns[i] in df_tr.index):\n",
    "                    if df_tr[df_pos.columns[j]][df_pos.columns[i]]:\n",
    "                        weight = df_tr[df_pos.columns[j]][df_pos.columns[i]]*size\n",
    "                edge_weights.append(weight)\n",
    "            \n",
    "# 座標の設定\n",
    "\n",
    "pos = {}\n",
    "for i in range(len(df_pos.columns)):\n",
    "    node = df_pos.columns[i]\n",
    "    pos[node] = (df_pos[node][0],df_pos[node][1])\n",
    "    \n",
    "# 描画\n",
    "nx.draw(G, pos, with_labels=True,font_size=16, node_size = 1000, node_color='k', font_color='w', width=edge_weights)\n",
    "\n",
    "# 表示\n",
    "plt.show()\n"
   ]
  },
  {
   "cell_type": "markdown",
   "id": "f3ee5090",
   "metadata": {
    "papermill": {
     "duration": null,
     "end_time": null,
     "exception": null,
     "start_time": null,
     "status": "pending"
    },
    "tags": []
   },
   "source": [
    "ノック57で立てた「輸送ルートはある程度集約するべき」という仮説が正しかったことが視覚的に明らかになった。"
   ]
  },
  {
   "cell_type": "markdown",
   "id": "1a099344",
   "metadata": {
    "papermill": {
     "duration": null,
     "end_time": null,
     "exception": null,
     "start_time": null,
     "status": "pending"
    },
    "tags": []
   },
   "source": [
    "# ノック63 : 最適輸送ルートが制約条件内に収まっているか確認する"
   ]
  },
  {
   "cell_type": "code",
   "execution_count": null,
   "id": "5f0e2ee2",
   "metadata": {
    "execution": {
     "iopub.execute_input": "2024-09-02T13:42:13.581444Z",
     "iopub.status.busy": "2024-09-02T13:42:13.581097Z",
     "iopub.status.idle": "2024-09-02T13:42:13.602152Z",
     "shell.execute_reply": "2024-09-02T13:42:13.601092Z",
     "shell.execute_reply.started": "2024-09-02T13:42:13.581410Z"
    },
    "papermill": {
     "duration": null,
     "end_time": null,
     "exception": null,
     "start_time": null,
     "status": "pending"
    },
    "tags": []
   },
   "outputs": [],
   "source": [
    "df_demand = pd.read_csv('../input/python100knock-logistic/demand.csv')\n",
    "df_supply = pd.read_csv('../input/python100knock-logistic/supply.csv')\n",
    "\n",
    "df_demand.head()"
   ]
  },
  {
   "cell_type": "code",
   "execution_count": null,
   "id": "33a8cdfb",
   "metadata": {
    "execution": {
     "iopub.execute_input": "2024-09-02T13:42:13.604825Z",
     "iopub.status.busy": "2024-09-02T13:42:13.604436Z",
     "iopub.status.idle": "2024-09-02T13:42:13.616069Z",
     "shell.execute_reply": "2024-09-02T13:42:13.614839Z",
     "shell.execute_reply.started": "2024-09-02T13:42:13.604784Z"
    },
    "papermill": {
     "duration": null,
     "end_time": null,
     "exception": null,
     "start_time": null,
     "status": "pending"
    },
    "tags": []
   },
   "outputs": [],
   "source": [
    "# 下のコードの参考のためにdf_trの形を出力\n",
    "df_tr.head()"
   ]
  },
  {
   "cell_type": "code",
   "execution_count": null,
   "id": "e55b5982",
   "metadata": {
    "execution": {
     "iopub.execute_input": "2024-09-02T13:42:13.618239Z",
     "iopub.status.busy": "2024-09-02T13:42:13.617621Z",
     "iopub.status.idle": "2024-09-02T13:42:13.630248Z",
     "shell.execute_reply": "2024-09-02T13:42:13.629093Z",
     "shell.execute_reply.started": "2024-09-02T13:42:13.618188Z"
    },
    "papermill": {
     "duration": null,
     "end_time": null,
     "exception": null,
     "start_time": null,
     "status": "pending"
    },
    "tags": []
   },
   "outputs": [],
   "source": [
    "# 制約条件計算関数\n",
    "# 需要側\n",
    "def condition_demand(df_tr, df_demand):\n",
    "    flag = np.zeros(len(df_demand.columns))\n",
    "    for i in range(len(df_demand.columns)):\n",
    "        # ある工場に輸送されてきた部品の個数を足し上げる（表を縦に足し上げる）\n",
    "        temp_sum = sum(df_tr[df_demand.columns[i]])\n",
    "        # 輸送された部品の個数が需要量を上回っていればフラグ立てる\n",
    "        if (temp_sum >= df_demand.iloc[0, i]):\n",
    "            flag[i] = 1\n",
    "            \n",
    "    return flag\n",
    "# 供給側\n",
    "def condition_supply(df_tr, df_supply):\n",
    "    flag = np.zeros(len(df_supply.columns))\n",
    "    for i in range(len(df_supply.columns)):\n",
    "        # ある倉庫から出荷される部品の個数を足し上げる（表を横に足し上げる）\n",
    "        part_sum_tmp = sum(df_tr.loc[df_supply.columns[i]])\n",
    "        if part_sum_tmp <= df_supply.iloc[0, i]:\n",
    "            flag[i] = 1\n",
    "    return flag\n",
    "\n",
    "print('需要条件計算結果 : ' + str(condition_demand(df_tr_sol, df_demand)))\n",
    "print('供給条件計算結果 : ' + str(condition_supply(df_tr_sol, df_supply)))"
   ]
  },
  {
   "cell_type": "markdown",
   "id": "c8e81b0a",
   "metadata": {
    "papermill": {
     "duration": null,
     "end_time": null,
     "exception": null,
     "start_time": null,
     "status": "pending"
    },
    "tags": []
   },
   "source": [
    "全ての制約条件が満たされていることが確認できた"
   ]
  },
  {
   "cell_type": "markdown",
   "id": "c1e34948",
   "metadata": {
    "papermill": {
     "duration": null,
     "end_time": null,
     "exception": null,
     "start_time": null,
     "status": "pending"
    },
    "tags": []
   },
   "source": [
    "今回の問題は、**線形最適化**と呼ばれる問題。比較的短時間で解ける方（らしい）。"
   ]
  },
  {
   "cell_type": "markdown",
   "id": "9472e905",
   "metadata": {
    "papermill": {
     "duration": null,
     "end_time": null,
     "exception": null,
     "start_time": null,
     "status": "pending"
    },
    "tags": []
   },
   "source": [
    "# ノック64 : 生産計画に関するデータを読み込む"
   ]
  },
  {
   "cell_type": "markdown",
   "id": "e73e9fcf",
   "metadata": {
    "papermill": {
     "duration": null,
     "end_time": null,
     "exception": null,
     "start_time": null,
     "status": "pending"
    },
    "tags": []
   },
   "source": [
    "|No.| ファイル名 | 概要 |\n",
    "| :-- | :-- | :-- |\n",
    "| 1 | product_plan_material.csv | 製品の製造に必要な原料の割合 |\n",
    "| 2 | product_plan_profit.csv | 製品の利益 |\n",
    "| 3 | product_plan_stock.csv | 原料の在庫 |\n",
    "| 4 | product_plan.csv | 製品の生産量 |"
   ]
  },
  {
   "cell_type": "code",
   "execution_count": null,
   "id": "42e171c4",
   "metadata": {
    "execution": {
     "iopub.execute_input": "2024-09-02T14:10:31.256291Z",
     "iopub.status.busy": "2024-09-02T14:10:31.255392Z",
     "iopub.status.idle": "2024-09-02T14:10:31.270821Z",
     "shell.execute_reply": "2024-09-02T14:10:31.269749Z",
     "shell.execute_reply.started": "2024-09-02T14:10:31.256240Z"
    },
    "papermill": {
     "duration": null,
     "end_time": null,
     "exception": null,
     "start_time": null,
     "status": "pending"
    },
    "tags": []
   },
   "outputs": [],
   "source": [
    "# 製品の製造に必要な原料の個数\n",
    "df_material = pd.read_csv('../input/python100knock-product-plan/product_plan_material.csv', index_col ='製品')\n",
    "df_material.head()"
   ]
  },
  {
   "cell_type": "markdown",
   "id": "7cc904a1",
   "metadata": {
    "papermill": {
     "duration": null,
     "end_time": null,
     "exception": null,
     "start_time": null,
     "status": "pending"
    },
    "tags": []
   },
   "source": [
    "どうやら今回は原料1と原料2のみで考えるみたい。<br>\n",
    "原料3も考慮したかったら、下の df_profitの下に原料3の利益を足せば動くはず"
   ]
  },
  {
   "cell_type": "code",
   "execution_count": null,
   "id": "178110f9",
   "metadata": {
    "execution": {
     "iopub.execute_input": "2024-09-02T14:33:10.564480Z",
     "iopub.status.busy": "2024-09-02T14:33:10.564055Z",
     "iopub.status.idle": "2024-09-02T14:33:10.578504Z",
     "shell.execute_reply": "2024-09-02T14:33:10.577339Z",
     "shell.execute_reply.started": "2024-09-02T14:33:10.564439Z"
    },
    "papermill": {
     "duration": null,
     "end_time": null,
     "exception": null,
     "start_time": null,
     "status": "pending"
    },
    "tags": []
   },
   "outputs": [],
   "source": [
    "# 製品ごとの利益（単位 : 万円）\n",
    "df_profit = pd.read_csv('../input/python100knock-product-plan/product_plan_profit.csv', index_col='製品')\n",
    "\n",
    "# 製品3を追加\n",
    "# df_profit.loc['製品3'] = 3.0\n",
    "df_profit.head()\n",
    "\n"
   ]
  },
  {
   "cell_type": "code",
   "execution_count": null,
   "id": "8ed45e6c",
   "metadata": {
    "execution": {
     "iopub.execute_input": "2024-09-02T14:33:12.151850Z",
     "iopub.status.busy": "2024-09-02T14:33:12.150809Z",
     "iopub.status.idle": "2024-09-02T14:33:12.165904Z",
     "shell.execute_reply": "2024-09-02T14:33:12.164585Z",
     "shell.execute_reply.started": "2024-09-02T14:33:12.151797Z"
    },
    "papermill": {
     "duration": null,
     "end_time": null,
     "exception": null,
     "start_time": null,
     "status": "pending"
    },
    "tags": []
   },
   "outputs": [],
   "source": [
    "# 原料の在庫数\n",
    "df_stock = pd.read_csv('../input/python100knock-product-plan/product_plan_stock.csv', index_col='項目')\n",
    "df_stock.head()"
   ]
  },
  {
   "cell_type": "code",
   "execution_count": null,
   "id": "b893228a",
   "metadata": {
    "execution": {
     "iopub.execute_input": "2024-09-02T14:33:13.509221Z",
     "iopub.status.busy": "2024-09-02T14:33:13.508777Z",
     "iopub.status.idle": "2024-09-02T14:33:13.525419Z",
     "shell.execute_reply": "2024-09-02T14:33:13.524128Z",
     "shell.execute_reply.started": "2024-09-02T14:33:13.509181Z"
    },
    "papermill": {
     "duration": null,
     "end_time": null,
     "exception": null,
     "start_time": null,
     "status": "pending"
    },
    "tags": []
   },
   "outputs": [],
   "source": [
    "# （現在の）製品の生産量\n",
    "# ここを最適化することで利益を最大化する\n",
    "df_plan = pd.read_csv('../input/python100knock-product-plan/product_plan.csv', index_col='製品')\n",
    "df_plan.head()"
   ]
  },
  {
   "cell_type": "markdown",
   "id": "38260a98",
   "metadata": {
    "papermill": {
     "duration": null,
     "end_time": null,
     "exception": null,
     "start_time": null,
     "status": "pending"
    },
    "tags": []
   },
   "source": [
    "つまり、現在は製品1のみが生産されている。"
   ]
  },
  {
   "cell_type": "markdown",
   "id": "e92fbcd9",
   "metadata": {
    "papermill": {
     "duration": null,
     "end_time": null,
     "exception": null,
     "start_time": null,
     "status": "pending"
    },
    "tags": []
   },
   "source": [
    "# ノック65 : 利益を計算する関数の作成"
   ]
  },
  {
   "cell_type": "code",
   "execution_count": null,
   "id": "70f2bb0a",
   "metadata": {
    "execution": {
     "iopub.execute_input": "2024-09-02T14:33:16.201054Z",
     "iopub.status.busy": "2024-09-02T14:33:16.200633Z",
     "iopub.status.idle": "2024-09-02T14:33:16.209461Z",
     "shell.execute_reply": "2024-09-02T14:33:16.208049Z",
     "shell.execute_reply.started": "2024-09-02T14:33:16.200999Z"
    },
    "papermill": {
     "duration": null,
     "end_time": null,
     "exception": null,
     "start_time": null,
     "status": "pending"
    },
    "tags": []
   },
   "outputs": [],
   "source": [
    "# 利益計算関数\n",
    "def product_plan(df_profit, df_plan):\n",
    "    profit = 0\n",
    "    for i in range(len(df_profit.index)):\n",
    "        for j in range(len(df_plan.columns)):\n",
    "            # 利益は各製品ごとの利益と製造量の積\n",
    "            profit += df_profit.iloc[i, j] * df_plan.iloc[i, j]\n",
    "    return profit\n",
    "\n",
    "print('総利益 : ' + str(product_plan(df_profit, df_plan)))"
   ]
  },
  {
   "cell_type": "markdown",
   "id": "4529e31c",
   "metadata": {
    "papermill": {
     "duration": null,
     "end_time": null,
     "exception": null,
     "start_time": null,
     "status": "pending"
    },
    "tags": []
   },
   "source": [
    "今回は製品1の製造のみによる結果。次は製品2も増やす。"
   ]
  },
  {
   "cell_type": "markdown",
   "id": "fcbdd0be",
   "metadata": {
    "papermill": {
     "duration": null,
     "end_time": null,
     "exception": null,
     "start_time": null,
     "status": "pending"
    },
    "tags": []
   },
   "source": [
    "# ノック66 : 生産最適化問題を解く"
   ]
  },
  {
   "cell_type": "markdown",
   "id": "66e11e6d",
   "metadata": {
    "papermill": {
     "duration": null,
     "end_time": null,
     "exception": null,
     "start_time": null,
     "status": "pending"
    },
    "tags": []
   },
   "source": [
    "* ###  今回は、先ほど（ノック65）で定式化した目的関数である利益計算関数を最大化することを目的とする。"
   ]
  },
  {
   "cell_type": "code",
   "execution_count": null,
   "id": "8e3e649a",
   "metadata": {
    "execution": {
     "iopub.execute_input": "2024-09-02T14:33:36.506902Z",
     "iopub.status.busy": "2024-09-02T14:33:36.505829Z",
     "iopub.status.idle": "2024-09-02T14:33:36.530657Z",
     "shell.execute_reply": "2024-09-02T14:33:36.529436Z",
     "shell.execute_reply.started": "2024-09-02T14:33:36.506844Z"
    },
    "papermill": {
     "duration": null,
     "end_time": null,
     "exception": null,
     "start_time": null,
     "status": "pending"
    },
    "tags": []
   },
   "outputs": [],
   "source": [
    "from pulp import LpVariable, lpSum, value\n",
    "from ortoolpy import model_max, addvars, addvals\n",
    "\n",
    "df = df_material.copy()\n",
    "inv = df_stock\n",
    "\n",
    "# 数理モデルの定義（目的関数の作成）\n",
    "m = model_max()\n",
    "# v1は製品数と同じ次元数で定義\n",
    "v1 = {(i):LpVariable('v%d'%(i), lowBound=0) for i in range(len(df_profit))}\n",
    "# 「変数v1（製品数）」と「製品ごとの利益の和」で目的関数を定義\n",
    "m += lpSum(df_profit.iloc[i] * v1[i] for i in range(len(df_profit)))\n",
    "\n",
    "# 制約条件の設定\n",
    "# それぞれの原料の使用量が在庫を超えないようにする\n",
    "for i in range(len(df_material.columns)):\n",
    "    m += lpSum(df_material.iloc[j, i] * v1[j] for j in range(len(df_profit))) <= df_stock.iloc[:, i]\n",
    "    \n",
    "# 最適化問題を解く\n",
    "m.solve()\n",
    "\n",
    "df_plan_sol = df_plan.copy()\n",
    "# v1 => [(0, v0), (1, v1)]\n",
    "for k,x in v1.items():\n",
    "    df_plan_sol.iloc[k] = value(x)\n",
    "    \n",
    "\n",
    "print(df_plan_sol)\n",
    "print('総利益 : ' + str(value(m.objective)))"
   ]
  },
  {
   "cell_type": "markdown",
   "id": "0276c2dd",
   "metadata": {
    "papermill": {
     "duration": null,
     "end_time": null,
     "exception": null,
     "start_time": null,
     "status": "pending"
    },
    "tags": []
   },
   "source": [
    "# ノック67 : 最適生産計画が制約条件内に収まっているか確認"
   ]
  },
  {
   "cell_type": "markdown",
   "id": "edee2ae2",
   "metadata": {
    "papermill": {
     "duration": null,
     "end_time": null,
     "exception": null,
     "start_time": null,
     "status": "pending"
    },
    "tags": []
   },
   "source": [
    "#### 最適化計算を行った結果を鵜呑みにしてはいけない。<br>→目的関数と制約条件が現実とかけ離れてしまっている可能性がある。"
   ]
  },
  {
   "cell_type": "markdown",
   "id": "6ccaa7dd",
   "metadata": {
    "papermill": {
     "duration": null,
     "end_time": null,
     "exception": null,
     "start_time": null,
     "status": "pending"
    },
    "tags": []
   },
   "source": [
    "#### 最適化計算を行った結果を「あの手この手で」理解することが重要。<br>今回は「それぞれの原料の使用量」と「在庫を効率よく利用できているか」を確認する。"
   ]
  },
  {
   "cell_type": "code",
   "execution_count": null,
   "id": "28ddca14",
   "metadata": {
    "execution": {
     "iopub.execute_input": "2024-09-02T14:33:40.173138Z",
     "iopub.status.busy": "2024-09-02T14:33:40.172687Z",
     "iopub.status.idle": "2024-09-02T14:33:40.183542Z",
     "shell.execute_reply": "2024-09-02T14:33:40.182347Z",
     "shell.execute_reply.started": "2024-09-02T14:33:40.173096Z"
    },
    "papermill": {
     "duration": null,
     "end_time": null,
     "exception": null,
     "start_time": null,
     "status": "pending"
    },
    "tags": []
   },
   "outputs": [],
   "source": [
    "# 制約条件計算関数\n",
    "def condition_stock(df_plan, df_material, df_stock):\n",
    "    flag = np.zeros(len(df_material.columns))\n",
    "    for i in range(len(df_material.columns)):\n",
    "        temp_sum = 0\n",
    "        for j in range(len(df_material.index)):\n",
    "            # 各原料ごとに使用数を算出する\n",
    "            temp_sum = temp_sum + df_material.iloc[j, i] * float(df_plan.iloc[j])\n",
    "        # 原料の使用数が倉庫の在庫量を下回っていれば1にする（制約条件を満たしている）\n",
    "        if (temp_sum <= float(df_stock.iloc[0, i])):\n",
    "            flag[i] = 1\n",
    "        print(df_material.columns[i] + ' 使用量 : ' + str(temp_sum) + ', 在庫 : ' + str(float(df_stock.iloc[0, i])))\n",
    "    return flag\n",
    "\n",
    "print('制約条件計算結果 : ' + str(condition_stock(df_plan_sol, df_material, df_stock)))"
   ]
  },
  {
   "cell_type": "markdown",
   "id": "b78c134d",
   "metadata": {
    "papermill": {
     "duration": null,
     "end_time": null,
     "exception": null,
     "start_time": null,
     "status": "pending"
    },
    "tags": []
   },
   "source": [
    "原料1だけがちょっと余っているが、他はキチキチに仕えている。よって今回の最適化計画は合理的であると判断できる。"
   ]
  },
  {
   "cell_type": "markdown",
   "id": "c1faa81a",
   "metadata": {
    "execution": {
     "iopub.execute_input": "2024-09-02T14:19:25.469883Z",
     "iopub.status.busy": "2024-09-02T14:19:25.469150Z",
     "iopub.status.idle": "2024-09-02T14:19:25.476767Z",
     "shell.execute_reply": "2024-09-02T14:19:25.475260Z",
     "shell.execute_reply.started": "2024-09-02T14:19:25.469839Z"
    },
    "papermill": {
     "duration": null,
     "end_time": null,
     "exception": null,
     "start_time": null,
     "status": "pending"
    },
    "tags": []
   },
   "source": [
    "コメント<br>\n",
    "まあ今回はたまたま原料3の利益がなくてもキチキチに使えるように設定されている気がする。\n",
    "本当なら原料3の利益を追加して計算し直すべき。"
   ]
  },
  {
   "cell_type": "markdown",
   "id": "08bcf35c",
   "metadata": {
    "papermill": {
     "duration": null,
     "end_time": null,
     "exception": null,
     "start_time": null,
     "status": "pending"
    },
    "tags": []
   },
   "source": [
    "# ノック68 : ロジスティクスネットワーク設計問題を解く"
   ]
  },
  {
   "cell_type": "markdown",
   "id": "46841243",
   "metadata": {
    "papermill": {
     "duration": null,
     "end_time": null,
     "exception": null,
     "start_time": null,
     "status": "pending"
    },
    "tags": []
   },
   "source": [
    "今回は、目的関数として、「輸送コストと製造コストの和」を使用。<br>制約条件として、各焦点での販売数が需要数を上回るようにする。"
   ]
  },
  {
   "cell_type": "code",
   "execution_count": null,
   "id": "dc646f77",
   "metadata": {
    "execution": {
     "iopub.execute_input": "2024-09-02T14:46:19.319679Z",
     "iopub.status.busy": "2024-09-02T14:46:19.318399Z",
     "iopub.status.idle": "2024-09-02T14:46:19.332721Z",
     "shell.execute_reply": "2024-09-02T14:46:19.331569Z",
     "shell.execute_reply.started": "2024-09-02T14:46:19.319628Z"
    },
    "papermill": {
     "duration": null,
     "end_time": null,
     "exception": null,
     "start_time": null,
     "status": "pending"
    },
    "tags": []
   },
   "outputs": [],
   "source": [
    "製品 = list('AB')\n",
    "需要地 = list('PQ')\n",
    "工場 = list('XY')\n",
    "レーン = (2,2)\n",
    "\n",
    "# 輸送費表\n",
    "tbdi = pd.DataFrame(((j,k) for j in 需要地 for k in 工場), columns=['需要地', '工場'])\n",
    "tbdi['輸送費'] = [1,2,3,1]\n",
    "\n",
    "tbdi"
   ]
  },
  {
   "cell_type": "markdown",
   "id": "feac2234",
   "metadata": {
    "papermill": {
     "duration": null,
     "end_time": null,
     "exception": null,
     "start_time": null,
     "status": "pending"
    },
    "tags": []
   },
   "source": [
    "本の冒頭に示されていた図の通りに輸送費を設定。\n"
   ]
  },
  {
   "cell_type": "code",
   "execution_count": null,
   "id": "5dcc7569",
   "metadata": {
    "execution": {
     "iopub.execute_input": "2024-09-02T14:46:13.776640Z",
     "iopub.status.busy": "2024-09-02T14:46:13.776107Z",
     "iopub.status.idle": "2024-09-02T14:46:13.795116Z",
     "shell.execute_reply": "2024-09-02T14:46:13.793831Z",
     "shell.execute_reply.started": "2024-09-02T14:46:13.776590Z"
    },
    "papermill": {
     "duration": null,
     "end_time": null,
     "exception": null,
     "start_time": null,
     "status": "pending"
    },
    "tags": []
   },
   "outputs": [],
   "source": [
    "# 需要表\n",
    "tbde = pd.DataFrame(((j,i) for j in 需要地 for i in 製品), columns=['需要地', '製品'])\n",
    "tbde['需要'] = [10,10,20,20]\n",
    "\n",
    "tbde"
   ]
  },
  {
   "cell_type": "markdown",
   "id": "db38842c",
   "metadata": {
    "papermill": {
     "duration": null,
     "end_time": null,
     "exception": null,
     "start_time": null,
     "status": "pending"
    },
    "tags": []
   },
   "source": [
    "お店P、お店Qごとに製品の需要を設定。"
   ]
  },
  {
   "cell_type": "code",
   "execution_count": null,
   "id": "23b21f6e",
   "metadata": {
    "execution": {
     "iopub.execute_input": "2024-09-02T14:46:04.683588Z",
     "iopub.status.busy": "2024-09-02T14:46:04.683168Z",
     "iopub.status.idle": "2024-09-02T14:46:04.703580Z",
     "shell.execute_reply": "2024-09-02T14:46:04.702380Z",
     "shell.execute_reply.started": "2024-09-02T14:46:04.683550Z"
    },
    "papermill": {
     "duration": null,
     "end_time": null,
     "exception": null,
     "start_time": null,
     "status": "pending"
    },
    "tags": []
   },
   "outputs": [],
   "source": [
    "# 生産表\n",
    "tbfa = pd.DataFrame(((k, l, i, 0, np.inf) for k, nl in zip(工場, レーン) for l in range(nl) for i in 製品),\n",
    "                    columns=['工場', 'レーン', '製品', '下限', '上限'])\n",
    "tbfa['生産費'] = [1, np.nan, np.nan, 1, 3, np.nan, 5, 3]\n",
    "tbfa.dropna(inplace=True)\n",
    "tbfa.loc[4, '上限'] = 10\n",
    "\n",
    "tbfa"
   ]
  },
  {
   "cell_type": "code",
   "execution_count": null,
   "id": "9c7af058",
   "metadata": {
    "execution": {
     "iopub.execute_input": "2024-09-02T14:48:38.733300Z",
     "iopub.status.busy": "2024-09-02T14:48:38.732462Z",
     "iopub.status.idle": "2024-09-02T14:48:38.783357Z",
     "shell.execute_reply": "2024-09-02T14:48:38.782191Z",
     "shell.execute_reply.started": "2024-09-02T14:48:38.733241Z"
    },
    "papermill": {
     "duration": null,
     "end_time": null,
     "exception": null,
     "start_time": null,
     "status": "pending"
    },
    "tags": []
   },
   "outputs": [],
   "source": [
    "from ortoolpy import logistics_network\n",
    "\n",
    "# 輸送ネットワークの最適化を行う\n",
    "_, tbdi2, _ = logistics_network(tbde, tbdi, tbfa)\n",
    "\n",
    "# 最適化後の精算表と最適生産量（ValY）を表示\n",
    "tbfa"
   ]
  },
  {
   "cell_type": "code",
   "execution_count": null,
   "id": "3b940774",
   "metadata": {
    "execution": {
     "iopub.execute_input": "2024-09-02T14:47:34.972317Z",
     "iopub.status.busy": "2024-09-02T14:47:34.970937Z",
     "iopub.status.idle": "2024-09-02T14:47:34.986267Z",
     "shell.execute_reply": "2024-09-02T14:47:34.985111Z",
     "shell.execute_reply.started": "2024-09-02T14:47:34.972262Z"
    },
    "papermill": {
     "duration": null,
     "end_time": null,
     "exception": null,
     "start_time": null,
     "status": "pending"
    },
    "tags": []
   },
   "outputs": [],
   "source": [
    "# 最適化後の輸送費表と最適輸送量（ValX）を表示\n",
    "tbdi2"
   ]
  },
  {
   "cell_type": "markdown",
   "id": "7f05a9d2",
   "metadata": {
    "papermill": {
     "duration": null,
     "end_time": null,
     "exception": null,
     "start_time": null,
     "status": "pending"
    },
    "tags": []
   },
   "source": [
    "logistics_networkモジュールがどうやら目的関数の設定から制限の設定まで全部やってくれているみたい。表を渡すだけで最適化が終わっている。"
   ]
  },
  {
   "cell_type": "markdown",
   "id": "09468c68",
   "metadata": {
    "papermill": {
     "duration": null,
     "end_time": null,
     "exception": null,
     "start_time": null,
     "status": "pending"
    },
    "tags": []
   },
   "source": [
    "# ノック69 : 最適ネットワークにおける輸送コストとその内訳の計算"
   ]
  },
  {
   "cell_type": "code",
   "execution_count": null,
   "id": "ea6e178b",
   "metadata": {
    "execution": {
     "iopub.execute_input": "2024-09-02T14:51:05.490086Z",
     "iopub.status.busy": "2024-09-02T14:51:05.489644Z",
     "iopub.status.idle": "2024-09-02T14:51:05.497081Z",
     "shell.execute_reply": "2024-09-02T14:51:05.495848Z",
     "shell.execute_reply.started": "2024-09-02T14:51:05.490015Z"
    },
    "papermill": {
     "duration": null,
     "end_time": null,
     "exception": null,
     "start_time": null,
     "status": "pending"
    },
    "tags": []
   },
   "outputs": [],
   "source": [
    "trans_cost = 0\n",
    "for i in range(len(tbdi2.index)):\n",
    "    trans_cost += tbdi2['輸送費'].iloc[i] * tbdi2['ValX'].iloc[i]\n",
    "\n",
    "print('総輸送コスト : ' + str(trans_cost))"
   ]
  },
  {
   "cell_type": "markdown",
   "id": "269eb274",
   "metadata": {
    "papermill": {
     "duration": null,
     "end_time": null,
     "exception": null,
     "start_time": null,
     "status": "pending"
    },
    "tags": []
   },
   "source": [
    "（本によると）概ね妥当なコストとなっているらしい"
   ]
  },
  {
   "cell_type": "markdown",
   "id": "de3adf8b",
   "metadata": {
    "papermill": {
     "duration": null,
     "end_time": null,
     "exception": null,
     "start_time": null,
     "status": "pending"
    },
    "tags": []
   },
   "source": [
    "# ノック70 : 最適ネットワークにおける生産コストとその内訳の計算"
   ]
  },
  {
   "cell_type": "code",
   "execution_count": null,
   "id": "c132089e",
   "metadata": {
    "execution": {
     "iopub.execute_input": "2024-09-02T14:52:58.535103Z",
     "iopub.status.busy": "2024-09-02T14:52:58.534664Z",
     "iopub.status.idle": "2024-09-02T14:52:58.542083Z",
     "shell.execute_reply": "2024-09-02T14:52:58.540834Z",
     "shell.execute_reply.started": "2024-09-02T14:52:58.535053Z"
    },
    "papermill": {
     "duration": null,
     "end_time": null,
     "exception": null,
     "start_time": null,
     "status": "pending"
    },
    "tags": []
   },
   "outputs": [],
   "source": [
    "product_cost = 0\n",
    "for i in range(len(tbfa.index)):\n",
    "    product_cost += tbfa['生産費'].iloc[i] * tbfa['ValY'].iloc[i]\n",
    "\n",
    "print('総生産コスト : ' + str(product_cost))"
   ]
  },
  {
   "cell_type": "markdown",
   "id": "6495bf29",
   "metadata": {
    "papermill": {
     "duration": null,
     "end_time": null,
     "exception": null,
     "start_time": null,
     "status": "pending"
    },
    "tags": []
   },
   "source": [
    "概ね妥当らしい"
   ]
  },
  {
   "cell_type": "markdown",
   "id": "1502f1b1",
   "metadata": {
    "papermill": {
     "duration": null,
     "end_time": null,
     "exception": null,
     "start_time": null,
     "status": "pending"
    },
    "tags": []
   },
   "source": [
    "## 6章と7章全体（ロジスティックネットワークの最適化）を通してのコメント"
   ]
  },
  {
   "cell_type": "markdown",
   "id": "8ef0ca8e",
   "metadata": {
    "papermill": {
     "duration": null,
     "end_time": null,
     "exception": null,
     "start_time": null,
     "status": "pending"
    },
    "tags": []
   },
   "source": [
    "### 正直こんなに簡単に終わる話ではないと思う。目的関数を、制約条件に従って最小化（最大化）するのがネットワークの最適化ということはわかった。<br>ただ、後半のネットワークの最適化は説明不足もあり（中のアルゴリズムの理解不足で）狐につままれるような気分になった。詳細をQiitaにまとめても良いかもしれない。"
   ]
  },
  {
   "cell_type": "markdown",
   "id": "71b1e5e4",
   "metadata": {
    "papermill": {
     "duration": null,
     "end_time": null,
     "exception": null,
     "start_time": null,
     "status": "pending"
    },
    "tags": []
   },
   "source": [
    "### 追記<br>\n",
    "どうやらortoolpyモジュールは作者独自作製のモジュールでブラックボックスな部分が多いらしい。下記のURLの記事が非常に参考になったので載せておく。[「Python実践データ分析100本ノック」実践編②最適化問題をortoolpyを用いずに解く](https://zenn.dev/pipipiz/articles/90323416c2caba)"
   ]
  },
  {
   "cell_type": "code",
   "execution_count": null,
   "id": "a61ecd72",
   "metadata": {
    "papermill": {
     "duration": null,
     "end_time": null,
     "exception": null,
     "start_time": null,
     "status": "pending"
    },
    "tags": []
   },
   "outputs": [],
   "source": []
  }
 ],
 "metadata": {
  "kaggle": {
   "accelerator": "none",
   "dataSources": [
    {
     "datasetId": 5616645,
     "sourceId": 9279786,
     "sourceType": "datasetVersion"
    },
    {
     "datasetId": 5632184,
     "sourceId": 9301706,
     "sourceType": "datasetVersion"
    }
   ],
   "dockerImageVersionId": 30761,
   "isGpuEnabled": false,
   "isInternetEnabled": true,
   "language": "python",
   "sourceType": "notebook"
  },
  "kernelspec": {
   "display_name": "Python 3",
   "language": "python",
   "name": "python3"
  },
  "language_info": {
   "codemirror_mode": {
    "name": "ipython",
    "version": 3
   },
   "file_extension": ".py",
   "mimetype": "text/x-python",
   "name": "python",
   "nbconvert_exporter": "python",
   "pygments_lexer": "ipython3",
   "version": "3.10.14"
  },
  "papermill": {
   "default_parameters": {},
   "duration": 5.233693,
   "end_time": "2024-09-03T13:52:24.091973",
   "environment_variables": {},
   "exception": true,
   "input_path": "__notebook__.ipynb",
   "output_path": "__notebook__.ipynb",
   "parameters": {},
   "start_time": "2024-09-03T13:52:18.858280",
   "version": "2.6.0"
  }
 },
 "nbformat": 4,
 "nbformat_minor": 5
}
