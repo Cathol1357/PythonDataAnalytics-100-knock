{
 "cells": [
  {
   "cell_type": "markdown",
   "id": "0e60de3c",
   "metadata": {
    "papermill": {
     "duration": 0.011996,
     "end_time": "2024-09-03T15:40:25.163825",
     "exception": false,
     "start_time": "2024-09-03T15:40:25.151829",
     "status": "completed"
    },
    "tags": []
   },
   "source": [
    "Python実践データ分析100本ノック（秀和システム）の勉強記録を載せています。<br>\n",
    "問題の解説、コードを載せています。参考になれば幸いです。<br>\n",
    "わからない点等ございましたらコメントお願いします。¶"
   ]
  },
  {
   "cell_type": "code",
   "execution_count": null,
   "id": "198e0a86",
   "metadata": {
    "papermill": {
     "duration": 0.010692,
     "end_time": "2024-09-03T15:40:25.185783",
     "exception": false,
     "start_time": "2024-09-03T15:40:25.175091",
     "status": "completed"
    },
    "tags": []
   },
   "outputs": [],
   "source": []
  },
  {
   "cell_type": "markdown",
   "id": "3ec69e08",
   "metadata": {
    "papermill": {
     "duration": 0.011102,
     "end_time": "2024-09-03T15:40:25.208120",
     "exception": false,
     "start_time": "2024-09-03T15:40:25.197018",
     "status": "completed"
    },
    "tags": []
   },
   "source": [
    "# 第8章 数値シミュレーションで消費者行動を予測する10本ノック"
   ]
  },
  {
   "cell_type": "markdown",
   "id": "6860d870",
   "metadata": {
    "papermill": {
     "duration": 0.010628,
     "end_time": "2024-09-03T15:40:25.229646",
     "exception": false,
     "start_time": "2024-09-03T15:40:25.219018",
     "status": "completed"
    },
    "tags": []
   },
   "source": [
    "会社の商品の売れ行きの予測を行う。<br>\n",
    "どうやらこの商品はSNSによる口コミで広がっているらしい。<br>\n",
    "SNSの繋がりから売れ行きの予測はできないか？"
   ]
  },
  {
   "cell_type": "markdown",
   "id": "c1072cbe",
   "metadata": {
    "papermill": {
     "duration": 0.010536,
     "end_time": "2024-09-03T15:40:25.251004",
     "exception": false,
     "start_time": "2024-09-03T15:40:25.240468",
     "status": "completed"
    },
    "tags": []
   },
   "source": [
    "* ### データ一覧"
   ]
  },
  {
   "cell_type": "markdown",
   "id": "d9e5a0bb",
   "metadata": {
    "papermill": {
     "duration": 0.0106,
     "end_time": "2024-09-03T15:40:25.272723",
     "exception": false,
     "start_time": "2024-09-03T15:40:25.262123",
     "status": "completed"
    },
    "tags": []
   },
   "source": [
    "| No. | ファイル名 | 概要 |\n",
    "| :-- | :-- | :-- |\n",
    "| 1 | links.csv | リピーター20人のSNSでのつながり |\n",
    "| 2 | links_members.csv | リピーター540人のSNSでのつながり | \n",
    "| 3 | info_members.csv | リピーター540人の月々の利用状況 |"
   ]
  },
  {
   "cell_type": "markdown",
   "id": "78ea32f3",
   "metadata": {
    "papermill": {
     "duration": 0.010592,
     "end_time": "2024-09-03T15:40:25.294192",
     "exception": false,
     "start_time": "2024-09-03T15:40:25.283600",
     "status": "completed"
    },
    "tags": []
   },
   "source": [
    "# ノック71 : 人間関係のネットワークを可視化する"
   ]
  },
  {
   "cell_type": "code",
   "execution_count": 1,
   "id": "79504597",
   "metadata": {
    "execution": {
     "iopub.execute_input": "2024-09-03T15:40:25.317647Z",
     "iopub.status.busy": "2024-09-03T15:40:25.317198Z",
     "iopub.status.idle": "2024-09-03T15:40:25.740626Z",
     "shell.execute_reply": "2024-09-03T15:40:25.739565Z"
    },
    "papermill": {
     "duration": 0.437889,
     "end_time": "2024-09-03T15:40:25.743013",
     "exception": false,
     "start_time": "2024-09-03T15:40:25.305124",
     "status": "completed"
    },
    "tags": []
   },
   "outputs": [
    {
     "data": {
      "text/html": [
       "<div>\n",
       "<style scoped>\n",
       "    .dataframe tbody tr th:only-of-type {\n",
       "        vertical-align: middle;\n",
       "    }\n",
       "\n",
       "    .dataframe tbody tr th {\n",
       "        vertical-align: top;\n",
       "    }\n",
       "\n",
       "    .dataframe thead th {\n",
       "        text-align: right;\n",
       "    }\n",
       "</style>\n",
       "<table border=\"1\" class=\"dataframe\">\n",
       "  <thead>\n",
       "    <tr style=\"text-align: right;\">\n",
       "      <th></th>\n",
       "      <th>Node0</th>\n",
       "      <th>Node1</th>\n",
       "      <th>Node2</th>\n",
       "      <th>Node3</th>\n",
       "      <th>Node4</th>\n",
       "      <th>Node5</th>\n",
       "      <th>Node6</th>\n",
       "      <th>Node7</th>\n",
       "      <th>Node8</th>\n",
       "      <th>Node9</th>\n",
       "      <th>Node10</th>\n",
       "      <th>Node11</th>\n",
       "      <th>Node12</th>\n",
       "      <th>Node13</th>\n",
       "      <th>Node14</th>\n",
       "      <th>Node15</th>\n",
       "      <th>Node16</th>\n",
       "      <th>Node17</th>\n",
       "      <th>Node18</th>\n",
       "      <th>Node19</th>\n",
       "    </tr>\n",
       "    <tr>\n",
       "      <th>Node</th>\n",
       "      <th></th>\n",
       "      <th></th>\n",
       "      <th></th>\n",
       "      <th></th>\n",
       "      <th></th>\n",
       "      <th></th>\n",
       "      <th></th>\n",
       "      <th></th>\n",
       "      <th></th>\n",
       "      <th></th>\n",
       "      <th></th>\n",
       "      <th></th>\n",
       "      <th></th>\n",
       "      <th></th>\n",
       "      <th></th>\n",
       "      <th></th>\n",
       "      <th></th>\n",
       "      <th></th>\n",
       "      <th></th>\n",
       "      <th></th>\n",
       "    </tr>\n",
       "  </thead>\n",
       "  <tbody>\n",
       "    <tr>\n",
       "      <th>Node0</th>\n",
       "      <td>0</td>\n",
       "      <td>0</td>\n",
       "      <td>0</td>\n",
       "      <td>0</td>\n",
       "      <td>0</td>\n",
       "      <td>1</td>\n",
       "      <td>0</td>\n",
       "      <td>0</td>\n",
       "      <td>0</td>\n",
       "      <td>0</td>\n",
       "      <td>0</td>\n",
       "      <td>0</td>\n",
       "      <td>0</td>\n",
       "      <td>0</td>\n",
       "      <td>0</td>\n",
       "      <td>1</td>\n",
       "      <td>0</td>\n",
       "      <td>0</td>\n",
       "      <td>0</td>\n",
       "      <td>0</td>\n",
       "    </tr>\n",
       "    <tr>\n",
       "      <th>Node1</th>\n",
       "      <td>0</td>\n",
       "      <td>0</td>\n",
       "      <td>0</td>\n",
       "      <td>0</td>\n",
       "      <td>0</td>\n",
       "      <td>1</td>\n",
       "      <td>0</td>\n",
       "      <td>0</td>\n",
       "      <td>0</td>\n",
       "      <td>0</td>\n",
       "      <td>0</td>\n",
       "      <td>1</td>\n",
       "      <td>0</td>\n",
       "      <td>1</td>\n",
       "      <td>0</td>\n",
       "      <td>0</td>\n",
       "      <td>1</td>\n",
       "      <td>0</td>\n",
       "      <td>0</td>\n",
       "      <td>0</td>\n",
       "    </tr>\n",
       "    <tr>\n",
       "      <th>Node2</th>\n",
       "      <td>0</td>\n",
       "      <td>0</td>\n",
       "      <td>0</td>\n",
       "      <td>0</td>\n",
       "      <td>1</td>\n",
       "      <td>1</td>\n",
       "      <td>1</td>\n",
       "      <td>0</td>\n",
       "      <td>0</td>\n",
       "      <td>0</td>\n",
       "      <td>1</td>\n",
       "      <td>0</td>\n",
       "      <td>0</td>\n",
       "      <td>0</td>\n",
       "      <td>0</td>\n",
       "      <td>0</td>\n",
       "      <td>0</td>\n",
       "      <td>0</td>\n",
       "      <td>0</td>\n",
       "      <td>0</td>\n",
       "    </tr>\n",
       "    <tr>\n",
       "      <th>Node3</th>\n",
       "      <td>0</td>\n",
       "      <td>0</td>\n",
       "      <td>0</td>\n",
       "      <td>0</td>\n",
       "      <td>0</td>\n",
       "      <td>0</td>\n",
       "      <td>0</td>\n",
       "      <td>1</td>\n",
       "      <td>0</td>\n",
       "      <td>0</td>\n",
       "      <td>0</td>\n",
       "      <td>0</td>\n",
       "      <td>0</td>\n",
       "      <td>0</td>\n",
       "      <td>0</td>\n",
       "      <td>1</td>\n",
       "      <td>0</td>\n",
       "      <td>0</td>\n",
       "      <td>0</td>\n",
       "      <td>0</td>\n",
       "    </tr>\n",
       "    <tr>\n",
       "      <th>Node4</th>\n",
       "      <td>0</td>\n",
       "      <td>0</td>\n",
       "      <td>1</td>\n",
       "      <td>0</td>\n",
       "      <td>0</td>\n",
       "      <td>0</td>\n",
       "      <td>0</td>\n",
       "      <td>1</td>\n",
       "      <td>1</td>\n",
       "      <td>0</td>\n",
       "      <td>1</td>\n",
       "      <td>0</td>\n",
       "      <td>0</td>\n",
       "      <td>0</td>\n",
       "      <td>0</td>\n",
       "      <td>1</td>\n",
       "      <td>0</td>\n",
       "      <td>0</td>\n",
       "      <td>0</td>\n",
       "      <td>0</td>\n",
       "    </tr>\n",
       "  </tbody>\n",
       "</table>\n",
       "</div>"
      ],
      "text/plain": [
       "       Node0  Node1  Node2  Node3  Node4  Node5  Node6  Node7  Node8  Node9  \\\n",
       "Node                                                                          \n",
       "Node0      0      0      0      0      0      1      0      0      0      0   \n",
       "Node1      0      0      0      0      0      1      0      0      0      0   \n",
       "Node2      0      0      0      0      1      1      1      0      0      0   \n",
       "Node3      0      0      0      0      0      0      0      1      0      0   \n",
       "Node4      0      0      1      0      0      0      0      1      1      0   \n",
       "\n",
       "       Node10  Node11  Node12  Node13  Node14  Node15  Node16  Node17  Node18  \\\n",
       "Node                                                                            \n",
       "Node0       0       0       0       0       0       1       0       0       0   \n",
       "Node1       0       1       0       1       0       0       1       0       0   \n",
       "Node2       1       0       0       0       0       0       0       0       0   \n",
       "Node3       0       0       0       0       0       1       0       0       0   \n",
       "Node4       1       0       0       0       0       1       0       0       0   \n",
       "\n",
       "       Node19  \n",
       "Node           \n",
       "Node0       0  \n",
       "Node1       0  \n",
       "Node2       0  \n",
       "Node3       0  \n",
       "Node4       0  "
      ]
     },
     "execution_count": 1,
     "metadata": {},
     "output_type": "execute_result"
    }
   ],
   "source": [
    "import pandas as pd\n",
    "\n",
    "df_links = pd.read_csv('../input/customer-connection/links.csv', index_col='Node')\n",
    "df_links.head()"
   ]
  },
  {
   "cell_type": "markdown",
   "id": "c158da76",
   "metadata": {
    "papermill": {
     "duration": 0.011188,
     "end_time": "2024-09-03T15:40:25.766595",
     "exception": false,
     "start_time": "2024-09-03T15:40:25.755407",
     "status": "completed"
    },
    "tags": []
   },
   "source": [
    "繋がっていれば1、繋がっていなければ０として表現している。networkxを用いて可視化してみる。"
   ]
  },
  {
   "cell_type": "code",
   "execution_count": 2,
   "id": "09a7fd5a",
   "metadata": {
    "execution": {
     "iopub.execute_input": "2024-09-03T15:40:25.790790Z",
     "iopub.status.busy": "2024-09-03T15:40:25.790384Z",
     "iopub.status.idle": "2024-09-03T15:40:26.984169Z",
     "shell.execute_reply": "2024-09-03T15:40:26.983167Z"
    },
    "papermill": {
     "duration": 1.2091,
     "end_time": "2024-09-03T15:40:26.986860",
     "exception": false,
     "start_time": "2024-09-03T15:40:25.777760",
     "status": "completed"
    },
    "tags": []
   },
   "outputs": [
    {
     "data": {
      "image/png": "[encoded data removed]",
      "text/plain": [
       "<Figure size 640x480 with 1 Axes>"
      ]
     },
     "metadata": {},
     "output_type": "display_data"
    }
   ],
   "source": [
    "import networkx as nx\n",
    "import matplotlib.pyplot as plt\n",
    "\n",
    "# グラフオブジェクトの作成\n",
    "G = nx.Graph()\n",
    "\n",
    "# 頂点の設定\n",
    "NUM = len(df_links.index)\n",
    "for i in range(NUM):\n",
    "    # 列名「Node（数字）」から文字列Nodeを取り去る\n",
    "    node_no = df_links.columns[i].strip('Node')\n",
    "    # 数字だけ取り出してノードとして追加\n",
    "    G.add_node(str(node_no))\n",
    "    \n",
    "# 辺の設定\n",
    "for i in range(NUM):\n",
    "    for j in range(NUM):\n",
    "        node_name = 'Node' + str(j)\n",
    "        if df_links[node_name].iloc[i] == 1:\n",
    "            G.add_edge(str(i), str(j))\n",
    "\n",
    "# 描画\n",
    "nx.draw_networkx(G, node_color='k', edge_color='k', font_color='w')\n",
    "plt.show()"
   ]
  },
  {
   "cell_type": "markdown",
   "id": "53d2de63",
   "metadata": {
    "papermill": {
     "duration": 0.011916,
     "end_time": "2024-09-03T15:40:27.011011",
     "exception": false,
     "start_time": "2024-09-03T15:40:26.999095",
     "status": "completed"
    },
    "tags": []
   },
   "source": [
    "# ノック72 : 口コミによる情報伝播の様子を可視化してみる"
   ]
  },
  {
   "cell_type": "markdown",
   "id": "89d444c7",
   "metadata": {
    "papermill": {
     "duration": 0.011862,
     "end_time": "2024-09-03T15:40:27.035607",
     "exception": false,
     "start_time": "2024-09-03T15:40:27.023745",
     "status": "completed"
    },
    "tags": []
   },
   "source": [
    "### ノック71で読み込んだネットワーク構造を使用する。「１０のつながりのうち、1つの確率（10%）で口コミが伝播していく」と仮定する。"
   ]
  },
  {
   "cell_type": "code",
   "execution_count": 3,
   "id": "33cf2cb0",
   "metadata": {
    "execution": {
     "iopub.execute_input": "2024-09-03T15:40:27.062317Z",
     "iopub.status.busy": "2024-09-03T15:40:27.061361Z",
     "iopub.status.idle": "2024-09-03T15:40:27.067092Z",
     "shell.execute_reply": "2024-09-03T15:40:27.066080Z"
    },
    "papermill": {
     "duration": 0.021442,
     "end_time": "2024-09-03T15:40:27.069318",
     "exception": false,
     "start_time": "2024-09-03T15:40:27.047876",
     "status": "completed"
    },
    "tags": []
   },
   "outputs": [],
   "source": [
    "import numpy as np\n",
    "\n",
    "# 確率的に口コミを伝播させるか決定する\n",
    "# percent : 伝播確率\n",
    "def determine_link(percent):\n",
    "    rand_val = np.random.rand()\n",
    "    if rand_val <= percent:\n",
    "        return 1\n",
    "    else:\n",
    "        return 0"
   ]
  },
  {
   "cell_type": "code",
   "execution_count": 4,
   "id": "1a4542ed",
   "metadata": {
    "execution": {
     "iopub.execute_input": "2024-09-03T15:40:27.095418Z",
     "iopub.status.busy": "2024-09-03T15:40:27.094980Z",
     "iopub.status.idle": "2024-09-03T15:40:27.101285Z",
     "shell.execute_reply": "2024-09-03T15:40:27.100272Z"
    },
    "papermill": {
     "duration": 0.022199,
     "end_time": "2024-09-03T15:40:27.103664",
     "exception": false,
     "start_time": "2024-09-03T15:40:27.081465",
     "status": "completed"
    },
    "tags": []
   },
   "outputs": [],
   "source": [
    "# 口コミをシミュレーションする\n",
    "# num : 人数、 list_active : それぞれのノードに口コミが伝わったか表すリスト\n",
    "# percent_percolation : 口コミの起こる確率\n",
    "\n",
    "def simulate_percolation(num, list_active, percent_percolation):\n",
    "    for i in range(num):\n",
    "        if list_active[i]==1:\n",
    "            for j in range(num):\n",
    "                node_name = \"Node\" + str(j)\n",
    "                if df_links[node_name].iloc[i]==1:\n",
    "                    if determine_link(percent_percolation)==1:\n",
    "                        list_active[j] = 1\n",
    "    return list_active"
   ]
  },
  {
   "cell_type": "code",
   "execution_count": 5,
   "id": "132a0a9f",
   "metadata": {
    "execution": {
     "iopub.execute_input": "2024-09-03T15:40:27.129445Z",
     "iopub.status.busy": "2024-09-03T15:40:27.129036Z",
     "iopub.status.idle": "2024-09-03T15:40:27.205014Z",
     "shell.execute_reply": "2024-09-03T15:40:27.203915Z"
    },
    "papermill": {
     "duration": 0.091683,
     "end_time": "2024-09-03T15:40:27.207512",
     "exception": false,
     "start_time": "2024-09-03T15:40:27.115829",
     "status": "completed"
    },
    "tags": []
   },
   "outputs": [],
   "source": [
    "percent_percolation = 0.1\n",
    "# 36ステップ繰り返す。今回は一ヶ月に一回伝播が起こるとして、36ヶ月ととらえる。\n",
    "T_NUM = 36\n",
    "NUM = len(df_links.index)\n",
    "list_active = np.zeros(NUM)\n",
    "# 最初に口コミを伝播する人\n",
    "list_active[0] = 1\n",
    "\n",
    "list_timeSeries = []\n",
    "for t in range(T_NUM):\n",
    "    list_active = simulate_percolation(NUM, list_active, percent_percolation)\n",
    "    list_timeSeries.append(list_active.copy())"
   ]
  },
  {
   "cell_type": "code",
   "execution_count": 6,
   "id": "ecf529f0",
   "metadata": {
    "execution": {
     "iopub.execute_input": "2024-09-03T15:40:27.234030Z",
     "iopub.status.busy": "2024-09-03T15:40:27.233123Z",
     "iopub.status.idle": "2024-09-03T15:40:27.238719Z",
     "shell.execute_reply": "2024-09-03T15:40:27.237751Z"
    },
    "papermill": {
     "duration": 0.021184,
     "end_time": "2024-09-03T15:40:27.240880",
     "exception": false,
     "start_time": "2024-09-03T15:40:27.219696",
     "status": "completed"
    },
    "tags": []
   },
   "outputs": [],
   "source": [
    "# アクティブノード可視化\n",
    "def active_node_coloring(list_active):\n",
    "    # print(list_timeSeries[t])\n",
    "    list_color = []\n",
    "    for i in range(len(list_timeSeries[t])):\n",
    "        if list_timeSeries[t][i] == 1:\n",
    "            list_color.append('r')\n",
    "        else:\n",
    "            list_color.append('k')\n",
    "    # print(len(list_color))\n",
    "    return list_color"
   ]
  },
  {
   "cell_type": "code",
   "execution_count": 7,
   "id": "395ef9b0",
   "metadata": {
    "execution": {
     "iopub.execute_input": "2024-09-03T15:40:27.266991Z",
     "iopub.status.busy": "2024-09-03T15:40:27.266357Z",
     "iopub.status.idle": "2024-09-03T15:40:27.523373Z",
     "shell.execute_reply": "2024-09-03T15:40:27.522304Z"
    },
    "papermill": {
     "duration": 0.273193,
     "end_time": "2024-09-03T15:40:27.526137",
     "exception": false,
     "start_time": "2024-09-03T15:40:27.252944",
     "status": "completed"
    },
    "tags": []
   },
   "outputs": [
    {
     "data": {
      "image/png": "[encoded data removed]",
      "text/plain": [
       "<Figure size 640x480 with 1 Axes>"
      ]
     },
     "metadata": {},
     "output_type": "display_data"
    }
   ],
   "source": [
    "t = 0\n",
    "nx.draw_networkx(G, font_color='w', node_color=active_node_coloring(list_timeSeries[t]))\n",
    "plt.show()"
   ]
  },
  {
   "cell_type": "code",
   "execution_count": 8,
   "id": "a733ff6f",
   "metadata": {
    "execution": {
     "iopub.execute_input": "2024-09-03T15:40:27.553892Z",
     "iopub.status.busy": "2024-09-03T15:40:27.553519Z",
     "iopub.status.idle": "2024-09-03T15:40:27.809650Z",
     "shell.execute_reply": "2024-09-03T15:40:27.808655Z"
    },
    "papermill": {
     "duration": 0.272908,
     "end_time": "2024-09-03T15:40:27.812275",
     "exception": false,
     "start_time": "2024-09-03T15:40:27.539367",
     "status": "completed"
    },
    "tags": []
   },
   "outputs": [
    {
     "data": {
      "image/png": "[encoded data removed]",
      "text/plain": [
       "<Figure size 640x480 with 1 Axes>"
      ]
     },
     "metadata": {},
     "output_type": "display_data"
    }
   ],
   "source": [
    "t = 11\n",
    "nx.draw_networkx(G, font_color='w', node_color=active_node_coloring(list_timeSeries[t]))\n",
    "plt.show()"
   ]
  },
  {
   "cell_type": "code",
   "execution_count": 9,
   "id": "512e6b8a",
   "metadata": {
    "execution": {
     "iopub.execute_input": "2024-09-03T15:40:27.841506Z",
     "iopub.status.busy": "2024-09-03T15:40:27.840849Z",
     "iopub.status.idle": "2024-09-03T15:40:28.098842Z",
     "shell.execute_reply": "2024-09-03T15:40:28.097732Z"
    },
    "papermill": {
     "duration": 0.275192,
     "end_time": "2024-09-03T15:40:28.101141",
     "exception": false,
     "start_time": "2024-09-03T15:40:27.825949",
     "status": "completed"
    },
    "tags": []
   },
   "outputs": [
    {
     "data": {
      "image/png": "[encoded data removed]",
      "text/plain": [
       "<Figure size 640x480 with 1 Axes>"
      ]
     },
     "metadata": {},
     "output_type": "display_data"
    }
   ],
   "source": [
    "t = 35\n",
    "nx.draw_networkx(G, font_color='w', node_color=active_node_coloring(list_timeSeries[t]))\n",
    "plt.show()"
   ]
  },
  {
   "cell_type": "markdown",
   "id": "30f40c56",
   "metadata": {
    "papermill": {
     "duration": 0.014401,
     "end_time": "2024-09-03T15:40:28.130179",
     "exception": false,
     "start_time": "2024-09-03T15:40:28.115778",
     "status": "completed"
    },
    "tags": []
   },
   "source": [
    "図の動画化とかもしてみたかったけど複雑そうなのでやめた。（毎回グラフの形が変わるのをどうかしなきゃいけないのが一つとnotebook環境で動画を配置するのは無理そう？なきがしたため）"
   ]
  },
  {
   "cell_type": "markdown",
   "id": "da5fc16e",
   "metadata": {
    "papermill": {
     "duration": 0.013986,
     "end_time": "2024-09-03T15:40:28.158544",
     "exception": false,
     "start_time": "2024-09-03T15:40:28.144558",
     "status": "completed"
    },
    "tags": []
   },
   "source": [
    "# ノック73 : 口コミ数の時系列変化のグラフ化"
   ]
  },
  {
   "cell_type": "markdown",
   "id": "f9bad209",
   "metadata": {
    "papermill": {
     "duration": 0.013881,
     "end_time": "2024-09-03T15:40:28.186728",
     "exception": false,
     "start_time": "2024-09-03T15:40:28.172847",
     "status": "completed"
    },
    "tags": []
   },
   "source": [
    "実際のネットワークの可視化はやや煩雑。口コミ数（伝播した人数の推移）を時系列で表現するだけでも全体像がある程度掴めるはず。"
   ]
  },
  {
   "cell_type": "code",
   "execution_count": 10,
   "id": "696bc1f0",
   "metadata": {
    "execution": {
     "iopub.execute_input": "2024-09-03T15:40:28.216992Z",
     "iopub.status.busy": "2024-09-03T15:40:28.216267Z",
     "iopub.status.idle": "2024-09-03T15:40:28.433980Z",
     "shell.execute_reply": "2024-09-03T15:40:28.432963Z"
    },
    "papermill": {
     "duration": 0.235548,
     "end_time": "2024-09-03T15:40:28.436339",
     "exception": false,
     "start_time": "2024-09-03T15:40:28.200791",
     "status": "completed"
    },
    "tags": []
   },
   "outputs": [
    {
     "data": {
      "image/png": "[encoded data removed]",
      "text/plain": [
       "<Figure size 640x480 with 1 Axes>"
      ]
     },
     "metadata": {},
     "output_type": "display_data"
    }
   ],
   "source": [
    "list_timeSeries_num = []\n",
    "for i in range(len(list_timeSeries)):\n",
    "    list_timeSeries_num.append(sum(list_timeSeries[i]))\n",
    "\n",
    "plt.plot(list_timeSeries_num)\n",
    "plt.show()"
   ]
  },
  {
   "cell_type": "markdown",
   "id": "e7a862a5",
   "metadata": {
    "papermill": {
     "duration": 0.014468,
     "end_time": "2024-09-03T15:40:28.465747",
     "exception": false,
     "start_time": "2024-09-03T15:40:28.451279",
     "status": "completed"
    },
    "tags": []
   },
   "source": [
    "# ノック74 : 会員数の時系列変化をシミュレーションする"
   ]
  },
  {
   "cell_type": "markdown",
   "id": "02cff062",
   "metadata": {
    "papermill": {
     "duration": 0.015341,
     "end_time": "2024-09-03T15:40:28.495548",
     "exception": false,
     "start_time": "2024-09-03T15:40:28.480207",
     "status": "completed"
    },
    "tags": []
   },
   "source": [
    "#### ここからは口コミによって起こる「スポーツジムの利用状況の変化」をシミュレーションする。消費者の行動分析は消費行動であれば一般的に広く用いることができる手法。"
   ]
  },
  {
   "cell_type": "code",
   "execution_count": 11,
   "id": "55ebd444",
   "metadata": {
    "execution": {
     "iopub.execute_input": "2024-09-03T15:40:28.526205Z",
     "iopub.status.busy": "2024-09-03T15:40:28.525833Z",
     "iopub.status.idle": "2024-09-03T15:40:28.532581Z",
     "shell.execute_reply": "2024-09-03T15:40:28.531594Z"
    },
    "papermill": {
     "duration": 0.024592,
     "end_time": "2024-09-03T15:40:28.534712",
     "exception": false,
     "start_time": "2024-09-03T15:40:28.510120",
     "status": "completed"
    },
    "tags": []
   },
   "outputs": [],
   "source": [
    "def simulate_population(num, list_active, percent_percolation, percent_disapparence,df_links):\n",
    "    # 拡散 #\n",
    "    for i in range(num):\n",
    "        if list_active[i]==1:\n",
    "            for j in range(num):\n",
    "                node_name = \"Node\" + str(j)\n",
    "                if df_links[node_name].iloc[i]==1:\n",
    "                    if determine_link(percent_percolation)==1:\n",
    "                        list_active[j] = 1\n",
    "    # 消滅 #\n",
    "    for i in range(num):\n",
    "        if determine_link(percent_disapparence)==1:\n",
    "            list_active[i] = 0\n",
    "    return list_active\n",
    "                        "
   ]
  },
  {
   "cell_type": "code",
   "execution_count": 12,
   "id": "fec3236d",
   "metadata": {
    "execution": {
     "iopub.execute_input": "2024-09-03T15:40:28.566432Z",
     "iopub.status.busy": "2024-09-03T15:40:28.565512Z",
     "iopub.status.idle": "2024-09-03T15:40:28.925517Z",
     "shell.execute_reply": "2024-09-03T15:40:28.924375Z"
    },
    "papermill": {
     "duration": 0.378266,
     "end_time": "2024-09-03T15:40:28.927646",
     "exception": false,
     "start_time": "2024-09-03T15:40:28.549380",
     "status": "completed"
    },
    "tags": []
   },
   "outputs": [],
   "source": [
    "percent_percolation = 0.1\n",
    "percent_disapparence = 0.05\n",
    "T_NUM = 100\n",
    "NUM = len(df_links.index)\n",
    "list_active = np.zeros(NUM)\n",
    "list_active[0] = 1\n",
    "\n",
    "list_timeSeries = []\n",
    "for t in range(T_NUM):\n",
    "    list_active = simulate_population(NUM, list_active, percent_percolation, percent_disapparence, df_links)\n",
    "    list_timeSeries.append(list_active.copy())"
   ]
  },
  {
   "cell_type": "code",
   "execution_count": 13,
   "id": "2ff1f9cd",
   "metadata": {
    "execution": {
     "iopub.execute_input": "2024-09-03T15:40:28.958800Z",
     "iopub.status.busy": "2024-09-03T15:40:28.958387Z",
     "iopub.status.idle": "2024-09-03T15:40:29.166637Z",
     "shell.execute_reply": "2024-09-03T15:40:29.165488Z"
    },
    "papermill": {
     "duration": 0.226353,
     "end_time": "2024-09-03T15:40:29.168742",
     "exception": false,
     "start_time": "2024-09-03T15:40:28.942389",
     "status": "completed"
    },
    "tags": []
   },
   "outputs": [
    {
     "data": {
      "image/png": "[encoded data removed]",
      "text/plain": [
       "<Figure size 640x480 with 1 Axes>"
      ]
     },
     "metadata": {},
     "output_type": "display_data"
    }
   ],
   "source": [
    "list_timeSeries_num = []\n",
    "for i in range(len(list_timeSeries)):\n",
    "    # 会員数を各月毎に足し合わせる\n",
    "    list_timeSeries_num.append(sum(list_timeSeries[i]))\n",
    "\n",
    "plt.plot(list_timeSeries_num)\n",
    "plt.show()"
   ]
  },
  {
   "cell_type": "markdown",
   "id": "a6b0ce24",
   "metadata": {
    "papermill": {
     "duration": 0.014829,
     "end_time": "2024-09-03T15:40:29.198966",
     "exception": false,
     "start_time": "2024-09-03T15:40:29.184137",
     "status": "completed"
    },
    "tags": []
   },
   "source": [
    "#### 会員はある日突然辞める可能性がある。これを5%とおいてみると、集団の力で入会率は100%に近づくことがわかる。"
   ]
  },
  {
   "cell_type": "markdown",
   "id": "cfc1eb51",
   "metadata": {
    "papermill": {
     "duration": 0.014862,
     "end_time": "2024-09-03T15:40:29.228934",
     "exception": false,
     "start_time": "2024-09-03T15:40:29.214072",
     "status": "completed"
    },
    "tags": []
   },
   "source": [
    "* ### 退会率（ある日突然辞める確率）を20%にしてみると..."
   ]
  },
  {
   "cell_type": "code",
   "execution_count": 14,
   "id": "815ec4fa",
   "metadata": {
    "execution": {
     "iopub.execute_input": "2024-09-03T15:40:29.261061Z",
     "iopub.status.busy": "2024-09-03T15:40:29.260148Z",
     "iopub.status.idle": "2024-09-03T15:40:29.269790Z",
     "shell.execute_reply": "2024-09-03T15:40:29.268683Z"
    },
    "papermill": {
     "duration": 0.027959,
     "end_time": "2024-09-03T15:40:29.271852",
     "exception": false,
     "start_time": "2024-09-03T15:40:29.243893",
     "status": "completed"
    },
    "tags": []
   },
   "outputs": [],
   "source": [
    "percent_percolation = 0.1\n",
    "percent_disapparence = 0.2 # 突然辞める確率を変化させた\n",
    "T_NUM = 100\n",
    "NUM = len(df_links.index)\n",
    "list_active = np.zeros(NUM)\n",
    "list_active[0] = 1\n",
    "\n",
    "list_timeSeries = []\n",
    "for t in range(T_NUM):\n",
    "    list_active = simulate_population(NUM, list_active, percent_percolation, percent_disapparence, df_links)\n",
    "    list_timeSeries.append(list_active.copy())"
   ]
  },
  {
   "cell_type": "code",
   "execution_count": 15,
   "id": "868f1df1",
   "metadata": {
    "execution": {
     "iopub.execute_input": "2024-09-03T15:40:29.304363Z",
     "iopub.status.busy": "2024-09-03T15:40:29.303695Z",
     "iopub.status.idle": "2024-09-03T15:40:29.586605Z",
     "shell.execute_reply": "2024-09-03T15:40:29.585576Z"
    },
    "papermill": {
     "duration": 0.30157,
     "end_time": "2024-09-03T15:40:29.588803",
     "exception": false,
     "start_time": "2024-09-03T15:40:29.287233",
     "status": "completed"
    },
    "tags": []
   },
   "outputs": [
    {
     "data": {
      "image/png": "[encoded data removed]",
      "text/plain": [
       "<Figure size 640x480 with 1 Axes>"
      ]
     },
     "metadata": {},
     "output_type": "display_data"
    }
   ],
   "source": [
    "list_timeSeries_num = []\n",
    "for i in range(len(list_timeSeries)):\n",
    "    # 会員数を各月毎に足し合わせる\n",
    "    list_timeSeries_num.append(sum(list_timeSeries[i]))\n",
    "\n",
    "plt.plot(list_timeSeries_num)\n",
    "plt.show()"
   ]
  },
  {
   "cell_type": "markdown",
   "id": "ed3d5205",
   "metadata": {
    "papermill": {
     "duration": 0.015071,
     "end_time": "2024-09-03T15:40:29.619268",
     "exception": false,
     "start_time": "2024-09-03T15:40:29.604197",
     "status": "completed"
    },
    "tags": []
   },
   "source": [
    "（確率的変動をするので）回にもよるが、おおよそ入会率は0%に近づいていく。"
   ]
  },
  {
   "cell_type": "markdown",
   "id": "c6928cb5",
   "metadata": {
    "papermill": {
     "duration": 0.015137,
     "end_time": "2024-09-03T15:40:29.649866",
     "exception": false,
     "start_time": "2024-09-03T15:40:29.634729",
     "status": "completed"
    },
    "tags": []
   },
   "source": [
    "# ノック75 : パラメータの全体像を「相図」で把握する"
   ]
  },
  {
   "cell_type": "markdown",
   "id": "ee557848",
   "metadata": {
    "papermill": {
     "duration": 0.015225,
     "end_time": "2024-09-03T15:40:29.680433",
     "exception": false,
     "start_time": "2024-09-03T15:40:29.665208",
     "status": "completed"
    },
    "tags": []
   },
   "source": [
    "* ### 実行に時間がかかるので注意！"
   ]
  },
  {
   "cell_type": "code",
   "execution_count": 16,
   "id": "fda978ca",
   "metadata": {
    "execution": {
     "iopub.execute_input": "2024-09-03T15:40:29.763242Z",
     "iopub.status.busy": "2024-09-03T15:40:29.762320Z",
     "iopub.status.idle": "2024-09-03T15:41:37.774564Z",
     "shell.execute_reply": "2024-09-03T15:41:37.773464Z"
    },
    "papermill": {
     "duration": 68.102248,
     "end_time": "2024-09-03T15:41:37.797911",
     "exception": false,
     "start_time": "2024-09-03T15:40:29.695663",
     "status": "completed"
    },
    "tags": []
   },
   "outputs": [
    {
     "name": "stdout",
     "output_type": "stream",
     "text": [
      "相図計算開始\n",
      "[[ 1.  0.  0.  0.  0.  0.  0.  0.  0.  0.  0.  0.  0.  0.  0.  0.  0.  0.\n",
      "   0.  0.]\n",
      " [20.  9.  0.  0.  0.  0.  0.  0.  0.  0.  0.  0.  0.  0.  0.  0.  0.  0.\n",
      "   0.  0.]\n",
      " [20. 15.  0. 10.  0.  0.  0.  0.  0.  0.  0.  0.  0.  0.  0.  0.  0.  0.\n",
      "   0.  0.]\n",
      " [20. 17. 15.  9.  0.  0.  0.  0.  0.  0.  0.  0.  0.  0.  0.  0.  0.  0.\n",
      "   0.  0.]\n",
      " [20. 18. 15. 16.  6. 12.  0.  0.  0.  0.  0.  0.  0.  0.  0.  0.  0.  0.\n",
      "   0.  0.]\n",
      " [20.  0. 14.  0.  8.  0.  3.  0.  0.  0.  0.  0.  0.  0.  0.  0.  0.  0.\n",
      "   0.  0.]\n",
      " [20. 19. 17. 14. 12.  7.  9.  0.  0.  0.  0.  0.  0.  0.  0.  0.  0.  0.\n",
      "   0.  0.]\n",
      " [20. 18.  0. 13. 12.  8.  0. 12.  7.  9.  0.  0.  0.  0.  0.  0.  0.  0.\n",
      "   0.  0.]\n",
      " [20. 18. 18. 15.  0. 13. 13. 10. 11.  0.  0.  0.  0.  0.  0.  0.  0.  0.\n",
      "   0.  0.]\n",
      " [20. 17. 19. 17. 17. 13. 12.  9. 11.  6.  0.  0.  0.  0.  0.  0.  0.  0.\n",
      "   0.  0.]\n",
      " [20. 20. 18.  0. 14. 15.  0. 11. 11. 10.  6.  8.  0.  0.  0.  0.  0.  0.\n",
      "   0.  0.]\n",
      " [20. 19. 19. 14. 16.  0.  0. 12. 10.  7.  8.  0.  0.  0.  0.  0.  0.  0.\n",
      "   0.  0.]\n",
      " [20. 20. 17. 17. 14. 16. 11. 15. 11. 12.  0.  0. 10.  0.  0.  0.  0.  0.\n",
      "   0.  0.]\n",
      " [20. 19. 17. 18. 15. 14. 14. 14.  0. 13.  7.  1.  0.  0.  0.  0.  0.  0.\n",
      "   0.  0.]\n",
      " [20. 20. 19. 19. 15. 12. 14. 15. 12. 10. 10.  0.  5.  0.  0.  0.  0.  0.\n",
      "   0.  0.]\n",
      " [20. 19. 18. 17. 17. 12. 15. 13. 11.  7.  7.  6.  0.  0.  0.  0.  0.  0.\n",
      "   0.  0.]\n",
      " [20. 20. 18. 17. 17. 17. 13. 12.  0. 10.  0.  8.  0.  5.  0.  0.  0.  0.\n",
      "   0.  0.]\n",
      " [20. 20. 19. 17. 13. 14. 15. 10.  7. 14. 12.  8.  6.  6.  0.  0.  0.  0.\n",
      "   0.  0.]\n",
      " [20. 20. 19. 19. 17. 17. 13. 14. 14.  7.  7.  6.  7.  7.  0.  0.  0.  0.\n",
      "   0.  0.]\n",
      " [20. 20. 19. 19. 17. 11. 16. 12. 13. 11. 10.  8.  6.  5.  4.  0.  0.  0.\n",
      "   0.  0.]]\n"
     ]
    }
   ],
   "source": [
    "# 相図計算\n",
    "print(\"相図計算開始\")\n",
    "T_NUM = 100\n",
    "NUM_PhaseDiagram = 20\n",
    "phaseDiagram = np.zeros((NUM_PhaseDiagram,NUM_PhaseDiagram))\n",
    "for i_p in range(NUM_PhaseDiagram):\n",
    "    for i_d in range(NUM_PhaseDiagram):\n",
    "        percent_percolation = 0.05*i_p\n",
    "        percent_disapparence = 0.05*i_d\n",
    "        list_active = np.zeros(NUM)\n",
    "        list_active[0] = 1\n",
    "        for t in range(T_NUM):\n",
    "            list_active = simulate_population(NUM, list_active, percent_percolation, percent_disapparence,df_links)\n",
    "        phaseDiagram[i_p][i_d] = sum(list_active)\n",
    "print(phaseDiagram)"
   ]
  },
  {
   "cell_type": "code",
   "execution_count": 17,
   "id": "9edad239",
   "metadata": {
    "execution": {
     "iopub.execute_input": "2024-09-03T15:41:37.831152Z",
     "iopub.status.busy": "2024-09-03T15:41:37.830645Z",
     "iopub.status.idle": "2024-09-03T15:41:38.183637Z",
     "shell.execute_reply": "2024-09-03T15:41:38.182381Z"
    },
    "papermill": {
     "duration": 0.373328,
     "end_time": "2024-09-03T15:41:38.186890",
     "exception": false,
     "start_time": "2024-09-03T15:41:37.813562",
     "status": "completed"
    },
    "tags": []
   },
   "outputs": [
    {
     "data": {
      "image/png": "[encoded data removed]",
      "text/plain": [
       "<Figure size 480x480 with 2 Axes>"
      ]
     },
     "metadata": {},
     "output_type": "display_data"
    }
   ],
   "source": [
    "plt.matshow(phaseDiagram)\n",
    "plt.colorbar(shrink=0.8)\n",
    "plt.xlabel('percent_disapparence')\n",
    "plt.ylabel('percent_percolation')\n",
    "plt.xticks(np.arange(0.0, 20.0, 5), np.arange(0.0, 1.0, 0.25))\n",
    "plt.yticks(np.arange(0.0, 20.0, 5), np.arange(0.0, 1.0, 0.25))\n",
    "plt.tick_params(bottom=False,\n",
    "                left=False,\n",
    "                right=False,\n",
    "                top=False)\n",
    "plt.show()\n"
   ]
  },
  {
   "cell_type": "markdown",
   "id": "8066fd43",
   "metadata": {
    "papermill": {
     "duration": 0.015938,
     "end_time": "2024-09-03T15:41:38.224765",
     "exception": false,
     "start_time": "2024-09-03T15:41:38.208827",
     "status": "completed"
    },
    "tags": []
   },
   "source": [
    "自然に退会する確率が20%~30%を超えるとどんなに口コミの伝播確率が高くても利用者が増えない。"
   ]
  },
  {
   "cell_type": "markdown",
   "id": "81219dd4",
   "metadata": {
    "papermill": {
     "duration": 0.016034,
     "end_time": "2024-09-03T15:41:38.256822",
     "exception": false,
     "start_time": "2024-09-03T15:41:38.240788",
     "status": "completed"
    },
    "tags": []
   },
   "source": [
    "# ノック76 : 実データを読み込む"
   ]
  },
  {
   "cell_type": "code",
   "execution_count": 18,
   "id": "5ae3637b",
   "metadata": {
    "execution": {
     "iopub.execute_input": "2024-09-03T15:41:38.293400Z",
     "iopub.status.busy": "2024-09-03T15:41:38.292424Z",
     "iopub.status.idle": "2024-09-03T15:41:38.365937Z",
     "shell.execute_reply": "2024-09-03T15:41:38.364912Z"
    },
    "papermill": {
     "duration": 0.093385,
     "end_time": "2024-09-03T15:41:38.368315",
     "exception": false,
     "start_time": "2024-09-03T15:41:38.274930",
     "status": "completed"
    },
    "tags": []
   },
   "outputs": [
    {
     "data": {
      "text/html": [
       "<div>\n",
       "<style scoped>\n",
       "    .dataframe tbody tr th:only-of-type {\n",
       "        vertical-align: middle;\n",
       "    }\n",
       "\n",
       "    .dataframe tbody tr th {\n",
       "        vertical-align: top;\n",
       "    }\n",
       "\n",
       "    .dataframe thead th {\n",
       "        text-align: right;\n",
       "    }\n",
       "</style>\n",
       "<table border=\"1\" class=\"dataframe\">\n",
       "  <thead>\n",
       "    <tr style=\"text-align: right;\">\n",
       "      <th></th>\n",
       "      <th>Node0</th>\n",
       "      <th>Node1</th>\n",
       "      <th>Node2</th>\n",
       "      <th>Node3</th>\n",
       "      <th>Node4</th>\n",
       "      <th>Node5</th>\n",
       "      <th>Node6</th>\n",
       "      <th>Node7</th>\n",
       "      <th>Node8</th>\n",
       "      <th>Node9</th>\n",
       "      <th>...</th>\n",
       "      <th>Node530</th>\n",
       "      <th>Node531</th>\n",
       "      <th>Node532</th>\n",
       "      <th>Node533</th>\n",
       "      <th>Node534</th>\n",
       "      <th>Node535</th>\n",
       "      <th>Node536</th>\n",
       "      <th>Node537</th>\n",
       "      <th>Node538</th>\n",
       "      <th>Node539</th>\n",
       "    </tr>\n",
       "    <tr>\n",
       "      <th>Node</th>\n",
       "      <th></th>\n",
       "      <th></th>\n",
       "      <th></th>\n",
       "      <th></th>\n",
       "      <th></th>\n",
       "      <th></th>\n",
       "      <th></th>\n",
       "      <th></th>\n",
       "      <th></th>\n",
       "      <th></th>\n",
       "      <th></th>\n",
       "      <th></th>\n",
       "      <th></th>\n",
       "      <th></th>\n",
       "      <th></th>\n",
       "      <th></th>\n",
       "      <th></th>\n",
       "      <th></th>\n",
       "      <th></th>\n",
       "      <th></th>\n",
       "      <th></th>\n",
       "    </tr>\n",
       "  </thead>\n",
       "  <tbody>\n",
       "    <tr>\n",
       "      <th>Node0</th>\n",
       "      <td>0</td>\n",
       "      <td>0</td>\n",
       "      <td>1</td>\n",
       "      <td>0</td>\n",
       "      <td>0</td>\n",
       "      <td>0</td>\n",
       "      <td>0</td>\n",
       "      <td>0</td>\n",
       "      <td>0</td>\n",
       "      <td>0</td>\n",
       "      <td>...</td>\n",
       "      <td>0</td>\n",
       "      <td>0</td>\n",
       "      <td>0</td>\n",
       "      <td>0</td>\n",
       "      <td>0</td>\n",
       "      <td>0</td>\n",
       "      <td>0</td>\n",
       "      <td>0</td>\n",
       "      <td>0</td>\n",
       "      <td>0</td>\n",
       "    </tr>\n",
       "    <tr>\n",
       "      <th>Node1</th>\n",
       "      <td>0</td>\n",
       "      <td>0</td>\n",
       "      <td>0</td>\n",
       "      <td>0</td>\n",
       "      <td>1</td>\n",
       "      <td>1</td>\n",
       "      <td>0</td>\n",
       "      <td>0</td>\n",
       "      <td>0</td>\n",
       "      <td>0</td>\n",
       "      <td>...</td>\n",
       "      <td>0</td>\n",
       "      <td>1</td>\n",
       "      <td>1</td>\n",
       "      <td>0</td>\n",
       "      <td>0</td>\n",
       "      <td>0</td>\n",
       "      <td>0</td>\n",
       "      <td>0</td>\n",
       "      <td>0</td>\n",
       "      <td>0</td>\n",
       "    </tr>\n",
       "    <tr>\n",
       "      <th>Node2</th>\n",
       "      <td>1</td>\n",
       "      <td>0</td>\n",
       "      <td>0</td>\n",
       "      <td>0</td>\n",
       "      <td>0</td>\n",
       "      <td>1</td>\n",
       "      <td>0</td>\n",
       "      <td>1</td>\n",
       "      <td>0</td>\n",
       "      <td>0</td>\n",
       "      <td>...</td>\n",
       "      <td>0</td>\n",
       "      <td>0</td>\n",
       "      <td>1</td>\n",
       "      <td>0</td>\n",
       "      <td>1</td>\n",
       "      <td>0</td>\n",
       "      <td>0</td>\n",
       "      <td>1</td>\n",
       "      <td>1</td>\n",
       "      <td>0</td>\n",
       "    </tr>\n",
       "    <tr>\n",
       "      <th>Node3</th>\n",
       "      <td>0</td>\n",
       "      <td>0</td>\n",
       "      <td>0</td>\n",
       "      <td>0</td>\n",
       "      <td>0</td>\n",
       "      <td>0</td>\n",
       "      <td>1</td>\n",
       "      <td>0</td>\n",
       "      <td>0</td>\n",
       "      <td>0</td>\n",
       "      <td>...</td>\n",
       "      <td>0</td>\n",
       "      <td>0</td>\n",
       "      <td>0</td>\n",
       "      <td>0</td>\n",
       "      <td>0</td>\n",
       "      <td>0</td>\n",
       "      <td>0</td>\n",
       "      <td>0</td>\n",
       "      <td>0</td>\n",
       "      <td>0</td>\n",
       "    </tr>\n",
       "    <tr>\n",
       "      <th>Node4</th>\n",
       "      <td>0</td>\n",
       "      <td>1</td>\n",
       "      <td>0</td>\n",
       "      <td>0</td>\n",
       "      <td>0</td>\n",
       "      <td>1</td>\n",
       "      <td>0</td>\n",
       "      <td>0</td>\n",
       "      <td>0</td>\n",
       "      <td>0</td>\n",
       "      <td>...</td>\n",
       "      <td>0</td>\n",
       "      <td>0</td>\n",
       "      <td>0</td>\n",
       "      <td>1</td>\n",
       "      <td>1</td>\n",
       "      <td>0</td>\n",
       "      <td>0</td>\n",
       "      <td>0</td>\n",
       "      <td>1</td>\n",
       "      <td>0</td>\n",
       "    </tr>\n",
       "  </tbody>\n",
       "</table>\n",
       "<p>5 rows × 540 columns</p>\n",
       "</div>"
      ],
      "text/plain": [
       "       Node0  Node1  Node2  Node3  Node4  Node5  Node6  Node7  Node8  Node9  \\\n",
       "Node                                                                          \n",
       "Node0      0      0      1      0      0      0      0      0      0      0   \n",
       "Node1      0      0      0      0      1      1      0      0      0      0   \n",
       "Node2      1      0      0      0      0      1      0      1      0      0   \n",
       "Node3      0      0      0      0      0      0      1      0      0      0   \n",
       "Node4      0      1      0      0      0      1      0      0      0      0   \n",
       "\n",
       "       ...  Node530  Node531  Node532  Node533  Node534  Node535  Node536  \\\n",
       "Node   ...                                                                  \n",
       "Node0  ...        0        0        0        0        0        0        0   \n",
       "Node1  ...        0        1        1        0        0        0        0   \n",
       "Node2  ...        0        0        1        0        1        0        0   \n",
       "Node3  ...        0        0        0        0        0        0        0   \n",
       "Node4  ...        0        0        0        1        1        0        0   \n",
       "\n",
       "       Node537  Node538  Node539  \n",
       "Node                              \n",
       "Node0        0        0        0  \n",
       "Node1        0        0        0  \n",
       "Node2        1        1        0  \n",
       "Node3        0        0        0  \n",
       "Node4        0        1        0  \n",
       "\n",
       "[5 rows x 540 columns]"
      ]
     },
     "execution_count": 18,
     "metadata": {},
     "output_type": "execute_result"
    }
   ],
   "source": [
    "df_mem_links = pd.read_csv('../input/customer-connection/links_members.csv', index_col='Node')\n",
    "df_mem_info = pd.read_csv('../input/customer-connection/info_members.csv', index_col='Node')\n",
    "df_mem_links.head()"
   ]
  },
  {
   "cell_type": "markdown",
   "id": "16cee900",
   "metadata": {
    "papermill": {
     "duration": 0.015992,
     "end_time": "2024-09-03T15:41:38.400894",
     "exception": false,
     "start_time": "2024-09-03T15:41:38.384902",
     "status": "completed"
    },
    "tags": []
   },
   "source": [
    "# ノック77 : リンク数の分布の可視化"
   ]
  },
  {
   "cell_type": "markdown",
   "id": "ccb4e3cc",
   "metadata": {
    "papermill": {
     "duration": 0.016083,
     "end_time": "2024-09-03T15:41:38.433377",
     "exception": false,
     "start_time": "2024-09-03T15:41:38.417294",
     "status": "completed"
    },
    "tags": []
   },
   "source": [
    "ネットワーク構造が「スモールワールド型」なのか「スケールフリー」型なのかそれ以外なのかを把握するのにリンク数の分布の可視化が有効。"
   ]
  },
  {
   "cell_type": "code",
   "execution_count": 19,
   "id": "04e83748",
   "metadata": {
    "execution": {
     "iopub.execute_input": "2024-09-03T15:41:38.467942Z",
     "iopub.status.busy": "2024-09-03T15:41:38.467538Z",
     "iopub.status.idle": "2024-09-03T15:41:38.519630Z",
     "shell.execute_reply": "2024-09-03T15:41:38.518280Z"
    },
    "papermill": {
     "duration": 0.07219,
     "end_time": "2024-09-03T15:41:38.522019",
     "exception": false,
     "start_time": "2024-09-03T15:41:38.449829",
     "status": "completed"
    },
    "tags": []
   },
   "outputs": [],
   "source": [
    "NUM = len(df_mem_links.index)\n",
    "array_linkNum = np.zeros(NUM)\n",
    "for i in range(NUM):\n",
    "    array_linkNum[i] = sum(df_mem_links['Node' + str(i)])"
   ]
  },
  {
   "cell_type": "code",
   "execution_count": 20,
   "id": "a79937f6",
   "metadata": {
    "execution": {
     "iopub.execute_input": "2024-09-03T15:41:38.557025Z",
     "iopub.status.busy": "2024-09-03T15:41:38.556615Z",
     "iopub.status.idle": "2024-09-03T15:41:38.714852Z",
     "shell.execute_reply": "2024-09-03T15:41:38.713734Z"
    },
    "papermill": {
     "duration": 0.179256,
     "end_time": "2024-09-03T15:41:38.717656",
     "exception": false,
     "start_time": "2024-09-03T15:41:38.538400",
     "status": "completed"
    },
    "tags": []
   },
   "outputs": [
    {
     "data": {
      "image/png": "[encoded data removed]",
      "text/plain": [
       "<Figure size 640x480 with 1 Axes>"
      ]
     },
     "metadata": {},
     "output_type": "display_data"
    }
   ],
   "source": [
    "plt.hist(array_linkNum, bins=10, range=(0, 250))\n",
    "plt.show()"
   ]
  },
  {
   "cell_type": "markdown",
   "id": "a1ad2186",
   "metadata": {
    "papermill": {
     "duration": 0.016716,
     "end_time": "2024-09-03T15:41:38.751201",
     "exception": false,
     "start_time": "2024-09-03T15:41:38.734485",
     "status": "completed"
    },
    "tags": []
   },
   "source": [
    "#### 大体全部のノードが100程度のつながりを持つ。<br>→特定のノードに頼らずとも情報が伝播していくことを示唆"
   ]
  },
  {
   "cell_type": "markdown",
   "id": "ed08c43a",
   "metadata": {
    "papermill": {
     "duration": 0.016285,
     "end_time": "2024-09-03T15:41:38.785159",
     "exception": false,
     "start_time": "2024-09-03T15:41:38.768874",
     "status": "completed"
    },
    "tags": []
   },
   "source": [
    "# ノック78 : シミュレーションのために実データからパラメータを推定する"
   ]
  },
  {
   "cell_type": "markdown",
   "id": "95741107",
   "metadata": {
    "papermill": {
     "duration": 0.016263,
     "end_time": "2024-09-03T15:41:38.817968",
     "exception": false,
     "start_time": "2024-09-03T15:41:38.801705",
     "status": "completed"
    },
    "tags": []
   },
   "source": [
    "### ここでいう「パラメータ」は「消滅確率」と「拡散確率」のこと"
   ]
  },
  {
   "cell_type": "markdown",
   "id": "d04b545e",
   "metadata": {
    "papermill": {
     "duration": 0.016255,
     "end_time": "2024-09-03T15:41:38.850782",
     "exception": false,
     "start_time": "2024-09-03T15:41:38.834527",
     "status": "completed"
    },
    "tags": []
   },
   "source": [
    "* ### この二つのコードすごく重いので注意"
   ]
  },
  {
   "cell_type": "code",
   "execution_count": 21,
   "id": "359e4875",
   "metadata": {
    "execution": {
     "iopub.execute_input": "2024-09-03T15:41:38.885734Z",
     "iopub.status.busy": "2024-09-03T15:41:38.885318Z",
     "iopub.status.idle": "2024-09-03T15:41:39.435577Z",
     "shell.execute_reply": "2024-09-03T15:41:39.434571Z"
    },
    "papermill": {
     "duration": 0.57073,
     "end_time": "2024-09-03T15:41:39.438042",
     "exception": false,
     "start_time": "2024-09-03T15:41:38.867312",
     "status": "completed"
    },
    "tags": []
   },
   "outputs": [],
   "source": [
    "NUM = len(df_mem_info.index)\n",
    "T_NUM = len(df_mem_info.columns)-1\n",
    "# 消滅の確率推定 #\n",
    "count_active = 0\n",
    "count_active_to_inactive = 0\n",
    "for t in range(T_NUM):\n",
    "    for i in range(NUM):\n",
    "        if (df_mem_info.iloc[i, t]==1):\n",
    "            count_active_to_inactive += 1\n",
    "            if (df_mem_info.iloc[i, t+1]==0):\n",
    "                count_active += 1\n",
    "estimated_percent_disapparence = count_active/count_active_to_inactive"
   ]
  },
  {
   "cell_type": "code",
   "execution_count": 22,
   "id": "1ad4717a",
   "metadata": {
    "execution": {
     "iopub.execute_input": "2024-09-03T15:41:39.473403Z",
     "iopub.status.busy": "2024-09-03T15:41:39.472970Z",
     "iopub.status.idle": "2024-09-03T15:42:13.330584Z",
     "shell.execute_reply": "2024-09-03T15:42:13.329438Z"
    },
    "papermill": {
     "duration": 33.878184,
     "end_time": "2024-09-03T15:42:13.333049",
     "exception": false,
     "start_time": "2024-09-03T15:41:39.454865",
     "status": "completed"
    },
    "tags": []
   },
   "outputs": [],
   "source": [
    "# 拡散の確率推定 #\n",
    "count_link = 0\n",
    "count_link_to_active = 0\n",
    "count_link_temp = 0\n",
    "for t in range(T_NUM):\n",
    "    df_link_t = df_mem_info[df_mem_info[str(t)]==1]\n",
    "    temp_flag_count = np.zeros(NUM)\n",
    "    for i in range(len(df_link_t.index)):\n",
    "        index_i = int(df_link_t.index[i].replace(\"Node\",\"\"))\n",
    "        df_link_temp = df_mem_links[df_mem_links[\"Node\"+str(index_i)]==1]\n",
    "        for j in range(len(df_link_temp.index)):\n",
    "            index_j = int(df_link_temp.index[j].replace(\"Node\",\"\"))\n",
    "            if (df_mem_info.iloc[index_j, t]==0):\n",
    "                if (temp_flag_count[index_j]==0):\n",
    "                    count_link += 1\n",
    "                if (df_mem_info.iloc[index_j, t+1]==1):\n",
    "                    if (temp_flag_count[index_j]==0):\n",
    "                        temp_flag_count[index_j] = 1 \n",
    "                        count_link_to_active += 1\n",
    "estimated_percent_percolation = count_link_to_active/count_link"
   ]
  },
  {
   "cell_type": "code",
   "execution_count": 23,
   "id": "e8053480",
   "metadata": {
    "execution": {
     "iopub.execute_input": "2024-09-03T15:42:13.368773Z",
     "iopub.status.busy": "2024-09-03T15:42:13.367825Z",
     "iopub.status.idle": "2024-09-03T15:42:13.374453Z",
     "shell.execute_reply": "2024-09-03T15:42:13.373409Z"
    },
    "papermill": {
     "duration": 0.026567,
     "end_time": "2024-09-03T15:42:13.376527",
     "exception": false,
     "start_time": "2024-09-03T15:42:13.349960",
     "status": "completed"
    },
    "tags": []
   },
   "outputs": [
    {
     "data": {
      "text/plain": [
       "0.10147163541419416"
      ]
     },
     "execution_count": 23,
     "metadata": {},
     "output_type": "execute_result"
    }
   ],
   "source": [
    "estimated_percent_disapparence"
   ]
  },
  {
   "cell_type": "code",
   "execution_count": 24,
   "id": "efbcc239",
   "metadata": {
    "execution": {
     "iopub.execute_input": "2024-09-03T15:42:13.411845Z",
     "iopub.status.busy": "2024-09-03T15:42:13.411426Z",
     "iopub.status.idle": "2024-09-03T15:42:13.417874Z",
     "shell.execute_reply": "2024-09-03T15:42:13.416807Z"
    },
    "papermill": {
     "duration": 0.026507,
     "end_time": "2024-09-03T15:42:13.419941",
     "exception": false,
     "start_time": "2024-09-03T15:42:13.393434",
     "status": "completed"
    },
    "tags": []
   },
   "outputs": [
    {
     "data": {
      "text/plain": [
       "0.039006364196263604"
      ]
     },
     "execution_count": 24,
     "metadata": {},
     "output_type": "execute_result"
    }
   ],
   "source": [
    "estimated_percent_percolation"
   ]
  },
  {
   "cell_type": "markdown",
   "id": "3ca5e3df",
   "metadata": {
    "papermill": {
     "duration": 0.01664,
     "end_time": "2024-09-03T15:42:13.454143",
     "exception": false,
     "start_time": "2024-09-03T15:42:13.437503",
     "status": "completed"
    },
    "tags": []
   },
   "source": [
    "# ノック79 : 実データとシミュレーションを比較する"
   ]
  },
  {
   "cell_type": "markdown",
   "id": "83f1a32a",
   "metadata": {
    "papermill": {
     "duration": 0.016825,
     "end_time": "2024-09-03T15:42:13.487879",
     "exception": false,
     "start_time": "2024-09-03T15:42:13.471054",
     "status": "completed"
    },
    "tags": []
   },
   "source": [
    "* ### 一個目のコード実行に30分かかるので実行時は注意！！"
   ]
  },
  {
   "cell_type": "code",
   "execution_count": 25,
   "id": "6ee786e7",
   "metadata": {
    "execution": {
     "iopub.execute_input": "2024-09-03T15:42:13.522962Z",
     "iopub.status.busy": "2024-09-03T15:42:13.522561Z",
     "iopub.status.idle": "2024-09-03T15:43:31.255202Z",
     "shell.execute_reply": "2024-09-03T15:43:31.254281Z"
    },
    "papermill": {
     "duration": 77.753397,
     "end_time": "2024-09-03T15:43:31.257942",
     "exception": false,
     "start_time": "2024-09-03T15:42:13.504545",
     "status": "completed"
    },
    "tags": []
   },
   "outputs": [],
   "source": [
    "percent_percolation = 0.039006364196263604\n",
    "percent_disapparence = 0.10147163541419416\n",
    "T_NUM = 24\n",
    "NUM = len(df_mem_links.index)\n",
    "list_active = np.zeros(NUM)\n",
    "list_active[0] = 1\n",
    "list_timeSeries = []\n",
    "for t in range(T_NUM):\n",
    "  list_active = simulate_population(NUM, list_active, percent_percolation, percent_disapparence,df_mem_links)\n",
    "  list_timeSeries.append(list_active.copy())"
   ]
  },
  {
   "cell_type": "code",
   "execution_count": 26,
   "id": "546403c6",
   "metadata": {
    "execution": {
     "iopub.execute_input": "2024-09-03T15:43:31.294306Z",
     "iopub.status.busy": "2024-09-03T15:43:31.293397Z",
     "iopub.status.idle": "2024-09-03T15:43:31.299851Z",
     "shell.execute_reply": "2024-09-03T15:43:31.298895Z"
    },
    "papermill": {
     "duration": 0.026686,
     "end_time": "2024-09-03T15:43:31.301950",
     "exception": false,
     "start_time": "2024-09-03T15:43:31.275264",
     "status": "completed"
    },
    "tags": []
   },
   "outputs": [],
   "source": [
    "list_timeSeries_num = []\n",
    "for i in range(len(list_timeSeries)):\n",
    "    list_timeSeries_num.append(sum(list_timeSeries[i]))"
   ]
  },
  {
   "cell_type": "code",
   "execution_count": 27,
   "id": "88617a02",
   "metadata": {
    "execution": {
     "iopub.execute_input": "2024-09-03T15:43:31.337743Z",
     "iopub.status.busy": "2024-09-03T15:43:31.337346Z",
     "iopub.status.idle": "2024-09-03T15:43:31.352355Z",
     "shell.execute_reply": "2024-09-03T15:43:31.351462Z"
    },
    "papermill": {
     "duration": 0.035874,
     "end_time": "2024-09-03T15:43:31.354729",
     "exception": false,
     "start_time": "2024-09-03T15:43:31.318855",
     "status": "completed"
    },
    "tags": []
   },
   "outputs": [],
   "source": [
    "T_NUM = len(df_mem_info.columns)-1\n",
    "list_timeSeries_num_real = []\n",
    "for t in range(0,T_NUM):\n",
    "    list_timeSeries_num_real.append(len(df_mem_info[df_mem_info[str(t)]==1].index))"
   ]
  },
  {
   "cell_type": "code",
   "execution_count": 28,
   "id": "af7f706d",
   "metadata": {
    "execution": {
     "iopub.execute_input": "2024-09-03T15:43:31.390894Z",
     "iopub.status.busy": "2024-09-03T15:43:31.390506Z",
     "iopub.status.idle": "2024-09-03T15:43:31.611804Z",
     "shell.execute_reply": "2024-09-03T15:43:31.610755Z"
    },
    "papermill": {
     "duration": 0.242177,
     "end_time": "2024-09-03T15:43:31.614301",
     "exception": false,
     "start_time": "2024-09-03T15:43:31.372124",
     "status": "completed"
    },
    "tags": []
   },
   "outputs": [
    {
     "data": {
      "image/png": "[encoded data removed]",
      "text/plain": [
       "<Figure size 640x480 with 1 Axes>"
      ]
     },
     "metadata": {},
     "output_type": "display_data"
    }
   ],
   "source": [
    "plt.plot(list_timeSeries_num, label = 'simulated')\n",
    "plt.plot(list_timeSeries_num_real, label = 'real')\n",
    "plt.xlabel('month')\n",
    "plt.ylabel('population')\n",
    "plt.legend(loc='lower right')\n",
    "plt.show()"
   ]
  },
  {
   "cell_type": "markdown",
   "id": "9994112e",
   "metadata": {
    "papermill": {
     "duration": 0.017064,
     "end_time": "2024-09-03T15:43:31.648846",
     "exception": false,
     "start_time": "2024-09-03T15:43:31.631782",
     "status": "completed"
    },
    "tags": []
   },
   "source": [
    "# ノック80 : シミュレーションによる将来予測の実施"
   ]
  },
  {
   "cell_type": "code",
   "execution_count": 29,
   "id": "992be2fb",
   "metadata": {
    "execution": {
     "iopub.execute_input": "2024-09-03T15:43:31.685397Z",
     "iopub.status.busy": "2024-09-03T15:43:31.684975Z",
     "iopub.status.idle": "2024-09-03T15:45:29.922072Z",
     "shell.execute_reply": "2024-09-03T15:45:29.920885Z"
    },
    "papermill": {
     "duration": 118.258538,
     "end_time": "2024-09-03T15:45:29.924849",
     "exception": false,
     "start_time": "2024-09-03T15:43:31.666311",
     "status": "completed"
    },
    "tags": []
   },
   "outputs": [],
   "source": [
    "percent_percolation = 0.039006364196263604\n",
    "percent_disapparence = 0.10147163541419416\n",
    "T_NUM = 36\n",
    "NUM = len(df_mem_links.index)\n",
    "list_active = np.zeros(NUM)\n",
    "list_active[0] = 1\n",
    "list_timeSeries = []\n",
    "for t in range(T_NUM):\n",
    "    list_active = simulate_population(NUM, list_active, percent_percolation, percent_disapparence,df_mem_links)\n",
    "    list_timeSeries.append(list_active.copy())"
   ]
  },
  {
   "cell_type": "code",
   "execution_count": 30,
   "id": "e767a3ac",
   "metadata": {
    "execution": {
     "iopub.execute_input": "2024-09-03T15:45:29.961968Z",
     "iopub.status.busy": "2024-09-03T15:45:29.961584Z",
     "iopub.status.idle": "2024-09-03T15:45:29.968625Z",
     "shell.execute_reply": "2024-09-03T15:45:29.967553Z"
    },
    "papermill": {
     "duration": 0.027751,
     "end_time": "2024-09-03T15:45:29.970714",
     "exception": false,
     "start_time": "2024-09-03T15:45:29.942963",
     "status": "completed"
    },
    "tags": []
   },
   "outputs": [],
   "source": [
    "list_timeSeries_num = []\n",
    "for i in range(len(list_timeSeries)):\n",
    "    list_timeSeries_num.append(sum(list_timeSeries[i]))"
   ]
  },
  {
   "cell_type": "code",
   "execution_count": 31,
   "id": "1282a7f3",
   "metadata": {
    "execution": {
     "iopub.execute_input": "2024-09-03T15:45:30.007043Z",
     "iopub.status.busy": "2024-09-03T15:45:30.006675Z",
     "iopub.status.idle": "2024-09-03T15:45:30.185182Z",
     "shell.execute_reply": "2024-09-03T15:45:30.184204Z"
    },
    "papermill": {
     "duration": 0.199315,
     "end_time": "2024-09-03T15:45:30.187496",
     "exception": false,
     "start_time": "2024-09-03T15:45:29.988181",
     "status": "completed"
    },
    "tags": []
   },
   "outputs": [
    {
     "data": {
      "image/png": "[encoded data removed]",
      "text/plain": [
       "<Figure size 640x480 with 1 Axes>"
      ]
     },
     "metadata": {},
     "output_type": "display_data"
    }
   ],
   "source": [
    "plt.plot(list_timeSeries_num, label = 'simulated')\n",
    "plt.xlabel('month')\n",
    "plt.ylabel('population')\n",
    "plt.legend(loc='lower right')\n",
    "plt.show()"
   ]
  }
 ],
 "metadata": {
  "kaggle": {
   "accelerator": "none",
   "dataSources": [
    {
     "datasetId": 5637825,
     "sourceId": 9309425,
     "sourceType": "datasetVersion"
    }
   ],
   "dockerImageVersionId": 30761,
   "isGpuEnabled": false,
   "isInternetEnabled": true,
   "language": "python",
   "sourceType": "notebook"
  },
  "kernelspec": {
   "display_name": "Python 3",
   "language": "python",
   "name": "python3"
  },
  "language_info": {
   "codemirror_mode": {
    "name": "ipython",
    "version": 3
   },
   "file_extension": ".py",
   "mimetype": "text/x-python",
   "name": "python",
   "nbconvert_exporter": "python",
   "pygments_lexer": "ipython3",
   "version": "3.10.14"
  },
  "papermill": {
   "default_parameters": {},
   "duration": 308.209421,
   "end_time": "2024-09-03T15:45:30.725834",
   "environment_variables": {},
   "exception": null,
   "input_path": "__notebook__.ipynb",
   "output_path": "__notebook__.ipynb",
   "parameters": {},
   "start_time": "2024-09-03T15:40:22.516413",
   "version": "2.6.0"
  }
 },
 "nbformat": 4,
 "nbformat_minor": 5
}
