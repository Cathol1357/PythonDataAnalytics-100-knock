{
 "cells": [
  {
   "cell_type": "markdown",
   "id": "50f0e65c",
   "metadata": {
    "_cell_guid": "b1076dfc-b9ad-4769-8c92-a6c4dae69d19",
    "_uuid": "8f2839f25d086af736a60e9eeb907d3b93b6e0e5",
    "papermill": {
     "duration": 0.012061,
     "end_time": "2024-09-07T16:22:05.756966",
     "exception": false,
     "start_time": "2024-09-07T16:22:05.744905",
     "status": "completed"
    },
    "tags": []
   },
   "source": [
    "Python実践データ分析100本ノック（秀和システム）の勉強記録を載せています。<br>\n",
    "問題の解説、コードを載せています。参考になれば幸いです。<br>\n",
    "わからない点等ございましたらコメントお願いします。¶"
   ]
  },
  {
   "cell_type": "markdown",
   "id": "2e606326",
   "metadata": {
    "papermill": {
     "duration": 0.010842,
     "end_time": "2024-09-07T16:22:05.779533",
     "exception": false,
     "start_time": "2024-09-07T16:22:05.768691",
     "status": "completed"
    },
    "tags": []
   },
   "source": [
    "# 第10章 アンケート分析を行うための自然言語処理10本ノック"
   ]
  },
  {
   "cell_type": "markdown",
   "id": "1fb3360e",
   "metadata": {
    "papermill": {
     "duration": 0.010725,
     "end_time": "2024-09-07T16:22:05.801535",
     "exception": false,
     "start_time": "2024-09-07T16:22:05.790810",
     "status": "completed"
    },
    "tags": []
   },
   "source": [
    "自然言語処理（Natural Language Processing、NLP）を行う。<br>不動産業者の方が行ったまちづくりに関するアンケートを分析する。"
   ]
  },
  {
   "cell_type": "markdown",
   "id": "7e46f5a6",
   "metadata": {
    "papermill": {
     "duration": 0.010691,
     "end_time": "2024-09-07T16:22:05.823269",
     "exception": false,
     "start_time": "2024-09-07T16:22:05.812578",
     "status": "completed"
    },
    "tags": []
   },
   "source": [
    "* ## データ一覧"
   ]
  },
  {
   "cell_type": "markdown",
   "id": "349970f0",
   "metadata": {
    "papermill": {
     "duration": 0.012325,
     "end_time": "2024-09-07T16:22:05.846549",
     "exception": false,
     "start_time": "2024-09-07T16:22:05.834224",
     "status": "completed"
    },
    "tags": []
   },
   "source": [
    "| No. | ファイル名 | 概要 | \n",
    "| :-- | :-- | :-- |\n",
    "| 1 | survey.csv | アンケート結果 |"
   ]
  },
  {
   "cell_type": "markdown",
   "id": "a82ab729",
   "metadata": {
    "papermill": {
     "duration": 0.010936,
     "end_time": "2024-09-07T16:22:05.868737",
     "exception": false,
     "start_time": "2024-09-07T16:22:05.857801",
     "status": "completed"
    },
    "tags": []
   },
   "source": [
    "## ノック91 : データを読み込んで把握しよう"
   ]
  },
  {
   "cell_type": "code",
   "execution_count": 1,
   "id": "297c0705",
   "metadata": {
    "execution": {
     "iopub.execute_input": "2024-09-07T16:22:05.893556Z",
     "iopub.status.busy": "2024-09-07T16:22:05.893100Z",
     "iopub.status.idle": "2024-09-07T16:22:06.357423Z",
     "shell.execute_reply": "2024-09-07T16:22:06.356075Z"
    },
    "papermill": {
     "duration": 0.484374,
     "end_time": "2024-09-07T16:22:06.364291",
     "exception": false,
     "start_time": "2024-09-07T16:22:05.879917",
     "status": "completed"
    },
    "tags": []
   },
   "outputs": [
    {
     "name": "stdout",
     "output_type": "stream",
     "text": [
      "アンケートの件数 : 86\n"
     ]
    },
    {
     "data": {
      "text/html": [
       "<div>\n",
       "<style scoped>\n",
       "    .dataframe tbody tr th:only-of-type {\n",
       "        vertical-align: middle;\n",
       "    }\n",
       "\n",
       "    .dataframe tbody tr th {\n",
       "        vertical-align: top;\n",
       "    }\n",
       "\n",
       "    .dataframe thead th {\n",
       "        text-align: right;\n",
       "    }\n",
       "</style>\n",
       "<table border=\"1\" class=\"dataframe\">\n",
       "  <thead>\n",
       "    <tr style=\"text-align: right;\">\n",
       "      <th></th>\n",
       "      <th>datetime</th>\n",
       "      <th>comment</th>\n",
       "      <th>satisfaction</th>\n",
       "    </tr>\n",
       "  </thead>\n",
       "  <tbody>\n",
       "    <tr>\n",
       "      <th>0</th>\n",
       "      <td>2019/3/11</td>\n",
       "      <td>駅前に若者が集まっている(AA駅)</td>\n",
       "      <td>1</td>\n",
       "    </tr>\n",
       "    <tr>\n",
       "      <th>1</th>\n",
       "      <td>2019/2/25</td>\n",
       "      <td>スポーツできる場所があるのが良い</td>\n",
       "      <td>5</td>\n",
       "    </tr>\n",
       "    <tr>\n",
       "      <th>2</th>\n",
       "      <td>2019/2/18</td>\n",
       "      <td>子育て支援が嬉しい</td>\n",
       "      <td>5</td>\n",
       "    </tr>\n",
       "    <tr>\n",
       "      <th>3</th>\n",
       "      <td>2019/4/9</td>\n",
       "      <td>保育園に入れる（待機児童なし）</td>\n",
       "      <td>4</td>\n",
       "    </tr>\n",
       "    <tr>\n",
       "      <th>4</th>\n",
       "      <td>2019/1/6</td>\n",
       "      <td>駅前商店街が寂しい</td>\n",
       "      <td>2</td>\n",
       "    </tr>\n",
       "  </tbody>\n",
       "</table>\n",
       "</div>"
      ],
      "text/plain": [
       "    datetime            comment  satisfaction\n",
       "0  2019/3/11  駅前に若者が集まっている(AA駅)             1\n",
       "1  2019/2/25   スポーツできる場所があるのが良い             5\n",
       "2  2019/2/18          子育て支援が嬉しい             5\n",
       "3   2019/4/9    保育園に入れる（待機児童なし）             4\n",
       "4   2019/1/6          駅前商店街が寂しい             2"
      ]
     },
     "execution_count": 1,
     "metadata": {},
     "output_type": "execute_result"
    }
   ],
   "source": [
    "import pandas as pd\n",
    "\n",
    "survey = pd.read_csv('../input/100knock-nlp/survey.csv')\n",
    "print('アンケートの件数 : ' + str(len(survey)))\n",
    "survey.head()"
   ]
  },
  {
   "cell_type": "code",
   "execution_count": 2,
   "id": "8aad01a3",
   "metadata": {
    "execution": {
     "iopub.execute_input": "2024-09-07T16:22:06.392029Z",
     "iopub.status.busy": "2024-09-07T16:22:06.391630Z",
     "iopub.status.idle": "2024-09-07T16:22:06.403865Z",
     "shell.execute_reply": "2024-09-07T16:22:06.402730Z"
    },
    "papermill": {
     "duration": 0.028598,
     "end_time": "2024-09-07T16:22:06.406317",
     "exception": false,
     "start_time": "2024-09-07T16:22:06.377719",
     "status": "completed"
    },
    "tags": []
   },
   "outputs": [
    {
     "data": {
      "text/plain": [
       "datetime        0\n",
       "comment         2\n",
       "satisfaction    0\n",
       "dtype: int64"
      ]
     },
     "execution_count": 2,
     "metadata": {},
     "output_type": "execute_result"
    }
   ],
   "source": [
    "# 欠損値の確認\n",
    "survey.isna().sum()"
   ]
  },
  {
   "cell_type": "markdown",
   "id": "a9662e7e",
   "metadata": {
    "papermill": {
     "duration": 0.011141,
     "end_time": "2024-09-07T16:22:06.429032",
     "exception": false,
     "start_time": "2024-09-07T16:22:06.417891",
     "status": "completed"
    },
    "tags": []
   },
   "source": [
    "二個だけコメント欄が空白のものがあるみたい<br>→今回は件数が全体（86件）に対して少ないので無視してみる"
   ]
  },
  {
   "cell_type": "code",
   "execution_count": 3,
   "id": "d786d51e",
   "metadata": {
    "execution": {
     "iopub.execute_input": "2024-09-07T16:22:06.453745Z",
     "iopub.status.busy": "2024-09-07T16:22:06.453321Z",
     "iopub.status.idle": "2024-09-07T16:22:06.466928Z",
     "shell.execute_reply": "2024-09-07T16:22:06.465787Z"
    },
    "papermill": {
     "duration": 0.028814,
     "end_time": "2024-09-07T16:22:06.469446",
     "exception": false,
     "start_time": "2024-09-07T16:22:06.440632",
     "status": "completed"
    },
    "tags": []
   },
   "outputs": [
    {
     "data": {
      "text/plain": [
       "datetime        0\n",
       "comment         0\n",
       "satisfaction    0\n",
       "dtype: int64"
      ]
     },
     "execution_count": 3,
     "metadata": {},
     "output_type": "execute_result"
    }
   ],
   "source": [
    "# コメントがない行を削除\n",
    "survey = survey.dropna()\n",
    "survey.isna().sum()"
   ]
  },
  {
   "cell_type": "markdown",
   "id": "e2c04824",
   "metadata": {
    "papermill": {
     "duration": 0.011438,
     "end_time": "2024-09-07T16:22:06.493283",
     "exception": false,
     "start_time": "2024-09-07T16:22:06.481845",
     "status": "completed"
    },
    "tags": []
   },
   "source": [
    "## ノック92 : 不要な文字を除外する"
   ]
  },
  {
   "cell_type": "code",
   "execution_count": 4,
   "id": "37daae4a",
   "metadata": {
    "execution": {
     "iopub.execute_input": "2024-09-07T16:22:06.518709Z",
     "iopub.status.busy": "2024-09-07T16:22:06.518301Z",
     "iopub.status.idle": "2024-09-07T16:22:06.529767Z",
     "shell.execute_reply": "2024-09-07T16:22:06.528611Z"
    },
    "papermill": {
     "duration": 0.027249,
     "end_time": "2024-09-07T16:22:06.532099",
     "exception": false,
     "start_time": "2024-09-07T16:22:06.504850",
     "status": "completed"
    },
    "tags": []
   },
   "outputs": [
    {
     "data": {
      "text/html": [
       "<div>\n",
       "<style scoped>\n",
       "    .dataframe tbody tr th:only-of-type {\n",
       "        vertical-align: middle;\n",
       "    }\n",
       "\n",
       "    .dataframe tbody tr th {\n",
       "        vertical-align: top;\n",
       "    }\n",
       "\n",
       "    .dataframe thead th {\n",
       "        text-align: right;\n",
       "    }\n",
       "</style>\n",
       "<table border=\"1\" class=\"dataframe\">\n",
       "  <thead>\n",
       "    <tr style=\"text-align: right;\">\n",
       "      <th></th>\n",
       "      <th>datetime</th>\n",
       "      <th>comment</th>\n",
       "      <th>satisfaction</th>\n",
       "    </tr>\n",
       "  </thead>\n",
       "  <tbody>\n",
       "    <tr>\n",
       "      <th>0</th>\n",
       "      <td>2019/3/11</td>\n",
       "      <td>駅前に若者が集まっている(駅)</td>\n",
       "      <td>1</td>\n",
       "    </tr>\n",
       "    <tr>\n",
       "      <th>1</th>\n",
       "      <td>2019/2/25</td>\n",
       "      <td>スポーツできる場所があるのが良い</td>\n",
       "      <td>5</td>\n",
       "    </tr>\n",
       "    <tr>\n",
       "      <th>2</th>\n",
       "      <td>2019/2/18</td>\n",
       "      <td>子育て支援が嬉しい</td>\n",
       "      <td>5</td>\n",
       "    </tr>\n",
       "    <tr>\n",
       "      <th>3</th>\n",
       "      <td>2019/4/9</td>\n",
       "      <td>保育園に入れる（待機児童なし）</td>\n",
       "      <td>4</td>\n",
       "    </tr>\n",
       "    <tr>\n",
       "      <th>4</th>\n",
       "      <td>2019/1/6</td>\n",
       "      <td>駅前商店街が寂しい</td>\n",
       "      <td>2</td>\n",
       "    </tr>\n",
       "  </tbody>\n",
       "</table>\n",
       "</div>"
      ],
      "text/plain": [
       "    datetime           comment  satisfaction\n",
       "0  2019/3/11   駅前に若者が集まっている(駅)             1\n",
       "1  2019/2/25  スポーツできる場所があるのが良い             5\n",
       "2  2019/2/18         子育て支援が嬉しい             5\n",
       "3   2019/4/9   保育園に入れる（待機児童なし）             4\n",
       "4   2019/1/6         駅前商店街が寂しい             2"
      ]
     },
     "execution_count": 4,
     "metadata": {},
     "output_type": "execute_result"
    }
   ],
   "source": [
    "# 練習も兼ねて「AA」と言う文字列を消してみる\n",
    "survey['comment'] = survey['comment'].str.replace('AA', '')\n",
    "survey.head()"
   ]
  },
  {
   "cell_type": "markdown",
   "id": "baea3120",
   "metadata": {
    "papermill": {
     "duration": 0.011284,
     "end_time": "2024-09-07T16:22:06.555207",
     "exception": false,
     "start_time": "2024-09-07T16:22:06.543923",
     "status": "completed"
    },
    "tags": []
   },
   "source": [
    "次は正規表現を使ってかっことかっこの中身を削除してみる。<br>[Pythonで優しくしっかり学ぶ正規表現](https://qiita.com/simonritchie/items/43b3dfd9419f442d48ad)が非常に参考になった。（ありがとうございます...）<br>replaceコマンドに特化した形だと、[pandas.DataFrame, Seriesの要素の値を置換するreplace](https://note.nkmk.me/python-pandas-replace/#_6)もかなり良かった。例が豊富でわかりやすい。"
   ]
  },
  {
   "cell_type": "code",
   "execution_count": 5,
   "id": "cd9c68ca",
   "metadata": {
    "execution": {
     "iopub.execute_input": "2024-09-07T16:22:06.580312Z",
     "iopub.status.busy": "2024-09-07T16:22:06.579887Z",
     "iopub.status.idle": "2024-09-07T16:22:06.593413Z",
     "shell.execute_reply": "2024-09-07T16:22:06.592299Z"
    },
    "papermill": {
     "duration": 0.028752,
     "end_time": "2024-09-07T16:22:06.595612",
     "exception": false,
     "start_time": "2024-09-07T16:22:06.566860",
     "status": "completed"
    },
    "tags": []
   },
   "outputs": [
    {
     "data": {
      "text/html": [
       "<div>\n",
       "<style scoped>\n",
       "    .dataframe tbody tr th:only-of-type {\n",
       "        vertical-align: middle;\n",
       "    }\n",
       "\n",
       "    .dataframe tbody tr th {\n",
       "        vertical-align: top;\n",
       "    }\n",
       "\n",
       "    .dataframe thead th {\n",
       "        text-align: right;\n",
       "    }\n",
       "</style>\n",
       "<table border=\"1\" class=\"dataframe\">\n",
       "  <thead>\n",
       "    <tr style=\"text-align: right;\">\n",
       "      <th></th>\n",
       "      <th>datetime</th>\n",
       "      <th>comment</th>\n",
       "      <th>satisfaction</th>\n",
       "    </tr>\n",
       "  </thead>\n",
       "  <tbody>\n",
       "    <tr>\n",
       "      <th>0</th>\n",
       "      <td>2019/3/11</td>\n",
       "      <td>駅前に若者が集まっている</td>\n",
       "      <td>1</td>\n",
       "    </tr>\n",
       "    <tr>\n",
       "      <th>1</th>\n",
       "      <td>2019/2/25</td>\n",
       "      <td>スポーツできる場所があるのが良い</td>\n",
       "      <td>5</td>\n",
       "    </tr>\n",
       "    <tr>\n",
       "      <th>2</th>\n",
       "      <td>2019/2/18</td>\n",
       "      <td>子育て支援が嬉しい</td>\n",
       "      <td>5</td>\n",
       "    </tr>\n",
       "    <tr>\n",
       "      <th>3</th>\n",
       "      <td>2019/4/9</td>\n",
       "      <td>保育園に入れる</td>\n",
       "      <td>4</td>\n",
       "    </tr>\n",
       "    <tr>\n",
       "      <th>4</th>\n",
       "      <td>2019/1/6</td>\n",
       "      <td>駅前商店街が寂しい</td>\n",
       "      <td>2</td>\n",
       "    </tr>\n",
       "  </tbody>\n",
       "</table>\n",
       "</div>"
      ],
      "text/plain": [
       "    datetime           comment  satisfaction\n",
       "0  2019/3/11      駅前に若者が集まっている             1\n",
       "1  2019/2/25  スポーツできる場所があるのが良い             5\n",
       "2  2019/2/18         子育て支援が嬉しい             5\n",
       "3   2019/4/9           保育園に入れる             4\n",
       "4   2019/1/6         駅前商店街が寂しい             2"
      ]
     },
     "execution_count": 5,
     "metadata": {},
     "output_type": "execute_result"
    }
   ],
   "source": [
    "# かぎかっこと、かぎかっこの中身のコメントを取り除く\n",
    "\n",
    "# regex=Trueとすることでreplaceメソッドで正規表現を使用することができる\n",
    "survey['comment'] = survey['comment'].str.replace('\\(.+?\\)', '', regex=True) # 半角かっこ\n",
    "survey['comment'] = survey['comment'].str.replace('\\（.+?\\）', '' , regex=True) # 全角かっこ\n",
    "survey.head()"
   ]
  },
  {
   "cell_type": "markdown",
   "id": "8c3eecbd",
   "metadata": {
    "papermill": {
     "duration": 0.012318,
     "end_time": "2024-09-07T16:22:06.620129",
     "exception": false,
     "start_time": "2024-09-07T16:22:06.607811",
     "status": "completed"
    },
    "tags": []
   },
   "source": [
    "* ### コード中の正規表現について\n",
    "\\( \\)　: 鉤括弧を文字として指定。通常正規表現では()はグループ化するときに使うので、文字として指定する場合にはバックスラッシュが必要。<br>\n",
    ". : 任意の文字（一文字）<br>\n",
    "\\+ : 一つ前の文字に対して、一回以上の繰り返しがあるか\n",
    "? : 直前のパターンの0から1回の繰り返し（つまり.+?で任意の文字列を指定できる）\n"
   ]
  },
  {
   "cell_type": "markdown",
   "id": "115945a3",
   "metadata": {
    "papermill": {
     "duration": 0.011547,
     "end_time": "2024-09-07T16:22:06.644343",
     "exception": false,
     "start_time": "2024-09-07T16:22:06.632796",
     "status": "completed"
    },
    "tags": []
   },
   "source": [
    "## ノック93 : 文字数をカウントしてヒストグラムを表示する"
   ]
  },
  {
   "cell_type": "code",
   "execution_count": 6,
   "id": "3ceb48eb",
   "metadata": {
    "execution": {
     "iopub.execute_input": "2024-09-07T16:22:06.670516Z",
     "iopub.status.busy": "2024-09-07T16:22:06.670088Z",
     "iopub.status.idle": "2024-09-07T16:22:06.683385Z",
     "shell.execute_reply": "2024-09-07T16:22:06.682169Z"
    },
    "papermill": {
     "duration": 0.0293,
     "end_time": "2024-09-07T16:22:06.685649",
     "exception": false,
     "start_time": "2024-09-07T16:22:06.656349",
     "status": "completed"
    },
    "tags": []
   },
   "outputs": [
    {
     "data": {
      "text/html": [
       "<div>\n",
       "<style scoped>\n",
       "    .dataframe tbody tr th:only-of-type {\n",
       "        vertical-align: middle;\n",
       "    }\n",
       "\n",
       "    .dataframe tbody tr th {\n",
       "        vertical-align: top;\n",
       "    }\n",
       "\n",
       "    .dataframe thead th {\n",
       "        text-align: right;\n",
       "    }\n",
       "</style>\n",
       "<table border=\"1\" class=\"dataframe\">\n",
       "  <thead>\n",
       "    <tr style=\"text-align: right;\">\n",
       "      <th></th>\n",
       "      <th>datetime</th>\n",
       "      <th>comment</th>\n",
       "      <th>satisfaction</th>\n",
       "      <th>length</th>\n",
       "    </tr>\n",
       "  </thead>\n",
       "  <tbody>\n",
       "    <tr>\n",
       "      <th>0</th>\n",
       "      <td>2019/3/11</td>\n",
       "      <td>駅前に若者が集まっている</td>\n",
       "      <td>1</td>\n",
       "      <td>12</td>\n",
       "    </tr>\n",
       "    <tr>\n",
       "      <th>1</th>\n",
       "      <td>2019/2/25</td>\n",
       "      <td>スポーツできる場所があるのが良い</td>\n",
       "      <td>5</td>\n",
       "      <td>16</td>\n",
       "    </tr>\n",
       "    <tr>\n",
       "      <th>2</th>\n",
       "      <td>2019/2/18</td>\n",
       "      <td>子育て支援が嬉しい</td>\n",
       "      <td>5</td>\n",
       "      <td>9</td>\n",
       "    </tr>\n",
       "    <tr>\n",
       "      <th>3</th>\n",
       "      <td>2019/4/9</td>\n",
       "      <td>保育園に入れる</td>\n",
       "      <td>4</td>\n",
       "      <td>7</td>\n",
       "    </tr>\n",
       "    <tr>\n",
       "      <th>4</th>\n",
       "      <td>2019/1/6</td>\n",
       "      <td>駅前商店街が寂しい</td>\n",
       "      <td>2</td>\n",
       "      <td>9</td>\n",
       "    </tr>\n",
       "  </tbody>\n",
       "</table>\n",
       "</div>"
      ],
      "text/plain": [
       "    datetime           comment  satisfaction  length\n",
       "0  2019/3/11      駅前に若者が集まっている             1      12\n",
       "1  2019/2/25  スポーツできる場所があるのが良い             5      16\n",
       "2  2019/2/18         子育て支援が嬉しい             5       9\n",
       "3   2019/4/9           保育園に入れる             4       7\n",
       "4   2019/1/6         駅前商店街が寂しい             2       9"
      ]
     },
     "execution_count": 6,
     "metadata": {},
     "output_type": "execute_result"
    }
   ],
   "source": [
    "survey['length'] = survey['comment'].str.len()\n",
    "survey.head()"
   ]
  },
  {
   "cell_type": "code",
   "execution_count": 7,
   "id": "ce714f20",
   "metadata": {
    "execution": {
     "iopub.execute_input": "2024-09-07T16:22:06.712539Z",
     "iopub.status.busy": "2024-09-07T16:22:06.712101Z",
     "iopub.status.idle": "2024-09-07T16:22:06.946791Z",
     "shell.execute_reply": "2024-09-07T16:22:06.945630Z"
    },
    "papermill": {
     "duration": 0.250379,
     "end_time": "2024-09-07T16:22:06.949026",
     "exception": false,
     "start_time": "2024-09-07T16:22:06.698647",
     "status": "completed"
    },
    "tags": []
   },
   "outputs": [
    {
     "data": {
      "image/png": "[encoded data removed]",
      "text/plain": [
       "<Figure size 640x480 with 1 Axes>"
      ]
     },
     "metadata": {},
     "output_type": "display_data"
    }
   ],
   "source": [
    "import matplotlib.pyplot as plt\n",
    "%matplotlib inline\n",
    "\n",
    "plt.hist(survey['length'])\n",
    "plt.show()"
   ]
  },
  {
   "cell_type": "markdown",
   "id": "eb409af5",
   "metadata": {
    "papermill": {
     "duration": 0.011896,
     "end_time": "2024-09-07T16:22:06.973312",
     "exception": false,
     "start_time": "2024-09-07T16:22:06.961416",
     "status": "completed"
    },
    "tags": []
   },
   "source": [
    "大体10文字から20文字程度のコメントが多い。一言コメントが多いと考えられる。"
   ]
  },
  {
   "cell_type": "markdown",
   "id": "058fb5fe",
   "metadata": {
    "papermill": {
     "duration": 0.012084,
     "end_time": "2024-09-07T16:22:06.997722",
     "exception": false,
     "start_time": "2024-09-07T16:22:06.985638",
     "status": "completed"
    },
    "tags": []
   },
   "source": [
    "# ノック94 : 形態素解析で文章を分割する"
   ]
  },
  {
   "cell_type": "markdown",
   "id": "0a0f84b2",
   "metadata": {
    "papermill": {
     "duration": 0.012423,
     "end_time": "2024-09-07T16:22:07.022322",
     "exception": false,
     "start_time": "2024-09-07T16:22:07.009899",
     "status": "completed"
    },
    "tags": []
   },
   "source": [
    "* ## 形態素解析とは"
   ]
  },
  {
   "cell_type": "markdown",
   "id": "8dfcd3fd",
   "metadata": {
    "papermill": {
     "duration": 0.012072,
     "end_time": "2024-09-07T16:22:07.046905",
     "exception": false,
     "start_time": "2024-09-07T16:22:07.034833",
     "status": "completed"
    },
    "tags": []
   },
   "source": [
    "文章を単語に分割する技術のこと。ここでは、MeCabを用いて進めていく。<br>まずはサンプルとして「すもももももももものうち」を単語に分割してみる。（形態素解析のHello Worldにあたるらしい）"
   ]
  },
  {
   "cell_type": "code",
   "execution_count": 8,
   "id": "ff191093",
   "metadata": {
    "execution": {
     "iopub.execute_input": "2024-09-07T16:22:07.073087Z",
     "iopub.status.busy": "2024-09-07T16:22:07.072707Z",
     "iopub.status.idle": "2024-09-07T16:22:40.066579Z",
     "shell.execute_reply": "2024-09-07T16:22:40.065263Z"
    },
    "papermill": {
     "duration": 33.010126,
     "end_time": "2024-09-07T16:22:40.069323",
     "exception": false,
     "start_time": "2024-09-07T16:22:07.059197",
     "status": "completed"
    },
    "tags": []
   },
   "outputs": [
    {
     "name": "stdout",
     "output_type": "stream",
     "text": [
      "Collecting mecab-python3\r\n",
      "  Downloading mecab_python3-1.0.9-cp310-cp310-manylinux_2_17_x86_64.manylinux2014_x86_64.whl.metadata (6.1 kB)\r\n",
      "Collecting unidic-lite\r\n",
      "  Downloading unidic-lite-1.0.8.tar.gz (47.4 MB)\r\n",
      "\u001b[2K     \u001b[90m━━━━━━━━━━━━━━━━━━━━━━━━━━━━━━━━━━━━━━━━\u001b[0m \u001b[32m47.4/47.4 MB\u001b[0m \u001b[31m32.6 MB/s\u001b[0m eta \u001b[36m0:00:00\u001b[0m\r\n",
      "\u001b[?25h  Preparing metadata (setup.py) ... \u001b[?25l-\b \bdone\r\n",
      "\u001b[?25hDownloading mecab_python3-1.0.9-cp310-cp310-manylinux_2_17_x86_64.manylinux2014_x86_64.whl (581 kB)\r\n",
      "\u001b[2K   \u001b[90m━━━━━━━━━━━━━━━━━━━━━━━━━━━━━━━━━━━━━━━━\u001b[0m \u001b[32m581.7/581.7 kB\u001b[0m \u001b[31m14.3 MB/s\u001b[0m eta \u001b[36m0:00:00\u001b[0m\r\n",
      "\u001b[?25hBuilding wheels for collected packages: unidic-lite\r\n",
      "  Building wheel for unidic-lite (setup.py) ... \u001b[?25l-\b \b\\\b \bdone\r\n",
      "\u001b[?25h  Created wheel for unidic-lite: filename=unidic_lite-1.0.8-py3-none-any.whl size=47658818 sha256=12ff7c1d9a29340ac9c78eb0b1920b048f8417555830c4e1a3e425c2a28bf7dd\r\n",
      "  Stored in directory: /root/.cache/pip/wheels/89/e8/68/f9ac36b8cc6c8b3c96888cd57434abed96595d444f42243853\r\n",
      "Successfully built unidic-lite\r\n",
      "Installing collected packages: unidic-lite, mecab-python3\r\n",
      "Successfully installed mecab-python3-1.0.9 unidic-lite-1.0.8\r\n"
     ]
    }
   ],
   "source": [
    "!pip install mecab-python3 unidic-lite"
   ]
  },
  {
   "cell_type": "code",
   "execution_count": 9,
   "id": "7847aa92",
   "metadata": {
    "execution": {
     "iopub.execute_input": "2024-09-07T16:22:40.100704Z",
     "iopub.status.busy": "2024-09-07T16:22:40.100242Z",
     "iopub.status.idle": "2024-09-07T16:22:40.116821Z",
     "shell.execute_reply": "2024-09-07T16:22:40.115672Z"
    },
    "papermill": {
     "duration": 0.035855,
     "end_time": "2024-09-07T16:22:40.119511",
     "exception": false,
     "start_time": "2024-09-07T16:22:40.083656",
     "status": "completed"
    },
    "tags": []
   },
   "outputs": [
    {
     "data": {
      "text/plain": [
       "'すもも\\tスモモ\\tスモモ\\t李\\t名詞-普通名詞-一般\\t\\t\\t0\\nも\\tモ\\tモ\\tも\\t助詞-係助詞\\t\\t\\t\\nもも\\tモモ\\tモモ\\t桃\\t名詞-普通名詞-一般\\t\\t\\t0\\nも\\tモ\\tモ\\tも\\t助詞-係助詞\\t\\t\\t\\nもも\\tモモ\\tモモ\\t桃\\t名詞-普通名詞-一般\\t\\t\\t0\\nの\\tノ\\tノ\\tの\\t助詞-格助詞\\t\\t\\t\\nうち\\tウチ\\tウチ\\t内\\t名詞-普通名詞-副詞可能\\t\\t\\t0\\nEOS\\n'"
      ]
     },
     "execution_count": 9,
     "metadata": {},
     "output_type": "execute_result"
    }
   ],
   "source": [
    "import MeCab\n",
    "\n",
    "tagger = MeCab.Tagger() # 形態素解析器の初期化\n",
    "text = 'すもももももももものうち'\n",
    "words = tagger.parse(text) # 形態素解析を実施\n",
    "words"
   ]
  },
  {
   "cell_type": "markdown",
   "id": "2cd6b808",
   "metadata": {
    "papermill": {
     "duration": 0.013958,
     "end_time": "2024-09-07T16:22:40.148535",
     "exception": false,
     "start_time": "2024-09-07T16:22:40.134577",
     "status": "completed"
    },
    "tags": []
   },
   "source": [
    "単語や品詞などが表示されている。\\nで一つの単語に分割していて、\\t以降は品詞などの付属情報が含まれている。"
   ]
  },
  {
   "cell_type": "code",
   "execution_count": 10,
   "id": "dd241e04",
   "metadata": {
    "execution": {
     "iopub.execute_input": "2024-09-07T16:22:40.179929Z",
     "iopub.status.busy": "2024-09-07T16:22:40.179504Z",
     "iopub.status.idle": "2024-09-07T16:22:40.187487Z",
     "shell.execute_reply": "2024-09-07T16:22:40.186365Z"
    },
    "papermill": {
     "duration": 0.027114,
     "end_time": "2024-09-07T16:22:40.189980",
     "exception": false,
     "start_time": "2024-09-07T16:22:40.162866",
     "status": "completed"
    },
    "tags": []
   },
   "outputs": [
    {
     "data": {
      "text/plain": [
       "['すもも\\tスモモ\\tスモモ\\t李\\t名詞-普通名詞-一般\\t\\t\\t0',\n",
       " 'も\\tモ\\tモ\\tも\\t助詞-係助詞\\t\\t\\t',\n",
       " 'もも\\tモモ\\tモモ\\t桃\\t名詞-普通名詞-一般\\t\\t\\t0',\n",
       " 'も\\tモ\\tモ\\tも\\t助詞-係助詞\\t\\t\\t',\n",
       " 'もも\\tモモ\\tモモ\\t桃\\t名詞-普通名詞-一般\\t\\t\\t0',\n",
       " 'の\\tノ\\tノ\\tの\\t助詞-格助詞\\t\\t\\t',\n",
       " 'うち\\tウチ\\tウチ\\t内\\t名詞-普通名詞-副詞可能\\t\\t\\t0',\n",
       " 'EOS']"
      ]
     },
     "execution_count": 10,
     "metadata": {},
     "output_type": "execute_result"
    }
   ],
   "source": [
    "# さっきの結果を「\\n」で区切って配列に格納する\n",
    "words = tagger.parse(text).splitlines()\n",
    "words"
   ]
  },
  {
   "cell_type": "markdown",
   "id": "e8e88c0e",
   "metadata": {
    "papermill": {
     "duration": 0.01402,
     "end_time": "2024-09-07T16:22:40.218928",
     "exception": false,
     "start_time": "2024-09-07T16:22:40.204908",
     "status": "completed"
    },
    "tags": []
   },
   "source": [
    "「EOS」は文の終わりを表す特殊文字"
   ]
  },
  {
   "cell_type": "code",
   "execution_count": 11,
   "id": "0fdaad17",
   "metadata": {
    "execution": {
     "iopub.execute_input": "2024-09-07T16:22:40.251787Z",
     "iopub.status.busy": "2024-09-07T16:22:40.251343Z",
     "iopub.status.idle": "2024-09-07T16:22:40.259206Z",
     "shell.execute_reply": "2024-09-07T16:22:40.258115Z"
    },
    "papermill": {
     "duration": 0.026791,
     "end_time": "2024-09-07T16:22:40.261582",
     "exception": false,
     "start_time": "2024-09-07T16:22:40.234791",
     "status": "completed"
    },
    "tags": []
   },
   "outputs": [
    {
     "data": {
      "text/plain": [
       "['すもも', 'も', 'もも', 'も', 'もも', 'の', 'うち']"
      ]
     },
     "execution_count": 11,
     "metadata": {},
     "output_type": "execute_result"
    }
   ],
   "source": [
    "words_arr = []\n",
    "for i in words:\n",
    "    if i == 'EOS' : continue # 特殊文字「EOS」はwords_arrに追加しない\n",
    "    # 文字の部分だけ取り出す（配列の２番目以降には付属情報が入っている）\n",
    "    word_tmp = i.split()[0] \n",
    "    words_arr.append(word_tmp)\n",
    "words_arr"
   ]
  },
  {
   "cell_type": "markdown",
   "id": "f5097fdd",
   "metadata": {
    "papermill": {
     "duration": 0.014168,
     "end_time": "2024-09-07T16:22:40.290137",
     "exception": false,
     "start_time": "2024-09-07T16:22:40.275969",
     "status": "completed"
    },
    "tags": []
   },
   "source": [
    "## ノック95 : 形態素解析で文章から「動詞・名詞」を抽出する"
   ]
  },
  {
   "cell_type": "code",
   "execution_count": 12,
   "id": "321e20ca",
   "metadata": {
    "execution": {
     "iopub.execute_input": "2024-09-07T16:22:40.321791Z",
     "iopub.status.busy": "2024-09-07T16:22:40.321371Z",
     "iopub.status.idle": "2024-09-07T16:22:40.330550Z",
     "shell.execute_reply": "2024-09-07T16:22:40.329357Z"
    },
    "papermill": {
     "duration": 0.027811,
     "end_time": "2024-09-07T16:22:40.332834",
     "exception": false,
     "start_time": "2024-09-07T16:22:40.305023",
     "status": "completed"
    },
    "tags": []
   },
   "outputs": [
    {
     "data": {
      "text/plain": [
       "['すもも', 'もも', 'もも', 'うち']"
      ]
     },
     "execution_count": 12,
     "metadata": {},
     "output_type": "execute_result"
    }
   ],
   "source": [
    "text = 'すもももももももものうち'\n",
    "words = tagger.parse(text).splitlines()\n",
    "words_arr = []\n",
    "\n",
    "parts = ['名詞', '動詞']\n",
    "for i in words:\n",
    "    if i == 'EOS' or i == '' : continue # EOSと空白は無視\n",
    "    word_tmp = i.split()[0]\n",
    "    # 品詞の情報は前から5番目（そのうち大分類は一番目）\n",
    "    part = i.split()[4].split('-')[0]\n",
    "    # 動詞と名詞以外の場合は追加しない\n",
    "    if not (part in parts): continue \n",
    "    words_arr.append(word_tmp)\n",
    "\n",
    "words_arr"
   ]
  },
  {
   "cell_type": "markdown",
   "id": "3d41e861",
   "metadata": {
    "papermill": {
     "duration": 0.014417,
     "end_time": "2024-09-07T16:22:40.361933",
     "exception": false,
     "start_time": "2024-09-07T16:22:40.347516",
     "status": "completed"
    },
    "tags": []
   },
   "source": [
    "ここから先は名詞に絞ってsurveyデータを分析していく。"
   ]
  },
  {
   "cell_type": "markdown",
   "id": "1c23e7d2",
   "metadata": {
    "papermill": {
     "duration": 0.014222,
     "end_time": "2024-09-07T16:22:40.390758",
     "exception": false,
     "start_time": "2024-09-07T16:22:40.376536",
     "status": "completed"
    },
    "tags": []
   },
   "source": [
    "## ノック96 : 形態素解析で抽出した頻出する名詞を確認する"
   ]
  },
  {
   "cell_type": "markdown",
   "id": "0abdff1b",
   "metadata": {
    "papermill": {
     "duration": 0.014327,
     "end_time": "2024-09-07T16:22:40.420010",
     "exception": false,
     "start_time": "2024-09-07T16:22:40.405683",
     "status": "completed"
    },
    "tags": []
   },
   "source": [
    "surveyデータのcomment列を単語に分割して、all_wordsリストに全て追加していく。そのあと足し上げる。"
   ]
  },
  {
   "cell_type": "code",
   "execution_count": 13,
   "id": "b68aae2c",
   "metadata": {
    "execution": {
     "iopub.execute_input": "2024-09-07T16:22:40.450872Z",
     "iopub.status.busy": "2024-09-07T16:22:40.450474Z",
     "iopub.status.idle": "2024-09-07T16:22:40.470543Z",
     "shell.execute_reply": "2024-09-07T16:22:40.469342Z"
    },
    "papermill": {
     "duration": 0.038371,
     "end_time": "2024-09-07T16:22:40.473059",
     "exception": false,
     "start_time": "2024-09-07T16:22:40.434688",
     "status": "completed"
    },
    "tags": []
   },
   "outputs": [
    {
     "name": "stdout",
     "output_type": "stream",
     "text": [
      "['駅前', '若者', 'スポーツ', '場所', '子育て', '支援', '保育', '駅前', '商店', '生活', '便利', '場所', '場所', '商業', '施設', '病院', '充実', 'サイクリング', 'コース', '祭り', '学校', '公園', '近く', '公園', 'スーパー', '子育て', 'デート', 'スポット', '商店', '夜道', 'ゴミ', '処理', '楽', '映画', '街路', '公園', '追加', '観光', 'スポット', '子育て', '道', '都内', 'アクセス', '家賃', 'BBB', '渋滞', '商店', '屋根', '雨', '商店', '喫茶', 'スポーツ', 'ジム', '利用', 'スポーツ', 'ジム', '利用', '料金', 'ママ', '支援', 'バス', '自転', 'ランニング', '運動', '場所', '企業', '駅前', '駐車', '変', 'おじ', '声', '事', '警察', '巡回', '強化', '消防', '安心', '災害', '時', '避難', '場所', '気', '最近', '川', '氾濫', '被害', '町', '氾濫', '防止', '説明', '信号', '交差', '点', 'ｘｘｘ', '事故', '信号', '商店', '活性', '活動', '行政', '後押し', '子ども', '安全', '場所', '駅前', '駐輪', '不便', '街路', '落ち葉', '掃除', '街路', '災害', '時', '備蓄', '状況', '歩道', '道', '安心', '地域', '自治', '体', '支援', '自治', '体', '活動', '安心', '観光', '地', '最近', '他県', 'ナンバー', '車', '防犯', '駐車', '数', '料金', '駅前', '公共', '駐車', '歩行', '信号', '老人', '子供', '事', '設定', '急行', '都内', 'バス', '路線', '春', '桜', '並木', '最高', '桜', '並木', '隣町', 'ごみ', '処理', '施設', '心配', '公害', '市長', '活気', 'アンケート', '確認', '街づくり', '反映', '姿勢', '先月', '職員', '不正', '事件', '詳細', '説明', '役所', '担当', '愛想', '気', '役所', '出張', '駅前', '役所', '土日', '災害', '時', '避難', '経路', '表示', '市', 'ホーム', 'ページ', '役所', '電話', '対応', '路地', '街頭', '動物', '冬場', '路面', '凍結', '事故', '対応', '自然', '野良猫', '糞害', '行政', '野良猫', '対策', '役所', '相談', 'とき', '対応', '高速', '道路', '道', '渋滞', '拡幅', 'まち', 'マスコット', '夜間', '対応', '病院', '不安', '高齢', 'サポート', '施設', '学校', '校庭', '芝生', 'ホーム', 'ページ', 'アンケート', '投稿', '公園', '道具', '公園', '駅前', '駐車', '不便']\n"
     ]
    }
   ],
   "source": [
    "all_words = []\n",
    "parts = ['名詞']\n",
    "for n in range(len(survey)):\n",
    "    # コメントを一行分抽出\n",
    "    text = survey['comment'].iloc[n]\n",
    "    words = tagger.parse(text).splitlines()\n",
    "    words_arr = []\n",
    "    for i in words:\n",
    "        if i == 'EOS' or i == '' : continue\n",
    "        word_tmp = i.split()[0]\n",
    "        # list index out of range　対策\n",
    "        if len(i.split()) >= 4:\n",
    "            part = i.split()[4].split('-')[0]\n",
    "            if not(part in parts) : continue\n",
    "            words_arr.append(word_tmp)\n",
    "    all_words.extend(words_arr)\n",
    "print(all_words)"
   ]
  },
  {
   "cell_type": "markdown",
   "id": "45a9a74e",
   "metadata": {
    "papermill": {
     "duration": 0.014924,
     "end_time": "2024-09-07T16:22:40.503047",
     "exception": false,
     "start_time": "2024-09-07T16:22:40.488123",
     "status": "completed"
    },
    "tags": []
   },
   "source": [
    "複数存在する単語があるので、データフレームに格納してから集計を行う。"
   ]
  },
  {
   "cell_type": "code",
   "execution_count": 14,
   "id": "e6fce951",
   "metadata": {
    "execution": {
     "iopub.execute_input": "2024-09-07T16:22:40.590013Z",
     "iopub.status.busy": "2024-09-07T16:22:40.589621Z",
     "iopub.status.idle": "2024-09-07T16:22:40.614331Z",
     "shell.execute_reply": "2024-09-07T16:22:40.613007Z"
    },
    "papermill": {
     "duration": 0.044283,
     "end_time": "2024-09-07T16:22:40.616940",
     "exception": false,
     "start_time": "2024-09-07T16:22:40.572657",
     "status": "completed"
    },
    "tags": []
   },
   "outputs": [
    {
     "data": {
      "text/html": [
       "<div>\n",
       "<style scoped>\n",
       "    .dataframe tbody tr th:only-of-type {\n",
       "        vertical-align: middle;\n",
       "    }\n",
       "\n",
       "    .dataframe tbody tr th {\n",
       "        vertical-align: top;\n",
       "    }\n",
       "\n",
       "    .dataframe thead th {\n",
       "        text-align: right;\n",
       "    }\n",
       "</style>\n",
       "<table border=\"1\" class=\"dataframe\">\n",
       "  <thead>\n",
       "    <tr style=\"text-align: right;\">\n",
       "      <th></th>\n",
       "      <th>count</th>\n",
       "    </tr>\n",
       "    <tr>\n",
       "      <th>words</th>\n",
       "      <th></th>\n",
       "    </tr>\n",
       "  </thead>\n",
       "  <tbody>\n",
       "    <tr>\n",
       "      <th>駅前</th>\n",
       "      <td>7</td>\n",
       "    </tr>\n",
       "    <tr>\n",
       "      <th>場所</th>\n",
       "      <td>6</td>\n",
       "    </tr>\n",
       "    <tr>\n",
       "      <th>商店</th>\n",
       "      <td>5</td>\n",
       "    </tr>\n",
       "    <tr>\n",
       "      <th>公園</th>\n",
       "      <td>5</td>\n",
       "    </tr>\n",
       "    <tr>\n",
       "      <th>役所</th>\n",
       "      <td>5</td>\n",
       "    </tr>\n",
       "    <tr>\n",
       "      <th>対応</th>\n",
       "      <td>4</td>\n",
       "    </tr>\n",
       "    <tr>\n",
       "      <th>駐車</th>\n",
       "      <td>4</td>\n",
       "    </tr>\n",
       "    <tr>\n",
       "      <th>信号</th>\n",
       "      <td>3</td>\n",
       "    </tr>\n",
       "    <tr>\n",
       "      <th>道</th>\n",
       "      <td>3</td>\n",
       "    </tr>\n",
       "    <tr>\n",
       "      <th>安心</th>\n",
       "      <td>3</td>\n",
       "    </tr>\n",
       "    <tr>\n",
       "      <th>災害</th>\n",
       "      <td>3</td>\n",
       "    </tr>\n",
       "    <tr>\n",
       "      <th>スポーツ</th>\n",
       "      <td>3</td>\n",
       "    </tr>\n",
       "    <tr>\n",
       "      <th>子育て</th>\n",
       "      <td>3</td>\n",
       "    </tr>\n",
       "    <tr>\n",
       "      <th>街路</th>\n",
       "      <td>3</td>\n",
       "    </tr>\n",
       "    <tr>\n",
       "      <th>支援</th>\n",
       "      <td>3</td>\n",
       "    </tr>\n",
       "    <tr>\n",
       "      <th>施設</th>\n",
       "      <td>3</td>\n",
       "    </tr>\n",
       "    <tr>\n",
       "      <th>時</th>\n",
       "      <td>3</td>\n",
       "    </tr>\n",
       "    <tr>\n",
       "      <th>観光</th>\n",
       "      <td>2</td>\n",
       "    </tr>\n",
       "    <tr>\n",
       "      <th>説明</th>\n",
       "      <td>2</td>\n",
       "    </tr>\n",
       "    <tr>\n",
       "      <th>行政</th>\n",
       "      <td>2</td>\n",
       "    </tr>\n",
       "  </tbody>\n",
       "</table>\n",
       "</div>"
      ],
      "text/plain": [
       "       count\n",
       "words       \n",
       "駅前         7\n",
       "場所         6\n",
       "商店         5\n",
       "公園         5\n",
       "役所         5\n",
       "対応         4\n",
       "駐車         4\n",
       "信号         3\n",
       "道          3\n",
       "安心         3\n",
       "災害         3\n",
       "スポーツ       3\n",
       "子育て        3\n",
       "街路         3\n",
       "支援         3\n",
       "施設         3\n",
       "時          3\n",
       "観光         2\n",
       "説明         2\n",
       "行政         2"
      ]
     },
     "execution_count": 14,
     "metadata": {},
     "output_type": "execute_result"
    }
   ],
   "source": [
    "# count列の中身はは一旦適当に埋めておく\n",
    "all_words_df = pd.DataFrame({'words' : all_words, 'count' : len(all_words) * [1]})\n",
    "all_words_df = all_words_df.groupby('words').sum()\n",
    "all_words_df.sort_values('count', ascending=False).head(20)"
   ]
  },
  {
   "cell_type": "markdown",
   "id": "b2bbe732",
   "metadata": {
    "papermill": {
     "duration": 0.015543,
     "end_time": "2024-09-07T16:22:40.648064",
     "exception": false,
     "start_time": "2024-09-07T16:22:40.632521",
     "status": "completed"
    },
    "tags": []
   },
   "source": [
    "名詞だけを取得してもノイズのような単語が含まれてしまうことが多い。"
   ]
  },
  {
   "cell_type": "markdown",
   "id": "087241a7",
   "metadata": {
    "papermill": {
     "duration": 0.01496,
     "end_time": "2024-09-07T16:22:40.679244",
     "exception": false,
     "start_time": "2024-09-07T16:22:40.664284",
     "status": "completed"
    },
    "tags": []
   },
   "source": [
    "## ノック97 : 関係のなさそうな単語の除去"
   ]
  },
  {
   "cell_type": "markdown",
   "id": "4f8d2b31",
   "metadata": {
    "papermill": {
     "duration": 0.01469,
     "end_time": "2024-09-07T16:22:40.708825",
     "exception": false,
     "start_time": "2024-09-07T16:22:40.694135",
     "status": "completed"
    },
    "tags": []
   },
   "source": [
    "「形態素解析をする際に数えない」ことが有効。"
   ]
  },
  {
   "cell_type": "code",
   "execution_count": 15,
   "id": "d0e7222a",
   "metadata": {
    "execution": {
     "iopub.execute_input": "2024-09-07T16:22:40.740460Z",
     "iopub.status.busy": "2024-09-07T16:22:40.740051Z",
     "iopub.status.idle": "2024-09-07T16:22:40.755039Z",
     "shell.execute_reply": "2024-09-07T16:22:40.754017Z"
    },
    "papermill": {
     "duration": 0.033978,
     "end_time": "2024-09-07T16:22:40.757668",
     "exception": false,
     "start_time": "2024-09-07T16:22:40.723690",
     "status": "completed"
    },
    "tags": []
   },
   "outputs": [
    {
     "name": "stdout",
     "output_type": "stream",
     "text": [
      "['駅前', '若者', 'スポーツ', '場所', '子育て', '支援', '保育', '駅前', '商店', '生活', '便利', '場所', '場所', '商業', '施設', '病院', '充実', 'サイクリング', 'コース', '祭り', '学校', '公園', '近く', '公園', 'スーパー', '子育て', 'デート', 'スポット', '商店', '夜道', 'ゴミ', '処理', '楽', '映画', '街路', '公園', '追加', '観光', 'スポット', '子育て', '道', '都内', 'アクセス', '家賃', 'BBB', '渋滞', '商店', '屋根', '雨', '商店', '喫茶', 'スポーツ', 'ジム', '利用', 'スポーツ', 'ジム', '利用', '料金', 'ママ', '支援', 'バス', '自転', 'ランニング', '運動', '場所', '企業', '駅前', '駐車', '変', 'おじ', '声', '事', '警察', '巡回', '強化', '消防', '安心', '災害', '避難', '場所', '気', '最近', '川', '氾濫', '被害', '町', '氾濫', '防止', '説明', '信号', '交差', '点', 'ｘｘｘ', '事故', '信号', '商店', '活性', '活動', '行政', '後押し', '子ども', '安全', '場所', '駅前', '駐輪', '不便', '街路', '落ち葉', '掃除', '街路', '災害', '備蓄', '状況', '歩道', '道', '安心', '地域', '自治', '体', '支援', '自治', '体', '活動', '安心', '観光', '地', '最近', '他県', 'ナンバー', '車', '防犯', '駐車', '数', '料金', '駅前', '公共', '駐車', '歩行', '信号', '老人', '子供', '事', '設定', '急行', '都内', 'バス', '路線', '春', '桜', '並木', '最高', '桜', '並木', '隣町', 'ごみ', '処理', '施設', '心配', '公害', '市長', '活気', 'アンケート', '確認', '街づくり', '反映', '姿勢', '先月', '職員', '不正', '事件', '詳細', '説明', '役所', '担当', '愛想', '気', '役所', '出張', '駅前', '役所', '土日', '災害', '避難', '経路', '表示', '市', 'ホーム', 'ページ', '役所', '電話', '対応', '路地', '街頭', '動物', '冬場', '路面', '凍結', '事故', '対応', '自然', '野良猫', '糞害', '行政', '野良猫', '対策', '役所', '相談', 'とき', '対応', '高速', '道路', '道', '渋滞', '拡幅', 'まち', 'マスコット', '夜間', '対応', '病院', '不安', '高齢', 'サポート', '施設', '学校', '校庭', '芝生', 'ホーム', 'ページ', 'アンケート', '投稿', '公園', '道具', '公園', '駅前', '駐車', '不便']\n"
     ]
    }
   ],
   "source": [
    "stop_words = ['時'] # 「時」という単語を含まないようにする\n",
    "all_words = []\n",
    "parts = ['名詞']\n",
    "for n in range(len(survey)):\n",
    "    text = survey['comment'].iloc[n]\n",
    "    words = tagger.parse(text).splitlines()\n",
    "    words_arr = []\n",
    "    for i in words:\n",
    "        if i == 'EOS' or i == '' : continue\n",
    "        word_tmp = i.split()[0]\n",
    "        # list index out of range　対策\n",
    "        if len(i.split()) >= 4:\n",
    "            part = i.split()[4].split('-')[0]\n",
    "            if not(part in parts) : continue\n",
    "            if word_tmp in stop_words : continue\n",
    "            words_arr.append(word_tmp)\n",
    "    all_words.extend(words_arr)\n",
    "print(all_words)"
   ]
  },
  {
   "cell_type": "code",
   "execution_count": 16,
   "id": "5437bda8",
   "metadata": {
    "execution": {
     "iopub.execute_input": "2024-09-07T16:22:40.789704Z",
     "iopub.status.busy": "2024-09-07T16:22:40.789298Z",
     "iopub.status.idle": "2024-09-07T16:22:40.803626Z",
     "shell.execute_reply": "2024-09-07T16:22:40.802461Z"
    },
    "papermill": {
     "duration": 0.033065,
     "end_time": "2024-09-07T16:22:40.805861",
     "exception": false,
     "start_time": "2024-09-07T16:22:40.772796",
     "status": "completed"
    },
    "tags": []
   },
   "outputs": [
    {
     "data": {
      "text/html": [
       "<div>\n",
       "<style scoped>\n",
       "    .dataframe tbody tr th:only-of-type {\n",
       "        vertical-align: middle;\n",
       "    }\n",
       "\n",
       "    .dataframe tbody tr th {\n",
       "        vertical-align: top;\n",
       "    }\n",
       "\n",
       "    .dataframe thead th {\n",
       "        text-align: right;\n",
       "    }\n",
       "</style>\n",
       "<table border=\"1\" class=\"dataframe\">\n",
       "  <thead>\n",
       "    <tr style=\"text-align: right;\">\n",
       "      <th></th>\n",
       "      <th>count</th>\n",
       "    </tr>\n",
       "    <tr>\n",
       "      <th>words</th>\n",
       "      <th></th>\n",
       "    </tr>\n",
       "  </thead>\n",
       "  <tbody>\n",
       "    <tr>\n",
       "      <th>駅前</th>\n",
       "      <td>7</td>\n",
       "    </tr>\n",
       "    <tr>\n",
       "      <th>場所</th>\n",
       "      <td>6</td>\n",
       "    </tr>\n",
       "    <tr>\n",
       "      <th>役所</th>\n",
       "      <td>5</td>\n",
       "    </tr>\n",
       "    <tr>\n",
       "      <th>商店</th>\n",
       "      <td>5</td>\n",
       "    </tr>\n",
       "    <tr>\n",
       "      <th>公園</th>\n",
       "      <td>5</td>\n",
       "    </tr>\n",
       "    <tr>\n",
       "      <th>対応</th>\n",
       "      <td>4</td>\n",
       "    </tr>\n",
       "    <tr>\n",
       "      <th>駐車</th>\n",
       "      <td>4</td>\n",
       "    </tr>\n",
       "    <tr>\n",
       "      <th>子育て</th>\n",
       "      <td>3</td>\n",
       "    </tr>\n",
       "    <tr>\n",
       "      <th>道</th>\n",
       "      <td>3</td>\n",
       "    </tr>\n",
       "    <tr>\n",
       "      <th>災害</th>\n",
       "      <td>3</td>\n",
       "    </tr>\n",
       "    <tr>\n",
       "      <th>信号</th>\n",
       "      <td>3</td>\n",
       "    </tr>\n",
       "    <tr>\n",
       "      <th>安心</th>\n",
       "      <td>3</td>\n",
       "    </tr>\n",
       "    <tr>\n",
       "      <th>スポーツ</th>\n",
       "      <td>3</td>\n",
       "    </tr>\n",
       "    <tr>\n",
       "      <th>支援</th>\n",
       "      <td>3</td>\n",
       "    </tr>\n",
       "    <tr>\n",
       "      <th>施設</th>\n",
       "      <td>3</td>\n",
       "    </tr>\n",
       "    <tr>\n",
       "      <th>街路</th>\n",
       "      <td>3</td>\n",
       "    </tr>\n",
       "    <tr>\n",
       "      <th>事</th>\n",
       "      <td>2</td>\n",
       "    </tr>\n",
       "    <tr>\n",
       "      <th>説明</th>\n",
       "      <td>2</td>\n",
       "    </tr>\n",
       "    <tr>\n",
       "      <th>行政</th>\n",
       "      <td>2</td>\n",
       "    </tr>\n",
       "    <tr>\n",
       "      <th>観光</th>\n",
       "      <td>2</td>\n",
       "    </tr>\n",
       "  </tbody>\n",
       "</table>\n",
       "</div>"
      ],
      "text/plain": [
       "       count\n",
       "words       \n",
       "駅前         7\n",
       "場所         6\n",
       "役所         5\n",
       "商店         5\n",
       "公園         5\n",
       "対応         4\n",
       "駐車         4\n",
       "子育て        3\n",
       "道          3\n",
       "災害         3\n",
       "信号         3\n",
       "安心         3\n",
       "スポーツ       3\n",
       "支援         3\n",
       "施設         3\n",
       "街路         3\n",
       "事          2\n",
       "説明         2\n",
       "行政         2\n",
       "観光         2"
      ]
     },
     "execution_count": 16,
     "metadata": {},
     "output_type": "execute_result"
    }
   ],
   "source": [
    "# count列の中身はは一旦適当に埋めておく\n",
    "all_words_df = pd.DataFrame({'words' : all_words, 'count' : len(all_words) * [1]})\n",
    "all_words_df = all_words_df.groupby('words').sum()\n",
    "all_words_df.sort_values('count', ascending=False).head(20)"
   ]
  },
  {
   "cell_type": "markdown",
   "id": "dc5bb934",
   "metadata": {
    "papermill": {
     "duration": 0.01488,
     "end_time": "2024-09-07T16:22:40.836137",
     "exception": false,
     "start_time": "2024-09-07T16:22:40.821257",
     "status": "completed"
    },
    "tags": []
   },
   "source": [
    "「時」がランキングから消えているのがわかる！"
   ]
  },
  {
   "cell_type": "markdown",
   "id": "a352b1b4",
   "metadata": {
    "papermill": {
     "duration": 0.014931,
     "end_time": "2024-09-07T16:22:40.866449",
     "exception": false,
     "start_time": "2024-09-07T16:22:40.851518",
     "status": "completed"
    },
    "tags": []
   },
   "source": [
    "## ノック98 : 顧客満足度と頻出単語の関係を見てみよう"
   ]
  },
  {
   "cell_type": "code",
   "execution_count": 17,
   "id": "c94e538d",
   "metadata": {
    "execution": {
     "iopub.execute_input": "2024-09-07T16:22:40.899745Z",
     "iopub.status.busy": "2024-09-07T16:22:40.898920Z",
     "iopub.status.idle": "2024-09-07T16:22:40.925184Z",
     "shell.execute_reply": "2024-09-07T16:22:40.924058Z"
    },
    "papermill": {
     "duration": 0.045309,
     "end_time": "2024-09-07T16:22:40.927446",
     "exception": false,
     "start_time": "2024-09-07T16:22:40.882137",
     "status": "completed"
    },
    "tags": []
   },
   "outputs": [
    {
     "data": {
      "text/html": [
       "<div>\n",
       "<style scoped>\n",
       "    .dataframe tbody tr th:only-of-type {\n",
       "        vertical-align: middle;\n",
       "    }\n",
       "\n",
       "    .dataframe tbody tr th {\n",
       "        vertical-align: top;\n",
       "    }\n",
       "\n",
       "    .dataframe thead th {\n",
       "        text-align: right;\n",
       "    }\n",
       "</style>\n",
       "<table border=\"1\" class=\"dataframe\">\n",
       "  <thead>\n",
       "    <tr style=\"text-align: right;\">\n",
       "      <th></th>\n",
       "      <th>words</th>\n",
       "      <th>satisfaction</th>\n",
       "      <th>count</th>\n",
       "    </tr>\n",
       "  </thead>\n",
       "  <tbody>\n",
       "    <tr>\n",
       "      <th>0</th>\n",
       "      <td>駅前</td>\n",
       "      <td>1</td>\n",
       "      <td>1</td>\n",
       "    </tr>\n",
       "    <tr>\n",
       "      <th>1</th>\n",
       "      <td>若者</td>\n",
       "      <td>1</td>\n",
       "      <td>1</td>\n",
       "    </tr>\n",
       "    <tr>\n",
       "      <th>2</th>\n",
       "      <td>スポーツ</td>\n",
       "      <td>5</td>\n",
       "      <td>1</td>\n",
       "    </tr>\n",
       "    <tr>\n",
       "      <th>3</th>\n",
       "      <td>場所</td>\n",
       "      <td>5</td>\n",
       "      <td>1</td>\n",
       "    </tr>\n",
       "    <tr>\n",
       "      <th>4</th>\n",
       "      <td>子育て</td>\n",
       "      <td>5</td>\n",
       "      <td>1</td>\n",
       "    </tr>\n",
       "  </tbody>\n",
       "</table>\n",
       "</div>"
      ],
      "text/plain": [
       "  words  satisfaction  count\n",
       "0    駅前             1      1\n",
       "1    若者             1      1\n",
       "2  スポーツ             5      1\n",
       "3    場所             5      1\n",
       "4   子育て             5      1"
      ]
     },
     "execution_count": 17,
     "metadata": {},
     "output_type": "execute_result"
    }
   ],
   "source": [
    "stop_words = ['時']\n",
    "parts = ['名詞']\n",
    "all_words = []\n",
    "satisfaction = []\n",
    "for n in range(len(survey)):\n",
    "    text = survey['comment'].iloc[n]\n",
    "    words = tagger.parse(text).splitlines()\n",
    "    words_arr = []\n",
    "    for i in words:\n",
    "        if i == 'EOS' or i == '' : continue\n",
    "        word_tmp = i.split()[0]\n",
    "        # list index out of range　対策\n",
    "        if len(i.split()) >= 4:\n",
    "            part = i.split()[4].split('-')[0]\n",
    "            if not(part in parts) : continue\n",
    "            if word_tmp in stop_words : continue\n",
    "            words_arr.append(word_tmp)\n",
    "            satisfaction.append(survey['satisfaction'].iloc[n])\n",
    "    all_words.extend(words_arr)\n",
    "\n",
    "# count列は適当に埋めていることに注意\n",
    "all_words_df = pd.DataFrame({'words' : all_words, 'satisfaction' : satisfaction, \n",
    "                             'count' : len(all_words) * [1]})\n",
    "all_words_df.head()\n"
   ]
  },
  {
   "cell_type": "code",
   "execution_count": 18,
   "id": "e587f0f4",
   "metadata": {
    "execution": {
     "iopub.execute_input": "2024-09-07T16:22:40.961329Z",
     "iopub.status.busy": "2024-09-07T16:22:40.960327Z",
     "iopub.status.idle": "2024-09-07T16:22:40.973832Z",
     "shell.execute_reply": "2024-09-07T16:22:40.972716Z"
    },
    "papermill": {
     "duration": 0.032992,
     "end_time": "2024-09-07T16:22:40.976414",
     "exception": false,
     "start_time": "2024-09-07T16:22:40.943422",
     "status": "completed"
    },
    "tags": []
   },
   "outputs": [
    {
     "data": {
      "text/plain": [
       "words\n",
       "BBB    2.0\n",
       "おじ     1.0\n",
       "ごみ     2.0\n",
       "とき     5.0\n",
       "まち     2.0\n",
       "Name: satisfaction, dtype: float64"
      ]
     },
     "execution_count": 18,
     "metadata": {},
     "output_type": "execute_result"
    }
   ],
   "source": [
    "# wordsごとに集計\n",
    "words_satisfaction = all_words_df.groupby('words').mean()['satisfaction']\n",
    "words_satisfaction.head()"
   ]
  },
  {
   "cell_type": "code",
   "execution_count": 19,
   "id": "d973cfb4",
   "metadata": {
    "execution": {
     "iopub.execute_input": "2024-09-07T16:22:41.012432Z",
     "iopub.status.busy": "2024-09-07T16:22:41.012014Z",
     "iopub.status.idle": "2024-09-07T16:22:41.026554Z",
     "shell.execute_reply": "2024-09-07T16:22:41.025442Z"
    },
    "papermill": {
     "duration": 0.035146,
     "end_time": "2024-09-07T16:22:41.028799",
     "exception": false,
     "start_time": "2024-09-07T16:22:40.993653",
     "status": "completed"
    },
    "tags": []
   },
   "outputs": [
    {
     "data": {
      "text/html": [
       "<div>\n",
       "<style scoped>\n",
       "    .dataframe tbody tr th:only-of-type {\n",
       "        vertical-align: middle;\n",
       "    }\n",
       "\n",
       "    .dataframe tbody tr th {\n",
       "        vertical-align: top;\n",
       "    }\n",
       "\n",
       "    .dataframe thead th {\n",
       "        text-align: right;\n",
       "    }\n",
       "</style>\n",
       "<table border=\"1\" class=\"dataframe\">\n",
       "  <thead>\n",
       "    <tr style=\"text-align: right;\">\n",
       "      <th></th>\n",
       "      <th>satisfaction</th>\n",
       "      <th>count</th>\n",
       "    </tr>\n",
       "    <tr>\n",
       "      <th>words</th>\n",
       "      <th></th>\n",
       "      <th></th>\n",
       "    </tr>\n",
       "  </thead>\n",
       "  <tbody>\n",
       "    <tr>\n",
       "      <th>BBB</th>\n",
       "      <td>2.0</td>\n",
       "      <td>1</td>\n",
       "    </tr>\n",
       "    <tr>\n",
       "      <th>おじ</th>\n",
       "      <td>1.0</td>\n",
       "      <td>1</td>\n",
       "    </tr>\n",
       "    <tr>\n",
       "      <th>ごみ</th>\n",
       "      <td>2.0</td>\n",
       "      <td>1</td>\n",
       "    </tr>\n",
       "    <tr>\n",
       "      <th>とき</th>\n",
       "      <td>5.0</td>\n",
       "      <td>1</td>\n",
       "    </tr>\n",
       "    <tr>\n",
       "      <th>まち</th>\n",
       "      <td>2.0</td>\n",
       "      <td>1</td>\n",
       "    </tr>\n",
       "  </tbody>\n",
       "</table>\n",
       "</div>"
      ],
      "text/plain": [
       "       satisfaction  count\n",
       "words                     \n",
       "BBB             2.0      1\n",
       "おじ              1.0      1\n",
       "ごみ              2.0      1\n",
       "とき              5.0      1\n",
       "まち              2.0      1"
      ]
     },
     "execution_count": 19,
     "metadata": {},
     "output_type": "execute_result"
    }
   ],
   "source": [
    "words_count = all_words_df.groupby('words').sum()['count']\n",
    "words_df = pd.concat([words_satisfaction, words_count], axis=1)\n",
    "words_df.head()"
   ]
  },
  {
   "cell_type": "markdown",
   "id": "e6d36e32",
   "metadata": {
    "papermill": {
     "duration": 0.015635,
     "end_time": "2024-09-07T16:22:41.060280",
     "exception": false,
     "start_time": "2024-09-07T16:22:41.044645",
     "status": "completed"
    },
    "tags": []
   },
   "source": [
    "3回以上出現しているデータに絞ってみる"
   ]
  },
  {
   "cell_type": "code",
   "execution_count": 20,
   "id": "1c3305fc",
   "metadata": {
    "execution": {
     "iopub.execute_input": "2024-09-07T16:22:41.094386Z",
     "iopub.status.busy": "2024-09-07T16:22:41.093983Z",
     "iopub.status.idle": "2024-09-07T16:22:41.107359Z",
     "shell.execute_reply": "2024-09-07T16:22:41.106319Z"
    },
    "papermill": {
     "duration": 0.033108,
     "end_time": "2024-09-07T16:22:41.109725",
     "exception": false,
     "start_time": "2024-09-07T16:22:41.076617",
     "status": "completed"
    },
    "tags": []
   },
   "outputs": [
    {
     "data": {
      "text/html": [
       "<div>\n",
       "<style scoped>\n",
       "    .dataframe tbody tr th:only-of-type {\n",
       "        vertical-align: middle;\n",
       "    }\n",
       "\n",
       "    .dataframe tbody tr th {\n",
       "        vertical-align: top;\n",
       "    }\n",
       "\n",
       "    .dataframe thead th {\n",
       "        text-align: right;\n",
       "    }\n",
       "</style>\n",
       "<table border=\"1\" class=\"dataframe\">\n",
       "  <thead>\n",
       "    <tr style=\"text-align: right;\">\n",
       "      <th></th>\n",
       "      <th>satisfaction</th>\n",
       "      <th>count</th>\n",
       "    </tr>\n",
       "    <tr>\n",
       "      <th>words</th>\n",
       "      <th></th>\n",
       "      <th></th>\n",
       "    </tr>\n",
       "  </thead>\n",
       "  <tbody>\n",
       "    <tr>\n",
       "      <th>子育て</th>\n",
       "      <td>4.333333</td>\n",
       "      <td>3</td>\n",
       "    </tr>\n",
       "    <tr>\n",
       "      <th>安心</th>\n",
       "      <td>4.333333</td>\n",
       "      <td>3</td>\n",
       "    </tr>\n",
       "    <tr>\n",
       "      <th>スポーツ</th>\n",
       "      <td>3.666667</td>\n",
       "      <td>3</td>\n",
       "    </tr>\n",
       "    <tr>\n",
       "      <th>場所</th>\n",
       "      <td>3.000000</td>\n",
       "      <td>6</td>\n",
       "    </tr>\n",
       "    <tr>\n",
       "      <th>役所</th>\n",
       "      <td>3.000000</td>\n",
       "      <td>5</td>\n",
       "    </tr>\n",
       "  </tbody>\n",
       "</table>\n",
       "</div>"
      ],
      "text/plain": [
       "       satisfaction  count\n",
       "words                     \n",
       "子育て        4.333333      3\n",
       "安心         4.333333      3\n",
       "スポーツ       3.666667      3\n",
       "場所         3.000000      6\n",
       "役所         3.000000      5"
      ]
     },
     "execution_count": 20,
     "metadata": {},
     "output_type": "execute_result"
    }
   ],
   "source": [
    "words_df = words_df.loc[words_df['count'] >= 3]\n",
    "# ascending=Falseで降順にできる\n",
    "words_df.sort_values('satisfaction', ascending=False).head()"
   ]
  },
  {
   "cell_type": "code",
   "execution_count": 21,
   "id": "c4935968",
   "metadata": {
    "execution": {
     "iopub.execute_input": "2024-09-07T16:22:41.144490Z",
     "iopub.status.busy": "2024-09-07T16:22:41.143473Z",
     "iopub.status.idle": "2024-09-07T16:22:41.155216Z",
     "shell.execute_reply": "2024-09-07T16:22:41.154075Z"
    },
    "papermill": {
     "duration": 0.031961,
     "end_time": "2024-09-07T16:22:41.157616",
     "exception": false,
     "start_time": "2024-09-07T16:22:41.125655",
     "status": "completed"
    },
    "tags": []
   },
   "outputs": [
    {
     "data": {
      "text/html": [
       "<div>\n",
       "<style scoped>\n",
       "    .dataframe tbody tr th:only-of-type {\n",
       "        vertical-align: middle;\n",
       "    }\n",
       "\n",
       "    .dataframe tbody tr th {\n",
       "        vertical-align: top;\n",
       "    }\n",
       "\n",
       "    .dataframe thead th {\n",
       "        text-align: right;\n",
       "    }\n",
       "</style>\n",
       "<table border=\"1\" class=\"dataframe\">\n",
       "  <thead>\n",
       "    <tr style=\"text-align: right;\">\n",
       "      <th></th>\n",
       "      <th>satisfaction</th>\n",
       "      <th>count</th>\n",
       "    </tr>\n",
       "    <tr>\n",
       "      <th>words</th>\n",
       "      <th></th>\n",
       "      <th></th>\n",
       "    </tr>\n",
       "  </thead>\n",
       "  <tbody>\n",
       "    <tr>\n",
       "      <th>駐車</th>\n",
       "      <td>1.000000</td>\n",
       "      <td>4</td>\n",
       "    </tr>\n",
       "    <tr>\n",
       "      <th>信号</th>\n",
       "      <td>1.333333</td>\n",
       "      <td>3</td>\n",
       "    </tr>\n",
       "    <tr>\n",
       "      <th>駅前</th>\n",
       "      <td>1.428571</td>\n",
       "      <td>7</td>\n",
       "    </tr>\n",
       "    <tr>\n",
       "      <th>街路</th>\n",
       "      <td>1.666667</td>\n",
       "      <td>3</td>\n",
       "    </tr>\n",
       "    <tr>\n",
       "      <th>対応</th>\n",
       "      <td>2.000000</td>\n",
       "      <td>4</td>\n",
       "    </tr>\n",
       "  </tbody>\n",
       "</table>\n",
       "</div>"
      ],
      "text/plain": [
       "       satisfaction  count\n",
       "words                     \n",
       "駐車         1.000000      4\n",
       "信号         1.333333      3\n",
       "駅前         1.428571      7\n",
       "街路         1.666667      3\n",
       "対応         2.000000      4"
      ]
     },
     "execution_count": 21,
     "metadata": {},
     "output_type": "execute_result"
    }
   ],
   "source": [
    "words_df.sort_values('satisfaction').head()"
   ]
  },
  {
   "cell_type": "markdown",
   "id": "369d7ccd",
   "metadata": {
    "papermill": {
     "duration": 0.015987,
     "end_time": "2024-09-07T16:22:41.189895",
     "exception": false,
     "start_time": "2024-09-07T16:22:41.173908",
     "status": "completed"
    },
    "tags": []
   },
   "source": [
    "## ノック99 : アンケートごとの特徴を表現してみよう"
   ]
  },
  {
   "cell_type": "markdown",
   "id": "ade10990",
   "metadata": {
    "papermill": {
     "duration": 0.015648,
     "end_time": "2024-09-07T16:22:41.221899",
     "exception": false,
     "start_time": "2024-09-07T16:22:41.206251",
     "status": "completed"
    },
    "tags": []
   },
   "source": [
    "カウントベースの手法の一つとして、「どの単語が含まれているか」ということのみを特徴にしていく。"
   ]
  },
  {
   "cell_type": "code",
   "execution_count": 22,
   "id": "3695ae2c",
   "metadata": {
    "execution": {
     "iopub.execute_input": "2024-09-07T16:22:41.256238Z",
     "iopub.status.busy": "2024-09-07T16:22:41.255813Z",
     "iopub.status.idle": "2024-09-07T16:22:42.005636Z",
     "shell.execute_reply": "2024-09-07T16:22:42.004408Z"
    },
    "papermill": {
     "duration": 0.769753,
     "end_time": "2024-09-07T16:22:42.007970",
     "exception": false,
     "start_time": "2024-09-07T16:22:41.238217",
     "status": "completed"
    },
    "tags": []
   },
   "outputs": [
    {
     "data": {
      "text/html": [
       "<div>\n",
       "<style scoped>\n",
       "    .dataframe tbody tr th:only-of-type {\n",
       "        vertical-align: middle;\n",
       "    }\n",
       "\n",
       "    .dataframe tbody tr th {\n",
       "        vertical-align: top;\n",
       "    }\n",
       "\n",
       "    .dataframe thead th {\n",
       "        text-align: right;\n",
       "    }\n",
       "</style>\n",
       "<table border=\"1\" class=\"dataframe\">\n",
       "  <thead>\n",
       "    <tr style=\"text-align: right;\">\n",
       "      <th></th>\n",
       "      <th>駅前</th>\n",
       "      <th>若者</th>\n",
       "      <th>スポーツ</th>\n",
       "      <th>場所</th>\n",
       "      <th>子育て</th>\n",
       "      <th>支援</th>\n",
       "      <th>保育</th>\n",
       "      <th>商店</th>\n",
       "      <th>生活</th>\n",
       "      <th>便利</th>\n",
       "      <th>...</th>\n",
       "      <th>まち</th>\n",
       "      <th>マスコット</th>\n",
       "      <th>夜間</th>\n",
       "      <th>不安</th>\n",
       "      <th>高齢</th>\n",
       "      <th>サポート</th>\n",
       "      <th>校庭</th>\n",
       "      <th>芝生</th>\n",
       "      <th>投稿</th>\n",
       "      <th>道具</th>\n",
       "    </tr>\n",
       "  </thead>\n",
       "  <tbody>\n",
       "    <tr>\n",
       "      <th>0</th>\n",
       "      <td>1.0</td>\n",
       "      <td>1.0</td>\n",
       "      <td>NaN</td>\n",
       "      <td>NaN</td>\n",
       "      <td>NaN</td>\n",
       "      <td>NaN</td>\n",
       "      <td>NaN</td>\n",
       "      <td>NaN</td>\n",
       "      <td>NaN</td>\n",
       "      <td>NaN</td>\n",
       "      <td>...</td>\n",
       "      <td>NaN</td>\n",
       "      <td>NaN</td>\n",
       "      <td>NaN</td>\n",
       "      <td>NaN</td>\n",
       "      <td>NaN</td>\n",
       "      <td>NaN</td>\n",
       "      <td>NaN</td>\n",
       "      <td>NaN</td>\n",
       "      <td>NaN</td>\n",
       "      <td>NaN</td>\n",
       "    </tr>\n",
       "    <tr>\n",
       "      <th>1</th>\n",
       "      <td>NaN</td>\n",
       "      <td>NaN</td>\n",
       "      <td>1.0</td>\n",
       "      <td>1.0</td>\n",
       "      <td>NaN</td>\n",
       "      <td>NaN</td>\n",
       "      <td>NaN</td>\n",
       "      <td>NaN</td>\n",
       "      <td>NaN</td>\n",
       "      <td>NaN</td>\n",
       "      <td>...</td>\n",
       "      <td>NaN</td>\n",
       "      <td>NaN</td>\n",
       "      <td>NaN</td>\n",
       "      <td>NaN</td>\n",
       "      <td>NaN</td>\n",
       "      <td>NaN</td>\n",
       "      <td>NaN</td>\n",
       "      <td>NaN</td>\n",
       "      <td>NaN</td>\n",
       "      <td>NaN</td>\n",
       "    </tr>\n",
       "    <tr>\n",
       "      <th>2</th>\n",
       "      <td>NaN</td>\n",
       "      <td>NaN</td>\n",
       "      <td>NaN</td>\n",
       "      <td>NaN</td>\n",
       "      <td>1.0</td>\n",
       "      <td>1.0</td>\n",
       "      <td>NaN</td>\n",
       "      <td>NaN</td>\n",
       "      <td>NaN</td>\n",
       "      <td>NaN</td>\n",
       "      <td>...</td>\n",
       "      <td>NaN</td>\n",
       "      <td>NaN</td>\n",
       "      <td>NaN</td>\n",
       "      <td>NaN</td>\n",
       "      <td>NaN</td>\n",
       "      <td>NaN</td>\n",
       "      <td>NaN</td>\n",
       "      <td>NaN</td>\n",
       "      <td>NaN</td>\n",
       "      <td>NaN</td>\n",
       "    </tr>\n",
       "    <tr>\n",
       "      <th>3</th>\n",
       "      <td>NaN</td>\n",
       "      <td>NaN</td>\n",
       "      <td>NaN</td>\n",
       "      <td>NaN</td>\n",
       "      <td>NaN</td>\n",
       "      <td>NaN</td>\n",
       "      <td>1.0</td>\n",
       "      <td>NaN</td>\n",
       "      <td>NaN</td>\n",
       "      <td>NaN</td>\n",
       "      <td>...</td>\n",
       "      <td>NaN</td>\n",
       "      <td>NaN</td>\n",
       "      <td>NaN</td>\n",
       "      <td>NaN</td>\n",
       "      <td>NaN</td>\n",
       "      <td>NaN</td>\n",
       "      <td>NaN</td>\n",
       "      <td>NaN</td>\n",
       "      <td>NaN</td>\n",
       "      <td>NaN</td>\n",
       "    </tr>\n",
       "    <tr>\n",
       "      <th>4</th>\n",
       "      <td>1.0</td>\n",
       "      <td>NaN</td>\n",
       "      <td>NaN</td>\n",
       "      <td>NaN</td>\n",
       "      <td>NaN</td>\n",
       "      <td>NaN</td>\n",
       "      <td>NaN</td>\n",
       "      <td>1.0</td>\n",
       "      <td>NaN</td>\n",
       "      <td>NaN</td>\n",
       "      <td>...</td>\n",
       "      <td>NaN</td>\n",
       "      <td>NaN</td>\n",
       "      <td>NaN</td>\n",
       "      <td>NaN</td>\n",
       "      <td>NaN</td>\n",
       "      <td>NaN</td>\n",
       "      <td>NaN</td>\n",
       "      <td>NaN</td>\n",
       "      <td>NaN</td>\n",
       "      <td>NaN</td>\n",
       "    </tr>\n",
       "  </tbody>\n",
       "</table>\n",
       "<p>5 rows × 161 columns</p>\n",
       "</div>"
      ],
      "text/plain": [
       "    駅前   若者  スポーツ   場所  子育て   支援   保育   商店  生活  便利  ...  まち  マスコット  夜間  不安  \\\n",
       "0  1.0  1.0   NaN  NaN  NaN  NaN  NaN  NaN NaN NaN  ... NaN    NaN NaN NaN   \n",
       "1  NaN  NaN   1.0  1.0  NaN  NaN  NaN  NaN NaN NaN  ... NaN    NaN NaN NaN   \n",
       "2  NaN  NaN   NaN  NaN  1.0  1.0  NaN  NaN NaN NaN  ... NaN    NaN NaN NaN   \n",
       "3  NaN  NaN   NaN  NaN  NaN  NaN  1.0  NaN NaN NaN  ... NaN    NaN NaN NaN   \n",
       "4  1.0  NaN   NaN  NaN  NaN  NaN  NaN  1.0 NaN NaN  ... NaN    NaN NaN NaN   \n",
       "\n",
       "   高齢  サポート  校庭  芝生  投稿  道具  \n",
       "0 NaN   NaN NaN NaN NaN NaN  \n",
       "1 NaN   NaN NaN NaN NaN NaN  \n",
       "2 NaN   NaN NaN NaN NaN NaN  \n",
       "3 NaN   NaN NaN NaN NaN NaN  \n",
       "4 NaN   NaN NaN NaN NaN NaN  \n",
       "\n",
       "[5 rows x 161 columns]"
      ]
     },
     "execution_count": 22,
     "metadata": {},
     "output_type": "execute_result"
    }
   ],
   "source": [
    "parts = ['名詞']\n",
    "all_words_df = pd.DataFrame()\n",
    "satisfaction = []\n",
    "for n in range(len(survey)):\n",
    "    text = survey['comment'].iloc[n]\n",
    "    words = tagger.parse(text).splitlines()\n",
    "    words_df = pd.DataFrame()\n",
    "    for i in words:\n",
    "        if i == 'EOS' or i == '' : continue\n",
    "        word_tmp = i.split()[0]\n",
    "        if (len(i.split()) >= 4):\n",
    "            part = i.split()[4].split('-')[0]\n",
    "            if not (part in parts) :continue\n",
    "            words_df[word_tmp] = [1]\n",
    "    all_words_df = pd.concat([all_words_df, words_df], ignore_index=True)\n",
    "all_words_df.head()"
   ]
  },
  {
   "cell_type": "markdown",
   "id": "30db2bce",
   "metadata": {
    "papermill": {
     "duration": 0.016807,
     "end_time": "2024-09-07T16:22:42.041323",
     "exception": false,
     "start_time": "2024-09-07T16:22:42.024516",
     "status": "completed"
    },
    "tags": []
   },
   "source": [
    "* #### 出てきた全ての単語に対して、One-Hotラベル変換しているようなイメージ"
   ]
  },
  {
   "cell_type": "code",
   "execution_count": 23,
   "id": "3b6b567a",
   "metadata": {
    "execution": {
     "iopub.execute_input": "2024-09-07T16:22:42.077128Z",
     "iopub.status.busy": "2024-09-07T16:22:42.076249Z",
     "iopub.status.idle": "2024-09-07T16:22:42.117272Z",
     "shell.execute_reply": "2024-09-07T16:22:42.115852Z"
    },
    "papermill": {
     "duration": 0.062069,
     "end_time": "2024-09-07T16:22:42.120325",
     "exception": false,
     "start_time": "2024-09-07T16:22:42.058256",
     "status": "completed"
    },
    "tags": []
   },
   "outputs": [
    {
     "data": {
      "text/html": [
       "<div>\n",
       "<style scoped>\n",
       "    .dataframe tbody tr th:only-of-type {\n",
       "        vertical-align: middle;\n",
       "    }\n",
       "\n",
       "    .dataframe tbody tr th {\n",
       "        vertical-align: top;\n",
       "    }\n",
       "\n",
       "    .dataframe thead th {\n",
       "        text-align: right;\n",
       "    }\n",
       "</style>\n",
       "<table border=\"1\" class=\"dataframe\">\n",
       "  <thead>\n",
       "    <tr style=\"text-align: right;\">\n",
       "      <th></th>\n",
       "      <th>駅前</th>\n",
       "      <th>若者</th>\n",
       "      <th>スポーツ</th>\n",
       "      <th>場所</th>\n",
       "      <th>子育て</th>\n",
       "      <th>支援</th>\n",
       "      <th>保育</th>\n",
       "      <th>商店</th>\n",
       "      <th>生活</th>\n",
       "      <th>便利</th>\n",
       "      <th>...</th>\n",
       "      <th>まち</th>\n",
       "      <th>マスコット</th>\n",
       "      <th>夜間</th>\n",
       "      <th>不安</th>\n",
       "      <th>高齢</th>\n",
       "      <th>サポート</th>\n",
       "      <th>校庭</th>\n",
       "      <th>芝生</th>\n",
       "      <th>投稿</th>\n",
       "      <th>道具</th>\n",
       "    </tr>\n",
       "  </thead>\n",
       "  <tbody>\n",
       "    <tr>\n",
       "      <th>0</th>\n",
       "      <td>1.0</td>\n",
       "      <td>1.0</td>\n",
       "      <td>0.0</td>\n",
       "      <td>0.0</td>\n",
       "      <td>0.0</td>\n",
       "      <td>0.0</td>\n",
       "      <td>0.0</td>\n",
       "      <td>0.0</td>\n",
       "      <td>0.0</td>\n",
       "      <td>0.0</td>\n",
       "      <td>...</td>\n",
       "      <td>0.0</td>\n",
       "      <td>0.0</td>\n",
       "      <td>0.0</td>\n",
       "      <td>0.0</td>\n",
       "      <td>0.0</td>\n",
       "      <td>0.0</td>\n",
       "      <td>0.0</td>\n",
       "      <td>0.0</td>\n",
       "      <td>0.0</td>\n",
       "      <td>0.0</td>\n",
       "    </tr>\n",
       "    <tr>\n",
       "      <th>1</th>\n",
       "      <td>0.0</td>\n",
       "      <td>0.0</td>\n",
       "      <td>1.0</td>\n",
       "      <td>1.0</td>\n",
       "      <td>0.0</td>\n",
       "      <td>0.0</td>\n",
       "      <td>0.0</td>\n",
       "      <td>0.0</td>\n",
       "      <td>0.0</td>\n",
       "      <td>0.0</td>\n",
       "      <td>...</td>\n",
       "      <td>0.0</td>\n",
       "      <td>0.0</td>\n",
       "      <td>0.0</td>\n",
       "      <td>0.0</td>\n",
       "      <td>0.0</td>\n",
       "      <td>0.0</td>\n",
       "      <td>0.0</td>\n",
       "      <td>0.0</td>\n",
       "      <td>0.0</td>\n",
       "      <td>0.0</td>\n",
       "    </tr>\n",
       "    <tr>\n",
       "      <th>2</th>\n",
       "      <td>0.0</td>\n",
       "      <td>0.0</td>\n",
       "      <td>0.0</td>\n",
       "      <td>0.0</td>\n",
       "      <td>1.0</td>\n",
       "      <td>1.0</td>\n",
       "      <td>0.0</td>\n",
       "      <td>0.0</td>\n",
       "      <td>0.0</td>\n",
       "      <td>0.0</td>\n",
       "      <td>...</td>\n",
       "      <td>0.0</td>\n",
       "      <td>0.0</td>\n",
       "      <td>0.0</td>\n",
       "      <td>0.0</td>\n",
       "      <td>0.0</td>\n",
       "      <td>0.0</td>\n",
       "      <td>0.0</td>\n",
       "      <td>0.0</td>\n",
       "      <td>0.0</td>\n",
       "      <td>0.0</td>\n",
       "    </tr>\n",
       "    <tr>\n",
       "      <th>3</th>\n",
       "      <td>0.0</td>\n",
       "      <td>0.0</td>\n",
       "      <td>0.0</td>\n",
       "      <td>0.0</td>\n",
       "      <td>0.0</td>\n",
       "      <td>0.0</td>\n",
       "      <td>1.0</td>\n",
       "      <td>0.0</td>\n",
       "      <td>0.0</td>\n",
       "      <td>0.0</td>\n",
       "      <td>...</td>\n",
       "      <td>0.0</td>\n",
       "      <td>0.0</td>\n",
       "      <td>0.0</td>\n",
       "      <td>0.0</td>\n",
       "      <td>0.0</td>\n",
       "      <td>0.0</td>\n",
       "      <td>0.0</td>\n",
       "      <td>0.0</td>\n",
       "      <td>0.0</td>\n",
       "      <td>0.0</td>\n",
       "    </tr>\n",
       "    <tr>\n",
       "      <th>4</th>\n",
       "      <td>1.0</td>\n",
       "      <td>0.0</td>\n",
       "      <td>0.0</td>\n",
       "      <td>0.0</td>\n",
       "      <td>0.0</td>\n",
       "      <td>0.0</td>\n",
       "      <td>0.0</td>\n",
       "      <td>1.0</td>\n",
       "      <td>0.0</td>\n",
       "      <td>0.0</td>\n",
       "      <td>...</td>\n",
       "      <td>0.0</td>\n",
       "      <td>0.0</td>\n",
       "      <td>0.0</td>\n",
       "      <td>0.0</td>\n",
       "      <td>0.0</td>\n",
       "      <td>0.0</td>\n",
       "      <td>0.0</td>\n",
       "      <td>0.0</td>\n",
       "      <td>0.0</td>\n",
       "      <td>0.0</td>\n",
       "    </tr>\n",
       "  </tbody>\n",
       "</table>\n",
       "<p>5 rows × 161 columns</p>\n",
       "</div>"
      ],
      "text/plain": [
       "    駅前   若者  スポーツ   場所  子育て   支援   保育   商店   生活   便利  ...   まち  マスコット   夜間  \\\n",
       "0  1.0  1.0   0.0  0.0  0.0  0.0  0.0  0.0  0.0  0.0  ...  0.0    0.0  0.0   \n",
       "1  0.0  0.0   1.0  1.0  0.0  0.0  0.0  0.0  0.0  0.0  ...  0.0    0.0  0.0   \n",
       "2  0.0  0.0   0.0  0.0  1.0  1.0  0.0  0.0  0.0  0.0  ...  0.0    0.0  0.0   \n",
       "3  0.0  0.0   0.0  0.0  0.0  0.0  1.0  0.0  0.0  0.0  ...  0.0    0.0  0.0   \n",
       "4  1.0  0.0   0.0  0.0  0.0  0.0  0.0  1.0  0.0  0.0  ...  0.0    0.0  0.0   \n",
       "\n",
       "    不安   高齢  サポート   校庭   芝生   投稿   道具  \n",
       "0  0.0  0.0   0.0  0.0  0.0  0.0  0.0  \n",
       "1  0.0  0.0   0.0  0.0  0.0  0.0  0.0  \n",
       "2  0.0  0.0   0.0  0.0  0.0  0.0  0.0  \n",
       "3  0.0  0.0   0.0  0.0  0.0  0.0  0.0  \n",
       "4  0.0  0.0   0.0  0.0  0.0  0.0  0.0  \n",
       "\n",
       "[5 rows x 161 columns]"
      ]
     },
     "execution_count": 23,
     "metadata": {},
     "output_type": "execute_result"
    }
   ],
   "source": [
    "# 欠損値を0に変更\n",
    "all_words_df = all_words_df.fillna(0)\n",
    "all_words_df.head()"
   ]
  },
  {
   "cell_type": "markdown",
   "id": "d72ef53e",
   "metadata": {
    "papermill": {
     "duration": 0.027108,
     "end_time": "2024-09-07T16:22:42.172116",
     "exception": false,
     "start_time": "2024-09-07T16:22:42.145008",
     "status": "completed"
    },
    "tags": []
   },
   "source": [
    "# ノック100 : 類似アンケートを探してみよう"
   ]
  },
  {
   "cell_type": "code",
   "execution_count": 24,
   "id": "deb1bb6f",
   "metadata": {
    "execution": {
     "iopub.execute_input": "2024-09-07T16:22:42.223028Z",
     "iopub.status.busy": "2024-09-07T16:22:42.222521Z",
     "iopub.status.idle": "2024-09-07T16:22:42.233464Z",
     "shell.execute_reply": "2024-09-07T16:22:42.232080Z"
    },
    "papermill": {
     "duration": 0.041377,
     "end_time": "2024-09-07T16:22:42.236132",
     "exception": false,
     "start_time": "2024-09-07T16:22:42.194755",
     "status": "completed"
    },
    "tags": []
   },
   "outputs": [
    {
     "name": "stdout",
     "output_type": "stream",
     "text": [
      "子育て支援が嬉しい\n",
      "駅前      0.0\n",
      "若者      0.0\n",
      "スポーツ    0.0\n",
      "場所      0.0\n",
      "子育て     1.0\n",
      "       ... \n",
      "サポート    0.0\n",
      "校庭      0.0\n",
      "芝生      0.0\n",
      "投稿      0.0\n",
      "道具      0.0\n",
      "Name: 2, Length: 161, dtype: float64\n"
     ]
    }
   ],
   "source": [
    "# 調査データ３番目のコメントと類似しているアンケートを抽出してみる\n",
    "print(survey['comment'].iloc[2])\n",
    "target_text = all_words_df.iloc[2]\n",
    "print(target_text)"
   ]
  },
  {
   "cell_type": "markdown",
   "id": "354ee4e7",
   "metadata": {
    "papermill": {
     "duration": 0.017176,
     "end_time": "2024-09-07T16:22:42.271267",
     "exception": false,
     "start_time": "2024-09-07T16:22:42.254091",
     "status": "completed"
    },
    "tags": []
   },
   "source": [
    "文章の類似度の指標として、「コサイン類似度」を使用する。定義は、比べる配列をそれぞれ$x$、$y$として以下の通り。\n",
    "### $$ \\cos(x, y) = \\frac{\\langle x, y \\rangle}{|x| |y|}$$\n",
    "値は当然-1から1の範囲で、1に近いとよく似ている、0に近いと全く似ていない、-1だと逆の意味を持っているといった具合に類似度を測ることができる。"
   ]
  },
  {
   "cell_type": "code",
   "execution_count": 25,
   "id": "39302242",
   "metadata": {
    "execution": {
     "iopub.execute_input": "2024-09-07T16:22:42.311508Z",
     "iopub.status.busy": "2024-09-07T16:22:42.310905Z",
     "iopub.status.idle": "2024-09-07T16:22:42.388264Z",
     "shell.execute_reply": "2024-09-07T16:22:42.387071Z"
    },
    "papermill": {
     "duration": 0.098434,
     "end_time": "2024-09-07T16:22:42.390847",
     "exception": false,
     "start_time": "2024-09-07T16:22:42.292413",
     "status": "completed"
    },
    "tags": []
   },
   "outputs": [
    {
     "data": {
      "text/html": [
       "<div>\n",
       "<style scoped>\n",
       "    .dataframe tbody tr th:only-of-type {\n",
       "        vertical-align: middle;\n",
       "    }\n",
       "\n",
       "    .dataframe tbody tr th {\n",
       "        vertical-align: top;\n",
       "    }\n",
       "\n",
       "    .dataframe thead th {\n",
       "        text-align: right;\n",
       "    }\n",
       "</style>\n",
       "<table border=\"1\" class=\"dataframe\">\n",
       "  <thead>\n",
       "    <tr style=\"text-align: right;\">\n",
       "      <th></th>\n",
       "      <th>駅前</th>\n",
       "      <th>若者</th>\n",
       "      <th>スポーツ</th>\n",
       "      <th>場所</th>\n",
       "      <th>子育て</th>\n",
       "      <th>支援</th>\n",
       "      <th>保育</th>\n",
       "      <th>商店</th>\n",
       "      <th>生活</th>\n",
       "      <th>便利</th>\n",
       "      <th>...</th>\n",
       "      <th>マスコット</th>\n",
       "      <th>夜間</th>\n",
       "      <th>不安</th>\n",
       "      <th>高齢</th>\n",
       "      <th>サポート</th>\n",
       "      <th>校庭</th>\n",
       "      <th>芝生</th>\n",
       "      <th>投稿</th>\n",
       "      <th>道具</th>\n",
       "      <th>cos_sim</th>\n",
       "    </tr>\n",
       "  </thead>\n",
       "  <tbody>\n",
       "    <tr>\n",
       "      <th>2</th>\n",
       "      <td>0.0</td>\n",
       "      <td>0.0</td>\n",
       "      <td>0.0</td>\n",
       "      <td>0.0</td>\n",
       "      <td>1.0</td>\n",
       "      <td>1.0</td>\n",
       "      <td>0.0</td>\n",
       "      <td>0.0</td>\n",
       "      <td>0.0</td>\n",
       "      <td>0.0</td>\n",
       "      <td>...</td>\n",
       "      <td>0.0</td>\n",
       "      <td>0.0</td>\n",
       "      <td>0.0</td>\n",
       "      <td>0.0</td>\n",
       "      <td>0.0</td>\n",
       "      <td>0.0</td>\n",
       "      <td>0.0</td>\n",
       "      <td>0.0</td>\n",
       "      <td>0.0</td>\n",
       "      <td>1.000000</td>\n",
       "    </tr>\n",
       "    <tr>\n",
       "      <th>24</th>\n",
       "      <td>0.0</td>\n",
       "      <td>0.0</td>\n",
       "      <td>0.0</td>\n",
       "      <td>0.0</td>\n",
       "      <td>1.0</td>\n",
       "      <td>0.0</td>\n",
       "      <td>0.0</td>\n",
       "      <td>0.0</td>\n",
       "      <td>0.0</td>\n",
       "      <td>0.0</td>\n",
       "      <td>...</td>\n",
       "      <td>0.0</td>\n",
       "      <td>0.0</td>\n",
       "      <td>0.0</td>\n",
       "      <td>0.0</td>\n",
       "      <td>0.0</td>\n",
       "      <td>0.0</td>\n",
       "      <td>0.0</td>\n",
       "      <td>0.0</td>\n",
       "      <td>0.0</td>\n",
       "      <td>0.707107</td>\n",
       "    </tr>\n",
       "    <tr>\n",
       "      <th>15</th>\n",
       "      <td>0.0</td>\n",
       "      <td>0.0</td>\n",
       "      <td>0.0</td>\n",
       "      <td>0.0</td>\n",
       "      <td>1.0</td>\n",
       "      <td>0.0</td>\n",
       "      <td>0.0</td>\n",
       "      <td>0.0</td>\n",
       "      <td>0.0</td>\n",
       "      <td>0.0</td>\n",
       "      <td>...</td>\n",
       "      <td>0.0</td>\n",
       "      <td>0.0</td>\n",
       "      <td>0.0</td>\n",
       "      <td>0.0</td>\n",
       "      <td>0.0</td>\n",
       "      <td>0.0</td>\n",
       "      <td>0.0</td>\n",
       "      <td>0.0</td>\n",
       "      <td>0.0</td>\n",
       "      <td>0.707107</td>\n",
       "    </tr>\n",
       "    <tr>\n",
       "      <th>33</th>\n",
       "      <td>0.0</td>\n",
       "      <td>0.0</td>\n",
       "      <td>0.0</td>\n",
       "      <td>0.0</td>\n",
       "      <td>0.0</td>\n",
       "      <td>1.0</td>\n",
       "      <td>0.0</td>\n",
       "      <td>0.0</td>\n",
       "      <td>0.0</td>\n",
       "      <td>0.0</td>\n",
       "      <td>...</td>\n",
       "      <td>0.0</td>\n",
       "      <td>0.0</td>\n",
       "      <td>0.0</td>\n",
       "      <td>0.0</td>\n",
       "      <td>0.0</td>\n",
       "      <td>0.0</td>\n",
       "      <td>0.0</td>\n",
       "      <td>0.0</td>\n",
       "      <td>0.0</td>\n",
       "      <td>0.500000</td>\n",
       "    </tr>\n",
       "    <tr>\n",
       "      <th>50</th>\n",
       "      <td>0.0</td>\n",
       "      <td>0.0</td>\n",
       "      <td>0.0</td>\n",
       "      <td>0.0</td>\n",
       "      <td>0.0</td>\n",
       "      <td>1.0</td>\n",
       "      <td>0.0</td>\n",
       "      <td>0.0</td>\n",
       "      <td>0.0</td>\n",
       "      <td>0.0</td>\n",
       "      <td>...</td>\n",
       "      <td>0.0</td>\n",
       "      <td>0.0</td>\n",
       "      <td>0.0</td>\n",
       "      <td>0.0</td>\n",
       "      <td>0.0</td>\n",
       "      <td>0.0</td>\n",
       "      <td>0.0</td>\n",
       "      <td>0.0</td>\n",
       "      <td>0.0</td>\n",
       "      <td>0.353553</td>\n",
       "    </tr>\n",
       "  </tbody>\n",
       "</table>\n",
       "<p>5 rows × 162 columns</p>\n",
       "</div>"
      ],
      "text/plain": [
       "     駅前   若者  スポーツ   場所  子育て   支援   保育   商店   生活   便利  ...  マスコット   夜間   不安  \\\n",
       "2   0.0  0.0   0.0  0.0  1.0  1.0  0.0  0.0  0.0  0.0  ...    0.0  0.0  0.0   \n",
       "24  0.0  0.0   0.0  0.0  1.0  0.0  0.0  0.0  0.0  0.0  ...    0.0  0.0  0.0   \n",
       "15  0.0  0.0   0.0  0.0  1.0  0.0  0.0  0.0  0.0  0.0  ...    0.0  0.0  0.0   \n",
       "33  0.0  0.0   0.0  0.0  0.0  1.0  0.0  0.0  0.0  0.0  ...    0.0  0.0  0.0   \n",
       "50  0.0  0.0   0.0  0.0  0.0  1.0  0.0  0.0  0.0  0.0  ...    0.0  0.0  0.0   \n",
       "\n",
       "     高齢  サポート   校庭   芝生   投稿   道具   cos_sim  \n",
       "2   0.0   0.0  0.0  0.0  0.0  0.0  1.000000  \n",
       "24  0.0   0.0  0.0  0.0  0.0  0.0  0.707107  \n",
       "15  0.0   0.0  0.0  0.0  0.0  0.0  0.707107  \n",
       "33  0.0   0.0  0.0  0.0  0.0  0.0  0.500000  \n",
       "50  0.0   0.0  0.0  0.0  0.0  0.0  0.353553  \n",
       "\n",
       "[5 rows x 162 columns]"
      ]
     },
     "execution_count": 25,
     "metadata": {},
     "output_type": "execute_result"
    }
   ],
   "source": [
    "import numpy as np\n",
    "cos_sim = []\n",
    "for i in range(len(all_words_df)):\n",
    "    cos_text = all_words_df.iloc[i]\n",
    "    cos = np.dot(target_text, cos_text) / (np.linalg.norm(target_text) * np.linalg.norm(cos_text))\n",
    "    cos_sim.append(cos)\n",
    "\n",
    "# dfに変換してconcatで結合する方が処理が早いらしい\n",
    "cos_sim_df = pd.DataFrame({'cos_sim' : cos_sim})\n",
    "join_all_words = pd.concat([all_words_df, cos_sim_df], axis=1)\n",
    "join_all_words.sort_values('cos_sim', ascending=False).head()\n",
    "\n",
    "# 書籍コードだと結合速度が遅いらしくて怒られる\n",
    "#all_words_df['cos_sim'] = cos_sim\n",
    "#all_words_df.sort_values('cos_sim', ascending=False).head()"
   ]
  },
  {
   "cell_type": "markdown",
   "id": "961d1123",
   "metadata": {
    "papermill": {
     "duration": 0.016683,
     "end_time": "2024-09-07T16:22:42.424760",
     "exception": false,
     "start_time": "2024-09-07T16:22:42.408077",
     "status": "completed"
    },
    "tags": []
   },
   "source": [
    "上位5個のコメントを見てみる（インデックス番号で指定）"
   ]
  },
  {
   "cell_type": "code",
   "execution_count": 26,
   "id": "35fbb208",
   "metadata": {
    "execution": {
     "iopub.execute_input": "2024-09-07T16:22:42.460631Z",
     "iopub.status.busy": "2024-09-07T16:22:42.460216Z",
     "iopub.status.idle": "2024-09-07T16:22:42.466852Z",
     "shell.execute_reply": "2024-09-07T16:22:42.465779Z"
    },
    "papermill": {
     "duration": 0.027689,
     "end_time": "2024-09-07T16:22:42.469529",
     "exception": false,
     "start_time": "2024-09-07T16:22:42.441840",
     "status": "completed"
    },
    "tags": []
   },
   "outputs": [
    {
     "name": "stdout",
     "output_type": "stream",
     "text": [
      "子育て支援が嬉しい\n",
      "子育てがしやすい\n",
      "子育てしやすい\n",
      "働くママの支援をもっと増やして欲しい\n",
      "地域の自治体をもっと支援してほしい\n"
     ]
    }
   ],
   "source": [
    "print(survey['comment'].iloc[2])\n",
    "print(survey['comment'].iloc[24])\n",
    "print(survey['comment'].iloc[15])\n",
    "print(survey['comment'].iloc[33])\n",
    "print(survey['comment'].iloc[50])"
   ]
  },
  {
   "cell_type": "markdown",
   "id": "973343ea",
   "metadata": {
    "papermill": {
     "duration": 0.017743,
     "end_time": "2024-09-07T16:22:42.504622",
     "exception": false,
     "start_time": "2024-09-07T16:22:42.486879",
     "status": "completed"
    },
    "tags": []
   },
   "source": [
    "「子育て支援が嬉しい」に対して類似した文章（子育て関連の文章）を取り出すことができている。<br>ゼロから作るDeepLearning 2により詳しい分析方法（word2vecなど）が載っているのでぜひ挑戦しよう。"
   ]
  },
  {
   "cell_type": "code",
   "execution_count": null,
   "id": "eb0aa3af",
   "metadata": {
    "papermill": {
     "duration": 0.017078,
     "end_time": "2024-09-07T16:22:42.539422",
     "exception": false,
     "start_time": "2024-09-07T16:22:42.522344",
     "status": "completed"
    },
    "tags": []
   },
   "outputs": [],
   "source": []
  }
 ],
 "metadata": {
  "kaggle": {
   "accelerator": "none",
   "dataSources": [
    {
     "datasetId": 5660254,
     "sourceId": 9340071,
     "sourceType": "datasetVersion"
    }
   ],
   "dockerImageVersionId": 30761,
   "isGpuEnabled": false,
   "isInternetEnabled": true,
   "language": "python",
   "sourceType": "notebook"
  },
  "kernelspec": {
   "display_name": "Python 3",
   "language": "python",
   "name": "python3"
  },
  "language_info": {
   "codemirror_mode": {
    "name": "ipython",
    "version": 3
   },
   "file_extension": ".py",
   "mimetype": "text/x-python",
   "name": "python",
   "nbconvert_exporter": "python",
   "pygments_lexer": "ipython3",
   "version": "3.10.14"
  },
  "papermill": {
   "default_parameters": {},
   "duration": 40.056879,
   "end_time": "2024-09-07T16:22:43.077494",
   "environment_variables": {},
   "exception": null,
   "input_path": "__notebook__.ipynb",
   "output_path": "__notebook__.ipynb",
   "parameters": {},
   "start_time": "2024-09-07T16:22:03.020615",
   "version": "2.6.0"
  }
 },
 "nbformat": 4,
 "nbformat_minor": 5
}
