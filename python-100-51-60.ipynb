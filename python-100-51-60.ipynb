{
 "cells": [
  {
   "cell_type": "markdown",
   "id": "1a78b22c",
   "metadata": {
    "papermill": {
     "duration": 0.013663,
     "end_time": "2024-09-02T12:42:44.169438",
     "exception": false,
     "start_time": "2024-09-02T12:42:44.155775",
     "status": "completed"
    },
    "tags": []
   },
   "source": [
    "Python実践データ分析100本ノック（秀和システム）の勉強記録を載せています。<br>\n",
    "問題の解説、コードを載せています。参考になれば幸いです。<br>\n",
    "わからない点等ございましたらコメントお願いします。¶"
   ]
  },
  {
   "cell_type": "markdown",
   "id": "dcebd190",
   "metadata": {
    "papermill": {
     "duration": 0.012618,
     "end_time": "2024-09-02T12:42:44.195061",
     "exception": false,
     "start_time": "2024-09-02T12:42:44.182443",
     "status": "completed"
    },
    "tags": []
   },
   "source": [
    "# 第6章　物流の最適ルートをコンサルティングする"
   ]
  },
  {
   "cell_type": "markdown",
   "id": "a9fea263",
   "metadata": {
    "papermill": {
     "duration": 0.012881,
     "end_time": "2024-09-02T12:42:44.221576",
     "exception": false,
     "start_time": "2024-09-02T12:42:44.208695",
     "status": "completed"
    },
    "tags": []
   },
   "source": [
    "輸送最適化を検討するにあたっての基礎的技術を習得する。<br>\n",
    "さらに、**実際の物流データからネットワーク構造を可視化する方法**について学び、最適な物流計画を立案する流れを学ぶ。"
   ]
  },
  {
   "cell_type": "markdown",
   "id": "0e8e151c",
   "metadata": {
    "papermill": {
     "duration": 0.012584,
     "end_time": "2024-09-02T12:42:44.247139",
     "exception": false,
     "start_time": "2024-09-02T12:42:44.234555",
     "status": "completed"
    },
    "tags": []
   },
   "source": [
    "* ### 前提条件"
   ]
  },
  {
   "cell_type": "markdown",
   "id": "4a0ad43a",
   "metadata": {
    "papermill": {
     "duration": 0.013028,
     "end_time": "2024-09-02T12:42:44.273473",
     "exception": false,
     "start_time": "2024-09-02T12:42:44.260445",
     "status": "completed"
    },
    "tags": []
   },
   "source": [
    "部品を保管する倉庫から生産向上に部品を輸送している。各倉庫と工場の区間の輸送コストは過去のデータから定量的に設定されている。<br>\n",
    "集計期間は2019年1月1日〜2019年12月31日まで。<br>\n",
    "関東支社と東北支社のデータが存在するものとする。"
   ]
  },
  {
   "cell_type": "markdown",
   "id": "23a7a9e9",
   "metadata": {
    "papermill": {
     "duration": 0.012621,
     "end_time": "2024-09-02T12:42:44.298881",
     "exception": false,
     "start_time": "2024-09-02T12:42:44.286260",
     "status": "completed"
    },
    "tags": []
   },
   "source": [
    "| No. | ファイル名 | 概要 |\n",
    "| :-- | :-- | :-- |\n",
    "| 1 | tbl_factory.csv | 生産工場のデータ |\n",
    "| 2 | tbl_warehouse.csv | 倉庫のデータ |\n",
    "| 3 | rel_cost.csv | 倉庫と工場間の輸送コスト |\n",
    "| 4 | tbl_transaction.csv | 2019年の工場への部品輸送実績 |"
   ]
  },
  {
   "cell_type": "markdown",
   "id": "159f04dd",
   "metadata": {
    "papermill": {
     "duration": 0.012472,
     "end_time": "2024-09-02T12:42:44.324199",
     "exception": false,
     "start_time": "2024-09-02T12:42:44.311727",
     "status": "completed"
    },
    "tags": []
   },
   "source": [
    "## ノック51 : 物流に関するデータを読み込む"
   ]
  },
  {
   "cell_type": "code",
   "execution_count": 1,
   "id": "017294d7",
   "metadata": {
    "execution": {
     "iopub.execute_input": "2024-09-02T12:42:44.351831Z",
     "iopub.status.busy": "2024-09-02T12:42:44.351402Z",
     "iopub.status.idle": "2024-09-02T12:42:44.773221Z",
     "shell.execute_reply": "2024-09-02T12:42:44.772133Z"
    },
    "papermill": {
     "duration": 0.438261,
     "end_time": "2024-09-02T12:42:44.775342",
     "exception": false,
     "start_time": "2024-09-02T12:42:44.337081",
     "status": "completed"
    },
    "tags": []
   },
   "outputs": [
    {
     "name": "stdout",
     "output_type": "stream",
     "text": [
      "8\n"
     ]
    },
    {
     "data": {
      "text/html": [
       "<div>\n",
       "<style scoped>\n",
       "    .dataframe tbody tr th:only-of-type {\n",
       "        vertical-align: middle;\n",
       "    }\n",
       "\n",
       "    .dataframe tbody tr th {\n",
       "        vertical-align: top;\n",
       "    }\n",
       "\n",
       "    .dataframe thead th {\n",
       "        text-align: right;\n",
       "    }\n",
       "</style>\n",
       "<table border=\"1\" class=\"dataframe\">\n",
       "  <thead>\n",
       "    <tr style=\"text-align: right;\">\n",
       "      <th></th>\n",
       "      <th>FCName</th>\n",
       "      <th>FCDemand</th>\n",
       "      <th>FCRegion</th>\n",
       "    </tr>\n",
       "    <tr>\n",
       "      <th>FCID</th>\n",
       "      <th></th>\n",
       "      <th></th>\n",
       "      <th></th>\n",
       "    </tr>\n",
       "  </thead>\n",
       "  <tbody>\n",
       "    <tr>\n",
       "      <th>FC00001</th>\n",
       "      <td>東京工場</td>\n",
       "      <td>28</td>\n",
       "      <td>関東</td>\n",
       "    </tr>\n",
       "    <tr>\n",
       "      <th>FC00002</th>\n",
       "      <td>木更津工場</td>\n",
       "      <td>29</td>\n",
       "      <td>関東</td>\n",
       "    </tr>\n",
       "    <tr>\n",
       "      <th>FC00003</th>\n",
       "      <td>多摩工場</td>\n",
       "      <td>31</td>\n",
       "      <td>関東</td>\n",
       "    </tr>\n",
       "    <tr>\n",
       "      <th>FC00004</th>\n",
       "      <td>横須賀工場</td>\n",
       "      <td>25</td>\n",
       "      <td>関東</td>\n",
       "    </tr>\n",
       "    <tr>\n",
       "      <th>FC00005</th>\n",
       "      <td>仙台工場</td>\n",
       "      <td>21</td>\n",
       "      <td>東北</td>\n",
       "    </tr>\n",
       "    <tr>\n",
       "      <th>FC00006</th>\n",
       "      <td>山形工場</td>\n",
       "      <td>30</td>\n",
       "      <td>東北</td>\n",
       "    </tr>\n",
       "    <tr>\n",
       "      <th>FC00007</th>\n",
       "      <td>那須工場</td>\n",
       "      <td>25</td>\n",
       "      <td>東北</td>\n",
       "    </tr>\n",
       "    <tr>\n",
       "      <th>FC00008</th>\n",
       "      <td>青森工場</td>\n",
       "      <td>16</td>\n",
       "      <td>東北</td>\n",
       "    </tr>\n",
       "  </tbody>\n",
       "</table>\n",
       "</div>"
      ],
      "text/plain": [
       "        FCName  FCDemand FCRegion\n",
       "FCID                             \n",
       "FC00001   東京工場        28       関東\n",
       "FC00002  木更津工場        29       関東\n",
       "FC00003   多摩工場        31       関東\n",
       "FC00004  横須賀工場        25       関東\n",
       "FC00005   仙台工場        21       東北\n",
       "FC00006   山形工場        30       東北\n",
       "FC00007   那須工場        25       東北\n",
       "FC00008   青森工場        16       東北"
      ]
     },
     "execution_count": 1,
     "metadata": {},
     "output_type": "execute_result"
    }
   ],
   "source": [
    "import pandas as pd\n",
    "\n",
    "factories = pd.read_csv('../input/python100knock-logistic/tbl_factory.csv', index_col=0)\n",
    "print(len(factories))\n",
    "factories"
   ]
  },
  {
   "cell_type": "code",
   "execution_count": 2,
   "id": "df89f688",
   "metadata": {
    "execution": {
     "iopub.execute_input": "2024-09-02T12:42:44.804073Z",
     "iopub.status.busy": "2024-09-02T12:42:44.803413Z",
     "iopub.status.idle": "2024-09-02T12:42:44.822021Z",
     "shell.execute_reply": "2024-09-02T12:42:44.821092Z"
    },
    "papermill": {
     "duration": 0.035438,
     "end_time": "2024-09-02T12:42:44.824008",
     "exception": false,
     "start_time": "2024-09-02T12:42:44.788570",
     "status": "completed"
    },
    "tags": []
   },
   "outputs": [
    {
     "name": "stdout",
     "output_type": "stream",
     "text": [
      "6\n"
     ]
    },
    {
     "data": {
      "text/html": [
       "<div>\n",
       "<style scoped>\n",
       "    .dataframe tbody tr th:only-of-type {\n",
       "        vertical-align: middle;\n",
       "    }\n",
       "\n",
       "    .dataframe tbody tr th {\n",
       "        vertical-align: top;\n",
       "    }\n",
       "\n",
       "    .dataframe thead th {\n",
       "        text-align: right;\n",
       "    }\n",
       "</style>\n",
       "<table border=\"1\" class=\"dataframe\">\n",
       "  <thead>\n",
       "    <tr style=\"text-align: right;\">\n",
       "      <th></th>\n",
       "      <th>WHName</th>\n",
       "      <th>WHSupply</th>\n",
       "      <th>WHRegion</th>\n",
       "    </tr>\n",
       "    <tr>\n",
       "      <th>WHID</th>\n",
       "      <th></th>\n",
       "      <th></th>\n",
       "      <th></th>\n",
       "    </tr>\n",
       "  </thead>\n",
       "  <tbody>\n",
       "    <tr>\n",
       "      <th>WH00001</th>\n",
       "      <td>杉並倉庫</td>\n",
       "      <td>35</td>\n",
       "      <td>関東</td>\n",
       "    </tr>\n",
       "    <tr>\n",
       "      <th>WH00002</th>\n",
       "      <td>品川倉庫</td>\n",
       "      <td>41</td>\n",
       "      <td>関東</td>\n",
       "    </tr>\n",
       "    <tr>\n",
       "      <th>WH00003</th>\n",
       "      <td>豊洲倉庫</td>\n",
       "      <td>42</td>\n",
       "      <td>関東</td>\n",
       "    </tr>\n",
       "    <tr>\n",
       "      <th>WH00004</th>\n",
       "      <td>郡山倉庫</td>\n",
       "      <td>60</td>\n",
       "      <td>東北</td>\n",
       "    </tr>\n",
       "    <tr>\n",
       "      <th>WH00005</th>\n",
       "      <td>仙台倉庫</td>\n",
       "      <td>72</td>\n",
       "      <td>東北</td>\n",
       "    </tr>\n",
       "    <tr>\n",
       "      <th>WH00006</th>\n",
       "      <td>山形倉庫</td>\n",
       "      <td>65</td>\n",
       "      <td>東北</td>\n",
       "    </tr>\n",
       "  </tbody>\n",
       "</table>\n",
       "</div>"
      ],
      "text/plain": [
       "        WHName  WHSupply WHRegion\n",
       "WHID                             \n",
       "WH00001   杉並倉庫        35       関東\n",
       "WH00002   品川倉庫        41       関東\n",
       "WH00003   豊洲倉庫        42       関東\n",
       "WH00004   郡山倉庫        60       東北\n",
       "WH00005   仙台倉庫        72       東北\n",
       "WH00006   山形倉庫        65       東北"
      ]
     },
     "execution_count": 2,
     "metadata": {},
     "output_type": "execute_result"
    }
   ],
   "source": [
    "warehouses = pd.read_csv('../input/python100knock-logistic/tbl_warehouse.csv', index_col=0)\n",
    "print(len(warehouses))\n",
    "warehouses"
   ]
  },
  {
   "cell_type": "code",
   "execution_count": 3,
   "id": "963e0b1b",
   "metadata": {
    "execution": {
     "iopub.execute_input": "2024-09-02T12:42:44.852917Z",
     "iopub.status.busy": "2024-09-02T12:42:44.852537Z",
     "iopub.status.idle": "2024-09-02T12:42:44.878038Z",
     "shell.execute_reply": "2024-09-02T12:42:44.876996Z"
    },
    "papermill": {
     "duration": 0.042383,
     "end_time": "2024-09-02T12:42:44.880171",
     "exception": false,
     "start_time": "2024-09-02T12:42:44.837788",
     "status": "completed"
    },
    "tags": []
   },
   "outputs": [
    {
     "name": "stdout",
     "output_type": "stream",
     "text": [
      "24\n"
     ]
    },
    {
     "data": {
      "text/html": [
       "<div>\n",
       "<style scoped>\n",
       "    .dataframe tbody tr th:only-of-type {\n",
       "        vertical-align: middle;\n",
       "    }\n",
       "\n",
       "    .dataframe tbody tr th {\n",
       "        vertical-align: top;\n",
       "    }\n",
       "\n",
       "    .dataframe thead th {\n",
       "        text-align: right;\n",
       "    }\n",
       "</style>\n",
       "<table border=\"1\" class=\"dataframe\">\n",
       "  <thead>\n",
       "    <tr style=\"text-align: right;\">\n",
       "      <th></th>\n",
       "      <th>FCID</th>\n",
       "      <th>WHID</th>\n",
       "      <th>Cost</th>\n",
       "    </tr>\n",
       "    <tr>\n",
       "      <th>RCostID</th>\n",
       "      <th></th>\n",
       "      <th></th>\n",
       "      <th></th>\n",
       "    </tr>\n",
       "  </thead>\n",
       "  <tbody>\n",
       "    <tr>\n",
       "      <th>1</th>\n",
       "      <td>FC00001</td>\n",
       "      <td>WH00001</td>\n",
       "      <td>0.4</td>\n",
       "    </tr>\n",
       "    <tr>\n",
       "      <th>2</th>\n",
       "      <td>FC00001</td>\n",
       "      <td>WH00002</td>\n",
       "      <td>0.8</td>\n",
       "    </tr>\n",
       "    <tr>\n",
       "      <th>3</th>\n",
       "      <td>FC00001</td>\n",
       "      <td>WH00003</td>\n",
       "      <td>1.5</td>\n",
       "    </tr>\n",
       "    <tr>\n",
       "      <th>4</th>\n",
       "      <td>FC00002</td>\n",
       "      <td>WH00001</td>\n",
       "      <td>0.9</td>\n",
       "    </tr>\n",
       "    <tr>\n",
       "      <th>5</th>\n",
       "      <td>FC00002</td>\n",
       "      <td>WH00002</td>\n",
       "      <td>0.8</td>\n",
       "    </tr>\n",
       "  </tbody>\n",
       "</table>\n",
       "</div>"
      ],
      "text/plain": [
       "            FCID     WHID  Cost\n",
       "RCostID                        \n",
       "1        FC00001  WH00001   0.4\n",
       "2        FC00001  WH00002   0.8\n",
       "3        FC00001  WH00003   1.5\n",
       "4        FC00002  WH00001   0.9\n",
       "5        FC00002  WH00002   0.8"
      ]
     },
     "execution_count": 3,
     "metadata": {},
     "output_type": "execute_result"
    }
   ],
   "source": [
    "cost = pd.read_csv('../input/python100knock-logistic/rel_cost.csv', index_col=0)\n",
    "print(len(cost))\n",
    "cost.head()"
   ]
  },
  {
   "cell_type": "code",
   "execution_count": 4,
   "id": "8cd09bc7",
   "metadata": {
    "execution": {
     "iopub.execute_input": "2024-09-02T12:42:44.910164Z",
     "iopub.status.busy": "2024-09-02T12:42:44.909327Z",
     "iopub.status.idle": "2024-09-02T12:42:44.936699Z",
     "shell.execute_reply": "2024-09-02T12:42:44.935698Z"
    },
    "papermill": {
     "duration": 0.044902,
     "end_time": "2024-09-02T12:42:44.938972",
     "exception": false,
     "start_time": "2024-09-02T12:42:44.894070",
     "status": "completed"
    },
    "tags": []
   },
   "outputs": [
    {
     "name": "stdout",
     "output_type": "stream",
     "text": [
      "4000\n"
     ]
    },
    {
     "data": {
      "text/html": [
       "<div>\n",
       "<style scoped>\n",
       "    .dataframe tbody tr th:only-of-type {\n",
       "        vertical-align: middle;\n",
       "    }\n",
       "\n",
       "    .dataframe tbody tr th {\n",
       "        vertical-align: top;\n",
       "    }\n",
       "\n",
       "    .dataframe thead th {\n",
       "        text-align: right;\n",
       "    }\n",
       "</style>\n",
       "<table border=\"1\" class=\"dataframe\">\n",
       "  <thead>\n",
       "    <tr style=\"text-align: right;\">\n",
       "      <th></th>\n",
       "      <th>TransactionDate</th>\n",
       "      <th>ToFC</th>\n",
       "      <th>FromWH</th>\n",
       "      <th>Quantity</th>\n",
       "    </tr>\n",
       "    <tr>\n",
       "      <th>TRID</th>\n",
       "      <th></th>\n",
       "      <th></th>\n",
       "      <th></th>\n",
       "      <th></th>\n",
       "    </tr>\n",
       "  </thead>\n",
       "  <tbody>\n",
       "    <tr>\n",
       "      <th>0</th>\n",
       "      <td>2019-01-01 02:11:10</td>\n",
       "      <td>FC00004</td>\n",
       "      <td>WH00003</td>\n",
       "      <td>33</td>\n",
       "    </tr>\n",
       "    <tr>\n",
       "      <th>1</th>\n",
       "      <td>2019-01-01 06:12:42</td>\n",
       "      <td>FC00007</td>\n",
       "      <td>WH00006</td>\n",
       "      <td>19</td>\n",
       "    </tr>\n",
       "    <tr>\n",
       "      <th>2</th>\n",
       "      <td>2019-01-01 06:32:32</td>\n",
       "      <td>FC00006</td>\n",
       "      <td>WH00004</td>\n",
       "      <td>31</td>\n",
       "    </tr>\n",
       "    <tr>\n",
       "      <th>3</th>\n",
       "      <td>2019-01-01 07:17:06</td>\n",
       "      <td>FC00002</td>\n",
       "      <td>WH00003</td>\n",
       "      <td>18</td>\n",
       "    </tr>\n",
       "    <tr>\n",
       "      <th>4</th>\n",
       "      <td>2019-01-01 07:52:18</td>\n",
       "      <td>FC00001</td>\n",
       "      <td>WH00002</td>\n",
       "      <td>30</td>\n",
       "    </tr>\n",
       "  </tbody>\n",
       "</table>\n",
       "</div>"
      ],
      "text/plain": [
       "          TransactionDate     ToFC   FromWH  Quantity\n",
       "TRID                                                 \n",
       "0     2019-01-01 02:11:10  FC00004  WH00003        33\n",
       "1     2019-01-01 06:12:42  FC00007  WH00006        19\n",
       "2     2019-01-01 06:32:32  FC00006  WH00004        31\n",
       "3     2019-01-01 07:17:06  FC00002  WH00003        18\n",
       "4     2019-01-01 07:52:18  FC00001  WH00002        30"
      ]
     },
     "execution_count": 4,
     "metadata": {},
     "output_type": "execute_result"
    }
   ],
   "source": [
    "trans = pd.read_csv('../input/python100knock-logistic/tbl_transaction.csv', index_col=0)\n",
    "print(len(trans))\n",
    "trans.head()"
   ]
  },
  {
   "cell_type": "markdown",
   "id": "de74d4bb",
   "metadata": {
    "papermill": {
     "duration": 0.013802,
     "end_time": "2024-09-02T12:42:44.968553",
     "exception": false,
     "start_time": "2024-09-02T12:42:44.954751",
     "status": "completed"
    },
    "tags": []
   },
   "source": [
    "輸送実績データ（trans）を元にして結合していく。"
   ]
  },
  {
   "cell_type": "code",
   "execution_count": 5,
   "id": "59826cf9",
   "metadata": {
    "execution": {
     "iopub.execute_input": "2024-09-02T12:42:44.998897Z",
     "iopub.status.busy": "2024-09-02T12:42:44.998168Z",
     "iopub.status.idle": "2024-09-02T12:42:45.024558Z",
     "shell.execute_reply": "2024-09-02T12:42:45.023520Z"
    },
    "papermill": {
     "duration": 0.044198,
     "end_time": "2024-09-02T12:42:45.026871",
     "exception": false,
     "start_time": "2024-09-02T12:42:44.982673",
     "status": "completed"
    },
    "tags": []
   },
   "outputs": [
    {
     "data": {
      "text/html": [
       "<div>\n",
       "<style scoped>\n",
       "    .dataframe tbody tr th:only-of-type {\n",
       "        vertical-align: middle;\n",
       "    }\n",
       "\n",
       "    .dataframe tbody tr th {\n",
       "        vertical-align: top;\n",
       "    }\n",
       "\n",
       "    .dataframe thead th {\n",
       "        text-align: right;\n",
       "    }\n",
       "</style>\n",
       "<table border=\"1\" class=\"dataframe\">\n",
       "  <thead>\n",
       "    <tr style=\"text-align: right;\">\n",
       "      <th></th>\n",
       "      <th>TransactionDate</th>\n",
       "      <th>ToFC</th>\n",
       "      <th>FromWH</th>\n",
       "      <th>Quantity</th>\n",
       "      <th>FCID</th>\n",
       "      <th>WHID</th>\n",
       "      <th>Cost</th>\n",
       "    </tr>\n",
       "  </thead>\n",
       "  <tbody>\n",
       "    <tr>\n",
       "      <th>0</th>\n",
       "      <td>2019-01-01 02:11:10</td>\n",
       "      <td>FC00004</td>\n",
       "      <td>WH00003</td>\n",
       "      <td>33</td>\n",
       "      <td>FC00004</td>\n",
       "      <td>WH00003</td>\n",
       "      <td>1.1</td>\n",
       "    </tr>\n",
       "    <tr>\n",
       "      <th>1</th>\n",
       "      <td>2019-01-01 06:12:42</td>\n",
       "      <td>FC00007</td>\n",
       "      <td>WH00006</td>\n",
       "      <td>19</td>\n",
       "      <td>FC00007</td>\n",
       "      <td>WH00006</td>\n",
       "      <td>1.3</td>\n",
       "    </tr>\n",
       "    <tr>\n",
       "      <th>2</th>\n",
       "      <td>2019-01-01 06:32:32</td>\n",
       "      <td>FC00006</td>\n",
       "      <td>WH00004</td>\n",
       "      <td>31</td>\n",
       "      <td>FC00006</td>\n",
       "      <td>WH00004</td>\n",
       "      <td>0.9</td>\n",
       "    </tr>\n",
       "    <tr>\n",
       "      <th>3</th>\n",
       "      <td>2019-01-01 07:17:06</td>\n",
       "      <td>FC00002</td>\n",
       "      <td>WH00003</td>\n",
       "      <td>18</td>\n",
       "      <td>FC00002</td>\n",
       "      <td>WH00003</td>\n",
       "      <td>1.6</td>\n",
       "    </tr>\n",
       "    <tr>\n",
       "      <th>4</th>\n",
       "      <td>2019-01-01 07:52:18</td>\n",
       "      <td>FC00001</td>\n",
       "      <td>WH00002</td>\n",
       "      <td>30</td>\n",
       "      <td>FC00001</td>\n",
       "      <td>WH00002</td>\n",
       "      <td>0.8</td>\n",
       "    </tr>\n",
       "  </tbody>\n",
       "</table>\n",
       "</div>"
      ],
      "text/plain": [
       "       TransactionDate     ToFC   FromWH  Quantity     FCID     WHID  Cost\n",
       "0  2019-01-01 02:11:10  FC00004  WH00003        33  FC00004  WH00003   1.1\n",
       "1  2019-01-01 06:12:42  FC00007  WH00006        19  FC00007  WH00006   1.3\n",
       "2  2019-01-01 06:32:32  FC00006  WH00004        31  FC00006  WH00004   0.9\n",
       "3  2019-01-01 07:17:06  FC00002  WH00003        18  FC00002  WH00003   1.6\n",
       "4  2019-01-01 07:52:18  FC00001  WH00002        30  FC00001  WH00002   0.8"
      ]
     },
     "execution_count": 5,
     "metadata": {},
     "output_type": "execute_result"
    }
   ],
   "source": [
    "# 輸送コストデータを結合\n",
    "join_data = pd.merge(trans, cost, left_on=['ToFC', 'FromWH'], right_on=['FCID','WHID'], how='left')\n",
    "join_data.head()"
   ]
  },
  {
   "cell_type": "code",
   "execution_count": 6,
   "id": "fa34390a",
   "metadata": {
    "execution": {
     "iopub.execute_input": "2024-09-02T12:42:45.057839Z",
     "iopub.status.busy": "2024-09-02T12:42:45.057430Z",
     "iopub.status.idle": "2024-09-02T12:42:45.076258Z",
     "shell.execute_reply": "2024-09-02T12:42:45.075244Z"
    },
    "papermill": {
     "duration": 0.036994,
     "end_time": "2024-09-02T12:42:45.078730",
     "exception": false,
     "start_time": "2024-09-02T12:42:45.041736",
     "status": "completed"
    },
    "tags": []
   },
   "outputs": [
    {
     "data": {
      "text/html": [
       "<div>\n",
       "<style scoped>\n",
       "    .dataframe tbody tr th:only-of-type {\n",
       "        vertical-align: middle;\n",
       "    }\n",
       "\n",
       "    .dataframe tbody tr th {\n",
       "        vertical-align: top;\n",
       "    }\n",
       "\n",
       "    .dataframe thead th {\n",
       "        text-align: right;\n",
       "    }\n",
       "</style>\n",
       "<table border=\"1\" class=\"dataframe\">\n",
       "  <thead>\n",
       "    <tr style=\"text-align: right;\">\n",
       "      <th></th>\n",
       "      <th>TransactionDate</th>\n",
       "      <th>ToFC</th>\n",
       "      <th>FromWH</th>\n",
       "      <th>Quantity</th>\n",
       "      <th>FCID</th>\n",
       "      <th>WHID</th>\n",
       "      <th>Cost</th>\n",
       "      <th>FCName</th>\n",
       "      <th>FCDemand</th>\n",
       "      <th>FCRegion</th>\n",
       "    </tr>\n",
       "  </thead>\n",
       "  <tbody>\n",
       "    <tr>\n",
       "      <th>0</th>\n",
       "      <td>2019-01-01 02:11:10</td>\n",
       "      <td>FC00004</td>\n",
       "      <td>WH00003</td>\n",
       "      <td>33</td>\n",
       "      <td>FC00004</td>\n",
       "      <td>WH00003</td>\n",
       "      <td>1.1</td>\n",
       "      <td>横須賀工場</td>\n",
       "      <td>25</td>\n",
       "      <td>関東</td>\n",
       "    </tr>\n",
       "    <tr>\n",
       "      <th>1</th>\n",
       "      <td>2019-01-01 06:12:42</td>\n",
       "      <td>FC00007</td>\n",
       "      <td>WH00006</td>\n",
       "      <td>19</td>\n",
       "      <td>FC00007</td>\n",
       "      <td>WH00006</td>\n",
       "      <td>1.3</td>\n",
       "      <td>那須工場</td>\n",
       "      <td>25</td>\n",
       "      <td>東北</td>\n",
       "    </tr>\n",
       "    <tr>\n",
       "      <th>2</th>\n",
       "      <td>2019-01-01 06:32:32</td>\n",
       "      <td>FC00006</td>\n",
       "      <td>WH00004</td>\n",
       "      <td>31</td>\n",
       "      <td>FC00006</td>\n",
       "      <td>WH00004</td>\n",
       "      <td>0.9</td>\n",
       "      <td>山形工場</td>\n",
       "      <td>30</td>\n",
       "      <td>東北</td>\n",
       "    </tr>\n",
       "    <tr>\n",
       "      <th>3</th>\n",
       "      <td>2019-01-01 07:17:06</td>\n",
       "      <td>FC00002</td>\n",
       "      <td>WH00003</td>\n",
       "      <td>18</td>\n",
       "      <td>FC00002</td>\n",
       "      <td>WH00003</td>\n",
       "      <td>1.6</td>\n",
       "      <td>木更津工場</td>\n",
       "      <td>29</td>\n",
       "      <td>関東</td>\n",
       "    </tr>\n",
       "    <tr>\n",
       "      <th>4</th>\n",
       "      <td>2019-01-01 07:52:18</td>\n",
       "      <td>FC00001</td>\n",
       "      <td>WH00002</td>\n",
       "      <td>30</td>\n",
       "      <td>FC00001</td>\n",
       "      <td>WH00002</td>\n",
       "      <td>0.8</td>\n",
       "      <td>東京工場</td>\n",
       "      <td>28</td>\n",
       "      <td>関東</td>\n",
       "    </tr>\n",
       "  </tbody>\n",
       "</table>\n",
       "</div>"
      ],
      "text/plain": [
       "       TransactionDate     ToFC   FromWH  Quantity     FCID     WHID  Cost  \\\n",
       "0  2019-01-01 02:11:10  FC00004  WH00003        33  FC00004  WH00003   1.1   \n",
       "1  2019-01-01 06:12:42  FC00007  WH00006        19  FC00007  WH00006   1.3   \n",
       "2  2019-01-01 06:32:32  FC00006  WH00004        31  FC00006  WH00004   0.9   \n",
       "3  2019-01-01 07:17:06  FC00002  WH00003        18  FC00002  WH00003   1.6   \n",
       "4  2019-01-01 07:52:18  FC00001  WH00002        30  FC00001  WH00002   0.8   \n",
       "\n",
       "  FCName  FCDemand FCRegion  \n",
       "0  横須賀工場        25       関東  \n",
       "1   那須工場        25       東北  \n",
       "2   山形工場        30       東北  \n",
       "3  木更津工場        29       関東  \n",
       "4   東京工場        28       関東  "
      ]
     },
     "execution_count": 6,
     "metadata": {},
     "output_type": "execute_result"
    }
   ],
   "source": [
    "# 工場のデータを付与する\n",
    "join_data = pd.merge(join_data, factories, left_on='ToFC', right_on='FCID', how='left')\n",
    "join_data.head()"
   ]
  },
  {
   "cell_type": "code",
   "execution_count": 7,
   "id": "0732f84e",
   "metadata": {
    "execution": {
     "iopub.execute_input": "2024-09-02T12:42:45.109366Z",
     "iopub.status.busy": "2024-09-02T12:42:45.108938Z",
     "iopub.status.idle": "2024-09-02T12:42:45.128393Z",
     "shell.execute_reply": "2024-09-02T12:42:45.127363Z"
    },
    "papermill": {
     "duration": 0.037511,
     "end_time": "2024-09-02T12:42:45.130852",
     "exception": false,
     "start_time": "2024-09-02T12:42:45.093341",
     "status": "completed"
    },
    "tags": []
   },
   "outputs": [
    {
     "data": {
      "text/html": [
       "<div>\n",
       "<style scoped>\n",
       "    .dataframe tbody tr th:only-of-type {\n",
       "        vertical-align: middle;\n",
       "    }\n",
       "\n",
       "    .dataframe tbody tr th {\n",
       "        vertical-align: top;\n",
       "    }\n",
       "\n",
       "    .dataframe thead th {\n",
       "        text-align: right;\n",
       "    }\n",
       "</style>\n",
       "<table border=\"1\" class=\"dataframe\">\n",
       "  <thead>\n",
       "    <tr style=\"text-align: right;\">\n",
       "      <th></th>\n",
       "      <th>TransactionDate</th>\n",
       "      <th>ToFC</th>\n",
       "      <th>FromWH</th>\n",
       "      <th>Quantity</th>\n",
       "      <th>FCID</th>\n",
       "      <th>WHID</th>\n",
       "      <th>Cost</th>\n",
       "      <th>FCName</th>\n",
       "      <th>FCDemand</th>\n",
       "      <th>FCRegion</th>\n",
       "      <th>WHName</th>\n",
       "      <th>WHSupply</th>\n",
       "      <th>WHRegion</th>\n",
       "    </tr>\n",
       "  </thead>\n",
       "  <tbody>\n",
       "    <tr>\n",
       "      <th>0</th>\n",
       "      <td>2019-01-01 02:11:10</td>\n",
       "      <td>FC00004</td>\n",
       "      <td>WH00003</td>\n",
       "      <td>33</td>\n",
       "      <td>FC00004</td>\n",
       "      <td>WH00003</td>\n",
       "      <td>1.1</td>\n",
       "      <td>横須賀工場</td>\n",
       "      <td>25</td>\n",
       "      <td>関東</td>\n",
       "      <td>豊洲倉庫</td>\n",
       "      <td>42</td>\n",
       "      <td>関東</td>\n",
       "    </tr>\n",
       "    <tr>\n",
       "      <th>1</th>\n",
       "      <td>2019-01-01 06:12:42</td>\n",
       "      <td>FC00007</td>\n",
       "      <td>WH00006</td>\n",
       "      <td>19</td>\n",
       "      <td>FC00007</td>\n",
       "      <td>WH00006</td>\n",
       "      <td>1.3</td>\n",
       "      <td>那須工場</td>\n",
       "      <td>25</td>\n",
       "      <td>東北</td>\n",
       "      <td>山形倉庫</td>\n",
       "      <td>65</td>\n",
       "      <td>東北</td>\n",
       "    </tr>\n",
       "    <tr>\n",
       "      <th>2</th>\n",
       "      <td>2019-01-01 06:32:32</td>\n",
       "      <td>FC00006</td>\n",
       "      <td>WH00004</td>\n",
       "      <td>31</td>\n",
       "      <td>FC00006</td>\n",
       "      <td>WH00004</td>\n",
       "      <td>0.9</td>\n",
       "      <td>山形工場</td>\n",
       "      <td>30</td>\n",
       "      <td>東北</td>\n",
       "      <td>郡山倉庫</td>\n",
       "      <td>60</td>\n",
       "      <td>東北</td>\n",
       "    </tr>\n",
       "    <tr>\n",
       "      <th>3</th>\n",
       "      <td>2019-01-01 07:17:06</td>\n",
       "      <td>FC00002</td>\n",
       "      <td>WH00003</td>\n",
       "      <td>18</td>\n",
       "      <td>FC00002</td>\n",
       "      <td>WH00003</td>\n",
       "      <td>1.6</td>\n",
       "      <td>木更津工場</td>\n",
       "      <td>29</td>\n",
       "      <td>関東</td>\n",
       "      <td>豊洲倉庫</td>\n",
       "      <td>42</td>\n",
       "      <td>関東</td>\n",
       "    </tr>\n",
       "    <tr>\n",
       "      <th>4</th>\n",
       "      <td>2019-01-01 07:52:18</td>\n",
       "      <td>FC00001</td>\n",
       "      <td>WH00002</td>\n",
       "      <td>30</td>\n",
       "      <td>FC00001</td>\n",
       "      <td>WH00002</td>\n",
       "      <td>0.8</td>\n",
       "      <td>東京工場</td>\n",
       "      <td>28</td>\n",
       "      <td>関東</td>\n",
       "      <td>品川倉庫</td>\n",
       "      <td>41</td>\n",
       "      <td>関東</td>\n",
       "    </tr>\n",
       "  </tbody>\n",
       "</table>\n",
       "</div>"
      ],
      "text/plain": [
       "       TransactionDate     ToFC   FromWH  Quantity     FCID     WHID  Cost  \\\n",
       "0  2019-01-01 02:11:10  FC00004  WH00003        33  FC00004  WH00003   1.1   \n",
       "1  2019-01-01 06:12:42  FC00007  WH00006        19  FC00007  WH00006   1.3   \n",
       "2  2019-01-01 06:32:32  FC00006  WH00004        31  FC00006  WH00004   0.9   \n",
       "3  2019-01-01 07:17:06  FC00002  WH00003        18  FC00002  WH00003   1.6   \n",
       "4  2019-01-01 07:52:18  FC00001  WH00002        30  FC00001  WH00002   0.8   \n",
       "\n",
       "  FCName  FCDemand FCRegion WHName  WHSupply WHRegion  \n",
       "0  横須賀工場        25       関東   豊洲倉庫        42       関東  \n",
       "1   那須工場        25       東北   山形倉庫        65       東北  \n",
       "2   山形工場        30       東北   郡山倉庫        60       東北  \n",
       "3  木更津工場        29       関東   豊洲倉庫        42       関東  \n",
       "4   東京工場        28       関東   品川倉庫        41       関東  "
      ]
     },
     "execution_count": 7,
     "metadata": {},
     "output_type": "execute_result"
    }
   ],
   "source": [
    "# 倉庫の情報を付与\n",
    "join_data = pd.merge(join_data, warehouses, left_on='FromWH', right_on='WHID', how='left')\n",
    "join_data.head()"
   ]
  },
  {
   "cell_type": "code",
   "execution_count": 8,
   "id": "f29cf990",
   "metadata": {
    "execution": {
     "iopub.execute_input": "2024-09-02T12:42:45.161973Z",
     "iopub.status.busy": "2024-09-02T12:42:45.161592Z",
     "iopub.status.idle": "2024-09-02T12:42:45.179327Z",
     "shell.execute_reply": "2024-09-02T12:42:45.178384Z"
    },
    "papermill": {
     "duration": 0.035845,
     "end_time": "2024-09-02T12:42:45.181499",
     "exception": false,
     "start_time": "2024-09-02T12:42:45.145654",
     "status": "completed"
    },
    "tags": []
   },
   "outputs": [
    {
     "data": {
      "text/html": [
       "<div>\n",
       "<style scoped>\n",
       "    .dataframe tbody tr th:only-of-type {\n",
       "        vertical-align: middle;\n",
       "    }\n",
       "\n",
       "    .dataframe tbody tr th {\n",
       "        vertical-align: top;\n",
       "    }\n",
       "\n",
       "    .dataframe thead th {\n",
       "        text-align: right;\n",
       "    }\n",
       "</style>\n",
       "<table border=\"1\" class=\"dataframe\">\n",
       "  <thead>\n",
       "    <tr style=\"text-align: right;\">\n",
       "      <th></th>\n",
       "      <th>TransactionDate</th>\n",
       "      <th>Quantity</th>\n",
       "      <th>Cost</th>\n",
       "      <th>ToFC</th>\n",
       "      <th>FCName</th>\n",
       "      <th>FCDemand</th>\n",
       "      <th>FromWH</th>\n",
       "      <th>WHName</th>\n",
       "      <th>WHSupply</th>\n",
       "      <th>WHRegion</th>\n",
       "    </tr>\n",
       "  </thead>\n",
       "  <tbody>\n",
       "    <tr>\n",
       "      <th>0</th>\n",
       "      <td>2019-01-01 02:11:10</td>\n",
       "      <td>33</td>\n",
       "      <td>1.1</td>\n",
       "      <td>FC00004</td>\n",
       "      <td>横須賀工場</td>\n",
       "      <td>25</td>\n",
       "      <td>WH00003</td>\n",
       "      <td>豊洲倉庫</td>\n",
       "      <td>42</td>\n",
       "      <td>関東</td>\n",
       "    </tr>\n",
       "    <tr>\n",
       "      <th>1</th>\n",
       "      <td>2019-01-01 06:12:42</td>\n",
       "      <td>19</td>\n",
       "      <td>1.3</td>\n",
       "      <td>FC00007</td>\n",
       "      <td>那須工場</td>\n",
       "      <td>25</td>\n",
       "      <td>WH00006</td>\n",
       "      <td>山形倉庫</td>\n",
       "      <td>65</td>\n",
       "      <td>東北</td>\n",
       "    </tr>\n",
       "    <tr>\n",
       "      <th>2</th>\n",
       "      <td>2019-01-01 06:32:32</td>\n",
       "      <td>31</td>\n",
       "      <td>0.9</td>\n",
       "      <td>FC00006</td>\n",
       "      <td>山形工場</td>\n",
       "      <td>30</td>\n",
       "      <td>WH00004</td>\n",
       "      <td>郡山倉庫</td>\n",
       "      <td>60</td>\n",
       "      <td>東北</td>\n",
       "    </tr>\n",
       "    <tr>\n",
       "      <th>3</th>\n",
       "      <td>2019-01-01 07:17:06</td>\n",
       "      <td>18</td>\n",
       "      <td>1.6</td>\n",
       "      <td>FC00002</td>\n",
       "      <td>木更津工場</td>\n",
       "      <td>29</td>\n",
       "      <td>WH00003</td>\n",
       "      <td>豊洲倉庫</td>\n",
       "      <td>42</td>\n",
       "      <td>関東</td>\n",
       "    </tr>\n",
       "    <tr>\n",
       "      <th>4</th>\n",
       "      <td>2019-01-01 07:52:18</td>\n",
       "      <td>30</td>\n",
       "      <td>0.8</td>\n",
       "      <td>FC00001</td>\n",
       "      <td>東京工場</td>\n",
       "      <td>28</td>\n",
       "      <td>WH00002</td>\n",
       "      <td>品川倉庫</td>\n",
       "      <td>41</td>\n",
       "      <td>関東</td>\n",
       "    </tr>\n",
       "  </tbody>\n",
       "</table>\n",
       "</div>"
      ],
      "text/plain": [
       "       TransactionDate  Quantity  Cost     ToFC FCName  FCDemand   FromWH  \\\n",
       "0  2019-01-01 02:11:10        33   1.1  FC00004  横須賀工場        25  WH00003   \n",
       "1  2019-01-01 06:12:42        19   1.3  FC00007   那須工場        25  WH00006   \n",
       "2  2019-01-01 06:32:32        31   0.9  FC00006   山形工場        30  WH00004   \n",
       "3  2019-01-01 07:17:06        18   1.6  FC00002  木更津工場        29  WH00003   \n",
       "4  2019-01-01 07:52:18        30   0.8  FC00001   東京工場        28  WH00002   \n",
       "\n",
       "  WHName  WHSupply WHRegion  \n",
       "0   豊洲倉庫        42       関東  \n",
       "1   山形倉庫        65       東北  \n",
       "2   郡山倉庫        60       東北  \n",
       "3   豊洲倉庫        42       関東  \n",
       "4   品川倉庫        41       関東  "
      ]
     },
     "execution_count": 8,
     "metadata": {},
     "output_type": "execute_result"
    }
   ],
   "source": [
    "# 見やすいように並び替えと列の削除を行う\n",
    "join_data = join_data[['TransactionDate', 'Quantity', 'Cost', 'ToFC', 'FCName', \n",
    "                       'FCDemand', 'FromWH', 'WHName', 'WHSupply', 'WHRegion']]\n",
    "join_data.head()"
   ]
  },
  {
   "cell_type": "code",
   "execution_count": 9,
   "id": "590976fe",
   "metadata": {
    "execution": {
     "iopub.execute_input": "2024-09-02T12:42:45.213147Z",
     "iopub.status.busy": "2024-09-02T12:42:45.212755Z",
     "iopub.status.idle": "2024-09-02T12:42:45.232449Z",
     "shell.execute_reply": "2024-09-02T12:42:45.231357Z"
    },
    "papermill": {
     "duration": 0.038248,
     "end_time": "2024-09-02T12:42:45.234738",
     "exception": false,
     "start_time": "2024-09-02T12:42:45.196490",
     "status": "completed"
    },
    "tags": []
   },
   "outputs": [
    {
     "data": {
      "text/html": [
       "<div>\n",
       "<style scoped>\n",
       "    .dataframe tbody tr th:only-of-type {\n",
       "        vertical-align: middle;\n",
       "    }\n",
       "\n",
       "    .dataframe tbody tr th {\n",
       "        vertical-align: top;\n",
       "    }\n",
       "\n",
       "    .dataframe thead th {\n",
       "        text-align: right;\n",
       "    }\n",
       "</style>\n",
       "<table border=\"1\" class=\"dataframe\">\n",
       "  <thead>\n",
       "    <tr style=\"text-align: right;\">\n",
       "      <th></th>\n",
       "      <th>TransactionDate</th>\n",
       "      <th>Quantity</th>\n",
       "      <th>Cost</th>\n",
       "      <th>ToFC</th>\n",
       "      <th>FCName</th>\n",
       "      <th>FCDemand</th>\n",
       "      <th>FromWH</th>\n",
       "      <th>WHName</th>\n",
       "      <th>WHSupply</th>\n",
       "      <th>WHRegion</th>\n",
       "    </tr>\n",
       "  </thead>\n",
       "  <tbody>\n",
       "    <tr>\n",
       "      <th>0</th>\n",
       "      <td>2019-01-01 02:11:10</td>\n",
       "      <td>33</td>\n",
       "      <td>1.1</td>\n",
       "      <td>FC00004</td>\n",
       "      <td>横須賀工場</td>\n",
       "      <td>25</td>\n",
       "      <td>WH00003</td>\n",
       "      <td>豊洲倉庫</td>\n",
       "      <td>42</td>\n",
       "      <td>関東</td>\n",
       "    </tr>\n",
       "    <tr>\n",
       "      <th>3</th>\n",
       "      <td>2019-01-01 07:17:06</td>\n",
       "      <td>18</td>\n",
       "      <td>1.6</td>\n",
       "      <td>FC00002</td>\n",
       "      <td>木更津工場</td>\n",
       "      <td>29</td>\n",
       "      <td>WH00003</td>\n",
       "      <td>豊洲倉庫</td>\n",
       "      <td>42</td>\n",
       "      <td>関東</td>\n",
       "    </tr>\n",
       "    <tr>\n",
       "      <th>4</th>\n",
       "      <td>2019-01-01 07:52:18</td>\n",
       "      <td>30</td>\n",
       "      <td>0.8</td>\n",
       "      <td>FC00001</td>\n",
       "      <td>東京工場</td>\n",
       "      <td>28</td>\n",
       "      <td>WH00002</td>\n",
       "      <td>品川倉庫</td>\n",
       "      <td>41</td>\n",
       "      <td>関東</td>\n",
       "    </tr>\n",
       "    <tr>\n",
       "      <th>7</th>\n",
       "      <td>2019-01-01 09:09:30</td>\n",
       "      <td>12</td>\n",
       "      <td>1.5</td>\n",
       "      <td>FC00001</td>\n",
       "      <td>東京工場</td>\n",
       "      <td>28</td>\n",
       "      <td>WH00003</td>\n",
       "      <td>豊洲倉庫</td>\n",
       "      <td>42</td>\n",
       "      <td>関東</td>\n",
       "    </tr>\n",
       "    <tr>\n",
       "      <th>8</th>\n",
       "      <td>2019-01-01 10:52:55</td>\n",
       "      <td>27</td>\n",
       "      <td>1.5</td>\n",
       "      <td>FC00003</td>\n",
       "      <td>多摩工場</td>\n",
       "      <td>31</td>\n",
       "      <td>WH00003</td>\n",
       "      <td>豊洲倉庫</td>\n",
       "      <td>42</td>\n",
       "      <td>関東</td>\n",
       "    </tr>\n",
       "  </tbody>\n",
       "</table>\n",
       "</div>"
      ],
      "text/plain": [
       "       TransactionDate  Quantity  Cost     ToFC FCName  FCDemand   FromWH  \\\n",
       "0  2019-01-01 02:11:10        33   1.1  FC00004  横須賀工場        25  WH00003   \n",
       "3  2019-01-01 07:17:06        18   1.6  FC00002  木更津工場        29  WH00003   \n",
       "4  2019-01-01 07:52:18        30   0.8  FC00001   東京工場        28  WH00002   \n",
       "7  2019-01-01 09:09:30        12   1.5  FC00001   東京工場        28  WH00003   \n",
       "8  2019-01-01 10:52:55        27   1.5  FC00003   多摩工場        31  WH00003   \n",
       "\n",
       "  WHName  WHSupply WHRegion  \n",
       "0   豊洲倉庫        42       関東  \n",
       "3   豊洲倉庫        42       関東  \n",
       "4   品川倉庫        41       関東  \n",
       "7   豊洲倉庫        42       関東  \n",
       "8   豊洲倉庫        42       関東  "
      ]
     },
     "execution_count": 9,
     "metadata": {},
     "output_type": "execute_result"
    }
   ],
   "source": [
    "# 関東支社と東北支社のデータを抽出してみる\n",
    "kanto = join_data.loc[join_data['WHRegion'] == '関東']\n",
    "kanto.head()"
   ]
  },
  {
   "cell_type": "code",
   "execution_count": 10,
   "id": "ba38ef23",
   "metadata": {
    "execution": {
     "iopub.execute_input": "2024-09-02T12:42:45.267407Z",
     "iopub.status.busy": "2024-09-02T12:42:45.266944Z",
     "iopub.status.idle": "2024-09-02T12:42:45.283072Z",
     "shell.execute_reply": "2024-09-02T12:42:45.282085Z"
    },
    "papermill": {
     "duration": 0.034797,
     "end_time": "2024-09-02T12:42:45.285156",
     "exception": false,
     "start_time": "2024-09-02T12:42:45.250359",
     "status": "completed"
    },
    "tags": []
   },
   "outputs": [
    {
     "data": {
      "text/html": [
       "<div>\n",
       "<style scoped>\n",
       "    .dataframe tbody tr th:only-of-type {\n",
       "        vertical-align: middle;\n",
       "    }\n",
       "\n",
       "    .dataframe tbody tr th {\n",
       "        vertical-align: top;\n",
       "    }\n",
       "\n",
       "    .dataframe thead th {\n",
       "        text-align: right;\n",
       "    }\n",
       "</style>\n",
       "<table border=\"1\" class=\"dataframe\">\n",
       "  <thead>\n",
       "    <tr style=\"text-align: right;\">\n",
       "      <th></th>\n",
       "      <th>TransactionDate</th>\n",
       "      <th>Quantity</th>\n",
       "      <th>Cost</th>\n",
       "      <th>ToFC</th>\n",
       "      <th>FCName</th>\n",
       "      <th>FCDemand</th>\n",
       "      <th>FromWH</th>\n",
       "      <th>WHName</th>\n",
       "      <th>WHSupply</th>\n",
       "      <th>WHRegion</th>\n",
       "    </tr>\n",
       "  </thead>\n",
       "  <tbody>\n",
       "    <tr>\n",
       "      <th>1</th>\n",
       "      <td>2019-01-01 06:12:42</td>\n",
       "      <td>19</td>\n",
       "      <td>1.3</td>\n",
       "      <td>FC00007</td>\n",
       "      <td>那須工場</td>\n",
       "      <td>25</td>\n",
       "      <td>WH00006</td>\n",
       "      <td>山形倉庫</td>\n",
       "      <td>65</td>\n",
       "      <td>東北</td>\n",
       "    </tr>\n",
       "    <tr>\n",
       "      <th>2</th>\n",
       "      <td>2019-01-01 06:32:32</td>\n",
       "      <td>31</td>\n",
       "      <td>0.9</td>\n",
       "      <td>FC00006</td>\n",
       "      <td>山形工場</td>\n",
       "      <td>30</td>\n",
       "      <td>WH00004</td>\n",
       "      <td>郡山倉庫</td>\n",
       "      <td>60</td>\n",
       "      <td>東北</td>\n",
       "    </tr>\n",
       "    <tr>\n",
       "      <th>5</th>\n",
       "      <td>2019-01-01 08:56:09</td>\n",
       "      <td>31</td>\n",
       "      <td>0.3</td>\n",
       "      <td>FC00005</td>\n",
       "      <td>仙台工場</td>\n",
       "      <td>21</td>\n",
       "      <td>WH00005</td>\n",
       "      <td>仙台倉庫</td>\n",
       "      <td>72</td>\n",
       "      <td>東北</td>\n",
       "    </tr>\n",
       "    <tr>\n",
       "      <th>6</th>\n",
       "      <td>2019-01-01 09:00:15</td>\n",
       "      <td>33</td>\n",
       "      <td>0.7</td>\n",
       "      <td>FC00006</td>\n",
       "      <td>山形工場</td>\n",
       "      <td>30</td>\n",
       "      <td>WH00006</td>\n",
       "      <td>山形倉庫</td>\n",
       "      <td>65</td>\n",
       "      <td>東北</td>\n",
       "    </tr>\n",
       "    <tr>\n",
       "      <th>9</th>\n",
       "      <td>2019-01-01 14:12:51</td>\n",
       "      <td>21</td>\n",
       "      <td>0.7</td>\n",
       "      <td>FC00006</td>\n",
       "      <td>山形工場</td>\n",
       "      <td>30</td>\n",
       "      <td>WH00006</td>\n",
       "      <td>山形倉庫</td>\n",
       "      <td>65</td>\n",
       "      <td>東北</td>\n",
       "    </tr>\n",
       "  </tbody>\n",
       "</table>\n",
       "</div>"
      ],
      "text/plain": [
       "       TransactionDate  Quantity  Cost     ToFC FCName  FCDemand   FromWH  \\\n",
       "1  2019-01-01 06:12:42        19   1.3  FC00007   那須工場        25  WH00006   \n",
       "2  2019-01-01 06:32:32        31   0.9  FC00006   山形工場        30  WH00004   \n",
       "5  2019-01-01 08:56:09        31   0.3  FC00005   仙台工場        21  WH00005   \n",
       "6  2019-01-01 09:00:15        33   0.7  FC00006   山形工場        30  WH00006   \n",
       "9  2019-01-01 14:12:51        21   0.7  FC00006   山形工場        30  WH00006   \n",
       "\n",
       "  WHName  WHSupply WHRegion  \n",
       "1   山形倉庫        65       東北  \n",
       "2   郡山倉庫        60       東北  \n",
       "5   仙台倉庫        72       東北  \n",
       "6   山形倉庫        65       東北  \n",
       "9   山形倉庫        65       東北  "
      ]
     },
     "execution_count": 10,
     "metadata": {},
     "output_type": "execute_result"
    }
   ],
   "source": [
    "tohoku = join_data.loc[join_data['WHRegion'] == '東北']\n",
    "tohoku.head()"
   ]
  },
  {
   "cell_type": "markdown",
   "id": "40895b03",
   "metadata": {
    "papermill": {
     "duration": 0.015138,
     "end_time": "2024-09-02T12:42:45.315984",
     "exception": false,
     "start_time": "2024-09-02T12:42:45.300846",
     "status": "completed"
    },
    "tags": []
   },
   "source": [
    "## ノック52 : 現場の輸送量、コストを確認する"
   ]
  },
  {
   "cell_type": "markdown",
   "id": "eaced9da",
   "metadata": {
    "papermill": {
     "duration": 0.015084,
     "end_time": "2024-09-02T12:42:45.346491",
     "exception": false,
     "start_time": "2024-09-02T12:42:45.331407",
     "status": "completed"
    },
    "tags": []
   },
   "source": [
    "実際に一年間に輸送した部品数やそれにかかったコストを集計してみる。"
   ]
  },
  {
   "cell_type": "markdown",
   "id": "c42d44ab",
   "metadata": {
    "papermill": {
     "duration": 0.015231,
     "end_time": "2024-09-02T12:42:45.377049",
     "exception": false,
     "start_time": "2024-09-02T12:42:45.361818",
     "status": "completed"
    },
    "tags": []
   },
   "source": [
    "* ### 各支社の総コスト"
   ]
  },
  {
   "cell_type": "code",
   "execution_count": 11,
   "id": "770a9382",
   "metadata": {
    "execution": {
     "iopub.execute_input": "2024-09-02T12:42:45.409917Z",
     "iopub.status.busy": "2024-09-02T12:42:45.408975Z",
     "iopub.status.idle": "2024-09-02T12:42:45.415459Z",
     "shell.execute_reply": "2024-09-02T12:42:45.414455Z"
    },
    "papermill": {
     "duration": 0.025337,
     "end_time": "2024-09-02T12:42:45.417715",
     "exception": false,
     "start_time": "2024-09-02T12:42:45.392378",
     "status": "completed"
    },
    "tags": []
   },
   "outputs": [
    {
     "name": "stdout",
     "output_type": "stream",
     "text": [
      "関東支社の総コスト2189.3万円\n",
      "東北支社の総コスト2062.0万円\n"
     ]
    }
   ],
   "source": [
    "print('関東支社の総コスト' + str(kanto['Cost'].sum()) + '万円')\n",
    "print('東北支社の総コスト' + str(tohoku['Cost'].sum()) + '万円')"
   ]
  },
  {
   "cell_type": "markdown",
   "id": "3e68527b",
   "metadata": {
    "papermill": {
     "duration": 0.015182,
     "end_time": "2024-09-02T12:42:45.448331",
     "exception": false,
     "start_time": "2024-09-02T12:42:45.433149",
     "status": "completed"
    },
    "tags": []
   },
   "source": [
    "* ### 各支社の総部品輸送個数"
   ]
  },
  {
   "cell_type": "code",
   "execution_count": 12,
   "id": "ee718d0f",
   "metadata": {
    "execution": {
     "iopub.execute_input": "2024-09-02T12:42:45.482238Z",
     "iopub.status.busy": "2024-09-02T12:42:45.481841Z",
     "iopub.status.idle": "2024-09-02T12:42:45.488132Z",
     "shell.execute_reply": "2024-09-02T12:42:45.487173Z"
    },
    "papermill": {
     "duration": 0.026383,
     "end_time": "2024-09-02T12:42:45.490226",
     "exception": false,
     "start_time": "2024-09-02T12:42:45.463843",
     "status": "completed"
    },
    "tags": []
   },
   "outputs": [
    {
     "name": "stdout",
     "output_type": "stream",
     "text": [
      "関東支社の総部品輸送個数49146個\n",
      "東北支社の総部品輸送個数50214個\n"
     ]
    }
   ],
   "source": [
    "print('関東支社の総部品輸送個数' + str(kanto['Quantity'].sum()) + '個')\n",
    "print('東北支社の総部品輸送個数' + str(tohoku['Quantity'].sum()) + '個')"
   ]
  },
  {
   "cell_type": "markdown",
   "id": "90f0387d",
   "metadata": {
    "papermill": {
     "duration": 0.015523,
     "end_time": "2024-09-02T12:42:45.521997",
     "exception": false,
     "start_time": "2024-09-02T12:42:45.506474",
     "status": "completed"
    },
    "tags": []
   },
   "source": [
    "* ### 部品一つあたりの輸送コストを求めてみる"
   ]
  },
  {
   "cell_type": "code",
   "execution_count": 13,
   "id": "b273fcc9",
   "metadata": {
    "execution": {
     "iopub.execute_input": "2024-09-02T12:42:45.555890Z",
     "iopub.status.busy": "2024-09-02T12:42:45.555201Z",
     "iopub.status.idle": "2024-09-02T12:42:45.561925Z",
     "shell.execute_reply": "2024-09-02T12:42:45.560968Z"
    },
    "papermill": {
     "duration": 0.026779,
     "end_time": "2024-09-02T12:42:45.564657",
     "exception": false,
     "start_time": "2024-09-02T12:42:45.537878",
     "status": "completed"
    },
    "tags": []
   },
   "outputs": [
    {
     "name": "stdout",
     "output_type": "stream",
     "text": [
      "関東支社の部品一つあたりの輸送コスト : 445円\n",
      "東北支社の部品一つあたりの輸送コスト : 410円\n"
     ]
    }
   ],
   "source": [
    "tmp = (kanto['Cost'].sum() / kanto['Quantity'].sum()) * 10000\n",
    "print('関東支社の部品一つあたりの輸送コスト : ' + str(int(tmp)) + '円')\n",
    "tmp = (tohoku['Cost'].sum() / tohoku['Quantity'].sum()) * 10000\n",
    "print('東北支社の部品一つあたりの輸送コスト : ' + str(int(tmp)) + '円')"
   ]
  },
  {
   "cell_type": "markdown",
   "id": "f58c9ab2",
   "metadata": {
    "papermill": {
     "duration": 0.015886,
     "end_time": "2024-09-02T12:42:45.596508",
     "exception": false,
     "start_time": "2024-09-02T12:42:45.580622",
     "status": "completed"
    },
    "tags": []
   },
   "source": [
    "* ### 各支社の輸送コストの平均値を出してみる\n"
   ]
  },
  {
   "cell_type": "code",
   "execution_count": 14,
   "id": "edbf4d3a",
   "metadata": {
    "execution": {
     "iopub.execute_input": "2024-09-02T12:42:45.630060Z",
     "iopub.status.busy": "2024-09-02T12:42:45.629190Z",
     "iopub.status.idle": "2024-09-02T12:42:45.641742Z",
     "shell.execute_reply": "2024-09-02T12:42:45.640539Z"
    },
    "papermill": {
     "duration": 0.031733,
     "end_time": "2024-09-02T12:42:45.643929",
     "exception": false,
     "start_time": "2024-09-02T12:42:45.612196",
     "status": "completed"
    },
    "tags": []
   },
   "outputs": [
    {
     "name": "stdout",
     "output_type": "stream",
     "text": [
      "関東支社の平均輸送コスト1.075万円\n",
      "東北支社の平均輸送コスト1.05万円\n"
     ]
    }
   ],
   "source": [
    "cost_chk = pd.merge(cost, factories, on='FCID', how='left')\n",
    "print('関東支社の平均輸送コスト' + str(cost_chk['Cost'].loc[cost_chk['FCRegion'] == '関東'].mean()) + '万円')\n",
    "\n",
    "print('東北支社の平均輸送コスト' + str(cost_chk['Cost'].loc[cost_chk['FCRegion'] == '東北'].mean()) + '万円')"
   ]
  },
  {
   "cell_type": "markdown",
   "id": "ccb50064",
   "metadata": {
    "papermill": {
     "duration": 0.015693,
     "end_time": "2024-09-02T12:42:45.675556",
     "exception": false,
     "start_time": "2024-09-02T12:42:45.659863",
     "status": "completed"
    },
    "tags": []
   },
   "source": [
    "各支社ごとに輸送コストはあまり変わらないことがわかった。<br>つまり、東北支社の方がより効率的に輸送を行うことができている。"
   ]
  },
  {
   "cell_type": "markdown",
   "id": "8ce4f66c",
   "metadata": {
    "papermill": {
     "duration": 0.015431,
     "end_time": "2024-09-02T12:42:45.706834",
     "exception": false,
     "start_time": "2024-09-02T12:42:45.691403",
     "status": "completed"
    },
    "tags": []
   },
   "source": [
    "## ノック53 : ネットワークを可視化する"
   ]
  },
  {
   "cell_type": "markdown",
   "id": "39ab48b7",
   "metadata": {
    "papermill": {
     "duration": 0.015512,
     "end_time": "2024-09-02T12:42:45.738094",
     "exception": false,
     "start_time": "2024-09-02T12:42:45.722582",
     "status": "completed"
    },
    "tags": []
   },
   "source": [
    "* #### 最適化プログラムによって導き出されたプランを可視化するプロセス\n",
    "* #### いくつかの条件を満たしていること\n",
    "\n",
    "#### この二つを確認することで、現場の意思決定者が納得できる手法を提案することができる。"
   ]
  },
  {
   "cell_type": "markdown",
   "id": "de405017",
   "metadata": {
    "papermill": {
     "duration": 0.015519,
     "end_time": "2024-09-02T12:42:45.769528",
     "exception": false,
     "start_time": "2024-09-02T12:42:45.754009",
     "status": "completed"
    },
    "tags": []
   },
   "source": [
    "#### ネットワークの可視化を行うライブラリとして、NetworkXを使用する。"
   ]
  },
  {
   "cell_type": "code",
   "execution_count": 15,
   "id": "7946adf4",
   "metadata": {
    "execution": {
     "iopub.execute_input": "2024-09-02T12:42:45.805148Z",
     "iopub.status.busy": "2024-09-02T12:42:45.804742Z",
     "iopub.status.idle": "2024-09-02T12:42:46.850571Z",
     "shell.execute_reply": "2024-09-02T12:42:46.849562Z"
    },
    "papermill": {
     "duration": 1.066182,
     "end_time": "2024-09-02T12:42:46.852945",
     "exception": false,
     "start_time": "2024-09-02T12:42:45.786763",
     "status": "completed"
    },
    "tags": []
   },
   "outputs": [
    {
     "data": {
      "image/png": "[encoded data removed]",
      "text/plain": [
       "<Figure size 640x480 with 1 Axes>"
      ]
     },
     "metadata": {},
     "output_type": "display_data"
    }
   ],
   "source": [
    "# ネットワーク構造の作成のデモ\n",
    "import networkx as nx\n",
    "import matplotlib.pyplot as plt\n",
    "\n",
    "# グラフオブジェクトの作成\n",
    "G = nx.Graph()\n",
    "\n",
    "# 頂点（ノード）の設定\n",
    "G.add_node('nodeA')\n",
    "G.add_node('nodeB')\n",
    "G.add_node('nodeC')\n",
    "\n",
    "# 辺の設定\n",
    "G.add_edge('nodeA', 'nodeB')\n",
    "G.add_edge('nodeA', 'nodeC')\n",
    "G.add_edge('nodeB', 'nodeC')\n",
    "\n",
    "# 座標の設定\n",
    "pos={}\n",
    "pos['nodeA'] = (0, 0)\n",
    "pos['nodeB'] = (1, 1)\n",
    "pos['nodeC'] = (0, 1)\n",
    "\n",
    "# 描画\n",
    "nx.draw(G, pos)\n",
    "\n",
    "# 表示\n",
    "plt.show()"
   ]
  },
  {
   "cell_type": "markdown",
   "id": "7f71b571",
   "metadata": {
    "papermill": {
     "duration": 0.015944,
     "end_time": "2024-09-02T12:42:46.884916",
     "exception": false,
     "start_time": "2024-09-02T12:42:46.868972",
     "status": "completed"
    },
    "tags": []
   },
   "source": [
    "## ノック54 : ネットワークにノード（頂点）を追加してみる"
   ]
  },
  {
   "cell_type": "code",
   "execution_count": 16,
   "id": "2475c708",
   "metadata": {
    "execution": {
     "iopub.execute_input": "2024-09-02T12:42:46.918751Z",
     "iopub.status.busy": "2024-09-02T12:42:46.918181Z",
     "iopub.status.idle": "2024-09-02T12:42:47.124029Z",
     "shell.execute_reply": "2024-09-02T12:42:47.123007Z"
    },
    "papermill": {
     "duration": 0.225356,
     "end_time": "2024-09-02T12:42:47.126274",
     "exception": false,
     "start_time": "2024-09-02T12:42:46.900918",
     "status": "completed"
    },
    "tags": []
   },
   "outputs": [
    {
     "data": {
      "image/png": "[encoded data removed]",
      "text/plain": [
       "<Figure size 640x480 with 1 Axes>"
      ]
     },
     "metadata": {},
     "output_type": "display_data"
    }
   ],
   "source": [
    "# ノードDを追加する\n",
    "G.add_node('nodeD')\n",
    "G.add_edge('nodeA', 'nodeD')\n",
    "pos['nodeD'] = (1, 0)\n",
    "# どこが増えたかわかるようにする\n",
    "nx.draw(G, pos, with_labels=True)"
   ]
  },
  {
   "cell_type": "markdown",
   "id": "6b26dfe2",
   "metadata": {
    "papermill": {
     "duration": 0.015895,
     "end_time": "2024-09-02T12:42:47.207536",
     "exception": false,
     "start_time": "2024-09-02T12:42:47.191641",
     "status": "completed"
    },
    "tags": []
   },
   "source": [
    "## ノック55 : ルートの重みづけを実施する"
   ]
  },
  {
   "cell_type": "markdown",
   "id": "df17dce6",
   "metadata": {
    "papermill": {
     "duration": 0.015805,
     "end_time": "2024-09-02T12:42:47.239644",
     "exception": false,
     "start_time": "2024-09-02T12:42:47.223839",
     "status": "completed"
    },
    "tags": []
   },
   "source": [
    "CSVファイルに格納された重み情報をデータフレーム形式で読み込み、その数値を使って重みづけをする。"
   ]
  },
  {
   "cell_type": "code",
   "execution_count": 17,
   "id": "0047f6a4",
   "metadata": {
    "execution": {
     "iopub.execute_input": "2024-09-02T12:42:47.273737Z",
     "iopub.status.busy": "2024-09-02T12:42:47.273345Z",
     "iopub.status.idle": "2024-09-02T12:42:47.306829Z",
     "shell.execute_reply": "2024-09-02T12:42:47.305721Z"
    },
    "papermill": {
     "duration": 0.053171,
     "end_time": "2024-09-02T12:42:47.308943",
     "exception": false,
     "start_time": "2024-09-02T12:42:47.255772",
     "status": "completed"
    },
    "tags": []
   },
   "outputs": [
    {
     "data": {
      "text/html": [
       "<div>\n",
       "<style scoped>\n",
       "    .dataframe tbody tr th:only-of-type {\n",
       "        vertical-align: middle;\n",
       "    }\n",
       "\n",
       "    .dataframe tbody tr th {\n",
       "        vertical-align: top;\n",
       "    }\n",
       "\n",
       "    .dataframe thead th {\n",
       "        text-align: right;\n",
       "    }\n",
       "</style>\n",
       "<table border=\"1\" class=\"dataframe\">\n",
       "  <thead>\n",
       "    <tr style=\"text-align: right;\">\n",
       "      <th></th>\n",
       "      <th>A</th>\n",
       "      <th>B</th>\n",
       "      <th>C</th>\n",
       "      <th>D</th>\n",
       "      <th>E</th>\n",
       "    </tr>\n",
       "  </thead>\n",
       "  <tbody>\n",
       "    <tr>\n",
       "      <th>0</th>\n",
       "      <td>0.000000</td>\n",
       "      <td>0.143353</td>\n",
       "      <td>0.944669</td>\n",
       "      <td>0.521848</td>\n",
       "      <td>0.000000</td>\n",
       "    </tr>\n",
       "    <tr>\n",
       "      <th>1</th>\n",
       "      <td>0.143353</td>\n",
       "      <td>0.000000</td>\n",
       "      <td>0.264556</td>\n",
       "      <td>0.456150</td>\n",
       "      <td>0.568434</td>\n",
       "    </tr>\n",
       "    <tr>\n",
       "      <th>2</th>\n",
       "      <td>0.944669</td>\n",
       "      <td>0.264556</td>\n",
       "      <td>0.000000</td>\n",
       "      <td>0.000000</td>\n",
       "      <td>0.617635</td>\n",
       "    </tr>\n",
       "    <tr>\n",
       "      <th>3</th>\n",
       "      <td>0.521848</td>\n",
       "      <td>0.456150</td>\n",
       "      <td>0.000000</td>\n",
       "      <td>0.000000</td>\n",
       "      <td>0.612096</td>\n",
       "    </tr>\n",
       "    <tr>\n",
       "      <th>4</th>\n",
       "      <td>0.000000</td>\n",
       "      <td>0.568434</td>\n",
       "      <td>0.617635</td>\n",
       "      <td>0.612096</td>\n",
       "      <td>0.000000</td>\n",
       "    </tr>\n",
       "  </tbody>\n",
       "</table>\n",
       "</div>"
      ],
      "text/plain": [
       "          A         B         C         D         E\n",
       "0  0.000000  0.143353  0.944669  0.521848  0.000000\n",
       "1  0.143353  0.000000  0.264556  0.456150  0.568434\n",
       "2  0.944669  0.264556  0.000000  0.000000  0.617635\n",
       "3  0.521848  0.456150  0.000000  0.000000  0.612096\n",
       "4  0.000000  0.568434  0.617635  0.612096  0.000000"
      ]
     },
     "execution_count": 17,
     "metadata": {},
     "output_type": "execute_result"
    }
   ],
   "source": [
    "import numpy as np\n",
    "\n",
    "# データの読み込み\n",
    "df_w = pd.read_csv('../input/python100knock-logistic/network_weight.csv')\n",
    "df_p = pd.read_csv('../input/python100knock-logistic/network_pos.csv')\n",
    "\n",
    "# ノードの総数と、エッジの重みが格納されたデータ（縦列は0→A、1→Bのように読み替える）\n",
    "# 値が0の部分は、ノードとノードが繋がっていないことを示す\n",
    "df_w.head()"
   ]
  },
  {
   "cell_type": "code",
   "execution_count": 18,
   "id": "60c1402a",
   "metadata": {
    "execution": {
     "iopub.execute_input": "2024-09-02T12:42:47.343788Z",
     "iopub.status.busy": "2024-09-02T12:42:47.343390Z",
     "iopub.status.idle": "2024-09-02T12:42:47.353732Z",
     "shell.execute_reply": "2024-09-02T12:42:47.352540Z"
    },
    "papermill": {
     "duration": 0.030069,
     "end_time": "2024-09-02T12:42:47.355745",
     "exception": false,
     "start_time": "2024-09-02T12:42:47.325676",
     "status": "completed"
    },
    "tags": []
   },
   "outputs": [
    {
     "data": {
      "text/html": [
       "<div>\n",
       "<style scoped>\n",
       "    .dataframe tbody tr th:only-of-type {\n",
       "        vertical-align: middle;\n",
       "    }\n",
       "\n",
       "    .dataframe tbody tr th {\n",
       "        vertical-align: top;\n",
       "    }\n",
       "\n",
       "    .dataframe thead th {\n",
       "        text-align: right;\n",
       "    }\n",
       "</style>\n",
       "<table border=\"1\" class=\"dataframe\">\n",
       "  <thead>\n",
       "    <tr style=\"text-align: right;\">\n",
       "      <th></th>\n",
       "      <th>A</th>\n",
       "      <th>B</th>\n",
       "      <th>C</th>\n",
       "      <th>D</th>\n",
       "      <th>E</th>\n",
       "    </tr>\n",
       "  </thead>\n",
       "  <tbody>\n",
       "    <tr>\n",
       "      <th>0</th>\n",
       "      <td>0</td>\n",
       "      <td>0</td>\n",
       "      <td>2</td>\n",
       "      <td>2</td>\n",
       "      <td>1</td>\n",
       "    </tr>\n",
       "    <tr>\n",
       "      <th>1</th>\n",
       "      <td>0</td>\n",
       "      <td>2</td>\n",
       "      <td>0</td>\n",
       "      <td>2</td>\n",
       "      <td>1</td>\n",
       "    </tr>\n",
       "  </tbody>\n",
       "</table>\n",
       "</div>"
      ],
      "text/plain": [
       "   A  B  C  D  E\n",
       "0  0  0  2  2  1\n",
       "1  0  2  0  2  1"
      ]
     },
     "execution_count": 18,
     "metadata": {},
     "output_type": "execute_result"
    }
   ],
   "source": [
    "# 各ノードの座標データ\n",
    "df_p.head()"
   ]
  },
  {
   "cell_type": "markdown",
   "id": "77603a08",
   "metadata": {
    "papermill": {
     "duration": 0.016349,
     "end_time": "2024-09-02T12:42:47.388786",
     "exception": false,
     "start_time": "2024-09-02T12:42:47.372437",
     "status": "completed"
    },
    "tags": []
   },
   "source": [
    "### 書籍に載っているコードに間違いがあります！下のコードを確認してください。"
   ]
  },
  {
   "cell_type": "code",
   "execution_count": 19,
   "id": "11cca943",
   "metadata": {
    "execution": {
     "iopub.execute_input": "2024-09-02T12:42:47.423569Z",
     "iopub.status.busy": "2024-09-02T12:42:47.423153Z",
     "iopub.status.idle": "2024-09-02T12:42:47.568518Z",
     "shell.execute_reply": "2024-09-02T12:42:47.567452Z"
    },
    "papermill": {
     "duration": 0.166038,
     "end_time": "2024-09-02T12:42:47.571383",
     "exception": false,
     "start_time": "2024-09-02T12:42:47.405345",
     "status": "completed"
    },
    "tags": []
   },
   "outputs": [
    {
     "data": {
      "image/png": "[encoded data removed]",
      "text/plain": [
       "<Figure size 640x480 with 1 Axes>"
      ]
     },
     "metadata": {},
     "output_type": "display_data"
    }
   ],
   "source": [
    "import numpy as np\n",
    "\n",
    "\n",
    "# グラフオブジェクトの作成\n",
    "G = nx.Graph()\n",
    "\n",
    "# 頂点の設定\n",
    "for i in range(len(df_w.columns)):\n",
    "    G.add_node(df_w.columns[i])\n",
    "\n",
    "# 辺の設定&エッジの重みのリスト化\n",
    "size = 10\n",
    "edge_weights = []\n",
    "num_pre = 0\n",
    "for i in range(len(df_w.columns)):\n",
    "    for j in range(len(df_w.columns)):\n",
    "        if not (i==j):\n",
    "            # 辺の追加\n",
    "            G.add_edge(df_w.columns[i],df_w.columns[j])\n",
    "            # 「書籍の間違い部分」\n",
    "            # 上記のコードでエッジが追加されている場合のみ重みを追加する\n",
    "            # 書籍のコードではこの部分がないため、変なところがつながってしまう\n",
    "            if num_pre<len(G.edges):\n",
    "              num_pre = len(G.edges)\n",
    "              # エッジの重みの追加\n",
    "              edge_weights.append(df_w.iloc[i, j]*size)\n",
    "\n",
    "# 座標の設定\n",
    "pos = {}\n",
    "for i in range(len(df_w.columns)):\n",
    "    node = df_w.columns[i]\n",
    "    pos[node] = (df_p[node][0],df_p[node][1])\n",
    "\n",
    "# 描画\n",
    "nx.draw(G, pos, with_labels=True,font_size=16, node_size = 1000, node_color='k', font_color='w', width=edge_weights)\n",
    "\n",
    "# 表示\n",
    "plt.show()"
   ]
  },
  {
   "cell_type": "markdown",
   "id": "56992c8b",
   "metadata": {
    "papermill": {
     "duration": 0.016652,
     "end_time": "2024-09-02T12:42:47.610157",
     "exception": false,
     "start_time": "2024-09-02T12:42:47.593505",
     "status": "completed"
    },
    "tags": []
   },
   "source": [
    "## ノック56 : 輸送ルート情報を読み込んでみる"
   ]
  },
  {
   "cell_type": "code",
   "execution_count": 20,
   "id": "8e9eb374",
   "metadata": {
    "execution": {
     "iopub.execute_input": "2024-09-02T12:42:47.645538Z",
     "iopub.status.busy": "2024-09-02T12:42:47.645128Z",
     "iopub.status.idle": "2024-09-02T12:42:47.659210Z",
     "shell.execute_reply": "2024-09-02T12:42:47.658236Z"
    },
    "papermill": {
     "duration": 0.034283,
     "end_time": "2024-09-02T12:42:47.661266",
     "exception": false,
     "start_time": "2024-09-02T12:42:47.626983",
     "status": "completed"
    },
    "tags": []
   },
   "outputs": [
    {
     "data": {
      "text/html": [
       "<div>\n",
       "<style scoped>\n",
       "    .dataframe tbody tr th:only-of-type {\n",
       "        vertical-align: middle;\n",
       "    }\n",
       "\n",
       "    .dataframe tbody tr th {\n",
       "        vertical-align: top;\n",
       "    }\n",
       "\n",
       "    .dataframe thead th {\n",
       "        text-align: right;\n",
       "    }\n",
       "</style>\n",
       "<table border=\"1\" class=\"dataframe\">\n",
       "  <thead>\n",
       "    <tr style=\"text-align: right;\">\n",
       "      <th></th>\n",
       "      <th>F1</th>\n",
       "      <th>F2</th>\n",
       "      <th>F3</th>\n",
       "      <th>F4</th>\n",
       "    </tr>\n",
       "    <tr>\n",
       "      <th>工場</th>\n",
       "      <th></th>\n",
       "      <th></th>\n",
       "      <th></th>\n",
       "      <th></th>\n",
       "    </tr>\n",
       "  </thead>\n",
       "  <tbody>\n",
       "    <tr>\n",
       "      <th>W1</th>\n",
       "      <td>15</td>\n",
       "      <td>15</td>\n",
       "      <td>0</td>\n",
       "      <td>5</td>\n",
       "    </tr>\n",
       "    <tr>\n",
       "      <th>W2</th>\n",
       "      <td>5</td>\n",
       "      <td>0</td>\n",
       "      <td>30</td>\n",
       "      <td>5</td>\n",
       "    </tr>\n",
       "    <tr>\n",
       "      <th>W3</th>\n",
       "      <td>10</td>\n",
       "      <td>15</td>\n",
       "      <td>2</td>\n",
       "      <td>15</td>\n",
       "    </tr>\n",
       "  </tbody>\n",
       "</table>\n",
       "</div>"
      ],
      "text/plain": [
       "    F1  F2  F3  F4\n",
       "工場                \n",
       "W1  15  15   0   5\n",
       "W2   5   0  30   5\n",
       "W3  10  15   2  15"
      ]
     },
     "execution_count": 20,
     "metadata": {},
     "output_type": "execute_result"
    }
   ],
   "source": [
    "# ルート情報の読み込み\n",
    "df_tr = pd.read_csv('../input/python100knock-logistic/trans_route.csv', index_col='工場')\n",
    "df_tr.head()"
   ]
  },
  {
   "cell_type": "markdown",
   "id": "749930c5",
   "metadata": {
    "papermill": {
     "duration": 0.016927,
     "end_time": "2024-09-02T12:42:47.695506",
     "exception": false,
     "start_time": "2024-09-02T12:42:47.678579",
     "status": "completed"
    },
    "tags": []
   },
   "source": [
    "## ノック57 : 輸送ルート情報からネットワークを可視化する"
   ]
  },
  {
   "cell_type": "code",
   "execution_count": 21,
   "id": "747901bf",
   "metadata": {
    "execution": {
     "iopub.execute_input": "2024-09-02T12:42:47.731959Z",
     "iopub.status.busy": "2024-09-02T12:42:47.730920Z",
     "iopub.status.idle": "2024-09-02T12:42:47.747629Z",
     "shell.execute_reply": "2024-09-02T12:42:47.746620Z"
    },
    "papermill": {
     "duration": 0.037435,
     "end_time": "2024-09-02T12:42:47.749986",
     "exception": false,
     "start_time": "2024-09-02T12:42:47.712551",
     "status": "completed"
    },
    "tags": []
   },
   "outputs": [
    {
     "data": {
      "text/html": [
       "<div>\n",
       "<style scoped>\n",
       "    .dataframe tbody tr th:only-of-type {\n",
       "        vertical-align: middle;\n",
       "    }\n",
       "\n",
       "    .dataframe tbody tr th {\n",
       "        vertical-align: top;\n",
       "    }\n",
       "\n",
       "    .dataframe thead th {\n",
       "        text-align: right;\n",
       "    }\n",
       "</style>\n",
       "<table border=\"1\" class=\"dataframe\">\n",
       "  <thead>\n",
       "    <tr style=\"text-align: right;\">\n",
       "      <th></th>\n",
       "      <th>W1</th>\n",
       "      <th>W2</th>\n",
       "      <th>W3</th>\n",
       "      <th>F1</th>\n",
       "      <th>F2</th>\n",
       "      <th>F3</th>\n",
       "      <th>F4</th>\n",
       "    </tr>\n",
       "  </thead>\n",
       "  <tbody>\n",
       "    <tr>\n",
       "      <th>0</th>\n",
       "      <td>0</td>\n",
       "      <td>0</td>\n",
       "      <td>0</td>\n",
       "      <td>4.0</td>\n",
       "      <td>4.0</td>\n",
       "      <td>4.0</td>\n",
       "      <td>4.0</td>\n",
       "    </tr>\n",
       "    <tr>\n",
       "      <th>1</th>\n",
       "      <td>1</td>\n",
       "      <td>2</td>\n",
       "      <td>3</td>\n",
       "      <td>0.5</td>\n",
       "      <td>1.5</td>\n",
       "      <td>2.5</td>\n",
       "      <td>3.5</td>\n",
       "    </tr>\n",
       "  </tbody>\n",
       "</table>\n",
       "</div>"
      ],
      "text/plain": [
       "   W1  W2  W3   F1   F2   F3   F4\n",
       "0   0   0   0  4.0  4.0  4.0  4.0\n",
       "1   1   2   3  0.5  1.5  2.5  3.5"
      ]
     },
     "execution_count": 21,
     "metadata": {},
     "output_type": "execute_result"
    }
   ],
   "source": [
    "# 各ノードの座標情報の読みこみ\n",
    "df_pos = pd.read_csv('../input/python100knock-logistic/trans_route_pos.csv')\n",
    "df_pos.head()"
   ]
  },
  {
   "cell_type": "code",
   "execution_count": 22,
   "id": "9c49ee59",
   "metadata": {
    "execution": {
     "iopub.execute_input": "2024-09-02T12:42:47.787189Z",
     "iopub.status.busy": "2024-09-02T12:42:47.786242Z",
     "iopub.status.idle": "2024-09-02T12:42:47.800972Z",
     "shell.execute_reply": "2024-09-02T12:42:47.799984Z"
    },
    "papermill": {
     "duration": 0.035324,
     "end_time": "2024-09-02T12:42:47.803078",
     "exception": false,
     "start_time": "2024-09-02T12:42:47.767754",
     "status": "completed"
    },
    "tags": []
   },
   "outputs": [
    {
     "data": {
      "text/html": [
       "<div>\n",
       "<style scoped>\n",
       "    .dataframe tbody tr th:only-of-type {\n",
       "        vertical-align: middle;\n",
       "    }\n",
       "\n",
       "    .dataframe tbody tr th {\n",
       "        vertical-align: top;\n",
       "    }\n",
       "\n",
       "    .dataframe thead th {\n",
       "        text-align: right;\n",
       "    }\n",
       "</style>\n",
       "<table border=\"1\" class=\"dataframe\">\n",
       "  <thead>\n",
       "    <tr style=\"text-align: right;\">\n",
       "      <th></th>\n",
       "      <th>工場</th>\n",
       "      <th>F1</th>\n",
       "      <th>F2</th>\n",
       "      <th>F3</th>\n",
       "      <th>F4</th>\n",
       "    </tr>\n",
       "  </thead>\n",
       "  <tbody>\n",
       "    <tr>\n",
       "      <th>0</th>\n",
       "      <td>W1</td>\n",
       "      <td>10</td>\n",
       "      <td>10</td>\n",
       "      <td>11</td>\n",
       "      <td>27</td>\n",
       "    </tr>\n",
       "    <tr>\n",
       "      <th>1</th>\n",
       "      <td>W2</td>\n",
       "      <td>18</td>\n",
       "      <td>21</td>\n",
       "      <td>12</td>\n",
       "      <td>14</td>\n",
       "    </tr>\n",
       "    <tr>\n",
       "      <th>2</th>\n",
       "      <td>W3</td>\n",
       "      <td>15</td>\n",
       "      <td>12</td>\n",
       "      <td>14</td>\n",
       "      <td>12</td>\n",
       "    </tr>\n",
       "  </tbody>\n",
       "</table>\n",
       "</div>"
      ],
      "text/plain": [
       "   工場  F1  F2  F3  F4\n",
       "0  W1  10  10  11  27\n",
       "1  W2  18  21  12  14\n",
       "2  W3  15  12  14  12"
      ]
     },
     "execution_count": 22,
     "metadata": {},
     "output_type": "execute_result"
    }
   ],
   "source": [
    "# 倉庫と工場間の輸送コスト\n",
    "df_cost = pd.read_csv('../input/python100knock-logistic/trans_cost.csv')\n",
    "df_cost.head()"
   ]
  },
  {
   "cell_type": "code",
   "execution_count": 23,
   "id": "82b7024f",
   "metadata": {
    "execution": {
     "iopub.execute_input": "2024-09-02T12:42:47.840402Z",
     "iopub.status.busy": "2024-09-02T12:42:47.839586Z",
     "iopub.status.idle": "2024-09-02T12:42:48.031660Z",
     "shell.execute_reply": "2024-09-02T12:42:48.030617Z"
    },
    "papermill": {
     "duration": 0.212989,
     "end_time": "2024-09-02T12:42:48.033792",
     "exception": false,
     "start_time": "2024-09-02T12:42:47.820803",
     "status": "completed"
    },
    "tags": []
   },
   "outputs": [
    {
     "data": {
      "image/png": "[encoded data removed]",
      "text/plain": [
       "<Figure size 640x480 with 1 Axes>"
      ]
     },
     "metadata": {},
     "output_type": "display_data"
    }
   ],
   "source": [
    "# グラフオブジェクトの作成\n",
    "G = nx.Graph()\n",
    "\n",
    "# 頂点の設定\n",
    "for i in range(len(df_pos.columns)):\n",
    "    G.add_node(df_pos.columns[i])\n",
    "\n",
    "# 辺の設定&エッジの重みのリスト化\n",
    "num_pre = 0\n",
    "edge_weights = []\n",
    "size = 0.1\n",
    "for i in range(len(df_pos.columns)):\n",
    "    for j in range(len(df_pos.columns)):\n",
    "        if not (i==j):\n",
    "            # 辺の追加\n",
    "            G.add_edge(df_pos.columns[i],df_pos.columns[j])\n",
    "            # エッジの重みの追加\n",
    "            if num_pre<len(G.edges):\n",
    "                num_pre = len(G.edges)\n",
    "                weight = 0\n",
    "                if (df_pos.columns[i] in df_tr.columns)and(df_pos.columns[j] in df_tr.index):\n",
    "                    if df_tr[df_pos.columns[i]][df_pos.columns[j]]:\n",
    "                        weight = df_tr[df_pos.columns[i]][df_pos.columns[j]]*size\n",
    "                elif(df_pos.columns[j] in df_tr.columns)and(df_pos.columns[i] in df_tr.index):\n",
    "                    if df_tr[df_pos.columns[j]][df_pos.columns[i]]:\n",
    "                        weight = df_tr[df_pos.columns[j]][df_pos.columns[i]]*size\n",
    "                edge_weights.append(weight)\n",
    "                \n",
    "\n",
    "# 座標の設定\n",
    "pos = {}\n",
    "for i in range(len(df_pos.columns)):\n",
    "    node = df_pos.columns[i]\n",
    "    pos[node] = (df_pos[node][0],df_pos[node][1])\n",
    "    \n",
    "# 描画\n",
    "nx.draw(G, pos, with_labels=True,font_size=16, node_size = 1000, node_color='k', font_color='w', width=edge_weights)\n",
    "\n",
    "# 表示\n",
    "plt.show()\n",
    "\n",
    "                \n",
    "        "
   ]
  },
  {
   "cell_type": "markdown",
   "id": "b0140826",
   "metadata": {
    "papermill": {
     "duration": 0.017665,
     "end_time": "2024-09-02T12:42:48.069625",
     "exception": false,
     "start_time": "2024-09-02T12:42:48.051960",
     "status": "completed"
    },
    "tags": []
   },
   "source": [
    "どの倉庫からどの工場へも輸送が行われている。<br>輸送コストを考えるのなら、輸送が多い場所に集約させた方が（一気に運べるので）輸送コストは下がるのでは。"
   ]
  },
  {
   "cell_type": "markdown",
   "id": "eec37b13",
   "metadata": {
    "papermill": {
     "duration": 0.018033,
     "end_time": "2024-09-02T12:42:48.105941",
     "exception": false,
     "start_time": "2024-09-02T12:42:48.087908",
     "status": "completed"
    },
    "tags": []
   },
   "source": [
    "## ノック58 : 輸送コスト関数を作成しよう"
   ]
  },
  {
   "cell_type": "markdown",
   "id": "6be9429a",
   "metadata": {
    "papermill": {
     "duration": 0.0179,
     "end_time": "2024-09-02T12:42:48.141978",
     "exception": false,
     "start_time": "2024-09-02T12:42:48.124078",
     "status": "completed"
    },
    "tags": []
   },
   "source": [
    "* ## 最適化問題の解き方"
   ]
  },
  {
   "cell_type": "markdown",
   "id": "cddb89a9",
   "metadata": {
    "papermill": {
     "duration": 0.01755,
     "end_time": "2024-09-02T12:42:48.177954",
     "exception": false,
     "start_time": "2024-09-02T12:42:48.160404",
     "status": "completed"
    },
    "tags": []
   },
   "source": [
    "### 1.  最大化、最小化したいものを関数として定義（「目的関数」と呼ぶ）\n",
    "### 2.  最大化、最小化を行うにあたって守るべき条件を定義する（「制約条件」と呼ぶ）"
   ]
  },
  {
   "cell_type": "markdown",
   "id": "b7b5ba62",
   "metadata": {
    "papermill": {
     "duration": 0.017609,
     "end_time": "2024-09-02T12:42:48.213459",
     "exception": false,
     "start_time": "2024-09-02T12:42:48.195850",
     "status": "completed"
    },
    "tags": []
   },
   "source": [
    "* ### 今回の目的関数の形 \n",
    "あるルート$k$の輸送量を$w_k$、輸送コストを$c_k$として、目的関数$W$は次の形で定義される。\n",
    "\n",
    "$$ W = \\sum^k w_k c_k$$ "
   ]
  },
  {
   "cell_type": "code",
   "execution_count": 24,
   "id": "b0dea34a",
   "metadata": {
    "execution": {
     "iopub.execute_input": "2024-09-02T12:42:48.251022Z",
     "iopub.status.busy": "2024-09-02T12:42:48.250650Z",
     "iopub.status.idle": "2024-09-02T12:42:48.263492Z",
     "shell.execute_reply": "2024-09-02T12:42:48.262378Z"
    },
    "papermill": {
     "duration": 0.034186,
     "end_time": "2024-09-02T12:42:48.265625",
     "exception": false,
     "start_time": "2024-09-02T12:42:48.231439",
     "status": "completed"
    },
    "tags": []
   },
   "outputs": [
    {
     "name": "stdout",
     "output_type": "stream",
     "text": [
      "総輸送コスト : 1493\n"
     ]
    }
   ],
   "source": [
    "# データ読み込み\n",
    "df_tr = pd.read_csv('../input/python100knock-logistic/trans_route.csv', index_col='工場')\n",
    "df_tc = pd.read_csv('../input/python100knock-logistic/trans_cost.csv', index_col='工場')\n",
    "\n",
    "# 輸送コスト関数\n",
    "def trans_cost(df_tr, df_tc):\n",
    "    cost = 0\n",
    "    for i in range(len(df_tc.index)):\n",
    "        for j in range(len(df_tr.columns)):\n",
    "            cost += df_tr.iloc[i, j]*df_tc.iloc[i, j]\n",
    "    \n",
    "    return cost\n",
    "\n",
    "print('総輸送コスト : ' + str(trans_cost(df_tr, df_tc)))\n"
   ]
  },
  {
   "cell_type": "markdown",
   "id": "27676c36",
   "metadata": {
    "papermill": {
     "duration": 0.017803,
     "end_time": "2024-09-02T12:42:48.301639",
     "exception": false,
     "start_time": "2024-09-02T12:42:48.283836",
     "status": "completed"
    },
    "tags": []
   },
   "source": [
    "## ノック59 : 制約条件の作成"
   ]
  },
  {
   "cell_type": "markdown",
   "id": "f2a7b9bb",
   "metadata": {
    "papermill": {
     "duration": 0.01778,
     "end_time": "2024-09-02T12:42:48.337437",
     "exception": false,
     "start_time": "2024-09-02T12:42:48.319657",
     "status": "completed"
    },
    "tags": []
   },
   "source": [
    "* #### 各倉庫には供給可能な部品数の上限がある。また、各工場には満たすべき最低限の製品生産量がある。\n",
    "* #### それぞれを格納したデータを読み込み、制約条件を満たすかどうか確認する。\n",
    "倉庫の供給量 : supply.csv<br>\n",
    "工場の製品製造料 : demand.csv"
   ]
  },
  {
   "cell_type": "code",
   "execution_count": 25,
   "id": "a9321939",
   "metadata": {
    "execution": {
     "iopub.execute_input": "2024-09-02T12:42:48.375344Z",
     "iopub.status.busy": "2024-09-02T12:42:48.374932Z",
     "iopub.status.idle": "2024-09-02T12:42:48.402423Z",
     "shell.execute_reply": "2024-09-02T12:42:48.401374Z"
    },
    "papermill": {
     "duration": 0.049261,
     "end_time": "2024-09-02T12:42:48.404753",
     "exception": false,
     "start_time": "2024-09-02T12:42:48.355492",
     "status": "completed"
    },
    "tags": []
   },
   "outputs": [
    {
     "data": {
      "text/html": [
       "<div>\n",
       "<style scoped>\n",
       "    .dataframe tbody tr th:only-of-type {\n",
       "        vertical-align: middle;\n",
       "    }\n",
       "\n",
       "    .dataframe tbody tr th {\n",
       "        vertical-align: top;\n",
       "    }\n",
       "\n",
       "    .dataframe thead th {\n",
       "        text-align: right;\n",
       "    }\n",
       "</style>\n",
       "<table border=\"1\" class=\"dataframe\">\n",
       "  <thead>\n",
       "    <tr style=\"text-align: right;\">\n",
       "      <th></th>\n",
       "      <th>F1</th>\n",
       "      <th>F2</th>\n",
       "      <th>F3</th>\n",
       "      <th>F4</th>\n",
       "    </tr>\n",
       "    <tr>\n",
       "      <th>工場</th>\n",
       "      <th></th>\n",
       "      <th></th>\n",
       "      <th></th>\n",
       "      <th></th>\n",
       "    </tr>\n",
       "  </thead>\n",
       "  <tbody>\n",
       "    <tr>\n",
       "      <th>W1</th>\n",
       "      <td>15</td>\n",
       "      <td>15</td>\n",
       "      <td>0</td>\n",
       "      <td>5</td>\n",
       "    </tr>\n",
       "    <tr>\n",
       "      <th>W2</th>\n",
       "      <td>5</td>\n",
       "      <td>0</td>\n",
       "      <td>30</td>\n",
       "      <td>5</td>\n",
       "    </tr>\n",
       "    <tr>\n",
       "      <th>W3</th>\n",
       "      <td>10</td>\n",
       "      <td>15</td>\n",
       "      <td>2</td>\n",
       "      <td>15</td>\n",
       "    </tr>\n",
       "  </tbody>\n",
       "</table>\n",
       "</div>"
      ],
      "text/plain": [
       "    F1  F2  F3  F4\n",
       "工場                \n",
       "W1  15  15   0   5\n",
       "W2   5   0  30   5\n",
       "W3  10  15   2  15"
      ]
     },
     "execution_count": 25,
     "metadata": {},
     "output_type": "execute_result"
    }
   ],
   "source": [
    "# データ読み込み\n",
    "df_tr = pd.read_csv('../input/python100knock-logistic/trans_route.csv', index_col='工場') \n",
    "df_demand = pd.read_csv('../input/python100knock-logistic/demand.csv')\n",
    "df_supply = pd.read_csv('../input/python100knock-logistic/supply.csv')\n",
    "\n",
    "#輸送ルートと輸送されている商品の個数が格納されたデータ\n",
    "df_tr.head()"
   ]
  },
  {
   "cell_type": "markdown",
   "id": "c6c4f793",
   "metadata": {
    "papermill": {
     "duration": 0.018069,
     "end_time": "2024-09-02T12:42:48.441306",
     "exception": false,
     "start_time": "2024-09-02T12:42:48.423237",
     "status": "completed"
    },
    "tags": []
   },
   "source": [
    "* ### コメント \n",
    "#### つまり、縦に全部足すと各工場（F1,F2,,,）への輸送量に、横に全部足すと各倉庫の総供給量になっている。\n",
    "#### この本では暗黙のうちに部品一個につき一個製品が製造されると仮定されているみたい（どこかに書いてあったかも）なので、工場に運び込まれた製品の数 = 製造される製品の数　に対応している。\n"
   ]
  },
  {
   "cell_type": "code",
   "execution_count": 26,
   "id": "ed353974",
   "metadata": {
    "execution": {
     "iopub.execute_input": "2024-09-02T12:42:48.480135Z",
     "iopub.status.busy": "2024-09-02T12:42:48.479201Z",
     "iopub.status.idle": "2024-09-02T12:42:48.488942Z",
     "shell.execute_reply": "2024-09-02T12:42:48.487874Z"
    },
    "papermill": {
     "duration": 0.032219,
     "end_time": "2024-09-02T12:42:48.491819",
     "exception": false,
     "start_time": "2024-09-02T12:42:48.459600",
     "status": "completed"
    },
    "tags": []
   },
   "outputs": [
    {
     "data": {
      "text/html": [
       "<div>\n",
       "<style scoped>\n",
       "    .dataframe tbody tr th:only-of-type {\n",
       "        vertical-align: middle;\n",
       "    }\n",
       "\n",
       "    .dataframe tbody tr th {\n",
       "        vertical-align: top;\n",
       "    }\n",
       "\n",
       "    .dataframe thead th {\n",
       "        text-align: right;\n",
       "    }\n",
       "</style>\n",
       "<table border=\"1\" class=\"dataframe\">\n",
       "  <thead>\n",
       "    <tr style=\"text-align: right;\">\n",
       "      <th></th>\n",
       "      <th>F1</th>\n",
       "      <th>F2</th>\n",
       "      <th>F3</th>\n",
       "      <th>F4</th>\n",
       "    </tr>\n",
       "  </thead>\n",
       "  <tbody>\n",
       "    <tr>\n",
       "      <th>0</th>\n",
       "      <td>28</td>\n",
       "      <td>29</td>\n",
       "      <td>31</td>\n",
       "      <td>25</td>\n",
       "    </tr>\n",
       "  </tbody>\n",
       "</table>\n",
       "</div>"
      ],
      "text/plain": [
       "   F1  F2  F3  F4\n",
       "0  28  29  31  25"
      ]
     },
     "execution_count": 26,
     "metadata": {},
     "output_type": "execute_result"
    }
   ],
   "source": [
    "# データの中身の確認\n",
    "df_demand.head()"
   ]
  },
  {
   "cell_type": "code",
   "execution_count": 27,
   "id": "d38e324a",
   "metadata": {
    "execution": {
     "iopub.execute_input": "2024-09-02T12:42:48.531481Z",
     "iopub.status.busy": "2024-09-02T12:42:48.530578Z",
     "iopub.status.idle": "2024-09-02T12:42:48.539487Z",
     "shell.execute_reply": "2024-09-02T12:42:48.538524Z"
    },
    "papermill": {
     "duration": 0.031054,
     "end_time": "2024-09-02T12:42:48.541607",
     "exception": false,
     "start_time": "2024-09-02T12:42:48.510553",
     "status": "completed"
    },
    "tags": []
   },
   "outputs": [
    {
     "data": {
      "text/html": [
       "<div>\n",
       "<style scoped>\n",
       "    .dataframe tbody tr th:only-of-type {\n",
       "        vertical-align: middle;\n",
       "    }\n",
       "\n",
       "    .dataframe tbody tr th {\n",
       "        vertical-align: top;\n",
       "    }\n",
       "\n",
       "    .dataframe thead th {\n",
       "        text-align: right;\n",
       "    }\n",
       "</style>\n",
       "<table border=\"1\" class=\"dataframe\">\n",
       "  <thead>\n",
       "    <tr style=\"text-align: right;\">\n",
       "      <th></th>\n",
       "      <th>W1</th>\n",
       "      <th>W2</th>\n",
       "      <th>W3</th>\n",
       "    </tr>\n",
       "  </thead>\n",
       "  <tbody>\n",
       "    <tr>\n",
       "      <th>0</th>\n",
       "      <td>35</td>\n",
       "      <td>41</td>\n",
       "      <td>42</td>\n",
       "    </tr>\n",
       "  </tbody>\n",
       "</table>\n",
       "</div>"
      ],
      "text/plain": [
       "   W1  W2  W3\n",
       "0  35  41  42"
      ]
     },
     "execution_count": 27,
     "metadata": {},
     "output_type": "execute_result"
    }
   ],
   "source": [
    "# 供給量データの中身\n",
    "df_supply.head()"
   ]
  },
  {
   "cell_type": "code",
   "execution_count": 28,
   "id": "a7e3cca6",
   "metadata": {
    "execution": {
     "iopub.execute_input": "2024-09-02T12:42:48.580922Z",
     "iopub.status.busy": "2024-09-02T12:42:48.580206Z",
     "iopub.status.idle": "2024-09-02T12:42:48.590338Z",
     "shell.execute_reply": "2024-09-02T12:42:48.589393Z"
    },
    "papermill": {
     "duration": 0.03247,
     "end_time": "2024-09-02T12:42:48.592655",
     "exception": false,
     "start_time": "2024-09-02T12:42:48.560185",
     "status": "completed"
    },
    "tags": []
   },
   "outputs": [
    {
     "name": "stdout",
     "output_type": "stream",
     "text": [
      "F1への輸送量 : 30（需要量 : 28）\n",
      "需要量（部品の必要量）を満たしています。\n",
      "F2への輸送量 : 30（需要量 : 29）\n",
      "需要量（部品の必要量）を満たしています。\n",
      "F3への輸送量 : 32（需要量 : 31）\n",
      "需要量（部品の必要量）を満たしています。\n",
      "F4への輸送量 : 25（需要量 : 25）\n",
      "需要量（部品の必要量）を満たしています。\n",
      "W1からの輸送量 : 35（供給限界 : 35）\n",
      "供給限界の範囲内です。\n",
      "W2からの輸送量 : 40（供給限界 : 41）\n",
      "供給限界の範囲内です。\n",
      "W3からの輸送量 : 42（供給限界 : 42）\n",
      "供給限界の範囲内です。\n"
     ]
    }
   ],
   "source": [
    "# 需要側（工場が必要な部品の個数）の制約条件\n",
    "for i in range(len(df_demand.columns)):\n",
    "    part_sum_tmp = sum(df_tr[df_demand.columns[i]])\n",
    "    print(str(df_demand.columns[i]) + 'への輸送量 : ' + str(part_sum_tmp) + '（需要量 : '\n",
    "         + str(df_demand.iloc[0, i]) + '）')\n",
    "    \n",
    "    if part_sum_tmp >= df_demand.iloc[0, i]:\n",
    "        print('需要量（部品の必要量）を満たしています。')\n",
    "    else:\n",
    "        print('需要量（部品の必要量）を満たしていません。輸送ルートを再計算してください。')\n",
    "\n",
    "\n",
    "# 供給側（倉庫から出荷できる部品）の制約条件\n",
    "for i in range(len(df_supply.columns)):\n",
    "    part_sum_tmp = sum(df_tr.loc[df_supply.columns[i]])\n",
    "    print(str(df_supply.columns[i]) + 'からの輸送量 : ' + str(part_sum_tmp) + '（供給限界 : ' \n",
    "         + str(df_supply.iloc[0, i]) + '）')\n",
    "    if part_sum_tmp <= df_supply.iloc[0, i]:\n",
    "        print('供給限界の範囲内です。')\n",
    "    else:\n",
    "        print('供給限界を超えています。輸送ルートを再計算してください。')\n",
    "    "
   ]
  },
  {
   "cell_type": "markdown",
   "id": "62fe3051",
   "metadata": {
    "papermill": {
     "duration": 0.018383,
     "end_time": "2024-09-02T12:42:48.629933",
     "exception": false,
     "start_time": "2024-09-02T12:42:48.611550",
     "status": "completed"
    },
    "tags": []
   },
   "source": [
    "## ノック60 : 輸送ルートを変更して輸送コスト関数の変化を確認する"
   ]
  },
  {
   "cell_type": "markdown",
   "id": "51b792ba",
   "metadata": {
    "papermill": {
     "duration": 0.018378,
     "end_time": "2024-09-02T12:42:48.667028",
     "exception": false,
     "start_time": "2024-09-02T12:42:48.648650",
     "status": "completed"
    },
    "tags": []
   },
   "source": [
    "trans_route_new.csvに記載された新しいルートが制約条件を満たしているのか、どれくらいのコストの改善が見込めるのか計算してみる。"
   ]
  },
  {
   "cell_type": "code",
   "execution_count": 29,
   "id": "03f23418",
   "metadata": {
    "execution": {
     "iopub.execute_input": "2024-09-02T12:42:48.706248Z",
     "iopub.status.busy": "2024-09-02T12:42:48.705473Z",
     "iopub.status.idle": "2024-09-02T12:42:48.725815Z",
     "shell.execute_reply": "2024-09-02T12:42:48.724858Z"
    },
    "papermill": {
     "duration": 0.042247,
     "end_time": "2024-09-02T12:42:48.727930",
     "exception": false,
     "start_time": "2024-09-02T12:42:48.685683",
     "status": "completed"
    },
    "tags": []
   },
   "outputs": [
    {
     "data": {
      "text/html": [
       "<div>\n",
       "<style scoped>\n",
       "    .dataframe tbody tr th:only-of-type {\n",
       "        vertical-align: middle;\n",
       "    }\n",
       "\n",
       "    .dataframe tbody tr th {\n",
       "        vertical-align: top;\n",
       "    }\n",
       "\n",
       "    .dataframe thead th {\n",
       "        text-align: right;\n",
       "    }\n",
       "</style>\n",
       "<table border=\"1\" class=\"dataframe\">\n",
       "  <thead>\n",
       "    <tr style=\"text-align: right;\">\n",
       "      <th></th>\n",
       "      <th>F1</th>\n",
       "      <th>F2</th>\n",
       "      <th>F3</th>\n",
       "      <th>F4</th>\n",
       "    </tr>\n",
       "    <tr>\n",
       "      <th>工場</th>\n",
       "      <th></th>\n",
       "      <th></th>\n",
       "      <th></th>\n",
       "      <th></th>\n",
       "    </tr>\n",
       "  </thead>\n",
       "  <tbody>\n",
       "    <tr>\n",
       "      <th>W1</th>\n",
       "      <td>15</td>\n",
       "      <td>15</td>\n",
       "      <td>0</td>\n",
       "      <td>0</td>\n",
       "    </tr>\n",
       "    <tr>\n",
       "      <th>W2</th>\n",
       "      <td>5</td>\n",
       "      <td>0</td>\n",
       "      <td>30</td>\n",
       "      <td>10</td>\n",
       "    </tr>\n",
       "    <tr>\n",
       "      <th>W3</th>\n",
       "      <td>10</td>\n",
       "      <td>15</td>\n",
       "      <td>2</td>\n",
       "      <td>15</td>\n",
       "    </tr>\n",
       "  </tbody>\n",
       "</table>\n",
       "</div>"
      ],
      "text/plain": [
       "    F1  F2  F3  F4\n",
       "工場                \n",
       "W1  15  15   0   0\n",
       "W2   5   0  30  10\n",
       "W3  10  15   2  15"
      ]
     },
     "execution_count": 29,
     "metadata": {},
     "output_type": "execute_result"
    }
   ],
   "source": [
    "# データ読み込み\n",
    "df_tr_new = pd.read_csv('../input/python100knock-logistic/trans_route_new.csv', index_col='工場')\n",
    "df_tr_new"
   ]
  },
  {
   "cell_type": "code",
   "execution_count": 30,
   "id": "2638ccc7",
   "metadata": {
    "execution": {
     "iopub.execute_input": "2024-09-02T12:42:48.767750Z",
     "iopub.status.busy": "2024-09-02T12:42:48.767058Z",
     "iopub.status.idle": "2024-09-02T12:42:48.776711Z",
     "shell.execute_reply": "2024-09-02T12:42:48.775755Z"
    },
    "papermill": {
     "duration": 0.031842,
     "end_time": "2024-09-02T12:42:48.778778",
     "exception": false,
     "start_time": "2024-09-02T12:42:48.746936",
     "status": "completed"
    },
    "tags": []
   },
   "outputs": [
    {
     "data": {
      "text/html": [
       "<div>\n",
       "<style scoped>\n",
       "    .dataframe tbody tr th:only-of-type {\n",
       "        vertical-align: middle;\n",
       "    }\n",
       "\n",
       "    .dataframe tbody tr th {\n",
       "        vertical-align: top;\n",
       "    }\n",
       "\n",
       "    .dataframe thead th {\n",
       "        text-align: right;\n",
       "    }\n",
       "</style>\n",
       "<table border=\"1\" class=\"dataframe\">\n",
       "  <thead>\n",
       "    <tr style=\"text-align: right;\">\n",
       "      <th></th>\n",
       "      <th>F1</th>\n",
       "      <th>F2</th>\n",
       "      <th>F3</th>\n",
       "      <th>F4</th>\n",
       "    </tr>\n",
       "    <tr>\n",
       "      <th>工場</th>\n",
       "      <th></th>\n",
       "      <th></th>\n",
       "      <th></th>\n",
       "      <th></th>\n",
       "    </tr>\n",
       "  </thead>\n",
       "  <tbody>\n",
       "    <tr>\n",
       "      <th>W1</th>\n",
       "      <td>15</td>\n",
       "      <td>15</td>\n",
       "      <td>0</td>\n",
       "      <td>5</td>\n",
       "    </tr>\n",
       "    <tr>\n",
       "      <th>W2</th>\n",
       "      <td>5</td>\n",
       "      <td>0</td>\n",
       "      <td>30</td>\n",
       "      <td>5</td>\n",
       "    </tr>\n",
       "    <tr>\n",
       "      <th>W3</th>\n",
       "      <td>10</td>\n",
       "      <td>15</td>\n",
       "      <td>2</td>\n",
       "      <td>15</td>\n",
       "    </tr>\n",
       "  </tbody>\n",
       "</table>\n",
       "</div>"
      ],
      "text/plain": [
       "    F1  F2  F3  F4\n",
       "工場                \n",
       "W1  15  15   0   5\n",
       "W2   5   0  30   5\n",
       "W3  10  15   2  15"
      ]
     },
     "execution_count": 30,
     "metadata": {},
     "output_type": "execute_result"
    }
   ],
   "source": [
    "# 旧データと比較してみる\n",
    "df_tr"
   ]
  },
  {
   "cell_type": "code",
   "execution_count": 31,
   "id": "40f610c2",
   "metadata": {
    "execution": {
     "iopub.execute_input": "2024-09-02T12:42:48.819392Z",
     "iopub.status.busy": "2024-09-02T12:42:48.818964Z",
     "iopub.status.idle": "2024-09-02T12:42:49.010048Z",
     "shell.execute_reply": "2024-09-02T12:42:49.009000Z"
    },
    "papermill": {
     "duration": 0.21403,
     "end_time": "2024-09-02T12:42:49.012437",
     "exception": false,
     "start_time": "2024-09-02T12:42:48.798407",
     "status": "completed"
    },
    "tags": []
   },
   "outputs": [
    {
     "data": {
      "image/png": "[encoded data removed]",
      "text/plain": [
       "<Figure size 640x480 with 1 Axes>"
      ]
     },
     "metadata": {},
     "output_type": "display_data"
    }
   ],
   "source": [
    "# 新ルートのグラフも表示してみる\n",
    "\n",
    "# グラフオブジェクトの作成\n",
    "G = nx.Graph()\n",
    "\n",
    "# 頂点の設定\n",
    "for i in range(len(df_pos.columns)):\n",
    "    G.add_node(df_pos.columns[i])\n",
    "\n",
    "# 辺の設定&エッジの重みのリスト化\n",
    "num_pre = 0\n",
    "edge_weights = []\n",
    "size = 0.1\n",
    "for i in range(len(df_pos.columns)):\n",
    "    for j in range(len(df_pos.columns)):\n",
    "        if not (i==j):\n",
    "            # 辺の追加\n",
    "            G.add_edge(df_pos.columns[i],df_pos.columns[j])\n",
    "            # エッジの重みの追加\n",
    "            if num_pre<len(G.edges):\n",
    "                num_pre = len(G.edges)\n",
    "                weight = 0\n",
    "                if (df_pos.columns[i] in df_tr_new.columns)and(df_pos.columns[j] in df_tr_new.index):\n",
    "                    if df_tr_new[df_pos.columns[i]][df_pos.columns[j]]:\n",
    "                        weight = df_tr_new[df_pos.columns[i]][df_pos.columns[j]]*size\n",
    "                elif(df_pos.columns[j] in df_tr_new.columns)and(df_pos.columns[i] in df_tr_new.index):\n",
    "                    if df_tr_new[df_pos.columns[j]][df_pos.columns[i]]:\n",
    "                        weight = df_tr_new[df_pos.columns[j]][df_pos.columns[i]]*size\n",
    "                edge_weights.append(weight)\n",
    "                \n",
    "\n",
    "# 座標の設定\n",
    "pos = {}\n",
    "for i in range(len(df_pos.columns)):\n",
    "    node = df_pos.columns[i]\n",
    "    pos[node] = (df_pos[node][0],df_pos[node][1])\n",
    "    \n",
    "# 描画\n",
    "nx.draw(G, pos, with_labels=True,font_size=16, node_size = 1000, node_color='k', font_color='w', width=edge_weights)\n",
    "\n",
    "# 表示\n",
    "plt.show()\n"
   ]
  },
  {
   "cell_type": "markdown",
   "id": "57e328ef",
   "metadata": {
    "papermill": {
     "duration": 0.019508,
     "end_time": "2024-09-02T12:42:49.051885",
     "exception": false,
     "start_time": "2024-09-02T12:42:49.032377",
     "status": "completed"
    },
    "tags": []
   },
   "source": [
    "少しルートが変わっているのが見える（例えばW1から出るエッジが3から2に減っている）"
   ]
  },
  {
   "cell_type": "markdown",
   "id": "9aad8973",
   "metadata": {
    "papermill": {
     "duration": 0.019235,
     "end_time": "2024-09-02T12:42:49.090687",
     "exception": false,
     "start_time": "2024-09-02T12:42:49.071452",
     "status": "completed"
    },
    "tags": []
   },
   "source": [
    "* #### 総輸送コスト再計算"
   ]
  },
  {
   "cell_type": "code",
   "execution_count": 32,
   "id": "e2260918",
   "metadata": {
    "execution": {
     "iopub.execute_input": "2024-09-02T12:42:49.132004Z",
     "iopub.status.busy": "2024-09-02T12:42:49.131234Z",
     "iopub.status.idle": "2024-09-02T12:42:49.137699Z",
     "shell.execute_reply": "2024-09-02T12:42:49.136521Z"
    },
    "papermill": {
     "duration": 0.030031,
     "end_time": "2024-09-02T12:42:49.140350",
     "exception": false,
     "start_time": "2024-09-02T12:42:49.110319",
     "status": "completed"
    },
    "tags": []
   },
   "outputs": [
    {
     "name": "stdout",
     "output_type": "stream",
     "text": [
      "総輸送コスト（変更後） : 1428万円\n"
     ]
    }
   ],
   "source": [
    "print('総輸送コスト（変更後） : ' + str(trans_cost(df_tr_new, df_tc)) + '万円')"
   ]
  },
  {
   "cell_type": "markdown",
   "id": "e40bb9c8",
   "metadata": {
    "papermill": {
     "duration": 0.020094,
     "end_time": "2024-09-02T12:42:49.180609",
     "exception": false,
     "start_time": "2024-09-02T12:42:49.160515",
     "status": "completed"
    },
    "tags": []
   },
   "source": [
    "（元の輸送コストは1433万円）"
   ]
  },
  {
   "cell_type": "markdown",
   "id": "20d33096",
   "metadata": {
    "papermill": {
     "duration": 0.019428,
     "end_time": "2024-09-02T12:42:49.219971",
     "exception": false,
     "start_time": "2024-09-02T12:42:49.200543",
     "status": "completed"
    },
    "tags": []
   },
   "source": [
    "* #### 制約条件計算関数"
   ]
  },
  {
   "cell_type": "code",
   "execution_count": 33,
   "id": "a7a44c75",
   "metadata": {
    "execution": {
     "iopub.execute_input": "2024-09-02T12:42:49.261389Z",
     "iopub.status.busy": "2024-09-02T12:42:49.260615Z",
     "iopub.status.idle": "2024-09-02T12:42:49.270560Z",
     "shell.execute_reply": "2024-09-02T12:42:49.269550Z"
    },
    "papermill": {
     "duration": 0.033287,
     "end_time": "2024-09-02T12:42:49.272955",
     "exception": false,
     "start_time": "2024-09-02T12:42:49.239668",
     "status": "completed"
    },
    "tags": []
   },
   "outputs": [
    {
     "name": "stdout",
     "output_type": "stream",
     "text": [
      "需要条件計算結果 : [1. 1. 1. 1.]\n",
      "供給条件計算結果 : [1. 0. 1.]\n"
     ]
    }
   ],
   "source": [
    "# 需要を満たしているかどうか判定する\n",
    "def condition_demand(df_tr, df_demand):\n",
    "    flag = np.zeros(len(df_demand.columns))\n",
    "    for i in range(len(df_demand.columns)):\n",
    "        part_sum_tmp = sum(df_tr[df_demand.columns[i]])\n",
    "        if part_sum_tmp >= df_demand.iloc[0, i]:\n",
    "            flag[i] = 1\n",
    "    return flag\n",
    "\n",
    "# 供給限界の範囲内か判定する\n",
    "def condition_supply(df_tr, df_supply):\n",
    "    flag = np.zeros(len(df_supply.columns))\n",
    "    for i in range(len(df_supply.columns)):\n",
    "        part_sum_tmp = sum(df_tr.loc[df_supply.columns[i]])\n",
    "        if part_sum_tmp <= df_supply.iloc[0, i]:\n",
    "            flag[i] = 1\n",
    "    return flag\n",
    "\n",
    "print('需要条件計算結果 : ' + str(condition_demand(df_tr_new, df_demand)))\n",
    "print('供給条件計算結果 : ' + str(condition_supply(df_tr_new, df_supply)))"
   ]
  },
  {
   "cell_type": "markdown",
   "id": "924d6801",
   "metadata": {
    "papermill": {
     "duration": 0.01933,
     "end_time": "2024-09-02T12:42:49.312080",
     "exception": false,
     "start_time": "2024-09-02T12:42:49.292750",
     "status": "completed"
    },
    "tags": []
   },
   "source": [
    "新ルートではW2（倉庫2）の供給限界を超えてしまった。"
   ]
  },
  {
   "cell_type": "code",
   "execution_count": null,
   "id": "8e3edbcf",
   "metadata": {
    "papermill": {
     "duration": 0.019482,
     "end_time": "2024-09-02T12:42:49.351368",
     "exception": false,
     "start_time": "2024-09-02T12:42:49.331886",
     "status": "completed"
    },
    "tags": []
   },
   "outputs": [],
   "source": []
  }
 ],
 "metadata": {
  "kaggle": {
   "accelerator": "none",
   "dataSources": [
    {
     "datasetId": 5616645,
     "sourceId": 9279786,
     "sourceType": "datasetVersion"
    }
   ],
   "dockerImageVersionId": 30761,
   "isGpuEnabled": false,
   "isInternetEnabled": true,
   "language": "python",
   "sourceType": "notebook"
  },
  "kernelspec": {
   "display_name": "Python 3",
   "language": "python",
   "name": "python3"
  },
  "language_info": {
   "codemirror_mode": {
    "name": "ipython",
    "version": 3
   },
   "file_extension": ".py",
   "mimetype": "text/x-python",
   "name": "python",
   "nbconvert_exporter": "python",
   "pygments_lexer": "ipython3",
   "version": "3.10.14"
  },
  "papermill": {
   "default_parameters": {},
   "duration": 8.384845,
   "end_time": "2024-09-02T12:42:49.891709",
   "environment_variables": {},
   "exception": null,
   "input_path": "__notebook__.ipynb",
   "output_path": "__notebook__.ipynb",
   "parameters": {},
   "start_time": "2024-09-02T12:42:41.506864",
   "version": "2.6.0"
  }
 },
 "nbformat": 4,
 "nbformat_minor": 5
}
